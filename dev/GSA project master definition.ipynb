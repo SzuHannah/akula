{
 "cells": [
  {
   "cell_type": "code",
   "execution_count": 1,
   "id": "63711f04",
   "metadata": {},
   "outputs": [],
   "source": [
    "import bw2data as bd\n",
    "import bw2calc as bc\n",
    "import bw2io as bi\n",
    "from pathlib import Path\n",
    "from gwp_uncertainties import add_bw_method_with_gwp_uncertainties\n",
    "\n",
    "# Local files\n",
    "from consumption_model_ch.import_databases import (\n",
    "    import_exiobase_3,\n",
    "    import_consumption_db,\n",
    ")\n",
    "from consumption_model_ch.consumption_fus import (\n",
    "    add_consumption_activities,\n",
    "    add_consumption_categories,\n",
    "    add_consumption_sectors,\n",
    "    add_archetypes_consumption,\n",
    "    get_archetypes_scores_per_month,\n",
    "    get_archetypes_scores_per_sector,\n",
    ")\n",
    "from consumption_model_ch.plot_archetypes import plot_archetypes_scores_yearly, plot_archetypes_scores_per_sector\n"
   ]
  },
  {
   "cell_type": "code",
   "execution_count": 2,
   "id": "ba3609ca",
   "metadata": {},
   "outputs": [],
   "source": [
    "# bd.projects.set_current(\"GSA for archetypes with exiobase\")\n",
    "bd.projects.set_current(\"GSA for archetypes\")\n",
    "# for key in bd.databases.keys():\n",
    "#     del bd.databases['key']"
   ]
  },
  {
   "cell_type": "code",
   "execution_count": 3,
   "id": "fd1b06ee",
   "metadata": {},
   "outputs": [
    {
     "data": {
      "text/plain": [
       "Databases dictionary with 2 object(s):\n",
       "\tbiosphere3\n",
       "\tecoinvent 3.8 cutoff"
      ]
     },
     "execution_count": 3,
     "metadata": {},
     "output_type": "execute_result"
    }
   ],
   "source": [
    "try:\n",
    "    del bd.databases[\"swiss consumption 1.0\"]\n",
    "except:\n",
    "    pass\n",
    "bd.databases"
   ]
  },
  {
   "cell_type": "code",
   "execution_count": 6,
   "id": "b155e53b-688d-40f2-8bb2-4e58e55c0925",
   "metadata": {
    "scrolled": true
   },
   "outputs": [
    {
     "name": "stdout",
     "output_type": "stream",
     "text": [
      "Impacts WITHOUT exiobase\n",
      "------------------------\n",
      "Biosphere database already present!!! No setup is needed\n",
      "ecoinvent 3.3 cutoff database already present!!! No import is needed\n",
      "--> Consumption_db.xlsx already exists, reading it\n",
      "Created consumption_db.xlsx file in BW format in 0.20 seconds\n",
      "Extracted 1 worksheets in 0.15 seconds\n",
      "Applying strategy: migrate_datasets\n",
      "Applying strategy: migrate_exchanges\n",
      "Applying strategy: migrate_datasets\n",
      "Applying strategy: migrate_exchanges\n",
      "Applying strategy: migrate_datasets\n",
      "Applying strategy: migrate_exchanges\n",
      "Applying strategy: link_iterable_by_fields\n",
      "Applying strategy: link_iterable_by_fields\n",
      "Applying strategy: link_iterable_by_fields\n",
      "Applied 0 strategies in 0.00 seconds\n",
      "207 datasets\n",
      "903 exchanges\n",
      "0 unlinked exchanges\n",
      "  \n"
     ]
    },
    {
     "name": "stderr",
     "output_type": "stream",
     "text": [
      "Writing activities to SQLite3 database:\n",
      "0% [##############################] 100% | ETA: 00:00:00\n",
      "Total time elapsed: 00:00:00\n"
     ]
    },
    {
     "name": "stdout",
     "output_type": "stream",
     "text": [
      "Title: Writing activities to SQLite3 database:\n",
      "  Started: 03/04/2022 12:58:17\n",
      "  Finished: 03/04/2022 12:58:17\n",
      "  Total time elapsed: 00:00:00\n",
      "  CPU %: 101.60\n",
      "  Memory %: 1.99\n",
      "Created database: swiss consumption 1.0\n",
      "Creating archetypes functional units\n",
      "1108.813  ch hh average consumption aggregated, years 091011\n",
      "   2.082  Alcoholic beverages and tobacco sector, years 091011\n",
      "   0.000  Clothing and footwear sector, years 091011\n",
      "   0.000  Communication sector, years 091011\n",
      " 131.463  Durable goods sector, years 091011\n",
      "   0.000  Education sector, years 091011\n",
      "   0.000  Fees sector, years 091011\n",
      " 237.152  Food and non-alcoholic beverages sector, years 091011\n",
      "   0.000  Furnishings, household equipment and routine household maintenance sector, years 091011\n",
      "   0.000  Health sector, years 091011\n",
      " 351.928  Housing, water, electricity, gas and other fuels sector, years 091011\n",
      "   4.078  Miscellaneous goods and services sector, years 091011\n",
      "   0.000  Other insurance premiums sector, years 091011\n",
      "   0.000  Premiums for life insurance sector, years 091011\n",
      "   1.304  Recreation and culture sector, years 091011\n",
      "   0.000  Restaurants and hotels sector, years 091011\n",
      " 380.807  Transport sector, years 091011\n"
     ]
    },
    {
     "data": {
      "application/vnd.plotly.v1+json": {
       "config": {
        "plotlyServerURL": "https://plot.ly"
       },
       "data": [
        {
         "mode": "markers",
         "type": "scatter",
         "x": [
          0,
          1,
          2,
          3,
          4,
          5,
          6,
          7,
          8,
          9,
          10,
          11,
          12,
          13,
          14,
          15,
          16,
          17,
          18,
          19,
          20,
          21,
          22,
          23,
          24,
          25,
          26,
          27
         ],
         "y": [
          6321.160340678534,
          6330.295083432649,
          7160.278457072686,
          7170.720792500385,
          7730.884298000088,
          9144.477668502355,
          9353.923177100165,
          10512.90457608288,
          11193.508475422712,
          11701.736745314922,
          12909.621556219492,
          13075.168718209052,
          13337.852451439245,
          13549.10598973481,
          13934.872414842386,
          14203.290379191632,
          14663.008938820423,
          14666.500668436314,
          15530.27341209546,
          16346.725193433893,
          17344.006765867995,
          18065.709070996272,
          18263.393421497633,
          18451.67722575421,
          18467.101103269124,
          19676.847298757093,
          21724.620193879986,
          22522.59769353577
         ]
        }
       ],
       "layout": {
        "height": 400,
        "template": {
         "data": {
          "bar": [
           {
            "error_x": {
             "color": "#2a3f5f"
            },
            "error_y": {
             "color": "#2a3f5f"
            },
            "marker": {
             "line": {
              "color": "#E5ECF6",
              "width": 0.5
             },
             "pattern": {
              "fillmode": "overlay",
              "size": 10,
              "solidity": 0.2
             }
            },
            "type": "bar"
           }
          ],
          "barpolar": [
           {
            "marker": {
             "line": {
              "color": "#E5ECF6",
              "width": 0.5
             },
             "pattern": {
              "fillmode": "overlay",
              "size": 10,
              "solidity": 0.2
             }
            },
            "type": "barpolar"
           }
          ],
          "carpet": [
           {
            "aaxis": {
             "endlinecolor": "#2a3f5f",
             "gridcolor": "white",
             "linecolor": "white",
             "minorgridcolor": "white",
             "startlinecolor": "#2a3f5f"
            },
            "baxis": {
             "endlinecolor": "#2a3f5f",
             "gridcolor": "white",
             "linecolor": "white",
             "minorgridcolor": "white",
             "startlinecolor": "#2a3f5f"
            },
            "type": "carpet"
           }
          ],
          "choropleth": [
           {
            "colorbar": {
             "outlinewidth": 0,
             "ticks": ""
            },
            "type": "choropleth"
           }
          ],
          "contour": [
           {
            "colorbar": {
             "outlinewidth": 0,
             "ticks": ""
            },
            "colorscale": [
             [
              0,
              "#0d0887"
             ],
             [
              0.1111111111111111,
              "#46039f"
             ],
             [
              0.2222222222222222,
              "#7201a8"
             ],
             [
              0.3333333333333333,
              "#9c179e"
             ],
             [
              0.4444444444444444,
              "#bd3786"
             ],
             [
              0.5555555555555556,
              "#d8576b"
             ],
             [
              0.6666666666666666,
              "#ed7953"
             ],
             [
              0.7777777777777778,
              "#fb9f3a"
             ],
             [
              0.8888888888888888,
              "#fdca26"
             ],
             [
              1,
              "#f0f921"
             ]
            ],
            "type": "contour"
           }
          ],
          "contourcarpet": [
           {
            "colorbar": {
             "outlinewidth": 0,
             "ticks": ""
            },
            "type": "contourcarpet"
           }
          ],
          "heatmap": [
           {
            "colorbar": {
             "outlinewidth": 0,
             "ticks": ""
            },
            "colorscale": [
             [
              0,
              "#0d0887"
             ],
             [
              0.1111111111111111,
              "#46039f"
             ],
             [
              0.2222222222222222,
              "#7201a8"
             ],
             [
              0.3333333333333333,
              "#9c179e"
             ],
             [
              0.4444444444444444,
              "#bd3786"
             ],
             [
              0.5555555555555556,
              "#d8576b"
             ],
             [
              0.6666666666666666,
              "#ed7953"
             ],
             [
              0.7777777777777778,
              "#fb9f3a"
             ],
             [
              0.8888888888888888,
              "#fdca26"
             ],
             [
              1,
              "#f0f921"
             ]
            ],
            "type": "heatmap"
           }
          ],
          "heatmapgl": [
           {
            "colorbar": {
             "outlinewidth": 0,
             "ticks": ""
            },
            "colorscale": [
             [
              0,
              "#0d0887"
             ],
             [
              0.1111111111111111,
              "#46039f"
             ],
             [
              0.2222222222222222,
              "#7201a8"
             ],
             [
              0.3333333333333333,
              "#9c179e"
             ],
             [
              0.4444444444444444,
              "#bd3786"
             ],
             [
              0.5555555555555556,
              "#d8576b"
             ],
             [
              0.6666666666666666,
              "#ed7953"
             ],
             [
              0.7777777777777778,
              "#fb9f3a"
             ],
             [
              0.8888888888888888,
              "#fdca26"
             ],
             [
              1,
              "#f0f921"
             ]
            ],
            "type": "heatmapgl"
           }
          ],
          "histogram": [
           {
            "marker": {
             "pattern": {
              "fillmode": "overlay",
              "size": 10,
              "solidity": 0.2
             }
            },
            "type": "histogram"
           }
          ],
          "histogram2d": [
           {
            "colorbar": {
             "outlinewidth": 0,
             "ticks": ""
            },
            "colorscale": [
             [
              0,
              "#0d0887"
             ],
             [
              0.1111111111111111,
              "#46039f"
             ],
             [
              0.2222222222222222,
              "#7201a8"
             ],
             [
              0.3333333333333333,
              "#9c179e"
             ],
             [
              0.4444444444444444,
              "#bd3786"
             ],
             [
              0.5555555555555556,
              "#d8576b"
             ],
             [
              0.6666666666666666,
              "#ed7953"
             ],
             [
              0.7777777777777778,
              "#fb9f3a"
             ],
             [
              0.8888888888888888,
              "#fdca26"
             ],
             [
              1,
              "#f0f921"
             ]
            ],
            "type": "histogram2d"
           }
          ],
          "histogram2dcontour": [
           {
            "colorbar": {
             "outlinewidth": 0,
             "ticks": ""
            },
            "colorscale": [
             [
              0,
              "#0d0887"
             ],
             [
              0.1111111111111111,
              "#46039f"
             ],
             [
              0.2222222222222222,
              "#7201a8"
             ],
             [
              0.3333333333333333,
              "#9c179e"
             ],
             [
              0.4444444444444444,
              "#bd3786"
             ],
             [
              0.5555555555555556,
              "#d8576b"
             ],
             [
              0.6666666666666666,
              "#ed7953"
             ],
             [
              0.7777777777777778,
              "#fb9f3a"
             ],
             [
              0.8888888888888888,
              "#fdca26"
             ],
             [
              1,
              "#f0f921"
             ]
            ],
            "type": "histogram2dcontour"
           }
          ],
          "mesh3d": [
           {
            "colorbar": {
             "outlinewidth": 0,
             "ticks": ""
            },
            "type": "mesh3d"
           }
          ],
          "parcoords": [
           {
            "line": {
             "colorbar": {
              "outlinewidth": 0,
              "ticks": ""
             }
            },
            "type": "parcoords"
           }
          ],
          "pie": [
           {
            "automargin": true,
            "type": "pie"
           }
          ],
          "scatter": [
           {
            "marker": {
             "colorbar": {
              "outlinewidth": 0,
              "ticks": ""
             }
            },
            "type": "scatter"
           }
          ],
          "scatter3d": [
           {
            "line": {
             "colorbar": {
              "outlinewidth": 0,
              "ticks": ""
             }
            },
            "marker": {
             "colorbar": {
              "outlinewidth": 0,
              "ticks": ""
             }
            },
            "type": "scatter3d"
           }
          ],
          "scattercarpet": [
           {
            "marker": {
             "colorbar": {
              "outlinewidth": 0,
              "ticks": ""
             }
            },
            "type": "scattercarpet"
           }
          ],
          "scattergeo": [
           {
            "marker": {
             "colorbar": {
              "outlinewidth": 0,
              "ticks": ""
             }
            },
            "type": "scattergeo"
           }
          ],
          "scattergl": [
           {
            "marker": {
             "colorbar": {
              "outlinewidth": 0,
              "ticks": ""
             }
            },
            "type": "scattergl"
           }
          ],
          "scattermapbox": [
           {
            "marker": {
             "colorbar": {
              "outlinewidth": 0,
              "ticks": ""
             }
            },
            "type": "scattermapbox"
           }
          ],
          "scatterpolar": [
           {
            "marker": {
             "colorbar": {
              "outlinewidth": 0,
              "ticks": ""
             }
            },
            "type": "scatterpolar"
           }
          ],
          "scatterpolargl": [
           {
            "marker": {
             "colorbar": {
              "outlinewidth": 0,
              "ticks": ""
             }
            },
            "type": "scatterpolargl"
           }
          ],
          "scatterternary": [
           {
            "marker": {
             "colorbar": {
              "outlinewidth": 0,
              "ticks": ""
             }
            },
            "type": "scatterternary"
           }
          ],
          "surface": [
           {
            "colorbar": {
             "outlinewidth": 0,
             "ticks": ""
            },
            "colorscale": [
             [
              0,
              "#0d0887"
             ],
             [
              0.1111111111111111,
              "#46039f"
             ],
             [
              0.2222222222222222,
              "#7201a8"
             ],
             [
              0.3333333333333333,
              "#9c179e"
             ],
             [
              0.4444444444444444,
              "#bd3786"
             ],
             [
              0.5555555555555556,
              "#d8576b"
             ],
             [
              0.6666666666666666,
              "#ed7953"
             ],
             [
              0.7777777777777778,
              "#fb9f3a"
             ],
             [
              0.8888888888888888,
              "#fdca26"
             ],
             [
              1,
              "#f0f921"
             ]
            ],
            "type": "surface"
           }
          ],
          "table": [
           {
            "cells": {
             "fill": {
              "color": "#EBF0F8"
             },
             "line": {
              "color": "white"
             }
            },
            "header": {
             "fill": {
              "color": "#C8D4E3"
             },
             "line": {
              "color": "white"
             }
            },
            "type": "table"
           }
          ]
         },
         "layout": {
          "annotationdefaults": {
           "arrowcolor": "#2a3f5f",
           "arrowhead": 0,
           "arrowwidth": 1
          },
          "autotypenumbers": "strict",
          "coloraxis": {
           "colorbar": {
            "outlinewidth": 0,
            "ticks": ""
           }
          },
          "colorscale": {
           "diverging": [
            [
             0,
             "#8e0152"
            ],
            [
             0.1,
             "#c51b7d"
            ],
            [
             0.2,
             "#de77ae"
            ],
            [
             0.3,
             "#f1b6da"
            ],
            [
             0.4,
             "#fde0ef"
            ],
            [
             0.5,
             "#f7f7f7"
            ],
            [
             0.6,
             "#e6f5d0"
            ],
            [
             0.7,
             "#b8e186"
            ],
            [
             0.8,
             "#7fbc41"
            ],
            [
             0.9,
             "#4d9221"
            ],
            [
             1,
             "#276419"
            ]
           ],
           "sequential": [
            [
             0,
             "#0d0887"
            ],
            [
             0.1111111111111111,
             "#46039f"
            ],
            [
             0.2222222222222222,
             "#7201a8"
            ],
            [
             0.3333333333333333,
             "#9c179e"
            ],
            [
             0.4444444444444444,
             "#bd3786"
            ],
            [
             0.5555555555555556,
             "#d8576b"
            ],
            [
             0.6666666666666666,
             "#ed7953"
            ],
            [
             0.7777777777777778,
             "#fb9f3a"
            ],
            [
             0.8888888888888888,
             "#fdca26"
            ],
            [
             1,
             "#f0f921"
            ]
           ],
           "sequentialminus": [
            [
             0,
             "#0d0887"
            ],
            [
             0.1111111111111111,
             "#46039f"
            ],
            [
             0.2222222222222222,
             "#7201a8"
            ],
            [
             0.3333333333333333,
             "#9c179e"
            ],
            [
             0.4444444444444444,
             "#bd3786"
            ],
            [
             0.5555555555555556,
             "#d8576b"
            ],
            [
             0.6666666666666666,
             "#ed7953"
            ],
            [
             0.7777777777777778,
             "#fb9f3a"
            ],
            [
             0.8888888888888888,
             "#fdca26"
            ],
            [
             1,
             "#f0f921"
            ]
           ]
          },
          "colorway": [
           "#636efa",
           "#EF553B",
           "#00cc96",
           "#ab63fa",
           "#FFA15A",
           "#19d3f3",
           "#FF6692",
           "#B6E880",
           "#FF97FF",
           "#FECB52"
          ],
          "font": {
           "color": "#2a3f5f"
          },
          "geo": {
           "bgcolor": "white",
           "lakecolor": "white",
           "landcolor": "#E5ECF6",
           "showlakes": true,
           "showland": true,
           "subunitcolor": "white"
          },
          "hoverlabel": {
           "align": "left"
          },
          "hovermode": "closest",
          "mapbox": {
           "style": "light"
          },
          "paper_bgcolor": "white",
          "plot_bgcolor": "#E5ECF6",
          "polar": {
           "angularaxis": {
            "gridcolor": "white",
            "linecolor": "white",
            "ticks": ""
           },
           "bgcolor": "#E5ECF6",
           "radialaxis": {
            "gridcolor": "white",
            "linecolor": "white",
            "ticks": ""
           }
          },
          "scene": {
           "xaxis": {
            "backgroundcolor": "#E5ECF6",
            "gridcolor": "white",
            "gridwidth": 2,
            "linecolor": "white",
            "showbackground": true,
            "ticks": "",
            "zerolinecolor": "white"
           },
           "yaxis": {
            "backgroundcolor": "#E5ECF6",
            "gridcolor": "white",
            "gridwidth": 2,
            "linecolor": "white",
            "showbackground": true,
            "ticks": "",
            "zerolinecolor": "white"
           },
           "zaxis": {
            "backgroundcolor": "#E5ECF6",
            "gridcolor": "white",
            "gridwidth": 2,
            "linecolor": "white",
            "showbackground": true,
            "ticks": "",
            "zerolinecolor": "white"
           }
          },
          "shapedefaults": {
           "line": {
            "color": "#2a3f5f"
           }
          },
          "ternary": {
           "aaxis": {
            "gridcolor": "white",
            "linecolor": "white",
            "ticks": ""
           },
           "baxis": {
            "gridcolor": "white",
            "linecolor": "white",
            "ticks": ""
           },
           "bgcolor": "#E5ECF6",
           "caxis": {
            "gridcolor": "white",
            "linecolor": "white",
            "ticks": ""
           }
          },
          "title": {
           "x": 0.05
          },
          "xaxis": {
           "automargin": true,
           "gridcolor": "white",
           "linecolor": "white",
           "ticks": "",
           "title": {
            "standoff": 15
           },
           "zerolinecolor": "white",
           "zerolinewidth": 2
          },
          "yaxis": {
           "automargin": true,
           "gridcolor": "white",
           "linecolor": "white",
           "ticks": "",
           "title": {
            "standoff": 15
           },
           "zerolinecolor": "white",
           "zerolinewidth": 2
          }
         }
        },
        "width": 700,
        "xaxis": {
         "tickmode": "array",
         "ticktext": [
          "H_years_091011",
          "O_years_091011",
          "W_years_091011",
          "N_years_091011",
          "R_years_091011",
          "U_years_091011",
          "E_years_091011",
          "G_years_091011",
          "I_years_091011",
          "Y_years_091011",
          "V_years_091011",
          "D_years_091011",
          "Z_years_091011",
          "Q_years_091011",
          "C_years_091011",
          "P_years_091011",
          "T_years_091011",
          "B_years_091011",
          "X_years_091011",
          "L_years_091011",
          "A_years_091011",
          "S_years_091011",
          "F_years_091011",
          "OB_years_091011",
          "M_years_091011",
          "K_years_091011",
          "OA_years_091011",
          "J_years_091011"
         ],
         "tickvals": [
          0,
          1,
          2,
          3,
          4,
          5,
          6,
          7,
          8,
          9,
          10,
          11,
          12,
          13,
          14,
          15,
          16,
          17,
          18,
          19,
          20,
          21,
          22,
          23,
          24,
          25,
          26,
          27
         ],
         "title": {
          "text": "Archetypes"
         }
        },
        "yaxis": {
         "title": {
          "text": "Yearly impact of archetype, [kg CO2-eq.]"
         }
        }
       }
      },
      "text/html": [
       "<div>                            <div id=\"51f788d4-7718-41f4-8022-36368d7dc979\" class=\"plotly-graph-div\" style=\"height:400px; width:700px;\"></div>            <script type=\"text/javascript\">                require([\"plotly\"], function(Plotly) {                    window.PLOTLYENV=window.PLOTLYENV || {};                                    if (document.getElementById(\"51f788d4-7718-41f4-8022-36368d7dc979\")) {                    Plotly.newPlot(                        \"51f788d4-7718-41f4-8022-36368d7dc979\",                        [{\"mode\":\"markers\",\"type\":\"scatter\",\"x\":[0,1,2,3,4,5,6,7,8,9,10,11,12,13,14,15,16,17,18,19,20,21,22,23,24,25,26,27],\"y\":[6321.160340678534,6330.295083432649,7160.278457072686,7170.720792500385,7730.884298000088,9144.477668502355,9353.923177100165,10512.90457608288,11193.508475422712,11701.736745314922,12909.621556219492,13075.168718209052,13337.852451439245,13549.10598973481,13934.872414842386,14203.290379191632,14663.008938820423,14666.500668436314,15530.27341209546,16346.725193433893,17344.006765867995,18065.709070996272,18263.393421497633,18451.67722575421,18467.101103269124,19676.847298757093,21724.620193879986,22522.59769353577]}],                        {\"height\":400,\"template\":{\"data\":{\"bar\":[{\"error_x\":{\"color\":\"#2a3f5f\"},\"error_y\":{\"color\":\"#2a3f5f\"},\"marker\":{\"line\":{\"color\":\"#E5ECF6\",\"width\":0.5},\"pattern\":{\"fillmode\":\"overlay\",\"size\":10,\"solidity\":0.2}},\"type\":\"bar\"}],\"barpolar\":[{\"marker\":{\"line\":{\"color\":\"#E5ECF6\",\"width\":0.5},\"pattern\":{\"fillmode\":\"overlay\",\"size\":10,\"solidity\":0.2}},\"type\":\"barpolar\"}],\"carpet\":[{\"aaxis\":{\"endlinecolor\":\"#2a3f5f\",\"gridcolor\":\"white\",\"linecolor\":\"white\",\"minorgridcolor\":\"white\",\"startlinecolor\":\"#2a3f5f\"},\"baxis\":{\"endlinecolor\":\"#2a3f5f\",\"gridcolor\":\"white\",\"linecolor\":\"white\",\"minorgridcolor\":\"white\",\"startlinecolor\":\"#2a3f5f\"},\"type\":\"carpet\"}],\"choropleth\":[{\"colorbar\":{\"outlinewidth\":0,\"ticks\":\"\"},\"type\":\"choropleth\"}],\"contour\":[{\"colorbar\":{\"outlinewidth\":0,\"ticks\":\"\"},\"colorscale\":[[0.0,\"#0d0887\"],[0.1111111111111111,\"#46039f\"],[0.2222222222222222,\"#7201a8\"],[0.3333333333333333,\"#9c179e\"],[0.4444444444444444,\"#bd3786\"],[0.5555555555555556,\"#d8576b\"],[0.6666666666666666,\"#ed7953\"],[0.7777777777777778,\"#fb9f3a\"],[0.8888888888888888,\"#fdca26\"],[1.0,\"#f0f921\"]],\"type\":\"contour\"}],\"contourcarpet\":[{\"colorbar\":{\"outlinewidth\":0,\"ticks\":\"\"},\"type\":\"contourcarpet\"}],\"heatmap\":[{\"colorbar\":{\"outlinewidth\":0,\"ticks\":\"\"},\"colorscale\":[[0.0,\"#0d0887\"],[0.1111111111111111,\"#46039f\"],[0.2222222222222222,\"#7201a8\"],[0.3333333333333333,\"#9c179e\"],[0.4444444444444444,\"#bd3786\"],[0.5555555555555556,\"#d8576b\"],[0.6666666666666666,\"#ed7953\"],[0.7777777777777778,\"#fb9f3a\"],[0.8888888888888888,\"#fdca26\"],[1.0,\"#f0f921\"]],\"type\":\"heatmap\"}],\"heatmapgl\":[{\"colorbar\":{\"outlinewidth\":0,\"ticks\":\"\"},\"colorscale\":[[0.0,\"#0d0887\"],[0.1111111111111111,\"#46039f\"],[0.2222222222222222,\"#7201a8\"],[0.3333333333333333,\"#9c179e\"],[0.4444444444444444,\"#bd3786\"],[0.5555555555555556,\"#d8576b\"],[0.6666666666666666,\"#ed7953\"],[0.7777777777777778,\"#fb9f3a\"],[0.8888888888888888,\"#fdca26\"],[1.0,\"#f0f921\"]],\"type\":\"heatmapgl\"}],\"histogram\":[{\"marker\":{\"pattern\":{\"fillmode\":\"overlay\",\"size\":10,\"solidity\":0.2}},\"type\":\"histogram\"}],\"histogram2d\":[{\"colorbar\":{\"outlinewidth\":0,\"ticks\":\"\"},\"colorscale\":[[0.0,\"#0d0887\"],[0.1111111111111111,\"#46039f\"],[0.2222222222222222,\"#7201a8\"],[0.3333333333333333,\"#9c179e\"],[0.4444444444444444,\"#bd3786\"],[0.5555555555555556,\"#d8576b\"],[0.6666666666666666,\"#ed7953\"],[0.7777777777777778,\"#fb9f3a\"],[0.8888888888888888,\"#fdca26\"],[1.0,\"#f0f921\"]],\"type\":\"histogram2d\"}],\"histogram2dcontour\":[{\"colorbar\":{\"outlinewidth\":0,\"ticks\":\"\"},\"colorscale\":[[0.0,\"#0d0887\"],[0.1111111111111111,\"#46039f\"],[0.2222222222222222,\"#7201a8\"],[0.3333333333333333,\"#9c179e\"],[0.4444444444444444,\"#bd3786\"],[0.5555555555555556,\"#d8576b\"],[0.6666666666666666,\"#ed7953\"],[0.7777777777777778,\"#fb9f3a\"],[0.8888888888888888,\"#fdca26\"],[1.0,\"#f0f921\"]],\"type\":\"histogram2dcontour\"}],\"mesh3d\":[{\"colorbar\":{\"outlinewidth\":0,\"ticks\":\"\"},\"type\":\"mesh3d\"}],\"parcoords\":[{\"line\":{\"colorbar\":{\"outlinewidth\":0,\"ticks\":\"\"}},\"type\":\"parcoords\"}],\"pie\":[{\"automargin\":true,\"type\":\"pie\"}],\"scatter\":[{\"marker\":{\"colorbar\":{\"outlinewidth\":0,\"ticks\":\"\"}},\"type\":\"scatter\"}],\"scatter3d\":[{\"line\":{\"colorbar\":{\"outlinewidth\":0,\"ticks\":\"\"}},\"marker\":{\"colorbar\":{\"outlinewidth\":0,\"ticks\":\"\"}},\"type\":\"scatter3d\"}],\"scattercarpet\":[{\"marker\":{\"colorbar\":{\"outlinewidth\":0,\"ticks\":\"\"}},\"type\":\"scattercarpet\"}],\"scattergeo\":[{\"marker\":{\"colorbar\":{\"outlinewidth\":0,\"ticks\":\"\"}},\"type\":\"scattergeo\"}],\"scattergl\":[{\"marker\":{\"colorbar\":{\"outlinewidth\":0,\"ticks\":\"\"}},\"type\":\"scattergl\"}],\"scattermapbox\":[{\"marker\":{\"colorbar\":{\"outlinewidth\":0,\"ticks\":\"\"}},\"type\":\"scattermapbox\"}],\"scatterpolar\":[{\"marker\":{\"colorbar\":{\"outlinewidth\":0,\"ticks\":\"\"}},\"type\":\"scatterpolar\"}],\"scatterpolargl\":[{\"marker\":{\"colorbar\":{\"outlinewidth\":0,\"ticks\":\"\"}},\"type\":\"scatterpolargl\"}],\"scatterternary\":[{\"marker\":{\"colorbar\":{\"outlinewidth\":0,\"ticks\":\"\"}},\"type\":\"scatterternary\"}],\"surface\":[{\"colorbar\":{\"outlinewidth\":0,\"ticks\":\"\"},\"colorscale\":[[0.0,\"#0d0887\"],[0.1111111111111111,\"#46039f\"],[0.2222222222222222,\"#7201a8\"],[0.3333333333333333,\"#9c179e\"],[0.4444444444444444,\"#bd3786\"],[0.5555555555555556,\"#d8576b\"],[0.6666666666666666,\"#ed7953\"],[0.7777777777777778,\"#fb9f3a\"],[0.8888888888888888,\"#fdca26\"],[1.0,\"#f0f921\"]],\"type\":\"surface\"}],\"table\":[{\"cells\":{\"fill\":{\"color\":\"#EBF0F8\"},\"line\":{\"color\":\"white\"}},\"header\":{\"fill\":{\"color\":\"#C8D4E3\"},\"line\":{\"color\":\"white\"}},\"type\":\"table\"}]},\"layout\":{\"annotationdefaults\":{\"arrowcolor\":\"#2a3f5f\",\"arrowhead\":0,\"arrowwidth\":1},\"autotypenumbers\":\"strict\",\"coloraxis\":{\"colorbar\":{\"outlinewidth\":0,\"ticks\":\"\"}},\"colorscale\":{\"diverging\":[[0,\"#8e0152\"],[0.1,\"#c51b7d\"],[0.2,\"#de77ae\"],[0.3,\"#f1b6da\"],[0.4,\"#fde0ef\"],[0.5,\"#f7f7f7\"],[0.6,\"#e6f5d0\"],[0.7,\"#b8e186\"],[0.8,\"#7fbc41\"],[0.9,\"#4d9221\"],[1,\"#276419\"]],\"sequential\":[[0.0,\"#0d0887\"],[0.1111111111111111,\"#46039f\"],[0.2222222222222222,\"#7201a8\"],[0.3333333333333333,\"#9c179e\"],[0.4444444444444444,\"#bd3786\"],[0.5555555555555556,\"#d8576b\"],[0.6666666666666666,\"#ed7953\"],[0.7777777777777778,\"#fb9f3a\"],[0.8888888888888888,\"#fdca26\"],[1.0,\"#f0f921\"]],\"sequentialminus\":[[0.0,\"#0d0887\"],[0.1111111111111111,\"#46039f\"],[0.2222222222222222,\"#7201a8\"],[0.3333333333333333,\"#9c179e\"],[0.4444444444444444,\"#bd3786\"],[0.5555555555555556,\"#d8576b\"],[0.6666666666666666,\"#ed7953\"],[0.7777777777777778,\"#fb9f3a\"],[0.8888888888888888,\"#fdca26\"],[1.0,\"#f0f921\"]]},\"colorway\":[\"#636efa\",\"#EF553B\",\"#00cc96\",\"#ab63fa\",\"#FFA15A\",\"#19d3f3\",\"#FF6692\",\"#B6E880\",\"#FF97FF\",\"#FECB52\"],\"font\":{\"color\":\"#2a3f5f\"},\"geo\":{\"bgcolor\":\"white\",\"lakecolor\":\"white\",\"landcolor\":\"#E5ECF6\",\"showlakes\":true,\"showland\":true,\"subunitcolor\":\"white\"},\"hoverlabel\":{\"align\":\"left\"},\"hovermode\":\"closest\",\"mapbox\":{\"style\":\"light\"},\"paper_bgcolor\":\"white\",\"plot_bgcolor\":\"#E5ECF6\",\"polar\":{\"angularaxis\":{\"gridcolor\":\"white\",\"linecolor\":\"white\",\"ticks\":\"\"},\"bgcolor\":\"#E5ECF6\",\"radialaxis\":{\"gridcolor\":\"white\",\"linecolor\":\"white\",\"ticks\":\"\"}},\"scene\":{\"xaxis\":{\"backgroundcolor\":\"#E5ECF6\",\"gridcolor\":\"white\",\"gridwidth\":2,\"linecolor\":\"white\",\"showbackground\":true,\"ticks\":\"\",\"zerolinecolor\":\"white\"},\"yaxis\":{\"backgroundcolor\":\"#E5ECF6\",\"gridcolor\":\"white\",\"gridwidth\":2,\"linecolor\":\"white\",\"showbackground\":true,\"ticks\":\"\",\"zerolinecolor\":\"white\"},\"zaxis\":{\"backgroundcolor\":\"#E5ECF6\",\"gridcolor\":\"white\",\"gridwidth\":2,\"linecolor\":\"white\",\"showbackground\":true,\"ticks\":\"\",\"zerolinecolor\":\"white\"}},\"shapedefaults\":{\"line\":{\"color\":\"#2a3f5f\"}},\"ternary\":{\"aaxis\":{\"gridcolor\":\"white\",\"linecolor\":\"white\",\"ticks\":\"\"},\"baxis\":{\"gridcolor\":\"white\",\"linecolor\":\"white\",\"ticks\":\"\"},\"bgcolor\":\"#E5ECF6\",\"caxis\":{\"gridcolor\":\"white\",\"linecolor\":\"white\",\"ticks\":\"\"}},\"title\":{\"x\":0.05},\"xaxis\":{\"automargin\":true,\"gridcolor\":\"white\",\"linecolor\":\"white\",\"ticks\":\"\",\"title\":{\"standoff\":15},\"zerolinecolor\":\"white\",\"zerolinewidth\":2},\"yaxis\":{\"automargin\":true,\"gridcolor\":\"white\",\"linecolor\":\"white\",\"ticks\":\"\",\"title\":{\"standoff\":15},\"zerolinecolor\":\"white\",\"zerolinewidth\":2}}},\"width\":700,\"xaxis\":{\"tickmode\":\"array\",\"ticktext\":[\"H_years_091011\",\"O_years_091011\",\"W_years_091011\",\"N_years_091011\",\"R_years_091011\",\"U_years_091011\",\"E_years_091011\",\"G_years_091011\",\"I_years_091011\",\"Y_years_091011\",\"V_years_091011\",\"D_years_091011\",\"Z_years_091011\",\"Q_years_091011\",\"C_years_091011\",\"P_years_091011\",\"T_years_091011\",\"B_years_091011\",\"X_years_091011\",\"L_years_091011\",\"A_years_091011\",\"S_years_091011\",\"F_years_091011\",\"OB_years_091011\",\"M_years_091011\",\"K_years_091011\",\"OA_years_091011\",\"J_years_091011\"],\"tickvals\":[0,1,2,3,4,5,6,7,8,9,10,11,12,13,14,15,16,17,18,19,20,21,22,23,24,25,26,27],\"title\":{\"text\":\"Archetypes\"}},\"yaxis\":{\"title\":{\"text\":\"Yearly impact of archetype, [kg CO2-eq.]\"}}},                        {\"responsive\": true}                    ).then(function(){\n",
       "                            \n",
       "var gd = document.getElementById('51f788d4-7718-41f4-8022-36368d7dc979');\n",
       "var x = new MutationObserver(function (mutations, observer) {{\n",
       "        var display = window.getComputedStyle(gd).display;\n",
       "        if (!display || display === 'none') {{\n",
       "            console.log([gd, 'removed!']);\n",
       "            Plotly.purge(gd);\n",
       "            observer.disconnect();\n",
       "        }}\n",
       "}});\n",
       "\n",
       "// Listen for the removal of the full notebook cells\n",
       "var notebookContainer = gd.closest('#notebook-container');\n",
       "if (notebookContainer) {{\n",
       "    x.observe(notebookContainer, {childList: true});\n",
       "}}\n",
       "\n",
       "// Listen for the clearing of the current output cell\n",
       "var outputEl = gd.closest('.output');\n",
       "if (outputEl) {{\n",
       "    x.observe(outputEl, {childList: true});\n",
       "}}\n",
       "\n",
       "                        })                };                });            </script>        </div>"
      ]
     },
     "metadata": {},
     "output_type": "display_data"
    },
    {
     "name": "stdout",
     "output_type": "stream",
     "text": [
      "--> archetype_A_consumption_years_091011\n"
     ]
    },
    {
     "ename": "AssertionError",
     "evalue": "",
     "output_type": "error",
     "traceback": [
      "\u001b[0;31m---------------------------------------------------------------------------\u001b[0m",
      "\u001b[0;31mAssertionError\u001b[0m                            Traceback (most recent call last)",
      "Input \u001b[0;32mIn [6]\u001b[0m, in \u001b[0;36m<module>\u001b[0;34m\u001b[0m\n\u001b[1;32m    119\u001b[0m year \u001b[38;5;241m=\u001b[39m \u001b[38;5;124m'\u001b[39m\u001b[38;5;124m091011\u001b[39m\u001b[38;5;124m'\u001b[39m\n\u001b[1;32m    120\u001b[0m import_all_databases(use_ex, \u001b[38;5;28;01mTrue\u001b[39;00m, year)\n\u001b[0;32m--> 121\u001b[0m \u001b[43mplot_archetypes\u001b[49m\u001b[43m(\u001b[49m\u001b[43muse_ex\u001b[49m\u001b[43m,\u001b[49m\u001b[43m \u001b[49m\u001b[43myear\u001b[49m\u001b[43m)\u001b[49m\n",
      "Input \u001b[0;32mIn [6]\u001b[0m, in \u001b[0;36mplot_archetypes\u001b[0;34m(use_exiobase, year)\u001b[0m\n\u001b[1;32m    105\u001b[0m     \u001b[38;5;66;03m# Compare with Andi's contributions per sectors (reproduce Fig. 3 in Andi's data mining paper, bottom part)\u001b[39;00m\n\u001b[1;32m    106\u001b[0m     fp_archetypes_scores_sectors \u001b[38;5;241m=\u001b[39m write_dir \u001b[38;5;241m/\u001b[39m \u001b[38;5;124mf\u001b[39m\u001b[38;5;124m\"\u001b[39m\u001b[38;5;124mmonthly_scores_\u001b[39m\u001b[38;5;132;01m{\u001b[39;00myear\u001b[38;5;132;01m}\u001b[39;00m\u001b[38;5;124m.pickle\u001b[39m\u001b[38;5;124m\"\u001b[39m\n\u001b[0;32m--> 107\u001b[0m     archetypes_scores_per_sector \u001b[38;5;241m=\u001b[39m \u001b[43mget_archetypes_scores_per_sector\u001b[49m\u001b[43m(\u001b[49m\u001b[43mco_name\u001b[49m\u001b[43m,\u001b[49m\u001b[43m \u001b[49m\u001b[43myear\u001b[49m\u001b[43m,\u001b[49m\u001b[43m \u001b[49m\u001b[43mmethod\u001b[49m\u001b[43m,\u001b[49m\u001b[43m \u001b[49m\u001b[43mwrite_dir\u001b[49m\u001b[43m)\u001b[49m\n\u001b[1;32m    108\u001b[0m     fig \u001b[38;5;241m=\u001b[39m plot_archetypes_scores_per_sector(archetypes_scores_per_sector)\n\u001b[1;32m    109\u001b[0m \u001b[38;5;66;03m#     fig.write_html(write_dir / \"sector_scores.html\")\u001b[39;00m\n",
      "File \u001b[0;32m~/PycharmProjects/consumption_model_ch/consumption_model_ch/consumption_fus.py:442\u001b[0m, in \u001b[0;36mget_archetypes_scores_per_sector\u001b[0;34m(co_name, year_habe, method, write_dir)\u001b[0m\n\u001b[1;32m    440\u001b[0m scores_per_sector \u001b[38;5;241m=\u001b[39m {}\n\u001b[1;32m    441\u001b[0m \u001b[38;5;28;01mfor\u001b[39;00m sector \u001b[38;5;129;01min\u001b[39;00m sectors:\n\u001b[0;32m--> 442\u001b[0m     demand_sector \u001b[38;5;241m=\u001b[39m \u001b[43mget_demand_per_sector\u001b[49m\u001b[43m(\u001b[49m\u001b[43marchetype\u001b[49m\u001b[43m,\u001b[49m\u001b[43m \u001b[49m\u001b[43msector\u001b[49m\u001b[43m)\u001b[49m\n\u001b[1;32m    443\u001b[0m     lca \u001b[38;5;241m=\u001b[39m bc\u001b[38;5;241m.\u001b[39mLCA(demand_sector, method)\n\u001b[1;32m    444\u001b[0m     lca\u001b[38;5;241m.\u001b[39mlci()\n",
      "File \u001b[0;32m~/PycharmProjects/consumption_model_ch/consumption_model_ch/consumption_fus.py:460\u001b[0m, in \u001b[0;36mget_demand_per_sector\u001b[0;34m(act, sector)\u001b[0m\n\u001b[1;32m    458\u001b[0m     \u001b[38;5;28;01mif\u001b[39;00m exc\u001b[38;5;241m.\u001b[39minput[\u001b[38;5;124m'\u001b[39m\u001b[38;5;124mcategory_coarse\u001b[39m\u001b[38;5;124m'\u001b[39m] \u001b[38;5;241m==\u001b[39m sector_name:\n\u001b[1;32m    459\u001b[0m         demands[exc\u001b[38;5;241m.\u001b[39minput] \u001b[38;5;241m=\u001b[39m exc\u001b[38;5;241m.\u001b[39mamount\n\u001b[0;32m--> 460\u001b[0m \u001b[38;5;28;01massert\u001b[39;00m \u001b[38;5;28mlen\u001b[39m(demands) \u001b[38;5;241m==\u001b[39m \u001b[38;5;28mlen\u001b[39m(\u001b[38;5;28mlist\u001b[39m(sector\u001b[38;5;241m.\u001b[39mexchanges())) \u001b[38;5;241m-\u001b[39m \u001b[38;5;241m1\u001b[39m\n\u001b[1;32m    461\u001b[0m \u001b[38;5;28;01mreturn\u001b[39;00m demands\n",
      "\u001b[0;31mAssertionError\u001b[0m: "
     ]
    }
   ],
   "source": [
    "def import_all_databases(use_exiobase, add_activities=True, year='091011'):\n",
    "\n",
    "    path_base = Path('/Users/akim/Documents/LCA_files/')\n",
    "\n",
    "    directory_habe = path_base / 'HABE_2017/'\n",
    "    fp_ecoinvent_38 = path_base / \"ecoinvent_38_cutoff\" / \"datasets\"\n",
    "    # fp_ecoinvent_38 = \"/Users/cmutel/Documents/lca/Ecoinvent/3.8/cutoff/datasets\"\n",
    "    fp_ecoinvent_33 = path_base / \"ecoinvent_33_cutoff\"/ \"datasets\"\n",
    "    fp_exiobase = path_base / \"exiobase_381_monetary\" / \"IOT_2015_pxp\"\n",
    "    # fp_archetypes = path_base / \"heia\" / \"hh_archetypes_weighted_ipcc_091011.csv\"\n",
    "\n",
    "    ei38_name = \"ecoinvent 3.8 cutoff\"\n",
    "    ex38_name = \"exiobase 3.8.1 monetary\"\n",
    "    co_name = \"swiss consumption 1.0\"\n",
    "\n",
    "    if use_exiobase:\n",
    "        project = \"GSA for archetypes with exiobase\"\n",
    "    else:\n",
    "        project = \"GSA for archetypes\"\n",
    "    bd.projects.set_current(project)\n",
    "\n",
    "    # Import biosphere and ecoinvent databases\n",
    "    if ei38_name not in bd.databases:\n",
    "        bi.bw2setup()\n",
    "        ei = bi.SingleOutputEcospold2Importer(fp_ecoinvent_38, ei38_name)\n",
    "        ei.apply_strategies()\n",
    "        assert ei.all_linked\n",
    "        ei.write_database()\n",
    "\n",
    "    exclude_databases = [\n",
    "        'heia',\n",
    "        'Agribalyse 1.2',\n",
    "        'Agribalyse 1.3 - {}'.format(ei38_name),\n",
    "    ]\n",
    "\n",
    "    # Import exiobase\n",
    "    if use_exiobase:\n",
    "        import_exiobase_3(fp_exiobase, ex38_name)\n",
    "    else:\n",
    "        exclude_databases.append('exiobase 2.2')\n",
    "\n",
    "    # Import consumption database\n",
    "    import_consumption_db(\n",
    "        directory_habe, co_name, fp_ecoinvent_33, exclude_databases, fp_exiobase,\n",
    "    )\n",
    "\n",
    "    # Add uncertainties to GWP values\n",
    "    method = (\"IPCC 2013\", \"climate change\", \"GWP 100a\", \"uncertain\")\n",
    "    if method not in bd.methods:\n",
    "        add_bw_method_with_gwp_uncertainties()\n",
    "\n",
    "    # Add functional units\n",
    "    co = bd.Database(co_name)\n",
    "    option = 'aggregated'\n",
    "    if add_activities:\n",
    "        add_consumption_activities(co_name, year, option=option,)\n",
    "        add_consumption_categories(co_name)\n",
    "        add_consumption_sectors(co_name, year)\n",
    "        add_archetypes_consumption(co_name, year)\n",
    "\n",
    "    # LCIA for average consumption\n",
    "    co_average_act_name = f'ch hh average consumption {option}, years {year}'\n",
    "    hh_average = [act for act in co if co_average_act_name == act['name']]\n",
    "    assert len(hh_average) == 1\n",
    "    demand_act = hh_average[0]\n",
    "    lca = bc.LCA({demand_act: 1}, method)\n",
    "    lca.lci()\n",
    "    lca.lcia()\n",
    "    print(\"{:8.3f}  {}\".format(lca.score, demand_act['name']))\n",
    "\n",
    "    # LCIA for all Swiss consumption sectors\n",
    "    sectors = sorted([act for act in co if \"sector\" in act['name'].lower() and str(year) in act['name']])\n",
    "    for demand_act in sectors:\n",
    "        lca = bc.LCA({demand_act: 1}, method)\n",
    "        lca.lci()\n",
    "        lca.lcia()\n",
    "        print(\"{:8.3f}  {}\".format(lca.score, demand_act['name']))\n",
    "        \n",
    "\n",
    "def plot_archetypes(use_exiobase, year):\n",
    "    # Add archetypes and compute total yearly scores per archetype\n",
    "    if use_exiobase:\n",
    "        project = \"GSA for archetypes with exiobase\"\n",
    "    else:\n",
    "        project = \"GSA for archetypes\"\n",
    "    bd.projects.set_current(project)\n",
    "    co_name = \"swiss consumption 1.0\"\n",
    "    write_dir = Path(\"write_files\") / project.lower().replace(\" \", \"_\") / \"archetype_scores\"\n",
    "    write_dir.mkdir(parents=True, exist_ok=True)\n",
    "\n",
    "    method = (\"IPCC 2013\", \"climate change\", \"GWP 100a\", \"uncertain\")\n",
    "    fp_archetypes_scores = write_dir / f\"monthly_scores_{year}.pickle\"\n",
    "    archetypes_scores_monthly = get_archetypes_scores_per_month(co_name, year, method, fp_archetypes_scores)\n",
    "\n",
    "    # Compare with Andi's results (reproduce Fig. 3 in Andi's data mining paper, top part)\n",
    "    num_months_in_year = 12\n",
    "    archetypes_scores_yearly = {\n",
    "        archetype: score*num_months_in_year for archetype, score in archetypes_scores_monthly.items()\n",
    "    }\n",
    "    fig = plot_archetypes_scores_yearly(archetypes_scores_yearly)\n",
    "#     fig.write_html(write_dir / \"yearly_scores.html\")\n",
    "    fig.write_image(write_dir / f\"yearly_scores_{year}.pdf\")\n",
    "    fig.show()\n",
    "\n",
    "    # Compare with Andi's contributions per sectors (reproduce Fig. 3 in Andi's data mining paper, bottom part)\n",
    "    fp_archetypes_scores_sectors = write_dir / f\"monthly_scores_{year}.pickle\"\n",
    "    archetypes_scores_per_sector = get_archetypes_scores_per_sector(co_name, year, method, write_dir)\n",
    "    fig = plot_archetypes_scores_per_sector(archetypes_scores_per_sector)\n",
    "#     fig.write_html(write_dir / \"sector_scores.html\")\n",
    "    fig.write_image(write_dir / \"sector_scores.pdf\")\n",
    "    fig.show()\n",
    "\n",
    "\n",
    "if __name__ == \"__main__\":\n",
    "\n",
    "    print(\"Impacts WITHOUT exiobase\")\n",
    "    print(\"------------------------\")\n",
    "    use_ex = False\n",
    "    year = '091011'\n",
    "    import_all_databases(use_ex, True, year)\n",
    "    plot_archetypes(use_ex, year)\n",
    "\n",
    "#     print(\"\\n\")\n",
    "#     print(\"Impacts WITH exiobase\")\n",
    "#     print(\"---------------------\")\n",
    "#     use_ex = True\n",
    "#     import_all_databases(use_ex, True)\n",
    "#     plot_archetypes(use_ex)\n"
   ]
  },
  {
   "cell_type": "code",
   "execution_count": null,
   "id": "2f3f9ff9",
   "metadata": {},
   "outputs": [],
   "source": []
  },
  {
   "cell_type": "code",
   "execution_count": null,
   "id": "6c5b7550",
   "metadata": {},
   "outputs": [],
   "source": []
  },
  {
   "cell_type": "code",
   "execution_count": null,
   "id": "1355d361-e754-43f6-8bd0-b366c8f7dd13",
   "metadata": {},
   "outputs": [],
   "source": [
    "%%time \n",
    "# Backup GSA project\n",
    "bi.backup_project_directory(\"GSA for archetypes\")\n",
    "# bi.backup_project_directory(\"GSA for archetypes with exiobase\")\n",
    "# # Restore GSA project\n",
    "# fp_gsa_project = path_base / \"brightway2-project-GSA-backup.16-November-2021-11-50AM.tar.gz\"\n",
    "# if project not in bd.projects:\n",
    "#     bi.restore_project_directory(fp_gsa_project)"
   ]
  },
  {
   "cell_type": "code",
   "execution_count": null,
   "id": "f4ebeb37",
   "metadata": {},
   "outputs": [],
   "source": []
  }
 ],
 "metadata": {
  "kernelspec": {
   "display_name": "Python 3 (ipykernel)",
   "language": "python",
   "name": "python3"
  },
  "language_info": {
   "codemirror_mode": {
    "name": "ipython",
    "version": 3
   },
   "file_extension": ".py",
   "mimetype": "text/x-python",
   "name": "python",
   "nbconvert_exporter": "python",
   "pygments_lexer": "ipython3",
   "version": "3.9.10"
  },
  "varInspector": {
   "cols": {
    "lenName": 16,
    "lenType": 16,
    "lenVar": 40
   },
   "kernels_config": {
    "python": {
     "delete_cmd_postfix": "",
     "delete_cmd_prefix": "del ",
     "library": "var_list.py",
     "varRefreshCmd": "print(var_dic_list())"
    },
    "r": {
     "delete_cmd_postfix": ") ",
     "delete_cmd_prefix": "rm(",
     "library": "var_list.r",
     "varRefreshCmd": "cat(var_dic_list()) "
    }
   },
   "types_to_exclude": [
    "module",
    "function",
    "builtin_function_or_method",
    "instance",
    "_Feature"
   ],
   "window_display": false
  }
 },
 "nbformat": 4,
 "nbformat_minor": 5
}
