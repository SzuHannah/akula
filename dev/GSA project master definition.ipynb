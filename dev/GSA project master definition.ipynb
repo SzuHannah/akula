{
 "cells": [
  {
   "cell_type": "code",
   "execution_count": 1,
   "id": "b155e53b-688d-40f2-8bb2-4e58e55c0925",
   "metadata": {},
   "outputs": [],
   "source": [
    "import bw2data as bd\n",
    "import bw2io as bi"
   ]
  },
  {
   "cell_type": "code",
   "execution_count": 2,
   "id": "fa80a078-7b24-4bd7-ab4f-8a51ebe3a028",
   "metadata": {},
   "outputs": [],
   "source": [
    "bd.projects.set_current(\"GSA\")"
   ]
  },
  {
   "cell_type": "code",
   "execution_count": 3,
   "id": "8030ad3f-d26c-4700-bac7-e3d36b80ce47",
   "metadata": {},
   "outputs": [
    {
     "name": "stdout",
     "output_type": "stream",
     "text": [
      "Creating default biosphere\n",
      "\n"
     ]
    },
    {
     "name": "stderr",
     "output_type": "stream",
     "text": [
      "Writing activities to SQLite3 database:\n"
     ]
    },
    {
     "name": "stdout",
     "output_type": "stream",
     "text": [
      "Applying strategy: normalize_units\n",
      "Applying strategy: drop_unspecified_subcategories\n",
      "Applying strategy: ensure_categories_are_tuples\n",
      "Applied 3 strategies in 0.01 seconds\n"
     ]
    },
    {
     "name": "stderr",
     "output_type": "stream",
     "text": [
      "0% [##############################] 100% | ETA: 00:00:00\n",
      "Total time elapsed: 00:00:00\n"
     ]
    },
    {
     "name": "stdout",
     "output_type": "stream",
     "text": [
      "Title: Writing activities to SQLite3 database:\n",
      "  Started: 11/12/2021 10:14:40\n",
      "  Finished: 11/12/2021 10:14:40\n",
      "  Total time elapsed: 00:00:00\n",
      "  CPU %: 82.70\n",
      "  Memory %: 1.05\n",
      "Created database: biosphere3\n",
      "Creating default LCIA methods\n",
      "\n",
      "Applying strategy: normalize_units\n",
      "Applying strategy: set_biosphere_type\n",
      "Applying strategy: fix_ecoinvent_38_lcia_implementation\n",
      "Applying strategy: drop_unspecified_subcategories\n",
      "Applying strategy: link_iterable_by_fields\n",
      "Applied 5 strategies in 1.70 seconds\n",
      "Wrote 975 LCIA methods with 254388 characterization factors\n",
      "Creating core data migrations\n",
      "\n"
     ]
    }
   ],
   "source": [
    "if \"ecoinvent\" not in bd.databases:\n",
    "    bi.bw2setup()\n",
    "\n",
    "    fp = \"/Users/cmutel/Documents/lca/Ecoinvent/3.8/cutoff/datasets\"\n",
    "    ei = bi.SingleOutputEcospold2Importer(fp, \"ecoinvent\")\n",
    "    ei.apply_strategies()\n",
    "    assert ei.all_linked\n",
    "    ei.write_database()    "
   ]
  },
  {
   "cell_type": "markdown",
   "id": "d02c1b3b-cf6e-429c-ab4c-209e38fd2af5",
   "metadata": {},
   "source": [
    "Create a project archive to share. We want all work across the team to use the same project."
   ]
  },
  {
   "cell_type": "code",
   "execution_count": 48,
   "id": "1355d361-e754-43f6-8bd0-b366c8f7dd13",
   "metadata": {},
   "outputs": [
    {
     "name": "stdout",
     "output_type": "stream",
     "text": [
      "Creating project backup archive - this could take a few minutes...\n"
     ]
    }
   ],
   "source": [
    "bi.backup_project_directory(\"GSA\")"
   ]
  }
 ],
 "metadata": {
  "kernelspec": {
   "display_name": "Python 3 (ipykernel)",
   "language": "python",
   "name": "python3"
  },
  "language_info": {
   "codemirror_mode": {
    "name": "ipython",
    "version": 3
   },
   "file_extension": ".py",
   "mimetype": "text/x-python",
   "name": "python",
   "nbconvert_exporter": "python",
   "pygments_lexer": "ipython3",
   "version": "3.9.8"
  }
 },
 "nbformat": 4,
 "nbformat_minor": 5
}
