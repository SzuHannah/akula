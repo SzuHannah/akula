{
 "cells": [
  {
   "cell_type": "code",
   "execution_count": 1,
   "id": "63711f04",
   "metadata": {},
   "outputs": [],
   "source": [
    "import bw2data as bd\n",
    "import bw2calc as bc\n",
    "import bw2io as bi\n",
    "from pathlib import Path\n",
    "from gwp_uncertainties import add_bw_method_with_gwp_uncertainties\n",
    "\n",
    "# Local files\n",
    "from consumption_model_ch.import_databases import (\n",
    "    import_exiobase_3,\n",
    "    import_consumption_db,\n",
    ")\n",
    "from consumption_model_ch.consumption_fus import (\n",
    "    add_consumption_activities,\n",
    "    add_consumption_categories,\n",
    "    add_consumption_sectors,\n",
    "    add_archetypes_consumption,\n",
    "    get_archetypes_scores_per_month,\n",
    "    get_archetypes_scores_per_sector,\n",
    ")\n",
    "from consumption_model_ch.plot_archetypes import plot_archetypes_scores_yearly, plot_archetypes_scores_per_sector\n"
   ]
  },
  {
   "cell_type": "code",
   "execution_count": 2,
   "id": "ba3609ca",
   "metadata": {},
   "outputs": [],
   "source": [
    "# bd.projects.set_current(\"GSA for archetypes with exiobase\")\n",
    "bd.projects.set_current(\"GSA for archetypes\")\n",
    "# for key in bd.databases.keys():\n",
    "#     del bd.databases['key']"
   ]
  },
  {
   "cell_type": "code",
   "execution_count": 3,
   "id": "fd1b06ee",
   "metadata": {},
   "outputs": [
    {
     "data": {
      "text/plain": [
       "Databases dictionary with 2 object(s):\n",
       "\tbiosphere3\n",
       "\tecoinvent 3.8 cutoff"
      ]
     },
     "execution_count": 3,
     "metadata": {},
     "output_type": "execute_result"
    }
   ],
   "source": [
    "# del bd.databases[\"swiss consumption 1.0\"]\n",
    "bd.databases"
   ]
  },
  {
   "cell_type": "code",
   "execution_count": 4,
   "id": "b155e53b-688d-40f2-8bb2-4e58e55c0925",
   "metadata": {
    "scrolled": false
   },
   "outputs": [
    {
     "name": "stdout",
     "output_type": "stream",
     "text": [
      "Impacts WITHOUT exiobase\n",
      "------------------------\n",
      "Biosphere database already present!!! No setup is needed\n",
      "ecoinvent 3.3 cutoff database already present!!! No import is needed\n",
      "--> Consumption_db.xlsx already exists, reading it\n",
      "Created consumption_db.xlsx file in BW format in 0.25 seconds\n",
      "Extracted 1 worksheets in 0.15 seconds\n",
      "Applying strategy: migrate_datasets\n",
      "Applying strategy: migrate_exchanges\n",
      "Applying strategy: migrate_datasets\n",
      "Applying strategy: migrate_exchanges\n",
      "Applying strategy: migrate_datasets\n",
      "Applying strategy: migrate_exchanges\n",
      "Applying strategy: link_iterable_by_fields\n",
      "Applying strategy: link_iterable_by_fields\n",
      "Applying strategy: link_iterable_by_fields\n",
      "Applied 0 strategies in 0.00 seconds\n",
      "207 datasets\n",
      "903 exchanges\n",
      "0 unlinked exchanges\n",
      "  \n"
     ]
    },
    {
     "name": "stderr",
     "output_type": "stream",
     "text": [
      "Writing activities to SQLite3 database:\n",
      "0% [##############################] 100% | ETA: 00:00:00\n",
      "Total time elapsed: 00:00:00\n"
     ]
    },
    {
     "name": "stdout",
     "output_type": "stream",
     "text": [
      "Title: Writing activities to SQLite3 database:\n",
      "  Started: 02/08/2022 14:43:10\n",
      "  Finished: 02/08/2022 14:43:10\n",
      "  Total time elapsed: 00:00:00\n",
      "  CPU %: 106.10\n",
      "  Memory %: 1.86\n",
      "Created database: swiss consumption 1.0\n",
      "Creating archetypes functional units\n",
      "1094.929  ch hh average consumption aggregated\n",
      "   2.036  Alcoholic beverages and tobacco sector\n",
      "   0.000  Clothing and footwear sector\n",
      "   0.000  Communication sector\n",
      " 131.463  Durable goods sector\n",
      "   0.000  Education sector\n",
      "   0.000  Fees sector\n",
      " 231.887  Food and non-alcoholic beverages sector\n",
      "   0.000  Furnishings, household equipment and routine household maintenance sector\n",
      "   0.000  Health sector\n",
      " 351.928  Housing, water, electricity, gas and other fuels sector\n",
      "   3.988  Miscellaneous goods and services sector\n",
      "   0.000  Other insurance premiums sector\n",
      "   0.000  Premiums for life insurance sector\n",
      "   1.275  Recreation and culture sector\n",
      "   0.000  Restaurants and hotels sector\n",
      " 372.353  Transport sector\n"
     ]
    }
   ],
   "source": [
    "def import_all_databases(use_exiobase, add_activities=True):\n",
    "\n",
    "    path_base = Path('/Users/akim/Documents/LCA_files/')\n",
    "    year = '151617'\n",
    "\n",
    "    directory_habe = path_base / 'HABE_2017/'\n",
    "    fp_ecoinvent_38 = path_base / \"ecoinvent_38_cutoff\" / \"datasets\"\n",
    "    # fp_ecoinvent_38 = \"/Users/cmutel/Documents/lca/Ecoinvent/3.8/cutoff/datasets\"\n",
    "    fp_ecoinvent_33 = path_base / \"ecoinvent_33_cutoff\"/ \"datasets\"\n",
    "    fp_exiobase = path_base / \"exiobase_381_monetary\" / \"IOT_2015_pxp\"\n",
    "    # fp_archetypes = path_base / \"heia\" / \"hh_archetypes_weighted_ipcc_091011.csv\"\n",
    "\n",
    "    ei38_name = \"ecoinvent 3.8 cutoff\"\n",
    "    ex38_name = \"exiobase 3.8.1 monetary\"\n",
    "    co_name = \"swiss consumption 1.0\"\n",
    "\n",
    "    if use_exiobase:\n",
    "        project = \"GSA for archetypes with exiobase\"\n",
    "    else:\n",
    "        project = \"GSA for archetypes\"\n",
    "    bd.projects.set_current(project)\n",
    "\n",
    "    # Import biosphere and ecoinvent databases\n",
    "    if ei38_name not in bd.databases:\n",
    "        bi.bw2setup()\n",
    "        ei = bi.SingleOutputEcospold2Importer(fp_ecoinvent_38, ei38_name)\n",
    "        ei.apply_strategies()\n",
    "        assert ei.all_linked\n",
    "        ei.write_database()\n",
    "\n",
    "    exclude_databases = [\n",
    "        'heia',\n",
    "        'Agribalyse 1.2',\n",
    "        'Agribalyse 1.3 - {}'.format(ei38_name),\n",
    "    ]\n",
    "\n",
    "    # Import exiobase\n",
    "    if use_exiobase:\n",
    "        import_exiobase_3(fp_exiobase, ex38_name)\n",
    "    else:\n",
    "        exclude_databases.append('exiobase 2.2')\n",
    "\n",
    "    # Import consumption database\n",
    "    import_consumption_db(\n",
    "        directory_habe, co_name, year, fp_ecoinvent_33, exclude_databases, fp_exiobase,\n",
    "    )\n",
    "\n",
    "    # Add uncertainties to GWP values\n",
    "    method = (\"IPCC 2013\", \"climate change\", \"GWP 100a\", \"uncertain\")\n",
    "    if method not in bd.methods:\n",
    "        add_bw_method_with_gwp_uncertainties()\n",
    "\n",
    "    # Add functional units\n",
    "    co = bd.Database(co_name)\n",
    "    option = 'aggregated'\n",
    "    if add_activities:\n",
    "        add_consumption_activities(co_name, option=option,)\n",
    "        add_consumption_categories(co_name)\n",
    "        add_consumption_sectors(co_name)\n",
    "        add_archetypes_consumption(co_name)\n",
    "\n",
    "    # LCIA for average consumption\n",
    "    co_average_act_name = 'ch hh average consumption {}'.format(option)\n",
    "    hh_average = [act for act in co if co_average_act_name == act['name']]\n",
    "    assert len(hh_average) == 1\n",
    "    demand_act = hh_average[0]\n",
    "    lca = bc.LCA({demand_act: 1}, method)\n",
    "    lca.lci()\n",
    "    lca.lcia()\n",
    "    print(\"{:8.3f}  {}\".format(lca.score, demand_act['name']))\n",
    "\n",
    "    # LCIA for all Swiss consumption sectors\n",
    "    sectors = sorted([act for act in co if \"sector\" in act['name'].lower()])\n",
    "    for demand_act in sectors:\n",
    "        lca = bc.LCA({demand_act: 1}, method)\n",
    "        lca.lci()\n",
    "        lca.lcia()\n",
    "        print(\"{:8.3f}  {}\".format(lca.score, demand_act['name']))\n",
    "        \n",
    "\n",
    "def plot_archetypes(use_exiobase):\n",
    "    # Add archetypes and compute total yearly scores per archetype\n",
    "    if use_exiobase:\n",
    "        project = \"GSA for archetypes with exiobase\"\n",
    "    else:\n",
    "        project = \"GSA for archetypes\"\n",
    "    bd.projects.set_current(project)\n",
    "    co_name = \"swiss consumption 1.0\"\n",
    "    write_dir = Path(\"write_files\") / project.lower().replace(\" \", \"_\") / \"archetype_scores\"\n",
    "    write_dir.mkdir(parents=True, exist_ok=True)\n",
    "\n",
    "    method = (\"IPCC 2013\", \"climate change\", \"GWP 100a\", \"uncertain\")\n",
    "    fp_archetypes_scores = write_dir / \"monthly_scores.pickle\"\n",
    "    archetypes_scores_monthly = get_archetypes_scores_per_month(co_name, method, fp_archetypes_scores)\n",
    "\n",
    "    # Compare with Andi's results (reproduce Fig. 3 in Andi's data mining paper, top part)\n",
    "    num_months_in_year = 12\n",
    "    archetypes_scores_yearly = {\n",
    "        archetype: score*num_months_in_year for archetype, score in archetypes_scores_monthly.items()\n",
    "    }\n",
    "    fig = plot_archetypes_scores_yearly(archetypes_scores_yearly)\n",
    "#     fig.write_html(write_dir / \"yearly_scores.html\")\n",
    "    fig.write_image(write_dir / \"yearly_scores.pdf\")\n",
    "    fig.show()\n",
    "\n",
    "    # Compare with Andi's contributions per sectors (reproduce Fig. 3 in Andi's data mining paper, bottom part)\n",
    "    fp_archetypes_scores_sectors = write_dir / \"monthly_scores.pickle\"\n",
    "    archetypes_scores_per_sector = get_archetypes_scores_per_sector(co_name, method, write_dir)\n",
    "    fig = plot_archetypes_scores_per_sector(archetypes_scores_per_sector)\n",
    "#     fig.write_html(write_dir / \"sector_scores.html\")\n",
    "    fig.write_image(write_dir / \"sector_scores.pdf\")\n",
    "    fig.show()\n",
    "\n",
    "\n",
    "if __name__ == \"__main__\":\n",
    "\n",
    "    print(\"Impacts WITHOUT exiobase\")\n",
    "    print(\"------------------------\")\n",
    "    use_ex = False\n",
    "    import_all_databases(use_ex, True)\n",
    "#     plot_archetypes(use_ex)\n",
    "\n",
    "#     print(\"\\n\")\n",
    "#     print(\"Impacts WITH exiobase\")\n",
    "#     print(\"---------------------\")\n",
    "#     use_ex = True\n",
    "#     import_all_databases(use_ex, True)\n",
    "#     plot_archetypes(use_ex)\n"
   ]
  },
  {
   "cell_type": "code",
   "execution_count": 5,
   "id": "1355d361-e754-43f6-8bd0-b366c8f7dd13",
   "metadata": {},
   "outputs": [
    {
     "name": "stdout",
     "output_type": "stream",
     "text": [
      "Creating project backup archive - this could take a few minutes...\n",
      "CPU times: user 36.4 s, sys: 959 ms, total: 37.4 s\n",
      "Wall time: 37.9 s\n"
     ]
    }
   ],
   "source": [
    "%%time \n",
    "# Backup GSA project\n",
    "bi.backup_project_directory(\"GSA for archetypes\")\n",
    "# bi.backup_project_directory(\"GSA for archetypes with exiobase\")\n",
    "# # Restore GSA project\n",
    "# fp_gsa_project = path_base / \"brightway2-project-GSA-backup.16-November-2021-11-50AM.tar.gz\"\n",
    "# if project not in bd.projects:\n",
    "#     bi.restore_project_directory(fp_gsa_project)"
   ]
  },
  {
   "cell_type": "code",
   "execution_count": null,
   "id": "f4ebeb37",
   "metadata": {},
   "outputs": [],
   "source": []
  }
 ],
 "metadata": {
  "kernelspec": {
   "display_name": "Python 3 (ipykernel)",
   "language": "python",
   "name": "python3"
  },
  "language_info": {
   "codemirror_mode": {
    "name": "ipython",
    "version": 3
   },
   "file_extension": ".py",
   "mimetype": "text/x-python",
   "name": "python",
   "nbconvert_exporter": "python",
   "pygments_lexer": "ipython3",
   "version": "3.9.7"
  },
  "varInspector": {
   "cols": {
    "lenName": 16,
    "lenType": 16,
    "lenVar": 40
   },
   "kernels_config": {
    "python": {
     "delete_cmd_postfix": "",
     "delete_cmd_prefix": "del ",
     "library": "var_list.py",
     "varRefreshCmd": "print(var_dic_list())"
    },
    "r": {
     "delete_cmd_postfix": ") ",
     "delete_cmd_prefix": "rm(",
     "library": "var_list.r",
     "varRefreshCmd": "cat(var_dic_list()) "
    }
   },
   "types_to_exclude": [
    "module",
    "function",
    "builtin_function_or_method",
    "instance",
    "_Feature"
   ],
   "window_display": false
  }
 },
 "nbformat": 4,
 "nbformat_minor": 5
}
