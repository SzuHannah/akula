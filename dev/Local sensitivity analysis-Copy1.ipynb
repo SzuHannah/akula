{
 "cells": [
  {
   "cell_type": "code",
   "execution_count": 1,
   "id": "79eb6aec",
   "metadata": {},
   "outputs": [],
   "source": [
    "import bw2data as bd\n",
    "import bw2calc as bc\n",
    "import bw_processing as bwp"
   ]
  },
  {
   "cell_type": "code",
   "execution_count": 2,
   "id": "40d7a124-8aa8-49d9-a3fb-a309a3d7aecc",
   "metadata": {},
   "outputs": [],
   "source": [
    "bd.projects.set_current('GSA for archetypes')"
   ]
  },
  {
   "cell_type": "code",
   "execution_count": 3,
   "id": "64f41259",
   "metadata": {},
   "outputs": [
    {
     "data": {
      "text/plain": [
       "Databases dictionary with 3 object(s):\n",
       "\tbiosphere3\n",
       "\tecoinvent 3.8 cutoff\n",
       "\tswiss consumption 1.0"
      ]
     },
     "execution_count": 3,
     "metadata": {},
     "output_type": "execute_result"
    }
   ],
   "source": [
    "bd.databases"
   ]
  },
  {
   "cell_type": "markdown",
   "id": "1cf068c2-20de-41f0-9374-b52082c70617",
   "metadata": {},
   "source": [
    "# Local sensitivity anaysis\n",
    "\n",
    "We want to be able to change one exchange by a constant factor and test the effect on LCA scores.\n",
    "\n",
    "The most efficient way to do this is with an `Interface`, so we don't have to generate many near-identical columns with only one element changing.\n",
    "\n",
    "Our interface will be based on the `ecoinvent` data package, so let's start with that."
   ]
  },
  {
   "cell_type": "code",
   "execution_count": 4,
   "id": "850ec5e8-d977-438c-88f9-2738a7744767",
   "metadata": {},
   "outputs": [
    {
     "data": {
      "text/plain": [
       "<bw_processing.datapackage.Datapackage at 0x103c7f5b0>"
      ]
     },
     "execution_count": 4,
     "metadata": {},
     "output_type": "execute_result"
    }
   ],
   "source": [
    "ei = bd.Database('ecoinvent 3.8 cutoff').datapackage()\n",
    "ei"
   ]
  },
  {
   "cell_type": "markdown",
   "id": "228d07c3-388f-4f13-8215-17f8da2b6df2",
   "metadata": {},
   "source": [
    "datapackages can have multiple resources; we only need the technosphere (for now)"
   ]
  },
  {
   "cell_type": "code",
   "execution_count": 5,
   "id": "6fd57b54-2ecb-4e21-ac73-6ded834d5007",
   "metadata": {},
   "outputs": [],
   "source": [
    "ei = ei.filter_by_attribute('matrix', 'technosphere_matrix')"
   ]
  },
  {
   "cell_type": "code",
   "execution_count": 6,
   "id": "e1cbd34b-4bde-4056-aa0c-e9e115f2432d",
   "metadata": {},
   "outputs": [
    {
     "data": {
      "text/plain": [
       "['ecoinvent_3.8_cutoff_technosphere_matrix.indices',\n",
       " 'ecoinvent_3.8_cutoff_technosphere_matrix.data',\n",
       " 'ecoinvent_3.8_cutoff_technosphere_matrix.distributions',\n",
       " 'ecoinvent_3.8_cutoff_technosphere_matrix.flip']"
      ]
     },
     "execution_count": 6,
     "metadata": {},
     "output_type": "execute_result"
    }
   ],
   "source": [
    "[x['name'] for x in ei.resources]"
   ]
  },
  {
   "cell_type": "markdown",
   "id": "0b52edb4-9dce-4cb5-8213-32375385003b",
   "metadata": {},
   "source": [
    "Construct an `Interface` that iteratively changes every exchange with uncertainty by `factor`."
   ]
  },
  {
   "cell_type": "code",
   "execution_count": 7,
   "id": "1d3715ff-e509-48af-a954-1713d2396f45",
   "metadata": {},
   "outputs": [],
   "source": [
    "class LocalSAInterface:\n",
    "    def __init__(self, indices, data, distributions, factor=10):\n",
    "        self.indices = indices\n",
    "        self.data = data\n",
    "        self.distributions = distributions\n",
    "        self.factor = factor\n",
    "\n",
    "        assert self.indices.shape[0] == self.data.shape[0] == self.distributions.shape[0]\n",
    "        \n",
    "        self.size = len(self.indices)\n",
    "        self.index = None  # To indicate we haven't consumed first value yet\n",
    "        \n",
    "    def __next__(self):\n",
    "        if self.index is None:\n",
    "            self.index = 0\n",
    "        else:\n",
    "            self.index += 1\n",
    "            \n",
    "        while self.distributions[self.index]['uncertainty_type'] < 2: # 0 and 1 are no and unknown uncertainty                             \n",
    "            self.index += 1\n",
    "            if self.index >= self.size:\n",
    "                raise StopIteration\n",
    "\n",
    "        data = self.data.copy()\n",
    "        data[self.index] *= self.factor\n",
    "        return data\n",
    "    \n",
    "    @property\n",
    "    def coordinates(self):\n",
    "        return self.indices[self.index]"
   ]
  },
  {
   "cell_type": "code",
   "execution_count": 8,
   "id": "d4883d7b-7214-4e42-bbbf-14c2fdb68564",
   "metadata": {},
   "outputs": [],
   "source": [
    "tech_interface = LocalSAInterface(\n",
    "    ei.get_resource('ecoinvent_3.8_cutoff_technosphere_matrix.indices')[0],\n",
    "    ei.get_resource('ecoinvent_3.8_cutoff_technosphere_matrix.data')[0],\n",
    "    ei.get_resource('ecoinvent_3.8_cutoff_technosphere_matrix.distributions')[0],\n",
    "    10\n",
    ")"
   ]
  },
  {
   "cell_type": "markdown",
   "id": "ad6e6c89-dc03-49db-9831-d7e5f4de8002",
   "metadata": {},
   "source": [
    "The interface needs to be in a datapackage; we create one in memory."
   ]
  },
  {
   "cell_type": "code",
   "execution_count": 9,
   "id": "96888b7c-3e38-4ea6-9765-b2a92291c85f",
   "metadata": {},
   "outputs": [],
   "source": [
    "dp = bwp.create_datapackage()\n",
    "dp.add_dynamic_vector(\n",
    "    matrix = 'technosphere_matrix',\n",
    "    interface = tech_interface,\n",
    "    indices_array = ei.get_resource('ecoinvent_3.8_cutoff_technosphere_matrix.indices')[0],\n",
    "    flip_array = ei.get_resource('ecoinvent_3.8_cutoff_technosphere_matrix.flip')[0],  # Only needed for technosphere\n",
    ")"
   ]
  },
  {
   "cell_type": "markdown",
   "id": "9c73a6fb-fa32-47ac-a141-22b061fe664e",
   "metadata": {},
   "source": [
    "How do we use this datapackage? We can just append it to the list of datapackages. First, the setup for the static LCA:"
   ]
  },
  {
   "cell_type": "code",
   "execution_count": 10,
   "id": "75f8e5ef-e75c-4ab9-9773-db0bf02220d9",
   "metadata": {},
   "outputs": [],
   "source": [
    "fu = {bd.Database('ecoinvent 3.8 cutoff').random(): 1}"
   ]
  },
  {
   "cell_type": "code",
   "execution_count": 11,
   "id": "fbdae5bc-cad1-4379-a4f7-fa9593b462a7",
   "metadata": {},
   "outputs": [],
   "source": [
    "fu_mapped, packages, _ = bd.prepare_lca_inputs(demand=fu, remapping=False)  # Could also add LCIA method"
   ]
  },
  {
   "cell_type": "code",
   "execution_count": 12,
   "id": "b478a07f-cf54-43d1-82a6-cf9692f26f37",
   "metadata": {},
   "outputs": [],
   "source": [
    "lca = bc.LCA(demand=fu_mapped, data_objs=packages)"
   ]
  },
  {
   "cell_type": "code",
   "execution_count": 13,
   "id": "6519cbc8-1851-4c80-be8f-d65150ec093e",
   "metadata": {},
   "outputs": [
    {
     "data": {
      "text/plain": [
       "13692.361296438652"
      ]
     },
     "execution_count": 13,
     "metadata": {},
     "output_type": "execute_result"
    }
   ],
   "source": [
    "lca.lci()\n",
    "lca.inventory.sum()"
   ]
  },
  {
   "cell_type": "markdown",
   "id": "092948a4-f765-4ae8-9222-7130024a3ffd",
   "metadata": {},
   "source": [
    "And now with our local SA interface:"
   ]
  },
  {
   "cell_type": "code",
   "execution_count": 14,
   "id": "f6233dbf-b014-4560-997c-632aaebb13cd",
   "metadata": {},
   "outputs": [],
   "source": [
    "lca2 = bc.LCA(demand=fu_mapped, data_objs=packages + [dp])"
   ]
  },
  {
   "cell_type": "code",
   "execution_count": null,
   "id": "17ae7fcd-560c-49b7-9e98-03d7bc4a8b53",
   "metadata": {},
   "outputs": [],
   "source": [
    "lca2.lci()"
   ]
  },
  {
   "cell_type": "code",
   "execution_count": null,
   "id": "2c4322f0-0cd2-4bb5-8db0-290166286bbf",
   "metadata": {},
   "outputs": [],
   "source": [
    "for x in range(10):\n",
    "    next(lca2) # Will also do lci and lcia calculation as needed\n",
    "    i, j = tech_interface.coordinates\n",
    "    row, col = lca2.dicts.product[i], lca2.dicts.activity[j]\n",
    "    print(\n",
    "        lca.inventory.sum(), \n",
    "        tech_interface.index, \n",
    "        tech_interface.coordinates, row, col,\n",
    "        lca2.technosphere_matrix[row, col], \n",
    "        lca.technosphere_matrix[row, col] \n",
    "    )\n",
    "    # product = bd.get_activity(id=i)\n",
    "    # activity = bd.get_activity(id=j)\n",
    "    # print(product, activity)"
   ]
  },
  {
   "cell_type": "markdown",
   "id": "62a0643a-deef-4ed1-b88a-e11919deb544",
   "metadata": {},
   "source": [
    "Actually calculating the local SA indices with a LCIA method is left as an exercise for the reader :)"
   ]
  },
  {
   "cell_type": "code",
   "execution_count": null,
   "id": "b5b827c9-ac19-47b5-9967-5d6fc6d3c62d",
   "metadata": {},
   "outputs": [],
   "source": []
  }
 ],
 "metadata": {
  "kernelspec": {
   "display_name": "Python 3 (ipykernel)",
   "language": "python",
   "name": "python3"
  },
  "language_info": {
   "codemirror_mode": {
    "name": "ipython",
    "version": 3
   },
   "file_extension": ".py",
   "mimetype": "text/x-python",
   "name": "python",
   "nbconvert_exporter": "python",
   "pygments_lexer": "ipython3",
   "version": "3.9.7"
  },
  "varInspector": {
   "cols": {
    "lenName": 16,
    "lenType": 16,
    "lenVar": 40
   },
   "kernels_config": {
    "python": {
     "delete_cmd_postfix": "",
     "delete_cmd_prefix": "del ",
     "library": "var_list.py",
     "varRefreshCmd": "print(var_dic_list())"
    },
    "r": {
     "delete_cmd_postfix": ") ",
     "delete_cmd_prefix": "rm(",
     "library": "var_list.r",
     "varRefreshCmd": "cat(var_dic_list()) "
    }
   },
   "types_to_exclude": [
    "module",
    "function",
    "builtin_function_or_method",
    "instance",
    "_Feature"
   ],
   "window_display": false
  }
 },
 "nbformat": 4,
 "nbformat_minor": 5
}
