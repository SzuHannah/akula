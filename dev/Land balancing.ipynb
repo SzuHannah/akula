{
 "cells": [
  {
   "cell_type": "markdown",
   "metadata": {},
   "source": [
    "# Using `bw2landbalancer`\n",
    "\n",
    "Notebook showing typical usage of `bw2landbalancer`"
   ]
  },
  {
   "cell_type": "markdown",
   "metadata": {},
   "source": [
    "## Generating the samples"
   ]
  },
  {
   "cell_type": "markdown",
   "metadata": {},
   "source": [
    "`bw2landbalancer` works with Brightway2. You only need set as current a project in which the database for which you want to balance land transformation exchanges is imported."
   ]
  },
  {
   "cell_type": "code",
   "execution_count": 90,
   "metadata": {},
   "outputs": [
    {
     "data": {
      "text/plain": [
       "1094.9290193609536"
      ]
     },
     "execution_count": 90,
     "metadata": {},
     "output_type": "execute_result"
    }
   ],
   "source": [
    "import bw2data as bd\n",
    "import bw2calc as bc\n",
    "import numpy as np\n",
    "import plotly.graph_objects as go\n",
    "from scipy.stats import lognorm\n",
    "from gsa_framework.utils import read_pickle\n",
    "\n",
    "from bw2landbalancer import ActivityLandBalancer\n",
    "\n",
    "\n",
    "bd.projects.set_current('GSA for archetypes') # Project with ecoinvent 3.6 cut-off by classification already imported\n",
    "ei_name = \"ecoinvent 3.8 cutoff\"\n",
    "ei = bd.Database(ei_name)\n",
    "bio = bd.Database(\"biosphere3\")\n",
    "method = (\"IPCC 2013\", \"climate change\", \"GWP 100a\", \"uncertain\")\n",
    "\n",
    "co = bd.Database('swiss consumption 1.0')\n",
    "fu = [act for act in co if \"average consumption\" in act['name']][0]\n",
    "lca = bc.LCA({fu:1}, method=method)\n",
    "lca.lci()\n",
    "lca.lcia()\n",
    "lca.score"
   ]
  },
  {
   "cell_type": "markdown",
   "metadata": {},
   "source": [
    "The only Class you need is the `DatabaseLandBalancer`:"
   ]
  },
  {
   "cell_type": "code",
   "execution_count": 2,
   "metadata": {},
   "outputs": [],
   "source": [
    "from bw2landbalancer import DatabaseLandBalancer"
   ]
  },
  {
   "cell_type": "markdown",
   "metadata": {},
   "source": [
    "Instantiating the DatabaseLandBalancer will automatically identify land transformation biosphere activities (elementary flows). "
   ]
  },
  {
   "cell_type": "code",
   "execution_count": 3,
   "metadata": {},
   "outputs": [
    {
     "name": "stdout",
     "output_type": "stream",
     "text": [
      "Validating data\n",
      "Getting information on land transformation exchanges\n"
     ]
    }
   ],
   "source": [
    "dlb = DatabaseLandBalancer(\n",
    "    database_name=ei_name,  # name the LCI db in the brightway2 project\n",
    ")"
   ]
  },
  {
   "cell_type": "markdown",
   "metadata": {},
   "source": [
    "Generating presamples for the whole database is a lengthy process. Thankfully, it only ever needs to be done once per database:"
   ]
  },
  {
   "cell_type": "code",
   "execution_count": 4,
   "metadata": {},
   "outputs": [],
   "source": [
    "# %%time\n",
    "# dlb.add_samples_for_all_acts(iterations=2000)"
   ]
  },
  {
   "cell_type": "markdown",
   "metadata": {},
   "source": [
    "The samples and associated indices are stored as attributes: "
   ]
  },
  {
   "cell_type": "code",
   "execution_count": 5,
   "metadata": {},
   "outputs": [],
   "source": [
    "# from gsa_framework.utils import write_pickle\n",
    "# write_pickle(dlb.matrix_samples, \"land_samples_2000.pickle\")"
   ]
  },
  {
   "cell_type": "code",
   "execution_count": 6,
   "metadata": {},
   "outputs": [],
   "source": [
    "# write_pickle(dlb.matrix_indices, \"land_indices_2000.pickle\")"
   ]
  },
  {
   "cell_type": "code",
   "execution_count": 7,
   "metadata": {},
   "outputs": [],
   "source": [
    "matrix_samples = read_pickle(\"land_samples_2000.pickle\")\n",
    "matrix_indices = read_pickle(\"land_indices_2000.pickle\")"
   ]
  },
  {
   "cell_type": "code",
   "execution_count": 8,
   "metadata": {},
   "outputs": [],
   "source": [
    "# dlb.matrix_indices[0:10] # First ten indices"
   ]
  },
  {
   "cell_type": "code",
   "execution_count": 9,
   "metadata": {},
   "outputs": [],
   "source": [
    "indices = lca.biosphere_mm.groups[1].package.get_resource(\"ecoinvent_3.8_cutoff_biosphere_matrix.indices\")[0]\n",
    "data = lca.biosphere_mm.groups[1].package.get_resource(\"ecoinvent_3.8_cutoff_biosphere_matrix.data\")[0]\n",
    "uncertainties = lca.biosphere_mm.groups[1].package.get_resource(\"ecoinvent_3.8_cutoff_biosphere_matrix.distributions\")[0]"
   ]
  },
  {
   "cell_type": "code",
   "execution_count": 77,
   "metadata": {},
   "outputs": [
    {
     "data": {
      "text/plain": [
       "(548, 10650)"
      ]
     },
     "execution_count": 77,
     "metadata": {},
     "output_type": "execute_result"
    }
   ],
   "source": [
    "id_row = bd.get_id(matrix_indices[0][0])\n",
    "id_col = bd.get_id(matrix_indices[0][1])\n",
    "row = lca.dicts.biosphere[id_row]\n",
    "col = lca.dicts.activity[id_col]\n",
    "row, col"
   ]
  },
  {
   "cell_type": "code",
   "execution_count": 92,
   "metadata": {},
   "outputs": [
    {
     "data": {
      "text/plain": [
       "1094.9290193609534"
      ]
     },
     "execution_count": 92,
     "metadata": {},
     "output_type": "execute_result"
    }
   ],
   "source": [
    "from pypardiso import spsolve\n",
    "B = lca.biosphere_matrix\n",
    "B[548, 10650] *= 155\n",
    "imp = lca.characterization_matrix*B* spsolve(lca.technosphere_matrix, lca.demand_array)\n",
    "imp.sum()"
   ]
  },
  {
   "cell_type": "code",
   "execution_count": 93,
   "metadata": {},
   "outputs": [],
   "source": [
    "m = bd.Method(method)"
   ]
  },
  {
   "cell_type": "code",
   "execution_count": 97,
   "metadata": {},
   "outputs": [
    {
     "name": "stdout",
     "output_type": "stream",
     "text": [
      "Carbon dioxide, fossil\n",
      "Carbon dioxide, fossil\n",
      "Carbon dioxide, fossil\n",
      "Carbon dioxide, fossil\n",
      "Carbon dioxide, fossil\n",
      "Carbon dioxide, from soil or biomass stock\n",
      "Carbon dioxide, from soil or biomass stock\n",
      "Carbon dioxide, from soil or biomass stock\n",
      "Carbon dioxide, from soil or biomass stock\n",
      "Carbon dioxide, from soil or biomass stock\n",
      "Carbon dioxide, from soil or biomass stock\n",
      "Carbon dioxide, to soil or biomass stock\n",
      "Carbon dioxide, to soil or biomass stock\n",
      "Carbon dioxide, to soil or biomass stock\n",
      "Carbon dioxide, to soil or biomass stock\n",
      "Carbon monoxide, fossil\n",
      "Carbon monoxide, fossil\n",
      "Carbon monoxide, fossil\n",
      "Carbon monoxide, fossil\n",
      "Carbon monoxide, fossil\n",
      "Carbon monoxide, from soil or biomass stock\n",
      "Carbon monoxide, from soil or biomass stock\n",
      "Carbon monoxide, from soil or biomass stock\n",
      "Carbon monoxide, from soil or biomass stock\n",
      "Carbon monoxide, from soil or biomass stock\n",
      "Carbon monoxide, from soil or biomass stock\n",
      "Carbon monoxide, non-fossil\n",
      "Carbon monoxide, non-fossil\n",
      "Carbon monoxide, non-fossil\n",
      "Carbon monoxide, non-fossil\n",
      "Carbon monoxide, non-fossil\n",
      "Chloroform\n",
      "Chloroform\n",
      "Chloroform\n",
      "Chloroform\n",
      "Chloroform\n",
      "Dinitrogen monoxide\n",
      "Dinitrogen monoxide\n",
      "Dinitrogen monoxide\n",
      "Dinitrogen monoxide\n",
      "Dinitrogen monoxide\n",
      "Ethane, 1,1,1,2-tetrafluoro-, HFC-134a\n",
      "Ethane, 1,1,1,2-tetrafluoro-, HFC-134a\n",
      "Ethane, 1,1,1,2-tetrafluoro-, HFC-134a\n",
      "Ethane, 1,1,1,2-tetrafluoro-, HFC-134a\n",
      "Ethane, 1,1,1,2-tetrafluoro-, HFC-134a\n",
      "Ethane, 1,1,1-trichloro-, HCFC-140\n",
      "Ethane, 1,1,1-trichloro-, HCFC-140\n",
      "Ethane, 1,1,1-trichloro-, HCFC-140\n",
      "Ethane, 1,1,1-trichloro-, HCFC-140\n",
      "Ethane, 1,1,1-trichloro-, HCFC-140\n",
      "Ethane, 1,1,1-trifluoro-, HFC-143a\n",
      "Ethane, 1,1,1-trifluoro-, HFC-143a\n",
      "Ethane, 1,1,1-trifluoro-, HFC-143a\n",
      "Ethane, 1,1,1-trifluoro-, HFC-143a\n",
      "Ethane, 1,1,1-trifluoro-, HFC-143a\n",
      "Ethane, 1,1,2-trichloro-1,2,2-trifluoro-, CFC-113\n",
      "Ethane, 1,1,2-trichloro-1,2,2-trifluoro-, CFC-113\n",
      "Ethane, 1,1,2-trichloro-1,2,2-trifluoro-, CFC-113\n",
      "Ethane, 1,1,2-trichloro-1,2,2-trifluoro-, CFC-113\n",
      "Ethane, 1,1,2-trichloro-1,2,2-trifluoro-, CFC-113\n",
      "Ethane, 1,1-dichloro-1-fluoro-, HCFC-141b\n",
      "Ethane, 1,1-dichloro-1-fluoro-, HCFC-141b\n",
      "Ethane, 1,1-dichloro-1-fluoro-, HCFC-141b\n",
      "Ethane, 1,1-dichloro-1-fluoro-, HCFC-141b\n",
      "Ethane, 1,1-dichloro-1-fluoro-, HCFC-141b\n",
      "Ethane, 1,1-difluoro-, HFC-152a\n",
      "Ethane, 1,1-difluoro-, HFC-152a\n",
      "Ethane, 1,1-difluoro-, HFC-152a\n",
      "Ethane, 1,1-difluoro-, HFC-152a\n",
      "Ethane, 1,1-difluoro-, HFC-152a\n",
      "Ethane, 1,2-dichloro-\n",
      "Ethane, 1,2-dichloro-\n",
      "Ethane, 1,2-dichloro-\n",
      "Ethane, 1,2-dichloro-\n",
      "Ethane, 1,2-dichloro-\n",
      "Ethane, 1,2-dichloro-1,1,2,2-tetrafluoro-, CFC-114\n",
      "Ethane, 1,2-dichloro-1,1,2,2-tetrafluoro-, CFC-114\n",
      "Ethane, 1,2-dichloro-1,1,2,2-tetrafluoro-, CFC-114\n",
      "Ethane, 1,2-dichloro-1,1,2,2-tetrafluoro-, CFC-114\n",
      "Ethane, 1,2-dichloro-1,1,2,2-tetrafluoro-, CFC-114\n",
      "Ethane, 1-chloro-1,1-difluoro-, HCFC-142b\n",
      "Ethane, 1-chloro-1,1-difluoro-, HCFC-142b\n",
      "Ethane, 1-chloro-1,1-difluoro-, HCFC-142b\n",
      "Ethane, 1-chloro-1,1-difluoro-, HCFC-142b\n",
      "Ethane, 1-chloro-1,1-difluoro-, HCFC-142b\n",
      "Ethane, 2,2-dichloro-1,1,1-trifluoro-, HCFC-123\n",
      "Ethane, 2,2-dichloro-1,1,1-trifluoro-, HCFC-123\n",
      "Ethane, 2,2-dichloro-1,1,1-trifluoro-, HCFC-123\n",
      "Ethane, 2,2-dichloro-1,1,1-trifluoro-, HCFC-123\n",
      "Ethane, 2,2-dichloro-1,1,1-trifluoro-, HCFC-123\n",
      "Ethane, 2-chloro-1,1,1,2-tetrafluoro-, HCFC-124\n",
      "Ethane, 2-chloro-1,1,1,2-tetrafluoro-, HCFC-124\n",
      "Ethane, 2-chloro-1,1,1,2-tetrafluoro-, HCFC-124\n",
      "Ethane, 2-chloro-1,1,1,2-tetrafluoro-, HCFC-124\n",
      "Ethane, 2-chloro-1,1,1,2-tetrafluoro-, HCFC-124\n",
      "Ethane, chloropentafluoro-, CFC-115\n",
      "Ethane, chloropentafluoro-, CFC-115\n",
      "Ethane, chloropentafluoro-, CFC-115\n",
      "Ethane, chloropentafluoro-, CFC-115\n",
      "Ethane, chloropentafluoro-, CFC-115\n",
      "Ethane, hexafluoro-, HFC-116\n",
      "Ethane, hexafluoro-, HFC-116\n",
      "Ethane, hexafluoro-, HFC-116\n",
      "Ethane, hexafluoro-, HFC-116\n",
      "Ethane, hexafluoro-, HFC-116\n",
      "Ethane, pentafluoro-, HFC-125\n",
      "Ethane, pentafluoro-, HFC-125\n",
      "Ethane, pentafluoro-, HFC-125\n",
      "Ethane, pentafluoro-, HFC-125\n",
      "Ethane, pentafluoro-, HFC-125\n",
      "Methane\n",
      "Methane, bromo-, Halon 1001\n",
      "Methane, bromo-, Halon 1001\n",
      "Methane, bromo-, Halon 1001\n",
      "Methane, bromo-, Halon 1001\n",
      "Methane, bromo-, Halon 1001\n",
      "Methane, bromochlorodifluoro-, Halon 1211\n",
      "Methane, bromochlorodifluoro-, Halon 1211\n",
      "Methane, bromochlorodifluoro-, Halon 1211\n",
      "Methane, bromochlorodifluoro-, Halon 1211\n",
      "Methane, bromochlorodifluoro-, Halon 1211\n",
      "Methane, bromotrifluoro-, Halon 1301\n",
      "Methane, bromotrifluoro-, Halon 1301\n",
      "Methane, bromotrifluoro-, Halon 1301\n",
      "Methane, bromotrifluoro-, Halon 1301\n",
      "Methane, bromotrifluoro-, Halon 1301\n",
      "Methane, chlorodifluoro-, HCFC-22\n",
      "Methane, chlorodifluoro-, HCFC-22\n",
      "Methane, chlorodifluoro-, HCFC-22\n",
      "Methane, chlorodifluoro-, HCFC-22\n",
      "Methane, chlorodifluoro-, HCFC-22\n",
      "Methane, chlorotrifluoro-, CFC-13\n",
      "Methane, chlorotrifluoro-, CFC-13\n",
      "Methane, chlorotrifluoro-, CFC-13\n",
      "Methane, chlorotrifluoro-, CFC-13\n",
      "Methane, chlorotrifluoro-, CFC-13\n",
      "Methane, dichloro-, HCC-30\n",
      "Methane, dichloro-, HCC-30\n",
      "Methane, dichloro-, HCC-30\n",
      "Methane, dichloro-, HCC-30\n",
      "Methane, dichloro-, HCC-30\n",
      "Methane, dichlorodifluoro-, CFC-12\n",
      "Methane, dichlorodifluoro-, CFC-12\n",
      "Methane, dichlorodifluoro-, CFC-12\n",
      "Methane, dichlorodifluoro-, CFC-12\n",
      "Methane, dichlorodifluoro-, CFC-12\n",
      "Methane, dichlorofluoro-, HCFC-21\n",
      "Methane, dichlorofluoro-, HCFC-21\n",
      "Methane, dichlorofluoro-, HCFC-21\n",
      "Methane, dichlorofluoro-, HCFC-21\n",
      "Methane, dichlorofluoro-, HCFC-21\n",
      "Methane, difluoro-, HFC-32\n",
      "Methane, difluoro-, HFC-32\n",
      "Methane, difluoro-, HFC-32\n",
      "Methane, difluoro-, HFC-32\n",
      "Methane, difluoro-, HFC-32\n",
      "Methane, fossil\n",
      "Methane, fossil\n",
      "Methane, fossil\n",
      "Methane, fossil\n",
      "Methane, fossil\n",
      "Methane, from soil or biomass stock\n",
      "Methane, from soil or biomass stock\n",
      "Methane, from soil or biomass stock\n",
      "Methane, from soil or biomass stock\n",
      "Methane, from soil or biomass stock\n",
      "Methane, from soil or biomass stock\n",
      "Methane, monochloro-, R-40\n",
      "Methane, monochloro-, R-40\n",
      "Methane, monochloro-, R-40\n",
      "Methane, monochloro-, R-40\n",
      "Methane, monochloro-, R-40\n",
      "Methane, non-fossil\n",
      "Methane, non-fossil\n",
      "Methane, non-fossil\n",
      "Methane, non-fossil\n",
      "Methane, non-fossil\n",
      "Methane, tetrachloro-, R-10\n",
      "Methane, tetrachloro-, R-10\n",
      "Methane, tetrachloro-, R-10\n",
      "Methane, tetrachloro-, R-10\n",
      "Methane, tetrachloro-, R-10\n",
      "Methane, tetrafluoro-, R-14\n",
      "Methane, tetrafluoro-, R-14\n",
      "Methane, tetrafluoro-, R-14\n",
      "Methane, tetrafluoro-, R-14\n",
      "Methane, tetrafluoro-, R-14\n",
      "Methane, trichlorofluoro-, CFC-11\n",
      "Methane, trichlorofluoro-, CFC-11\n",
      "Methane, trichlorofluoro-, CFC-11\n",
      "Methane, trichlorofluoro-, CFC-11\n",
      "Methane, trichlorofluoro-, CFC-11\n",
      "Methane, trifluoro-, HFC-23\n",
      "Methane, trifluoro-, HFC-23\n",
      "Methane, trifluoro-, HFC-23\n",
      "Methane, trifluoro-, HFC-23\n",
      "Methane, trifluoro-, HFC-23\n",
      "Nitric oxide\n",
      "Nitrogen fluoride\n",
      "Nitrogen fluoride\n",
      "Nitrogen fluoride\n",
      "Nitrogen fluoride\n",
      "Nitrogen fluoride\n",
      "Perfluoropentane\n",
      "Sulfur hexafluoride\n",
      "Sulfur hexafluoride\n",
      "Sulfur hexafluoride\n",
      "Sulfur hexafluoride\n",
      "Sulfur hexafluoride\n",
      "VOC, volatile organic compounds, unspecified origin\n"
     ]
    }
   ],
   "source": [
    "for exc in m.load():\n",
    "    print(bd.get_activity(exc[0])['name'])"
   ]
  },
  {
   "cell_type": "code",
   "execution_count": null,
   "metadata": {},
   "outputs": [],
   "source": []
  },
  {
   "cell_type": "code",
   "execution_count": null,
   "metadata": {},
   "outputs": [],
   "source": []
  },
  {
   "cell_type": "code",
   "execution_count": 82,
   "metadata": {},
   "outputs": [
    {
     "data": {
      "text/plain": [
       "(array([103454]),)"
      ]
     },
     "execution_count": 82,
     "metadata": {},
     "output_type": "execute_result"
    }
   ],
   "source": [
    "aa = np.array((id_row, id_col), dtype=indices.dtype)\n",
    "np.where(indices==aa)"
   ]
  },
  {
   "cell_type": "code",
   "execution_count": 83,
   "metadata": {},
   "outputs": [
    {
     "data": {
      "text/plain": [
       "0.043478"
      ]
     },
     "execution_count": 83,
     "metadata": {},
     "output_type": "execute_result"
    }
   ],
   "source": [
    "data[103454]"
   ]
  },
  {
   "cell_type": "code",
   "execution_count": null,
   "metadata": {},
   "outputs": [],
   "source": []
  },
  {
   "cell_type": "code",
   "execution_count": null,
   "metadata": {},
   "outputs": [],
   "source": []
  },
  {
   "cell_type": "code",
   "execution_count": null,
   "metadata": {},
   "outputs": [],
   "source": [
    "dist_arr\n",
    "np.where(dist_arr>100000)[0].shape"
   ]
  },
  {
   "cell_type": "code",
   "execution_count": 33,
   "metadata": {
    "scrolled": true
   },
   "outputs": [
    {
     "name": "stdout",
     "output_type": "stream",
     "text": [
      "0/4637\n"
     ]
    }
   ],
   "source": [
    "num_bins=400\n",
    "dist = []\n",
    "len_ = len(matrix_indices)\n",
    "aa = 1532\n",
    "for i, ind in enumerate(matrix_indices[aa:aa+1]):\n",
    "    if i%100==0:\n",
    "        print(f\"{i}/{len_}\")\n",
    "    # Landbalancing samples\n",
    "    Y = matrix_samples[i,:]\n",
    "    bin_min = min(Y)\n",
    "    bin_max = max(Y)\n",
    "    bins_ = np.linspace(bin_min, bin_max, num_bins, endpoint=True)\n",
    "    Y_samples, _ = np.histogram(Y, bins=bins_, density=True)\n",
    "    # Given distribution\n",
    "    row = bd.get_id(ind[0])\n",
    "    col = bd.get_id(ind[1])\n",
    "    row_col = np.array((row,col), dtype=indices.dtype)\n",
    "    where = np.where(indices == row_col)[0][0]\n",
    "    unct = uncertainties[where:where+1]\n",
    "    if unct['uncertainty_type']==2:\n",
    "        num_bins = 60\n",
    "        loc = unct['loc']\n",
    "        scale = unct['scale']  \n",
    "        midbins = (bins_[1:]+bins_[:-1])/2\n",
    "        Y_distr = lognorm.pdf(midbins, s=scale, scale=np.exp(loc))\n",
    "    else:\n",
    "        print(i, unct['uncertainty_type'])\n",
    "    if len(Y_samples)==0:\n",
    "        print(f\"{i} here\")\n",
    "    dist.append(sum((Y_samples-Y_distr)**2)/len(Y_samples))"
   ]
  },
  {
   "cell_type": "code",
   "execution_count": 36,
   "metadata": {},
   "outputs": [
    {
     "data": {
      "text/plain": [
       "(('biosphere3', '2f1e926a-ec96-432b-b2a6-bd5e3de2ff87'),\n",
       " ('ecoinvent 3.8 cutoff', 'f7221f847f32280677ba1bd9a1c90dda'),\n",
       " 'biosphere')"
      ]
     },
     "execution_count": 36,
     "metadata": {},
     "output_type": "execute_result"
    }
   ],
   "source": [
    "ind"
   ]
  },
  {
   "cell_type": "code",
   "execution_count": 38,
   "metadata": {},
   "outputs": [
    {
     "data": {
      "text/plain": [
       "'Transformation, to arable land, unspecified use' (square meter, None, ('natural resource', 'land'))"
      ]
     },
     "execution_count": 38,
     "metadata": {},
     "output_type": "execute_result"
    }
   ],
   "source": [
    "bd.get_activity(('biosphere3', '2f1e926a-ec96-432b-b2a6-bd5e3de2ff87'))"
   ]
  },
  {
   "cell_type": "code",
   "execution_count": 41,
   "metadata": {},
   "outputs": [],
   "source": [
    "t = bd.get_activity(('ecoinvent 3.8 cutoff', 'f7221f847f32280677ba1bd9a1c90dda'))"
   ]
  },
  {
   "cell_type": "code",
   "execution_count": 42,
   "metadata": {},
   "outputs": [
    {
     "data": {
      "text/plain": [
       "[Exchange: 1.82550304055e-05 kilogram 'market for organophosphorus-compound, unspecified' (kilogram, GLO, None) to 'onion production' (kilogram, NZ, None)>,\n",
       " Exchange: 0.00156219174204059 kilogram 'market for potassium sulfate' (kilogram, RoW, None) to 'onion production' (kilogram, NZ, None)>,\n",
       " Exchange: 1.20483200676e-06 kilogram 'market for pyrethroid-compound' (kilogram, GLO, None) to 'onion production' (kilogram, NZ, None)>,\n",
       " Exchange: 1.0 kilogram 'onion production' (kilogram, NZ, None) to 'onion production' (kilogram, NZ, None)>,\n",
       " Exchange: 0.00103666666666872 kilogram 'market for packaging, for pesticides' (kilogram, GLO, None) to 'onion production' (kilogram, NZ, None)>,\n",
       " Exchange: 4.62947571082e-05 kilogram 'market for dinitroaniline-compound' (kilogram, GLO, None) to 'onion production' (kilogram, NZ, None)>,\n",
       " Exchange: 1.37277828649e-05 kilogram 'market for cyclic N-compound' (kilogram, GLO, None) to 'onion production' (kilogram, NZ, None)>,\n",
       " Exchange: 25.1111111111 unit 'market for onion seedling, for planting' (unit, GLO, None) to 'onion production' (kilogram, NZ, None)>,\n",
       " Exchange: 0.009466666666666 kilogram 'market for packaging, for fertilisers' (kilogram, GLO, None) to 'onion production' (kilogram, NZ, None)>,\n",
       " Exchange: 0.00724437777778 cubic meter 'market for irrigation' (cubic meter, RoW, None) to 'onion production' (kilogram, NZ, None)>,\n",
       " Exchange: 0.382 megajoule 'market for diesel, burned in agricultural machinery' (megajoule, GLO, None) to 'onion production' (kilogram, NZ, None)>,\n",
       " Exchange: 0.003 kilogram 'market for inorganic nitrogen fertiliser, as N' (kilogram, NZ, None) to 'onion production' (kilogram, NZ, None)>,\n",
       " Exchange: 0.000438850930949 kilogram 'market for dithiocarbamate-compound' (kilogram, GLO, None) to 'onion production' (kilogram, NZ, None)>,\n",
       " Exchange: 9.22444444444e-06 hectare 'market for land use change, annual crop' (hectare, NZ, None) to 'onion production' (kilogram, NZ, None)>,\n",
       " Exchange: 0.000888888888889 kilogram 'market for inorganic phosphorus fertiliser, as P2O5' (kilogram, NZ, None) to 'onion production' (kilogram, NZ, None)>,\n",
       " Exchange: 0.222222222222 square meter-year 'Occupation, annual crop' (square meter-year, None, ('natural resource', 'land')) to 'onion production' (kilogram, NZ, None)>,\n",
       " Exchange: 0.00539311111111 cubic meter 'Water' (cubic meter, None, ('air', 'non-urban air or from high stacks')) to 'onion production' (kilogram, NZ, None)>,\n",
       " Exchange: 0.00148108888889 cubic meter 'Water' (cubic meter, None, ('water', 'surface water')) to 'onion production' (kilogram, NZ, None)>,\n",
       " Exchange: 0.222222222222 square meter 'Transformation, from arable land, unspecified use' (square meter, None, ('natural resource', 'land')) to 'onion production' (kilogram, NZ, None)>,\n",
       " Exchange: 1.43115555556e-05 kilogram 'Phosphate' (kilogram, None, ('water', 'surface water')) to 'onion production' (kilogram, NZ, None)>,\n",
       " Exchange: 0.000370266666667 cubic meter 'Water' (cubic meter, None, ('water', 'ground-')) to 'onion production' (kilogram, NZ, None)>,\n",
       " Exchange: 0.222222222222 square meter 'Transformation, to arable land, unspecified use' (square meter, None, ('natural resource', 'land')) to 'onion production' (kilogram, NZ, None)>,\n",
       " Exchange: 2.80311111111e-05 kilogram 'Phosphorus' (kilogram, None, ('water', 'surface water')) to 'onion production' (kilogram, NZ, None)>,\n",
       " Exchange: 1.0752444e-07 kilogram 'Cadmium' (kilogram, None, ('soil', 'agricultural')) to 'onion production' (kilogram, NZ, None)>,\n",
       " Exchange: 0.177388888889 kilogram 'Carbon dioxide, in air' (kilogram, None, ('natural resource', 'in air')) to 'onion production' (kilogram, NZ, None)>,\n",
       " Exchange: 0.00958315582169 kilogram 'Nitrate' (kilogram, None, ('water', 'ground-')) to 'onion production' (kilogram, NZ, None)>,\n",
       " Exchange: -3.41095511111e-07 kilogram 'Nickel' (kilogram, None, ('soil', 'agricultural')) to 'onion production' (kilogram, NZ, None)>,\n",
       " Exchange: 2.09531111111 megajoule 'Energy, gross calorific value, in biomass' (megajoule, None, ('natural resource', 'biotic')) to 'onion production' (kilogram, NZ, None)>,\n",
       " Exchange: 4.81844444444e-06 kilogram 'Phosphate' (kilogram, None, ('water', 'ground-')) to 'onion production' (kilogram, NZ, None)>,\n",
       " Exchange: -4.47422155556e-07 kilogram 'Copper' (kilogram, None, ('soil', 'agricultural')) to 'onion production' (kilogram, NZ, None)>,\n",
       " Exchange: 2.02514444444e-07 kilogram 'Chromium' (kilogram, None, ('soil', 'agricultural')) to 'onion production' (kilogram, NZ, None)>,\n",
       " Exchange: 7.70866666667e-09 kilogram 'Cadmium, ion' (kilogram, None, ('water', 'surface water')) to 'onion production' (kilogram, NZ, None)>,\n",
       " Exchange: -8.91655577778e-08 kilogram 'Lead' (kilogram, None, ('soil', 'agricultural')) to 'onion production' (kilogram, NZ, None)>,\n",
       " Exchange: 6.6668382222e-09 kilogram 'Mercury' (kilogram, None, ('soil', 'agricultural')) to 'onion production' (kilogram, NZ, None)>,\n",
       " Exchange: 8.24777777778e-07 kilogram 'Chromium, ion' (kilogram, None, ('water', 'surface water')) to 'onion production' (kilogram, NZ, None)>,\n",
       " Exchange: 4.4871133333e-07 kilogram 'Zinc' (kilogram, None, ('soil', 'agricultural')) to 'onion production' (kilogram, NZ, None)>,\n",
       " Exchange: 1.62334272889e-05 kilogram 'Diazinon' (kilogram, None, ('soil', 'agricultural')) to 'onion production' (kilogram, NZ, None)>,\n",
       " Exchange: 6.89933333333e-07 kilogram 'Copper, ion' (kilogram, None, ('water', 'surface water')) to 'onion production' (kilogram, NZ, None)>,\n",
       " Exchange: 4.11679716044e-05 kilogram 'Pendimethalin' (kilogram, None, ('soil', 'agricultural')) to 'onion production' (kilogram, NZ, None)>,\n",
       " Exchange: 2.44e-07 kilogram 'Lead' (kilogram, None, ('water', 'surface water')) to 'onion production' (kilogram, NZ, None)>,\n",
       " Exchange: 2.14281240213e-05 kilogram 'Ioxynil' (kilogram, None, ('soil', 'agricultural')) to 'onion production' (kilogram, NZ, None)>,\n",
       " Exchange: 2.43355555556e-09 kilogram 'Mercury' (kilogram, None, ('water', 'surface water')) to 'onion production' (kilogram, NZ, None)>,\n",
       " Exchange: 0.000390251592024 kilogram 'Mancozeb' (kilogram, None, ('soil', 'agricultural')) to 'onion production' (kilogram, NZ, None)>,\n",
       " Exchange: 6.428e-07 kilogram 'Nickel, ion' (kilogram, None, ('water', 'surface water')) to 'onion production' (kilogram, NZ, None)>,\n",
       " Exchange: 2.42852072242e-05 kilogram 'Pyrimethanil' (kilogram, None, ('soil', 'agricultural')) to 'onion production' (kilogram, NZ, None)>,\n",
       " Exchange: 1.33802222222e-06 kilogram 'Zinc, ion' (kilogram, None, ('water', 'surface water')) to 'onion production' (kilogram, NZ, None)>,\n",
       " Exchange: 1.22075373212e-05 kilogram 'Dimethomorph' (kilogram, None, ('soil', 'agricultural')) to 'onion production' (kilogram, NZ, None)>,\n",
       " Exchange: 9.90533333333e-10 kilogram 'Cadmium, ion' (kilogram, None, ('water', 'ground-')) to 'onion production' (kilogram, NZ, None)>,\n",
       " Exchange: 1.07140620106e-06 kilogram 'Lambda-cyhalothrin' (kilogram, None, ('soil', 'agricultural')) to 'onion production' (kilogram, NZ, None)>,\n",
       " Exchange: 4.47488888889e-07 kilogram 'Chromium, ion' (kilogram, None, ('water', 'ground-')) to 'onion production' (kilogram, NZ, None)>,\n",
       " Exchange: 1.1688067648e-05 kilogram 'Cymoxanil' (kilogram, None, ('soil', 'agricultural')) to 'onion production' (kilogram, NZ, None)>,\n",
       " Exchange: 7.62155555556e-08 kilogram 'Copper, ion' (kilogram, None, ('water', 'ground-')) to 'onion production' (kilogram, NZ, None)>,\n",
       " Exchange: 0.00478622222222 kilogram 'Ammonia' (kilogram, None, ('air', 'non-urban air or from high stacks')) to 'onion production' (kilogram, NZ, None)>,\n",
       " Exchange: 4.63066666667e-09 kilogram 'Lead' (kilogram, None, ('water', 'ground-')) to 'onion production' (kilogram, NZ, None)>,\n",
       " Exchange: 0.000150757777778 kilogram 'Nitrogen oxides' (kilogram, None, ('air', 'non-urban air or from high stacks')) to 'onion production' (kilogram, NZ, None)>,\n",
       " Exchange: 2.67288888889e-11 kilogram 'Mercury' (kilogram, None, ('water', 'ground-')) to 'onion production' (kilogram, NZ, None)>,\n",
       " Exchange: 9.756180705e-05 kilogram 'Dinitrogen monoxide' (kilogram, None, ('air', 'non-urban air or from high stacks')) to 'onion production' (kilogram, NZ, None)>,\n",
       " Exchange: 5.49066666667e-07 kilogram 'Zinc, ion' (kilogram, None, ('water', 'ground-')) to 'onion production' (kilogram, NZ, None)>]"
      ]
     },
     "execution_count": 42,
     "metadata": {},
     "output_type": "execute_result"
    }
   ],
   "source": [
    "list(t.exchanges())"
   ]
  },
  {
   "cell_type": "code",
   "execution_count": null,
   "metadata": {},
   "outputs": [],
   "source": []
  },
  {
   "cell_type": "code",
   "execution_count": null,
   "metadata": {},
   "outputs": [],
   "source": []
  },
  {
   "cell_type": "code",
   "execution_count": null,
   "metadata": {},
   "outputs": [],
   "source": []
  },
  {
   "cell_type": "code",
   "execution_count": null,
   "metadata": {},
   "outputs": [],
   "source": []
  },
  {
   "cell_type": "code",
   "execution_count": null,
   "metadata": {},
   "outputs": [],
   "source": []
  },
  {
   "cell_type": "code",
   "execution_count": null,
   "metadata": {},
   "outputs": [],
   "source": []
  },
  {
   "cell_type": "code",
   "execution_count": null,
   "metadata": {},
   "outputs": [],
   "source": []
  },
  {
   "cell_type": "code",
   "execution_count": 34,
   "metadata": {},
   "outputs": [
    {
     "data": {
      "application/vnd.plotly.v1+json": {
       "config": {
        "plotlyServerURL": "https://plot.ly"
       },
       "data": [
        {
         "line": {
          "color": "blue"
         },
         "type": "scatter",
         "x": [
          0.010670564802957824,
          0.011131151747071247,
          0.011591738691184673,
          0.012052325635298098,
          0.012512912579411522,
          0.012973499523524945,
          0.01343408646763837,
          0.013894673411751796,
          0.014355260355865219,
          0.014815847299978643,
          0.015276434244092068,
          0.015737021188205493,
          0.016197608132318915,
          0.01665819507643234,
          0.017118782020545766,
          0.01757936896465919,
          0.018039955908772616,
          0.01850054285288604,
          0.018961129796999467,
          0.01942171674111289,
          0.01988230368522631,
          0.020342890629339735,
          0.02080347757345316,
          0.021264064517566586,
          0.02172465146168001,
          0.022185238405793437,
          0.022645825349906862,
          0.023106412294020284,
          0.023566999238133705,
          0.02402758618224713,
          0.024488173126360556,
          0.02494876007047398,
          0.025409347014587406,
          0.02586993395870083,
          0.026330520902814257,
          0.026791107846927682,
          0.027251694791041104,
          0.027712281735154526,
          0.02817286867926795,
          0.028633455623381376,
          0.0290940425674948,
          0.029554629511608227,
          0.030015216455721652,
          0.030475803399835077,
          0.0309363903439485,
          0.03139697728806192,
          0.031857564232175346,
          0.03231815117628877,
          0.0327787381204022,
          0.03323932506451562,
          0.03369991200862905,
          0.03416049895274247,
          0.0346210858968559,
          0.035081672840969316,
          0.03554225978508274,
          0.03600284672919617,
          0.03646343367330959,
          0.03692402061742302,
          0.03738460756153644,
          0.03784519450564987,
          0.03830578144976329,
          0.03876636839387672,
          0.03922695533799014,
          0.03968754228210356,
          0.04014812922621699,
          0.04060871617033041,
          0.04106930311444384,
          0.04152989005855726,
          0.04199047700267069,
          0.042451063946784114,
          0.04291165089089754,
          0.043372237835010964,
          0.04383282477912438,
          0.04429341172323781,
          0.04475399866735123,
          0.04521458561146466,
          0.045675172555578084,
          0.04613575949969151,
          0.046596346443804934,
          0.04705693338791836,
          0.047517520332031785,
          0.04797810727614521,
          0.04843869422025863,
          0.04889928116437205,
          0.04935986810848548,
          0.049820455052598904,
          0.05028104199671233,
          0.050741628940825755,
          0.05120221588493918,
          0.0516628028290526,
          0.05212338977316602,
          0.05258397671727945,
          0.053044563661392874,
          0.0535051506055063,
          0.053965737549619724,
          0.05442632449373315,
          0.054886911437846575,
          0.05534749838196,
          0.055808085326073426,
          0.056268672270186844,
          0.05672925921430027,
          0.057189846158413694,
          0.05765043310252712,
          0.058111020046640545,
          0.05857160699075397,
          0.059032193934867395,
          0.059492780878980814,
          0.05995336782309424,
          0.060413954767207664,
          0.06087454171132109,
          0.061335128655434515,
          0.06179571559954794,
          0.062256302543661365,
          0.06271688948777479,
          0.0631774764318882,
          0.06363806337600164,
          0.06409865032011505,
          0.06455923726422849,
          0.0650198242083419,
          0.06548041115245534,
          0.06594099809656875,
          0.06640158504068219,
          0.0668621719847956,
          0.06732275892890903,
          0.06778334587302245,
          0.06824393281713587,
          0.0687045197612493,
          0.06916510670536272,
          0.06962569364947616,
          0.07008628059358957,
          0.070546867537703,
          0.07100745448181642,
          0.07146804142592986,
          0.07192862837004327,
          0.07238921531415671,
          0.07284980225827012,
          0.07331038920238356,
          0.07377097614649697,
          0.07423156309061041,
          0.07469215003472382,
          0.07515273697883726,
          0.07561332392295067,
          0.07607391086706411,
          0.07653449781117752,
          0.07699508475529096,
          0.07745567169940437,
          0.07791625864351778,
          0.07837684558763122,
          0.07883743253174463,
          0.07929801947585807,
          0.07975860641997148,
          0.08021919336408492,
          0.08067978030819833,
          0.08114036725231177,
          0.08160095419642518,
          0.08206154114053862,
          0.08252212808465204,
          0.08298271502876547,
          0.08344330197287889,
          0.08390388891699233,
          0.08436447586110574,
          0.08482506280521918,
          0.08528564974933259,
          0.085746236693446,
          0.08620682363755944,
          0.08666741058167285,
          0.08712799752578629,
          0.0875885844698997,
          0.08804917141401314,
          0.08850975835812655,
          0.08897034530223999,
          0.0894309322463534,
          0.08989151919046684,
          0.09035210613458025,
          0.09081269307869369,
          0.0912732800228071,
          0.09173386696692054,
          0.09219445391103395,
          0.09265504085514739,
          0.0931156277992608,
          0.09357621474337421,
          0.09403680168748765,
          0.09449738863160106,
          0.0949579755757145,
          0.09541856251982792,
          0.09587914946394135,
          0.09633973640805477,
          0.0968003233521682,
          0.09726091029628162,
          0.09772149724039506,
          0.09818208418450847,
          0.0986426711286219,
          0.09910325807273532,
          0.09956384501684876,
          0.10002443196096217,
          0.10048501890507561,
          0.10094560584918902,
          0.10140619279330243,
          0.10186677973741587,
          0.10232736668152928,
          0.10278795362564272,
          0.10324854056975613,
          0.10370912751386957,
          0.10416971445798298,
          0.10463030140209642,
          0.10509088834620983,
          0.10555147529032327,
          0.10601206223443668,
          0.10647264917855012,
          0.10693323612266353,
          0.10739382306677697,
          0.10785441001089038,
          0.10831499695500382,
          0.10877558389911723,
          0.10923617084323065,
          0.10969675778734408,
          0.1101573447314575,
          0.11061793167557094,
          0.11107851861968435,
          0.11153910556379779,
          0.1119996925079112,
          0.11246027945202464,
          0.11292086639613805,
          0.11338145334025149,
          0.1138420402843649,
          0.11430262722847834,
          0.11476321417259175,
          0.11522380111670519,
          0.1156843880608186,
          0.11614497500493204,
          0.11660556194904545,
          0.11706614889315886,
          0.1175267358372723,
          0.11798732278138571,
          0.11844790972549915,
          0.11890849666961256,
          0.119369083613726,
          0.11982967055783941,
          0.12029025750195285,
          0.12075084444606626,
          0.1212114313901797,
          0.12167201833429311,
          0.12213260527840655,
          0.12259319222251996,
          0.1230537791666334,
          0.12351436611074681,
          0.12397495305486025,
          0.12443553999897367,
          0.12489612694308708,
          0.1253567138872005,
          0.12581730083131393,
          0.12627788777542737,
          0.12673847471954078,
          0.1271990616636542,
          0.12765964860776763,
          0.12812023555188107,
          0.12858082249599448,
          0.1290414094401079,
          0.12950199638422133,
          0.12996258332833477,
          0.13042317027244818,
          0.1308837572165616,
          0.13134434416067503,
          0.13180493110478847,
          0.13226551804890185,
          0.1327261049930153,
          0.13318669193712873,
          0.13364727888124214,
          0.13410786582535555,
          0.134568452769469,
          0.13502903971358243,
          0.13548962665769584,
          0.13595021360180928,
          0.1364108005459227,
          0.13687138749003613,
          0.13733197443414955,
          0.13779256137826296,
          0.1382531483223764,
          0.13871373526648983,
          0.13917432221060325,
          0.13963490915471666,
          0.1400954960988301,
          0.14055608304294354,
          0.14101666998705695,
          0.14147725693117036,
          0.1419378438752838,
          0.14239843081939724,
          0.14285901776351065,
          0.14331960470762406,
          0.1437801916517375,
          0.14424077859585094,
          0.14470136553996432,
          0.14516195248407776,
          0.1456225394281912,
          0.1460831263723046,
          0.14654371331641802,
          0.14700430026053146,
          0.1474648872046449,
          0.1479254741487583,
          0.14838606109287172,
          0.14884664803698516,
          0.1493072349810986,
          0.149767821925212,
          0.15022840886932542,
          0.15068899581343886,
          0.1511495827575523,
          0.15161016970166571,
          0.15207075664577913,
          0.15253134358989257,
          0.15299193053400598,
          0.1534525174781194,
          0.15391310442223283,
          0.15437369136634627,
          0.15483427831045968,
          0.1552948652545731,
          0.15575545219868653,
          0.15621603914279997,
          0.15667662608691338,
          0.1571372130310268,
          0.15759779997514023,
          0.15805838691925367,
          0.15851897386336708,
          0.1589795608074805,
          0.15944014775159393,
          0.15990073469570737,
          0.16036132163982075,
          0.1608219085839342,
          0.16128249552804763,
          0.16174308247216104,
          0.16220366941627445,
          0.1626642563603879,
          0.16312484330450133,
          0.16358543024861474,
          0.16404601719272816,
          0.1645066041368416,
          0.16496719108095503,
          0.16542777802506844,
          0.16588836496918186,
          0.1663489519132953,
          0.16680953885740873,
          0.16727012580152215,
          0.16773071274563556,
          0.168191299689749,
          0.1686518866338624,
          0.16911247357797582,
          0.16957306052208926,
          0.1700336474662027,
          0.1704942344103161,
          0.17095482135442952,
          0.17141540829854296,
          0.1718759952426564,
          0.1723365821867698,
          0.17279716913088322,
          0.17325775607499666,
          0.1737183430191101,
          0.1741789299632235,
          0.17463951690733692,
          0.17510010385145036,
          0.1755606907955638,
          0.17602127773967718,
          0.17648186468379062,
          0.17694245162790406,
          0.17740303857201747,
          0.17786362551613089,
          0.17832421246024432,
          0.17878479940435776,
          0.17924538634847118,
          0.1797059732925846,
          0.18016656023669803,
          0.18062714718081146,
          0.18108773412492488,
          0.1815483210690383,
          0.18200890801315173,
          0.18246949495726517,
          0.18293008190137858,
          0.183390668845492,
          0.18385125578960543,
          0.18431184273371884,
          0.18477242967783225,
          0.1852330166219457,
          0.18569360356605913,
          0.18615419051017254,
          0.18661477745428595,
          0.1870753643983994,
          0.18753595134251283,
          0.18799653828662624,
          0.18845712523073965,
          0.1889177121748531,
          0.18937829911896653,
          0.18983888606307994,
          0.19029947300719335,
          0.1907600599513068,
          0.19122064689542023,
          0.19168123383953362,
          0.19214182078364705,
          0.1926024077277605,
          0.1930629946718739,
          0.19352358161598732,
          0.19398416856010076
         ],
         "y": [
          2.1711427403242625,
          0,
          4.342285480648525,
          0,
          1.0855713701621312,
          0,
          1.0855713701621312,
          1.0855713701621352,
          0,
          3.256714110486406,
          3.2567141104863935,
          4.342285480648525,
          2.171142740324279,
          4.342285480648525,
          11.941285071783442,
          3.2567141104863935,
          5.427856850810655,
          5.427856850810655,
          6.513428220972836,
          6.513428220972787,
          8.684570961297116,
          5.427856850810655,
          7.598999591134918,
          8.68457096129705,
          11.941285071783442,
          13.026856441945574,
          24.968141513729208,
          10.85571370162131,
          13.026856441945672,
          14.112427812107706,
          11.941285071783442,
          16.283570552431968,
          13.026856441945574,
          13.026856441945574,
          18.45471329275623,
          19.540284662918364,
          19.54028466291866,
          20.625856033080492,
          17.3691419225941,
          23.882570143566884,
          10.85571370162131,
          22.796998773404752,
          22.796998773404752,
          22.796998773404752,
          17.369141922594363,
          21.71142740324262,
          28.22485562421541,
          26.053712883891148,
          30.395998364539672,
          19.540284662918364,
          14.112427812107706,
          20.625856033080492,
          18.45471329275623,
          27.13928425405369,
          24.968141513729016,
          21.71142740324262,
          24.968141513729016,
          23.882570143566884,
          23.882570143566884,
          16.283570552431968,
          24.968141513729016,
          13.026856441945771,
          18.45471329275623,
          24.968141513729016,
          22.796998773404752,
          17.3691419225941,
          22.796998773404752,
          20.625856033080492,
          20.625856033080492,
          37.99499795567459,
          26.053712883891148,
          24.968141513729016,
          21.71142740324295,
          21.71142740324262,
          19.540284662918364,
          20.625856033080492,
          16.283570552431968,
          21.71142740324262,
          22.796998773404752,
          33.652712475026064,
          20.625856033080492,
          18.45471329275651,
          16.283570552431968,
          15.197999182269836,
          15.197999182269836,
          17.3691419225941,
          13.026856441945574,
          9.770142331459182,
          18.45471329275623,
          27.13928425405369,
          14.112427812107706,
          14.112427812107706,
          8.68457096129705,
          18.45471329275623,
          14.112427812107706,
          10.85571370162131,
          15.197999182269836,
          11.941285071783442,
          9.77014233145933,
          17.3691419225941,
          11.941285071783442,
          9.770142331459182,
          15.197999182269836,
          10.85571370162131,
          11.941285071783442,
          6.513428220972787,
          15.197999182270065,
          13.026856441945574,
          15.197999182269836,
          6.513428220972787,
          13.026856441945574,
          11.941285071783442,
          10.85571370162131,
          19.54028466291866,
          5.427856850810655,
          8.68457096129705,
          6.513428220972787,
          7.598999591134918,
          8.68457096129705,
          11.941285071783442,
          15.197999182269836,
          6.513428220972787,
          13.026856441945574,
          10.855713701621639,
          11.941285071783442,
          10.85571370162131,
          4.342285480648525,
          10.85571370162131,
          7.598999591134918,
          4.342285480648525,
          5.427856850810655,
          15.197999182269836,
          7.598999591134918,
          5.427856850810655,
          4.342285480648525,
          8.68457096129705,
          1.0855713701621312,
          3.2567141104863935,
          5.427856850810655,
          2.1711427403242625,
          2.1711427403242625,
          4.342285480648525,
          0,
          4.342285480648525,
          7.598999591134918,
          1.0855713701621639,
          4.342285480648525,
          4.342285480648525,
          4.342285480648525,
          4.342285480648525,
          5.427856850810655,
          5.427856850810655,
          5.427856850810655,
          8.68457096129705,
          7.598999591134918,
          2.1711427403242625,
          5.427856850810655,
          6.513428220972787,
          3.2567141104863935,
          3.2567141104863935,
          5.427856850810655,
          5.427856850810655,
          6.513428220972983,
          4.342285480648525,
          0,
          5.427856850810655,
          3.2567141104863935,
          2.1711427403242625,
          2.1711427403242625,
          4.342285480648525,
          2.1711427403242625,
          0,
          3.2567141104863935,
          3.2567141104863935,
          3.2567141104863935,
          1.0855713701621312,
          1.0855713701621312,
          1.0855713701621312,
          4.342285480648525,
          4.3422854806486555,
          1.0855713701621312,
          1.0855713701621312,
          0,
          2.1711427403242625,
          2.1711427403242625,
          2.1711427403242625,
          0,
          3.2567141104863935,
          3.2567141104863935,
          1.0855713701621312,
          1.0855713701621312,
          1.0855713701621312,
          2.1711427403242625,
          2.1711427403242625,
          1.0855713701621312,
          1.0855713701621312,
          0,
          3.2567141104863935,
          0,
          0,
          2.1711427403242625,
          0,
          1.0855713701621312,
          2.1711427403242625,
          1.0855713701621312,
          2.1711427403242625,
          3.2567141104863935,
          0,
          0,
          0,
          3.2567141104863935,
          0,
          0,
          0,
          2.1711427403242625,
          1.0855713701621312,
          0,
          1.0855713701621312,
          1.0855713701621312,
          0,
          1.0855713701621312,
          0,
          0,
          1.0855713701621312,
          0,
          1.0855713701621312,
          0,
          0,
          0,
          0,
          0,
          2.1711427403242625,
          1.0855713701621312,
          0,
          1.0855713701621312,
          0,
          2.1711427403242625,
          0,
          1.0855713701621312,
          0,
          1.0855713701621312,
          1.0855713701621312,
          0,
          1.0855713701621312,
          0,
          0,
          2.1711427403242625,
          2.1711427403243277,
          1.0855713701621312,
          0,
          0,
          0,
          0,
          0,
          1.0855713701620984,
          0,
          0,
          1.0855713701621639,
          2.1711427403241967,
          0,
          0,
          0,
          1.0855713701620984,
          0,
          0,
          1.0855713701620984,
          0,
          1.0855713701620984,
          0,
          1.0855713701620984,
          0,
          0,
          0,
          1.0855713701621639,
          1.0855713701621639,
          0,
          0,
          0,
          0,
          0,
          1.0855713701621639,
          0,
          0,
          0,
          0,
          1.0855713701620984,
          0,
          0,
          0,
          0,
          0,
          0,
          0,
          0,
          0,
          0,
          1.0855713701620984,
          0,
          0,
          0,
          1.0855713701620984,
          0,
          0,
          0,
          0,
          0,
          0,
          0,
          0,
          0,
          0,
          0,
          0,
          0,
          0,
          1.0855713701620984,
          0,
          0,
          0,
          0,
          0,
          0,
          0,
          0,
          0,
          0,
          0,
          0,
          0,
          0,
          0,
          0,
          0,
          0,
          0,
          0,
          0,
          1.0855713701621639,
          0,
          0,
          0,
          0,
          0,
          0,
          1.0855713701621639,
          0,
          0,
          0,
          0,
          0,
          0,
          0,
          0,
          0,
          0,
          0,
          0,
          0,
          0,
          0,
          0,
          0,
          0,
          0,
          0,
          0,
          0,
          0,
          0,
          0,
          0,
          0,
          0,
          0,
          0,
          0,
          0,
          0,
          0,
          0,
          0,
          0,
          0,
          0,
          0,
          0,
          0,
          0,
          0,
          0,
          0,
          0,
          0,
          0,
          0,
          0,
          0,
          0,
          1.0855713701620984
         ]
        },
        {
         "line": {
          "color": "red"
         },
         "type": "scatter",
         "x": [
          0.010670564802957824,
          0.011131151747071247,
          0.011591738691184673,
          0.012052325635298098,
          0.012512912579411522,
          0.012973499523524945,
          0.01343408646763837,
          0.013894673411751796,
          0.014355260355865219,
          0.014815847299978643,
          0.015276434244092068,
          0.015737021188205493,
          0.016197608132318915,
          0.01665819507643234,
          0.017118782020545766,
          0.01757936896465919,
          0.018039955908772616,
          0.01850054285288604,
          0.018961129796999467,
          0.01942171674111289,
          0.01988230368522631,
          0.020342890629339735,
          0.02080347757345316,
          0.021264064517566586,
          0.02172465146168001,
          0.022185238405793437,
          0.022645825349906862,
          0.023106412294020284,
          0.023566999238133705,
          0.02402758618224713,
          0.024488173126360556,
          0.02494876007047398,
          0.025409347014587406,
          0.02586993395870083,
          0.026330520902814257,
          0.026791107846927682,
          0.027251694791041104,
          0.027712281735154526,
          0.02817286867926795,
          0.028633455623381376,
          0.0290940425674948,
          0.029554629511608227,
          0.030015216455721652,
          0.030475803399835077,
          0.0309363903439485,
          0.03139697728806192,
          0.031857564232175346,
          0.03231815117628877,
          0.0327787381204022,
          0.03323932506451562,
          0.03369991200862905,
          0.03416049895274247,
          0.0346210858968559,
          0.035081672840969316,
          0.03554225978508274,
          0.03600284672919617,
          0.03646343367330959,
          0.03692402061742302,
          0.03738460756153644,
          0.03784519450564987,
          0.03830578144976329,
          0.03876636839387672,
          0.03922695533799014,
          0.03968754228210356,
          0.04014812922621699,
          0.04060871617033041,
          0.04106930311444384,
          0.04152989005855726,
          0.04199047700267069,
          0.042451063946784114,
          0.04291165089089754,
          0.043372237835010964,
          0.04383282477912438,
          0.04429341172323781,
          0.04475399866735123,
          0.04521458561146466,
          0.045675172555578084,
          0.04613575949969151,
          0.046596346443804934,
          0.04705693338791836,
          0.047517520332031785,
          0.04797810727614521,
          0.04843869422025863,
          0.04889928116437205,
          0.04935986810848548,
          0.049820455052598904,
          0.05028104199671233,
          0.050741628940825755,
          0.05120221588493918,
          0.0516628028290526,
          0.05212338977316602,
          0.05258397671727945,
          0.053044563661392874,
          0.0535051506055063,
          0.053965737549619724,
          0.05442632449373315,
          0.054886911437846575,
          0.05534749838196,
          0.055808085326073426,
          0.056268672270186844,
          0.05672925921430027,
          0.057189846158413694,
          0.05765043310252712,
          0.058111020046640545,
          0.05857160699075397,
          0.059032193934867395,
          0.059492780878980814,
          0.05995336782309424,
          0.060413954767207664,
          0.06087454171132109,
          0.061335128655434515,
          0.06179571559954794,
          0.062256302543661365,
          0.06271688948777479,
          0.0631774764318882,
          0.06363806337600164,
          0.06409865032011505,
          0.06455923726422849,
          0.0650198242083419,
          0.06548041115245534,
          0.06594099809656875,
          0.06640158504068219,
          0.0668621719847956,
          0.06732275892890903,
          0.06778334587302245,
          0.06824393281713587,
          0.0687045197612493,
          0.06916510670536272,
          0.06962569364947616,
          0.07008628059358957,
          0.070546867537703,
          0.07100745448181642,
          0.07146804142592986,
          0.07192862837004327,
          0.07238921531415671,
          0.07284980225827012,
          0.07331038920238356,
          0.07377097614649697,
          0.07423156309061041,
          0.07469215003472382,
          0.07515273697883726,
          0.07561332392295067,
          0.07607391086706411,
          0.07653449781117752,
          0.07699508475529096,
          0.07745567169940437,
          0.07791625864351778,
          0.07837684558763122,
          0.07883743253174463,
          0.07929801947585807,
          0.07975860641997148,
          0.08021919336408492,
          0.08067978030819833,
          0.08114036725231177,
          0.08160095419642518,
          0.08206154114053862,
          0.08252212808465204,
          0.08298271502876547,
          0.08344330197287889,
          0.08390388891699233,
          0.08436447586110574,
          0.08482506280521918,
          0.08528564974933259,
          0.085746236693446,
          0.08620682363755944,
          0.08666741058167285,
          0.08712799752578629,
          0.0875885844698997,
          0.08804917141401314,
          0.08850975835812655,
          0.08897034530223999,
          0.0894309322463534,
          0.08989151919046684,
          0.09035210613458025,
          0.09081269307869369,
          0.0912732800228071,
          0.09173386696692054,
          0.09219445391103395,
          0.09265504085514739,
          0.0931156277992608,
          0.09357621474337421,
          0.09403680168748765,
          0.09449738863160106,
          0.0949579755757145,
          0.09541856251982792,
          0.09587914946394135,
          0.09633973640805477,
          0.0968003233521682,
          0.09726091029628162,
          0.09772149724039506,
          0.09818208418450847,
          0.0986426711286219,
          0.09910325807273532,
          0.09956384501684876,
          0.10002443196096217,
          0.10048501890507561,
          0.10094560584918902,
          0.10140619279330243,
          0.10186677973741587,
          0.10232736668152928,
          0.10278795362564272,
          0.10324854056975613,
          0.10370912751386957,
          0.10416971445798298,
          0.10463030140209642,
          0.10509088834620983,
          0.10555147529032327,
          0.10601206223443668,
          0.10647264917855012,
          0.10693323612266353,
          0.10739382306677697,
          0.10785441001089038,
          0.10831499695500382,
          0.10877558389911723,
          0.10923617084323065,
          0.10969675778734408,
          0.1101573447314575,
          0.11061793167557094,
          0.11107851861968435,
          0.11153910556379779,
          0.1119996925079112,
          0.11246027945202464,
          0.11292086639613805,
          0.11338145334025149,
          0.1138420402843649,
          0.11430262722847834,
          0.11476321417259175,
          0.11522380111670519,
          0.1156843880608186,
          0.11614497500493204,
          0.11660556194904545,
          0.11706614889315886,
          0.1175267358372723,
          0.11798732278138571,
          0.11844790972549915,
          0.11890849666961256,
          0.119369083613726,
          0.11982967055783941,
          0.12029025750195285,
          0.12075084444606626,
          0.1212114313901797,
          0.12167201833429311,
          0.12213260527840655,
          0.12259319222251996,
          0.1230537791666334,
          0.12351436611074681,
          0.12397495305486025,
          0.12443553999897367,
          0.12489612694308708,
          0.1253567138872005,
          0.12581730083131393,
          0.12627788777542737,
          0.12673847471954078,
          0.1271990616636542,
          0.12765964860776763,
          0.12812023555188107,
          0.12858082249599448,
          0.1290414094401079,
          0.12950199638422133,
          0.12996258332833477,
          0.13042317027244818,
          0.1308837572165616,
          0.13134434416067503,
          0.13180493110478847,
          0.13226551804890185,
          0.1327261049930153,
          0.13318669193712873,
          0.13364727888124214,
          0.13410786582535555,
          0.134568452769469,
          0.13502903971358243,
          0.13548962665769584,
          0.13595021360180928,
          0.1364108005459227,
          0.13687138749003613,
          0.13733197443414955,
          0.13779256137826296,
          0.1382531483223764,
          0.13871373526648983,
          0.13917432221060325,
          0.13963490915471666,
          0.1400954960988301,
          0.14055608304294354,
          0.14101666998705695,
          0.14147725693117036,
          0.1419378438752838,
          0.14239843081939724,
          0.14285901776351065,
          0.14331960470762406,
          0.1437801916517375,
          0.14424077859585094,
          0.14470136553996432,
          0.14516195248407776,
          0.1456225394281912,
          0.1460831263723046,
          0.14654371331641802,
          0.14700430026053146,
          0.1474648872046449,
          0.1479254741487583,
          0.14838606109287172,
          0.14884664803698516,
          0.1493072349810986,
          0.149767821925212,
          0.15022840886932542,
          0.15068899581343886,
          0.1511495827575523,
          0.15161016970166571,
          0.15207075664577913,
          0.15253134358989257,
          0.15299193053400598,
          0.1534525174781194,
          0.15391310442223283,
          0.15437369136634627,
          0.15483427831045968,
          0.1552948652545731,
          0.15575545219868653,
          0.15621603914279997,
          0.15667662608691338,
          0.1571372130310268,
          0.15759779997514023,
          0.15805838691925367,
          0.15851897386336708,
          0.1589795608074805,
          0.15944014775159393,
          0.15990073469570737,
          0.16036132163982075,
          0.1608219085839342,
          0.16128249552804763,
          0.16174308247216104,
          0.16220366941627445,
          0.1626642563603879,
          0.16312484330450133,
          0.16358543024861474,
          0.16404601719272816,
          0.1645066041368416,
          0.16496719108095503,
          0.16542777802506844,
          0.16588836496918186,
          0.1663489519132953,
          0.16680953885740873,
          0.16727012580152215,
          0.16773071274563556,
          0.168191299689749,
          0.1686518866338624,
          0.16911247357797582,
          0.16957306052208926,
          0.1700336474662027,
          0.1704942344103161,
          0.17095482135442952,
          0.17141540829854296,
          0.1718759952426564,
          0.1723365821867698,
          0.17279716913088322,
          0.17325775607499666,
          0.1737183430191101,
          0.1741789299632235,
          0.17463951690733692,
          0.17510010385145036,
          0.1755606907955638,
          0.17602127773967718,
          0.17648186468379062,
          0.17694245162790406,
          0.17740303857201747,
          0.17786362551613089,
          0.17832421246024432,
          0.17878479940435776,
          0.17924538634847118,
          0.1797059732925846,
          0.18016656023669803,
          0.18062714718081146,
          0.18108773412492488,
          0.1815483210690383,
          0.18200890801315173,
          0.18246949495726517,
          0.18293008190137858,
          0.183390668845492,
          0.18385125578960543,
          0.18431184273371884,
          0.18477242967783225,
          0.1852330166219457,
          0.18569360356605913,
          0.18615419051017254,
          0.18661477745428595,
          0.1870753643983994,
          0.18753595134251283,
          0.18799653828662624,
          0.18845712523073965,
          0.1889177121748531,
          0.18937829911896653,
          0.18983888606307994,
          0.19029947300719335,
          0.1907600599513068,
          0.19122064689542023,
          0.19168123383953362,
          0.19214182078364705,
          0.1926024077277605,
          0.1930629946718739,
          0.19352358161598732,
          0.19398416856010076
         ],
         "y": [
          9.462361262309024e-44,
          1.618641480740553e-42,
          2.375790567443494e-41,
          3.032392049698732e-40,
          3.405609904048675e-39,
          3.400596082285677e-38,
          3.0470299028014706e-37,
          2.4702183166005e-36,
          1.825284496523443e-35,
          1.2374742333413237e-34,
          7.743583567351403e-34,
          4.496654002047213e-33,
          2.4350158801437775e-32,
          1.2351215056249023e-31,
          5.892145940482098e-31,
          2.6533974961577173e-30,
          1.1318019616034637e-29,
          4.587031569499839e-29,
          1.7714629788814713e-28,
          6.536125669311151e-28,
          2.3097137519100504e-27,
          7.834800159703603e-27,
          2.5564702919131786e-26,
          8.039755608254437e-26,
          2.4413016265416364e-25,
          7.169849008852865e-25,
          2.039825252542065e-24,
          5.630018507514496e-24,
          1.509589856482101e-23,
          3.9373228148407995e-23,
          1.0001424963021405e-22,
          2.477053890622759e-22,
          5.988060208953109e-22,
          1.4143312917268145e-21,
          3.266949167870672e-21,
          7.38666544438858e-21,
          1.636199406254434e-20,
          3.553469400104507e-20,
          7.572260759497355e-20,
          1.584403641376955e-19,
          3.2573753600795282e-19,
          6.584317146423699e-19,
          1.3093619865623816e-18,
          2.5631062889978014e-18,
          4.941637160603456e-18,
          9.388587795563361e-18,
          1.7586191576703383e-17,
          3.2493173995980667e-17,
          5.924590837033209e-17,
          1.0664942461548412e-16,
          1.8961475202838263e-16,
          3.3309697006077506e-16,
          5.783864840976555e-16,
          9.93050388013041e-16,
          1.6864761139518323e-15,
          2.8339263325272387e-15,
          4.7133972235431365e-15,
          7.761552840296812e-15,
          1.2657818291671613e-14,
          2.0449665562794004e-14,
          3.273763317097078e-14,
          5.194623281817943e-14,
          8.171733085857159e-14,
          1.2747678261788338e-13,
          1.9724424568803306e-13,
          3.0278174192434205e-13,
          4.612106287662671e-13,
          6.972716379616716e-13,
          1.046461620370454e-12,
          1.5593574211384629e-12,
          2.3075366154305076e-12,
          3.3916324395910083e-12,
          4.952223191078068e-12,
          7.184463152440579e-12,
          1.0357622948390835e-11,
          1.4841034388788323e-11,
          2.1138342790050776e-11,
          2.9932475622139923e-11,
          4.2144360181277315e-11,
          5.900918826417824e-11,
          8.21749596816707e-11,
          1.1382917021983251e-10,
          1.5686087924870647e-10,
          2.150670385414007e-10,
          2.9341393343349645e-10,
          3.983669325879516e-10,
          5.383045220625398e-10,
          7.240358786144562e-10,
          9.694450888936425e-10,
          1.2922896255551416e-09,
          1.7151859363444056e-09,
          2.2668210838852587e-09,
          2.9834363964108355e-09,
          3.9106371654316445e-09,
          5.105591675926615e-09,
          6.639693406673453e-09,
          8.601772229129485e-09,
          1.1101954006427618e-08,
          1.4276283299844382e-08,
          1.8292241084725586e-08,
          2.335530862251072e-08,
          2.971675009524335e-08,
          3.768281045143203e-08,
          4.762555130608946e-08,
          5.99955768513488e-08,
          7.533693373302993e-08,
          9.430450389407248e-08,
          1.1768424763253566e-07,
          1.4641669571533763e-07,
          1.816241344631245e-07,
          2.2464197639630948e-07,
          2.770548614103749e-07,
          3.4073808961288786e-07,
          4.179050469659411e-07,
          5.111613487707048e-07,
          6.235664938116714e-07,
          7.587038936224922e-07,
          9.207602167835748e-07,
          1.1146150673179982e-06,
          1.345942098982468e-06,
          1.6213227533748346e-06,
          1.94837389908259e-06,
          2.335890741305245e-06,
          2.7940064661918036e-06,
          3.334370181171537e-06,
          3.9703448114201325e-06,
          4.717226712823478e-06,
          5.592488862874644e-06,
          6.61604959229995e-06,
          7.810568921249878e-06,
          9.201774663956628e-06,
          1.0818820564141963e-05,
          1.2694678819423441e-05,
          1.4866569445716751e-05,
          1.7376429021354325e-05,
          2.027142143447113e-05,
          2.3604493335275896e-05,
          2.7434977066200837e-05,
          3.1829243906711624e-05,
          3.686141052477302e-05,
          4.2614101572719015e-05,
          4.917927140055104e-05,
          5.665908788360949e-05,
          6.516688137313927e-05,
          7.482816177665483e-05,
          8.578170675922861e-05,
          9.818072402616002e-05,
          0.00011219409060096375,
          0.00012800767194962704,
          0.0001458257237218474,
          0.00016587237878180842,
          0.00018839322208452348,
          0.00021365695581821806,
          0.0002419571570783895,
          0.0002736141301645706,
          0.0003089768553964092,
          0.00034842503613108816,
          0.000392371245429562,
          0.0004412631735644107,
          0.0004955859772877789,
          0.0005558647314837905,
          0.0006226669835169672,
          0.0006966054102563068,
          0.0007783405774054211,
          0.0008685838004021363,
          0.0009681001057681143,
          0.0010777112913907625,
          0.0011982990838069506,
          0.0013308083901329918,
          0.0014762506418475201,
          0.0016357072271872331,
          0.0018103330084583578,
          0.0020013599201041984,
          0.002210100642899411,
          0.002437952349169654,
          0.002686400513460117,
          0.0029570227826024088,
          0.0032514928986556208,
          0.0035715846677295453,
          0.003919175967233374,
          0.004296252783639733,
          0.0047049132724063395,
          0.0051473718312658534,
          0.005625963177673844,
          0.006143146420800672,
          0.006701509118068957,
          0.007303771305869896,
          0.007952789493749883,
          0.008651560611036231,
          0.009403225894577105,
          0.010211074706000923,
          0.011078548266663005,
          0.012009243298235028,
          0.01300691555671862,
          0.01407548324751577,
          0.01521903030908191,
          0.016441809552608103,
          0.01774824564514364,
          0.01914293792356457,
          0.020630663026830566,
          0.022216377334047934,
          0.023905219195964517,
          0.02570251094767989,
          0.02761376069053718,
          0.02964466383140036,
          0.0318011043677822,
          0.03408915590759986,
          0.03651508241267699,
          0.03908533865549771,
          0.04180657037913125,
          0.044685614150709235,
          0.04772949689931883,
          0.0509454351297088,
          0.054340833803752334,
          0.05792328488220511,
          0.06170056551991353,
          0.06568063590826416,
          0.06987163675935669,
          0.07428188642705176,
          0.0789198776607917,
          0.08379427398880597,
          0.08891390572809282,
          0.09428776561932346,
          0.09992500408562094,
          0.1058349241149511,
          0.11202697576668712,
          0.11851075030371266,
          0.12529597395227035,
          0.13239250129256602,
          0.13981030828398988,
          0.14755948492961535,
          0.1556502275854841,
          0.16409283092097976,
          0.1728976795374039,
          0.1820752392526787,
          0.1916360480608489,
          0.2015907067758723,
          0.2119498693698799,
          0.22272423301687888,
          0.23392452785352283,
          0.24556150646931088,
          0.2576459331392007,
          0.2701885728122883,
          0.2832001798707779,
          0.2966914866740927,
          0.31067319190345893,
          0.32515594872288633,
          0.34015035277287126,
          0.3556669300136651,
          0.3717161244352981,
          0.388308285651975,
          0.4054536563987592,
          0.4231623599487729,
          0.4414443874694163,
          0.46030958533627847,
          0.4797676424236635,
          0.4998280773907342,
          0.5205002259824261,
          0.5417932283642929,
          0.5637160165105193,
          0.5862773016642857,
          0.6094855618896331,
          0.6333490297338423,
          0.657875680019268,
          0.6830732177833305,
          0.708949066385236,
          0.7355103557976288,
          0.7627639111012732,
          0.7907162412003687,
          0.8193735277758739,
          0.8487416144937859,
          0.8788259964849144,
          0.909631810112263,
          0.9411638230416302,
          0.9734264246305718,
          1.0064236166503269,
          1.0401590043547766,
          1.0746357879099033,
          1.1098567541966509,
          1.1458242689994578,
          1.1825402695921243,
          1.2200062577319788,
          1.2582232930726813,
          1.2971919870053354,
          1.3369124969368307,
          1.3773845210136795,
          1.4186072932988978,
          1.4605795794087335,
          1.503299672615375,
          1.5467653904209293,
          1.5909740716073748,
          1.6359225737663465,
          1.681607271311938,
          1.7280240539788803,
          1.7751683258078774,
          1.8230350046190382,
          1.871618521973603,
          1.920912823623561,
          1.9709113704479697,
          2.021607139874079,
          2.0729926277807356,
          2.1250598508808225,
          2.1778003495788534,
          2.231205191299196,
          2.2852649742797007,
          2.339969831825018,
          2.3953094370131867,
          2.4512730078485228,
          2.507849312853295,
          2.5650266770900667,
          2.6227929886061947,
          2.681135705291277,
          2.740041862138047,
          2.799498078896594,
          2.859490568111499,
          2.9200051435309002,
          2.9810272288762447,
          3.0425418669610202,
          3.1045337291464867,
          3.1669871251219877,
          3.2298860129972553,
          3.293214009693767,
          3.356954401621971,
          3.4210901556309503,
          3.4856039302168904,
          3.5504780869766166,
          3.61569470229218,
          3.6812355792323617,
          3.747082259656935,
          3.8132160365093752,
          3.879617966283576,
          3.946268881650188,
          4.0131494042281375,
          4.080239957486854,
          4.147520779764723,
          4.214971937389412,
          4.282573337885697,
          4.350304743256557,
          4.4181457833232285,
          4.4860759691103205,
          4.554074706261937,
          4.622121308475063,
          4.690195010936589,
          4.75827498375048,
          4.826340345341938,
          4.894370175825406,
          4.962343530323677,
          5.030239452225523,
          5.098036986369442,
          5.165715192141573,
          5.233253156475882,
          5.300630006745171,
          5.3678249235317015,
          5.434817153266463,
          5.501586020726543,
          5.568110941380294,
          5.634371433570379,
          5.700347130525058,
          5.766017792188356,
          5.831363316860373,
          5.896363752638998,
          5.960999308654801,
          6.025250366091356,
          6.08909748898336,
          6.1525214347854735,
          6.215503164705069,
          6.278023853792503,
          6.3400649007828465,
          6.4016079376833845,
          6.462634839101566,
          6.52312773130851,
          6.583069001033406,
          6.642441303984639,
          6.7012275730937185,
          6.759411026478579,
          6.816975175123048,
          6.873903830269665,
          6.930181110523428,
          6.98579144866433,
          7.040719598166905,
          7.094950639425323,
          7.148469985682945,
          7.201263388665486,
          7.253316943917323,
          7.304617095840752,
          7.355150642438321,
          7.404904739758671,
          7.453866906046538,
          7.502025025597907,
          7.549367352321615,
          7.595882513008896,
          7.641559510312608,
          7.686387725438219,
          7.730356920548784,
          7.773457240886466,
          7.815679216613252,
          7.857013764373856,
          7.8974521885839915,
          7.936986182447289
         ]
        }
       ],
       "layout": {
        "template": {
         "data": {
          "bar": [
           {
            "error_x": {
             "color": "#2a3f5f"
            },
            "error_y": {
             "color": "#2a3f5f"
            },
            "marker": {
             "line": {
              "color": "#E5ECF6",
              "width": 0.5
             },
             "pattern": {
              "fillmode": "overlay",
              "size": 10,
              "solidity": 0.2
             }
            },
            "type": "bar"
           }
          ],
          "barpolar": [
           {
            "marker": {
             "line": {
              "color": "#E5ECF6",
              "width": 0.5
             },
             "pattern": {
              "fillmode": "overlay",
              "size": 10,
              "solidity": 0.2
             }
            },
            "type": "barpolar"
           }
          ],
          "carpet": [
           {
            "aaxis": {
             "endlinecolor": "#2a3f5f",
             "gridcolor": "white",
             "linecolor": "white",
             "minorgridcolor": "white",
             "startlinecolor": "#2a3f5f"
            },
            "baxis": {
             "endlinecolor": "#2a3f5f",
             "gridcolor": "white",
             "linecolor": "white",
             "minorgridcolor": "white",
             "startlinecolor": "#2a3f5f"
            },
            "type": "carpet"
           }
          ],
          "choropleth": [
           {
            "colorbar": {
             "outlinewidth": 0,
             "ticks": ""
            },
            "type": "choropleth"
           }
          ],
          "contour": [
           {
            "colorbar": {
             "outlinewidth": 0,
             "ticks": ""
            },
            "colorscale": [
             [
              0,
              "#0d0887"
             ],
             [
              0.1111111111111111,
              "#46039f"
             ],
             [
              0.2222222222222222,
              "#7201a8"
             ],
             [
              0.3333333333333333,
              "#9c179e"
             ],
             [
              0.4444444444444444,
              "#bd3786"
             ],
             [
              0.5555555555555556,
              "#d8576b"
             ],
             [
              0.6666666666666666,
              "#ed7953"
             ],
             [
              0.7777777777777778,
              "#fb9f3a"
             ],
             [
              0.8888888888888888,
              "#fdca26"
             ],
             [
              1,
              "#f0f921"
             ]
            ],
            "type": "contour"
           }
          ],
          "contourcarpet": [
           {
            "colorbar": {
             "outlinewidth": 0,
             "ticks": ""
            },
            "type": "contourcarpet"
           }
          ],
          "heatmap": [
           {
            "colorbar": {
             "outlinewidth": 0,
             "ticks": ""
            },
            "colorscale": [
             [
              0,
              "#0d0887"
             ],
             [
              0.1111111111111111,
              "#46039f"
             ],
             [
              0.2222222222222222,
              "#7201a8"
             ],
             [
              0.3333333333333333,
              "#9c179e"
             ],
             [
              0.4444444444444444,
              "#bd3786"
             ],
             [
              0.5555555555555556,
              "#d8576b"
             ],
             [
              0.6666666666666666,
              "#ed7953"
             ],
             [
              0.7777777777777778,
              "#fb9f3a"
             ],
             [
              0.8888888888888888,
              "#fdca26"
             ],
             [
              1,
              "#f0f921"
             ]
            ],
            "type": "heatmap"
           }
          ],
          "heatmapgl": [
           {
            "colorbar": {
             "outlinewidth": 0,
             "ticks": ""
            },
            "colorscale": [
             [
              0,
              "#0d0887"
             ],
             [
              0.1111111111111111,
              "#46039f"
             ],
             [
              0.2222222222222222,
              "#7201a8"
             ],
             [
              0.3333333333333333,
              "#9c179e"
             ],
             [
              0.4444444444444444,
              "#bd3786"
             ],
             [
              0.5555555555555556,
              "#d8576b"
             ],
             [
              0.6666666666666666,
              "#ed7953"
             ],
             [
              0.7777777777777778,
              "#fb9f3a"
             ],
             [
              0.8888888888888888,
              "#fdca26"
             ],
             [
              1,
              "#f0f921"
             ]
            ],
            "type": "heatmapgl"
           }
          ],
          "histogram": [
           {
            "marker": {
             "pattern": {
              "fillmode": "overlay",
              "size": 10,
              "solidity": 0.2
             }
            },
            "type": "histogram"
           }
          ],
          "histogram2d": [
           {
            "colorbar": {
             "outlinewidth": 0,
             "ticks": ""
            },
            "colorscale": [
             [
              0,
              "#0d0887"
             ],
             [
              0.1111111111111111,
              "#46039f"
             ],
             [
              0.2222222222222222,
              "#7201a8"
             ],
             [
              0.3333333333333333,
              "#9c179e"
             ],
             [
              0.4444444444444444,
              "#bd3786"
             ],
             [
              0.5555555555555556,
              "#d8576b"
             ],
             [
              0.6666666666666666,
              "#ed7953"
             ],
             [
              0.7777777777777778,
              "#fb9f3a"
             ],
             [
              0.8888888888888888,
              "#fdca26"
             ],
             [
              1,
              "#f0f921"
             ]
            ],
            "type": "histogram2d"
           }
          ],
          "histogram2dcontour": [
           {
            "colorbar": {
             "outlinewidth": 0,
             "ticks": ""
            },
            "colorscale": [
             [
              0,
              "#0d0887"
             ],
             [
              0.1111111111111111,
              "#46039f"
             ],
             [
              0.2222222222222222,
              "#7201a8"
             ],
             [
              0.3333333333333333,
              "#9c179e"
             ],
             [
              0.4444444444444444,
              "#bd3786"
             ],
             [
              0.5555555555555556,
              "#d8576b"
             ],
             [
              0.6666666666666666,
              "#ed7953"
             ],
             [
              0.7777777777777778,
              "#fb9f3a"
             ],
             [
              0.8888888888888888,
              "#fdca26"
             ],
             [
              1,
              "#f0f921"
             ]
            ],
            "type": "histogram2dcontour"
           }
          ],
          "mesh3d": [
           {
            "colorbar": {
             "outlinewidth": 0,
             "ticks": ""
            },
            "type": "mesh3d"
           }
          ],
          "parcoords": [
           {
            "line": {
             "colorbar": {
              "outlinewidth": 0,
              "ticks": ""
             }
            },
            "type": "parcoords"
           }
          ],
          "pie": [
           {
            "automargin": true,
            "type": "pie"
           }
          ],
          "scatter": [
           {
            "marker": {
             "colorbar": {
              "outlinewidth": 0,
              "ticks": ""
             }
            },
            "type": "scatter"
           }
          ],
          "scatter3d": [
           {
            "line": {
             "colorbar": {
              "outlinewidth": 0,
              "ticks": ""
             }
            },
            "marker": {
             "colorbar": {
              "outlinewidth": 0,
              "ticks": ""
             }
            },
            "type": "scatter3d"
           }
          ],
          "scattercarpet": [
           {
            "marker": {
             "colorbar": {
              "outlinewidth": 0,
              "ticks": ""
             }
            },
            "type": "scattercarpet"
           }
          ],
          "scattergeo": [
           {
            "marker": {
             "colorbar": {
              "outlinewidth": 0,
              "ticks": ""
             }
            },
            "type": "scattergeo"
           }
          ],
          "scattergl": [
           {
            "marker": {
             "colorbar": {
              "outlinewidth": 0,
              "ticks": ""
             }
            },
            "type": "scattergl"
           }
          ],
          "scattermapbox": [
           {
            "marker": {
             "colorbar": {
              "outlinewidth": 0,
              "ticks": ""
             }
            },
            "type": "scattermapbox"
           }
          ],
          "scatterpolar": [
           {
            "marker": {
             "colorbar": {
              "outlinewidth": 0,
              "ticks": ""
             }
            },
            "type": "scatterpolar"
           }
          ],
          "scatterpolargl": [
           {
            "marker": {
             "colorbar": {
              "outlinewidth": 0,
              "ticks": ""
             }
            },
            "type": "scatterpolargl"
           }
          ],
          "scatterternary": [
           {
            "marker": {
             "colorbar": {
              "outlinewidth": 0,
              "ticks": ""
             }
            },
            "type": "scatterternary"
           }
          ],
          "surface": [
           {
            "colorbar": {
             "outlinewidth": 0,
             "ticks": ""
            },
            "colorscale": [
             [
              0,
              "#0d0887"
             ],
             [
              0.1111111111111111,
              "#46039f"
             ],
             [
              0.2222222222222222,
              "#7201a8"
             ],
             [
              0.3333333333333333,
              "#9c179e"
             ],
             [
              0.4444444444444444,
              "#bd3786"
             ],
             [
              0.5555555555555556,
              "#d8576b"
             ],
             [
              0.6666666666666666,
              "#ed7953"
             ],
             [
              0.7777777777777778,
              "#fb9f3a"
             ],
             [
              0.8888888888888888,
              "#fdca26"
             ],
             [
              1,
              "#f0f921"
             ]
            ],
            "type": "surface"
           }
          ],
          "table": [
           {
            "cells": {
             "fill": {
              "color": "#EBF0F8"
             },
             "line": {
              "color": "white"
             }
            },
            "header": {
             "fill": {
              "color": "#C8D4E3"
             },
             "line": {
              "color": "white"
             }
            },
            "type": "table"
           }
          ]
         },
         "layout": {
          "annotationdefaults": {
           "arrowcolor": "#2a3f5f",
           "arrowhead": 0,
           "arrowwidth": 1
          },
          "autotypenumbers": "strict",
          "coloraxis": {
           "colorbar": {
            "outlinewidth": 0,
            "ticks": ""
           }
          },
          "colorscale": {
           "diverging": [
            [
             0,
             "#8e0152"
            ],
            [
             0.1,
             "#c51b7d"
            ],
            [
             0.2,
             "#de77ae"
            ],
            [
             0.3,
             "#f1b6da"
            ],
            [
             0.4,
             "#fde0ef"
            ],
            [
             0.5,
             "#f7f7f7"
            ],
            [
             0.6,
             "#e6f5d0"
            ],
            [
             0.7,
             "#b8e186"
            ],
            [
             0.8,
             "#7fbc41"
            ],
            [
             0.9,
             "#4d9221"
            ],
            [
             1,
             "#276419"
            ]
           ],
           "sequential": [
            [
             0,
             "#0d0887"
            ],
            [
             0.1111111111111111,
             "#46039f"
            ],
            [
             0.2222222222222222,
             "#7201a8"
            ],
            [
             0.3333333333333333,
             "#9c179e"
            ],
            [
             0.4444444444444444,
             "#bd3786"
            ],
            [
             0.5555555555555556,
             "#d8576b"
            ],
            [
             0.6666666666666666,
             "#ed7953"
            ],
            [
             0.7777777777777778,
             "#fb9f3a"
            ],
            [
             0.8888888888888888,
             "#fdca26"
            ],
            [
             1,
             "#f0f921"
            ]
           ],
           "sequentialminus": [
            [
             0,
             "#0d0887"
            ],
            [
             0.1111111111111111,
             "#46039f"
            ],
            [
             0.2222222222222222,
             "#7201a8"
            ],
            [
             0.3333333333333333,
             "#9c179e"
            ],
            [
             0.4444444444444444,
             "#bd3786"
            ],
            [
             0.5555555555555556,
             "#d8576b"
            ],
            [
             0.6666666666666666,
             "#ed7953"
            ],
            [
             0.7777777777777778,
             "#fb9f3a"
            ],
            [
             0.8888888888888888,
             "#fdca26"
            ],
            [
             1,
             "#f0f921"
            ]
           ]
          },
          "colorway": [
           "#636efa",
           "#EF553B",
           "#00cc96",
           "#ab63fa",
           "#FFA15A",
           "#19d3f3",
           "#FF6692",
           "#B6E880",
           "#FF97FF",
           "#FECB52"
          ],
          "font": {
           "color": "#2a3f5f"
          },
          "geo": {
           "bgcolor": "white",
           "lakecolor": "white",
           "landcolor": "#E5ECF6",
           "showlakes": true,
           "showland": true,
           "subunitcolor": "white"
          },
          "hoverlabel": {
           "align": "left"
          },
          "hovermode": "closest",
          "mapbox": {
           "style": "light"
          },
          "paper_bgcolor": "white",
          "plot_bgcolor": "#E5ECF6",
          "polar": {
           "angularaxis": {
            "gridcolor": "white",
            "linecolor": "white",
            "ticks": ""
           },
           "bgcolor": "#E5ECF6",
           "radialaxis": {
            "gridcolor": "white",
            "linecolor": "white",
            "ticks": ""
           }
          },
          "scene": {
           "xaxis": {
            "backgroundcolor": "#E5ECF6",
            "gridcolor": "white",
            "gridwidth": 2,
            "linecolor": "white",
            "showbackground": true,
            "ticks": "",
            "zerolinecolor": "white"
           },
           "yaxis": {
            "backgroundcolor": "#E5ECF6",
            "gridcolor": "white",
            "gridwidth": 2,
            "linecolor": "white",
            "showbackground": true,
            "ticks": "",
            "zerolinecolor": "white"
           },
           "zaxis": {
            "backgroundcolor": "#E5ECF6",
            "gridcolor": "white",
            "gridwidth": 2,
            "linecolor": "white",
            "showbackground": true,
            "ticks": "",
            "zerolinecolor": "white"
           }
          },
          "shapedefaults": {
           "line": {
            "color": "#2a3f5f"
           }
          },
          "ternary": {
           "aaxis": {
            "gridcolor": "white",
            "linecolor": "white",
            "ticks": ""
           },
           "baxis": {
            "gridcolor": "white",
            "linecolor": "white",
            "ticks": ""
           },
           "bgcolor": "#E5ECF6",
           "caxis": {
            "gridcolor": "white",
            "linecolor": "white",
            "ticks": ""
           }
          },
          "title": {
           "x": 0.05
          },
          "xaxis": {
           "automargin": true,
           "gridcolor": "white",
           "linecolor": "white",
           "ticks": "",
           "title": {
            "standoff": 15
           },
           "zerolinecolor": "white",
           "zerolinewidth": 2
          },
          "yaxis": {
           "automargin": true,
           "gridcolor": "white",
           "linecolor": "white",
           "ticks": "",
           "title": {
            "standoff": 15
           },
           "zerolinecolor": "white",
           "zerolinewidth": 2
          }
         }
        }
       }
      },
      "text/html": [
       "<div>                            <div id=\"dffd7ec3-9993-4d0d-9bd7-217c178bd067\" class=\"plotly-graph-div\" style=\"height:525px; width:100%;\"></div>            <script type=\"text/javascript\">                require([\"plotly\"], function(Plotly) {                    window.PLOTLYENV=window.PLOTLYENV || {};                                    if (document.getElementById(\"dffd7ec3-9993-4d0d-9bd7-217c178bd067\")) {                    Plotly.newPlot(                        \"dffd7ec3-9993-4d0d-9bd7-217c178bd067\",                        [{\"line\":{\"color\":\"blue\"},\"type\":\"scatter\",\"x\":[0.010670564802957824,0.011131151747071247,0.011591738691184673,0.012052325635298098,0.012512912579411522,0.012973499523524945,0.01343408646763837,0.013894673411751796,0.014355260355865219,0.014815847299978643,0.015276434244092068,0.015737021188205493,0.016197608132318915,0.01665819507643234,0.017118782020545766,0.01757936896465919,0.018039955908772616,0.01850054285288604,0.018961129796999467,0.01942171674111289,0.01988230368522631,0.020342890629339735,0.02080347757345316,0.021264064517566586,0.02172465146168001,0.022185238405793437,0.022645825349906862,0.023106412294020284,0.023566999238133705,0.02402758618224713,0.024488173126360556,0.02494876007047398,0.025409347014587406,0.02586993395870083,0.026330520902814257,0.026791107846927682,0.027251694791041104,0.027712281735154526,0.02817286867926795,0.028633455623381376,0.0290940425674948,0.029554629511608227,0.030015216455721652,0.030475803399835077,0.0309363903439485,0.03139697728806192,0.031857564232175346,0.03231815117628877,0.0327787381204022,0.03323932506451562,0.03369991200862905,0.03416049895274247,0.0346210858968559,0.035081672840969316,0.03554225978508274,0.03600284672919617,0.03646343367330959,0.03692402061742302,0.03738460756153644,0.03784519450564987,0.03830578144976329,0.03876636839387672,0.03922695533799014,0.03968754228210356,0.04014812922621699,0.04060871617033041,0.04106930311444384,0.04152989005855726,0.04199047700267069,0.042451063946784114,0.04291165089089754,0.043372237835010964,0.04383282477912438,0.04429341172323781,0.04475399866735123,0.04521458561146466,0.045675172555578084,0.04613575949969151,0.046596346443804934,0.04705693338791836,0.047517520332031785,0.04797810727614521,0.04843869422025863,0.04889928116437205,0.04935986810848548,0.049820455052598904,0.05028104199671233,0.050741628940825755,0.05120221588493918,0.0516628028290526,0.05212338977316602,0.05258397671727945,0.053044563661392874,0.0535051506055063,0.053965737549619724,0.05442632449373315,0.054886911437846575,0.05534749838196,0.055808085326073426,0.056268672270186844,0.05672925921430027,0.057189846158413694,0.05765043310252712,0.058111020046640545,0.05857160699075397,0.059032193934867395,0.059492780878980814,0.05995336782309424,0.060413954767207664,0.06087454171132109,0.061335128655434515,0.06179571559954794,0.062256302543661365,0.06271688948777479,0.0631774764318882,0.06363806337600164,0.06409865032011505,0.06455923726422849,0.0650198242083419,0.06548041115245534,0.06594099809656875,0.06640158504068219,0.0668621719847956,0.06732275892890903,0.06778334587302245,0.06824393281713587,0.0687045197612493,0.06916510670536272,0.06962569364947616,0.07008628059358957,0.070546867537703,0.07100745448181642,0.07146804142592986,0.07192862837004327,0.07238921531415671,0.07284980225827012,0.07331038920238356,0.07377097614649697,0.07423156309061041,0.07469215003472382,0.07515273697883726,0.07561332392295067,0.07607391086706411,0.07653449781117752,0.07699508475529096,0.07745567169940437,0.07791625864351778,0.07837684558763122,0.07883743253174463,0.07929801947585807,0.07975860641997148,0.08021919336408492,0.08067978030819833,0.08114036725231177,0.08160095419642518,0.08206154114053862,0.08252212808465204,0.08298271502876547,0.08344330197287889,0.08390388891699233,0.08436447586110574,0.08482506280521918,0.08528564974933259,0.085746236693446,0.08620682363755944,0.08666741058167285,0.08712799752578629,0.0875885844698997,0.08804917141401314,0.08850975835812655,0.08897034530223999,0.0894309322463534,0.08989151919046684,0.09035210613458025,0.09081269307869369,0.0912732800228071,0.09173386696692054,0.09219445391103395,0.09265504085514739,0.0931156277992608,0.09357621474337421,0.09403680168748765,0.09449738863160106,0.0949579755757145,0.09541856251982792,0.09587914946394135,0.09633973640805477,0.0968003233521682,0.09726091029628162,0.09772149724039506,0.09818208418450847,0.0986426711286219,0.09910325807273532,0.09956384501684876,0.10002443196096217,0.10048501890507561,0.10094560584918902,0.10140619279330243,0.10186677973741587,0.10232736668152928,0.10278795362564272,0.10324854056975613,0.10370912751386957,0.10416971445798298,0.10463030140209642,0.10509088834620983,0.10555147529032327,0.10601206223443668,0.10647264917855012,0.10693323612266353,0.10739382306677697,0.10785441001089038,0.10831499695500382,0.10877558389911723,0.10923617084323065,0.10969675778734408,0.1101573447314575,0.11061793167557094,0.11107851861968435,0.11153910556379779,0.1119996925079112,0.11246027945202464,0.11292086639613805,0.11338145334025149,0.1138420402843649,0.11430262722847834,0.11476321417259175,0.11522380111670519,0.1156843880608186,0.11614497500493204,0.11660556194904545,0.11706614889315886,0.1175267358372723,0.11798732278138571,0.11844790972549915,0.11890849666961256,0.119369083613726,0.11982967055783941,0.12029025750195285,0.12075084444606626,0.1212114313901797,0.12167201833429311,0.12213260527840655,0.12259319222251996,0.1230537791666334,0.12351436611074681,0.12397495305486025,0.12443553999897367,0.12489612694308708,0.1253567138872005,0.12581730083131393,0.12627788777542737,0.12673847471954078,0.1271990616636542,0.12765964860776763,0.12812023555188107,0.12858082249599448,0.1290414094401079,0.12950199638422133,0.12996258332833477,0.13042317027244818,0.1308837572165616,0.13134434416067503,0.13180493110478847,0.13226551804890185,0.1327261049930153,0.13318669193712873,0.13364727888124214,0.13410786582535555,0.134568452769469,0.13502903971358243,0.13548962665769584,0.13595021360180928,0.1364108005459227,0.13687138749003613,0.13733197443414955,0.13779256137826296,0.1382531483223764,0.13871373526648983,0.13917432221060325,0.13963490915471666,0.1400954960988301,0.14055608304294354,0.14101666998705695,0.14147725693117036,0.1419378438752838,0.14239843081939724,0.14285901776351065,0.14331960470762406,0.1437801916517375,0.14424077859585094,0.14470136553996432,0.14516195248407776,0.1456225394281912,0.1460831263723046,0.14654371331641802,0.14700430026053146,0.1474648872046449,0.1479254741487583,0.14838606109287172,0.14884664803698516,0.1493072349810986,0.149767821925212,0.15022840886932542,0.15068899581343886,0.1511495827575523,0.15161016970166571,0.15207075664577913,0.15253134358989257,0.15299193053400598,0.1534525174781194,0.15391310442223283,0.15437369136634627,0.15483427831045968,0.1552948652545731,0.15575545219868653,0.15621603914279997,0.15667662608691338,0.1571372130310268,0.15759779997514023,0.15805838691925367,0.15851897386336708,0.1589795608074805,0.15944014775159393,0.15990073469570737,0.16036132163982075,0.1608219085839342,0.16128249552804763,0.16174308247216104,0.16220366941627445,0.1626642563603879,0.16312484330450133,0.16358543024861474,0.16404601719272816,0.1645066041368416,0.16496719108095503,0.16542777802506844,0.16588836496918186,0.1663489519132953,0.16680953885740873,0.16727012580152215,0.16773071274563556,0.168191299689749,0.1686518866338624,0.16911247357797582,0.16957306052208926,0.1700336474662027,0.1704942344103161,0.17095482135442952,0.17141540829854296,0.1718759952426564,0.1723365821867698,0.17279716913088322,0.17325775607499666,0.1737183430191101,0.1741789299632235,0.17463951690733692,0.17510010385145036,0.1755606907955638,0.17602127773967718,0.17648186468379062,0.17694245162790406,0.17740303857201747,0.17786362551613089,0.17832421246024432,0.17878479940435776,0.17924538634847118,0.1797059732925846,0.18016656023669803,0.18062714718081146,0.18108773412492488,0.1815483210690383,0.18200890801315173,0.18246949495726517,0.18293008190137858,0.183390668845492,0.18385125578960543,0.18431184273371884,0.18477242967783225,0.1852330166219457,0.18569360356605913,0.18615419051017254,0.18661477745428595,0.1870753643983994,0.18753595134251283,0.18799653828662624,0.18845712523073965,0.1889177121748531,0.18937829911896653,0.18983888606307994,0.19029947300719335,0.1907600599513068,0.19122064689542023,0.19168123383953362,0.19214182078364705,0.1926024077277605,0.1930629946718739,0.19352358161598732,0.19398416856010076],\"y\":[2.1711427403242625,0.0,4.342285480648525,0.0,1.0855713701621312,0.0,1.0855713701621312,1.0855713701621352,0.0,3.256714110486406,3.2567141104863935,4.342285480648525,2.171142740324279,4.342285480648525,11.941285071783442,3.2567141104863935,5.427856850810655,5.427856850810655,6.513428220972836,6.513428220972787,8.684570961297116,5.427856850810655,7.598999591134918,8.68457096129705,11.941285071783442,13.026856441945574,24.968141513729208,10.85571370162131,13.026856441945672,14.112427812107706,11.941285071783442,16.283570552431968,13.026856441945574,13.026856441945574,18.45471329275623,19.540284662918364,19.54028466291866,20.625856033080492,17.3691419225941,23.882570143566884,10.85571370162131,22.796998773404752,22.796998773404752,22.796998773404752,17.369141922594363,21.71142740324262,28.22485562421541,26.053712883891148,30.395998364539672,19.540284662918364,14.112427812107706,20.625856033080492,18.45471329275623,27.13928425405369,24.968141513729016,21.71142740324262,24.968141513729016,23.882570143566884,23.882570143566884,16.283570552431968,24.968141513729016,13.026856441945771,18.45471329275623,24.968141513729016,22.796998773404752,17.3691419225941,22.796998773404752,20.625856033080492,20.625856033080492,37.99499795567459,26.053712883891148,24.968141513729016,21.71142740324295,21.71142740324262,19.540284662918364,20.625856033080492,16.283570552431968,21.71142740324262,22.796998773404752,33.652712475026064,20.625856033080492,18.45471329275651,16.283570552431968,15.197999182269836,15.197999182269836,17.3691419225941,13.026856441945574,9.770142331459182,18.45471329275623,27.13928425405369,14.112427812107706,14.112427812107706,8.68457096129705,18.45471329275623,14.112427812107706,10.85571370162131,15.197999182269836,11.941285071783442,9.77014233145933,17.3691419225941,11.941285071783442,9.770142331459182,15.197999182269836,10.85571370162131,11.941285071783442,6.513428220972787,15.197999182270065,13.026856441945574,15.197999182269836,6.513428220972787,13.026856441945574,11.941285071783442,10.85571370162131,19.54028466291866,5.427856850810655,8.68457096129705,6.513428220972787,7.598999591134918,8.68457096129705,11.941285071783442,15.197999182269836,6.513428220972787,13.026856441945574,10.855713701621639,11.941285071783442,10.85571370162131,4.342285480648525,10.85571370162131,7.598999591134918,4.342285480648525,5.427856850810655,15.197999182269836,7.598999591134918,5.427856850810655,4.342285480648525,8.68457096129705,1.0855713701621312,3.2567141104863935,5.427856850810655,2.1711427403242625,2.1711427403242625,4.342285480648525,0.0,4.342285480648525,7.598999591134918,1.0855713701621639,4.342285480648525,4.342285480648525,4.342285480648525,4.342285480648525,5.427856850810655,5.427856850810655,5.427856850810655,8.68457096129705,7.598999591134918,2.1711427403242625,5.427856850810655,6.513428220972787,3.2567141104863935,3.2567141104863935,5.427856850810655,5.427856850810655,6.513428220972983,4.342285480648525,0.0,5.427856850810655,3.2567141104863935,2.1711427403242625,2.1711427403242625,4.342285480648525,2.1711427403242625,0.0,3.2567141104863935,3.2567141104863935,3.2567141104863935,1.0855713701621312,1.0855713701621312,1.0855713701621312,4.342285480648525,4.3422854806486555,1.0855713701621312,1.0855713701621312,0.0,2.1711427403242625,2.1711427403242625,2.1711427403242625,0.0,3.2567141104863935,3.2567141104863935,1.0855713701621312,1.0855713701621312,1.0855713701621312,2.1711427403242625,2.1711427403242625,1.0855713701621312,1.0855713701621312,0.0,3.2567141104863935,0.0,0.0,2.1711427403242625,0.0,1.0855713701621312,2.1711427403242625,1.0855713701621312,2.1711427403242625,3.2567141104863935,0.0,0.0,0.0,3.2567141104863935,0.0,0.0,0.0,2.1711427403242625,1.0855713701621312,0.0,1.0855713701621312,1.0855713701621312,0.0,1.0855713701621312,0.0,0.0,1.0855713701621312,0.0,1.0855713701621312,0.0,0.0,0.0,0.0,0.0,2.1711427403242625,1.0855713701621312,0.0,1.0855713701621312,0.0,2.1711427403242625,0.0,1.0855713701621312,0.0,1.0855713701621312,1.0855713701621312,0.0,1.0855713701621312,0.0,0.0,2.1711427403242625,2.1711427403243277,1.0855713701621312,0.0,0.0,0.0,0.0,0.0,1.0855713701620984,0.0,0.0,1.0855713701621639,2.1711427403241967,0.0,0.0,0.0,1.0855713701620984,0.0,0.0,1.0855713701620984,0.0,1.0855713701620984,0.0,1.0855713701620984,0.0,0.0,0.0,1.0855713701621639,1.0855713701621639,0.0,0.0,0.0,0.0,0.0,1.0855713701621639,0.0,0.0,0.0,0.0,1.0855713701620984,0.0,0.0,0.0,0.0,0.0,0.0,0.0,0.0,0.0,0.0,1.0855713701620984,0.0,0.0,0.0,1.0855713701620984,0.0,0.0,0.0,0.0,0.0,0.0,0.0,0.0,0.0,0.0,0.0,0.0,0.0,0.0,1.0855713701620984,0.0,0.0,0.0,0.0,0.0,0.0,0.0,0.0,0.0,0.0,0.0,0.0,0.0,0.0,0.0,0.0,0.0,0.0,0.0,0.0,0.0,1.0855713701621639,0.0,0.0,0.0,0.0,0.0,0.0,1.0855713701621639,0.0,0.0,0.0,0.0,0.0,0.0,0.0,0.0,0.0,0.0,0.0,0.0,0.0,0.0,0.0,0.0,0.0,0.0,0.0,0.0,0.0,0.0,0.0,0.0,0.0,0.0,0.0,0.0,0.0,0.0,0.0,0.0,0.0,0.0,0.0,0.0,0.0,0.0,0.0,0.0,0.0,0.0,0.0,0.0,0.0,0.0,0.0,0.0,0.0,0.0,0.0,0.0,0.0,1.0855713701620984]},{\"line\":{\"color\":\"red\"},\"type\":\"scatter\",\"x\":[0.010670564802957824,0.011131151747071247,0.011591738691184673,0.012052325635298098,0.012512912579411522,0.012973499523524945,0.01343408646763837,0.013894673411751796,0.014355260355865219,0.014815847299978643,0.015276434244092068,0.015737021188205493,0.016197608132318915,0.01665819507643234,0.017118782020545766,0.01757936896465919,0.018039955908772616,0.01850054285288604,0.018961129796999467,0.01942171674111289,0.01988230368522631,0.020342890629339735,0.02080347757345316,0.021264064517566586,0.02172465146168001,0.022185238405793437,0.022645825349906862,0.023106412294020284,0.023566999238133705,0.02402758618224713,0.024488173126360556,0.02494876007047398,0.025409347014587406,0.02586993395870083,0.026330520902814257,0.026791107846927682,0.027251694791041104,0.027712281735154526,0.02817286867926795,0.028633455623381376,0.0290940425674948,0.029554629511608227,0.030015216455721652,0.030475803399835077,0.0309363903439485,0.03139697728806192,0.031857564232175346,0.03231815117628877,0.0327787381204022,0.03323932506451562,0.03369991200862905,0.03416049895274247,0.0346210858968559,0.035081672840969316,0.03554225978508274,0.03600284672919617,0.03646343367330959,0.03692402061742302,0.03738460756153644,0.03784519450564987,0.03830578144976329,0.03876636839387672,0.03922695533799014,0.03968754228210356,0.04014812922621699,0.04060871617033041,0.04106930311444384,0.04152989005855726,0.04199047700267069,0.042451063946784114,0.04291165089089754,0.043372237835010964,0.04383282477912438,0.04429341172323781,0.04475399866735123,0.04521458561146466,0.045675172555578084,0.04613575949969151,0.046596346443804934,0.04705693338791836,0.047517520332031785,0.04797810727614521,0.04843869422025863,0.04889928116437205,0.04935986810848548,0.049820455052598904,0.05028104199671233,0.050741628940825755,0.05120221588493918,0.0516628028290526,0.05212338977316602,0.05258397671727945,0.053044563661392874,0.0535051506055063,0.053965737549619724,0.05442632449373315,0.054886911437846575,0.05534749838196,0.055808085326073426,0.056268672270186844,0.05672925921430027,0.057189846158413694,0.05765043310252712,0.058111020046640545,0.05857160699075397,0.059032193934867395,0.059492780878980814,0.05995336782309424,0.060413954767207664,0.06087454171132109,0.061335128655434515,0.06179571559954794,0.062256302543661365,0.06271688948777479,0.0631774764318882,0.06363806337600164,0.06409865032011505,0.06455923726422849,0.0650198242083419,0.06548041115245534,0.06594099809656875,0.06640158504068219,0.0668621719847956,0.06732275892890903,0.06778334587302245,0.06824393281713587,0.0687045197612493,0.06916510670536272,0.06962569364947616,0.07008628059358957,0.070546867537703,0.07100745448181642,0.07146804142592986,0.07192862837004327,0.07238921531415671,0.07284980225827012,0.07331038920238356,0.07377097614649697,0.07423156309061041,0.07469215003472382,0.07515273697883726,0.07561332392295067,0.07607391086706411,0.07653449781117752,0.07699508475529096,0.07745567169940437,0.07791625864351778,0.07837684558763122,0.07883743253174463,0.07929801947585807,0.07975860641997148,0.08021919336408492,0.08067978030819833,0.08114036725231177,0.08160095419642518,0.08206154114053862,0.08252212808465204,0.08298271502876547,0.08344330197287889,0.08390388891699233,0.08436447586110574,0.08482506280521918,0.08528564974933259,0.085746236693446,0.08620682363755944,0.08666741058167285,0.08712799752578629,0.0875885844698997,0.08804917141401314,0.08850975835812655,0.08897034530223999,0.0894309322463534,0.08989151919046684,0.09035210613458025,0.09081269307869369,0.0912732800228071,0.09173386696692054,0.09219445391103395,0.09265504085514739,0.0931156277992608,0.09357621474337421,0.09403680168748765,0.09449738863160106,0.0949579755757145,0.09541856251982792,0.09587914946394135,0.09633973640805477,0.0968003233521682,0.09726091029628162,0.09772149724039506,0.09818208418450847,0.0986426711286219,0.09910325807273532,0.09956384501684876,0.10002443196096217,0.10048501890507561,0.10094560584918902,0.10140619279330243,0.10186677973741587,0.10232736668152928,0.10278795362564272,0.10324854056975613,0.10370912751386957,0.10416971445798298,0.10463030140209642,0.10509088834620983,0.10555147529032327,0.10601206223443668,0.10647264917855012,0.10693323612266353,0.10739382306677697,0.10785441001089038,0.10831499695500382,0.10877558389911723,0.10923617084323065,0.10969675778734408,0.1101573447314575,0.11061793167557094,0.11107851861968435,0.11153910556379779,0.1119996925079112,0.11246027945202464,0.11292086639613805,0.11338145334025149,0.1138420402843649,0.11430262722847834,0.11476321417259175,0.11522380111670519,0.1156843880608186,0.11614497500493204,0.11660556194904545,0.11706614889315886,0.1175267358372723,0.11798732278138571,0.11844790972549915,0.11890849666961256,0.119369083613726,0.11982967055783941,0.12029025750195285,0.12075084444606626,0.1212114313901797,0.12167201833429311,0.12213260527840655,0.12259319222251996,0.1230537791666334,0.12351436611074681,0.12397495305486025,0.12443553999897367,0.12489612694308708,0.1253567138872005,0.12581730083131393,0.12627788777542737,0.12673847471954078,0.1271990616636542,0.12765964860776763,0.12812023555188107,0.12858082249599448,0.1290414094401079,0.12950199638422133,0.12996258332833477,0.13042317027244818,0.1308837572165616,0.13134434416067503,0.13180493110478847,0.13226551804890185,0.1327261049930153,0.13318669193712873,0.13364727888124214,0.13410786582535555,0.134568452769469,0.13502903971358243,0.13548962665769584,0.13595021360180928,0.1364108005459227,0.13687138749003613,0.13733197443414955,0.13779256137826296,0.1382531483223764,0.13871373526648983,0.13917432221060325,0.13963490915471666,0.1400954960988301,0.14055608304294354,0.14101666998705695,0.14147725693117036,0.1419378438752838,0.14239843081939724,0.14285901776351065,0.14331960470762406,0.1437801916517375,0.14424077859585094,0.14470136553996432,0.14516195248407776,0.1456225394281912,0.1460831263723046,0.14654371331641802,0.14700430026053146,0.1474648872046449,0.1479254741487583,0.14838606109287172,0.14884664803698516,0.1493072349810986,0.149767821925212,0.15022840886932542,0.15068899581343886,0.1511495827575523,0.15161016970166571,0.15207075664577913,0.15253134358989257,0.15299193053400598,0.1534525174781194,0.15391310442223283,0.15437369136634627,0.15483427831045968,0.1552948652545731,0.15575545219868653,0.15621603914279997,0.15667662608691338,0.1571372130310268,0.15759779997514023,0.15805838691925367,0.15851897386336708,0.1589795608074805,0.15944014775159393,0.15990073469570737,0.16036132163982075,0.1608219085839342,0.16128249552804763,0.16174308247216104,0.16220366941627445,0.1626642563603879,0.16312484330450133,0.16358543024861474,0.16404601719272816,0.1645066041368416,0.16496719108095503,0.16542777802506844,0.16588836496918186,0.1663489519132953,0.16680953885740873,0.16727012580152215,0.16773071274563556,0.168191299689749,0.1686518866338624,0.16911247357797582,0.16957306052208926,0.1700336474662027,0.1704942344103161,0.17095482135442952,0.17141540829854296,0.1718759952426564,0.1723365821867698,0.17279716913088322,0.17325775607499666,0.1737183430191101,0.1741789299632235,0.17463951690733692,0.17510010385145036,0.1755606907955638,0.17602127773967718,0.17648186468379062,0.17694245162790406,0.17740303857201747,0.17786362551613089,0.17832421246024432,0.17878479940435776,0.17924538634847118,0.1797059732925846,0.18016656023669803,0.18062714718081146,0.18108773412492488,0.1815483210690383,0.18200890801315173,0.18246949495726517,0.18293008190137858,0.183390668845492,0.18385125578960543,0.18431184273371884,0.18477242967783225,0.1852330166219457,0.18569360356605913,0.18615419051017254,0.18661477745428595,0.1870753643983994,0.18753595134251283,0.18799653828662624,0.18845712523073965,0.1889177121748531,0.18937829911896653,0.18983888606307994,0.19029947300719335,0.1907600599513068,0.19122064689542023,0.19168123383953362,0.19214182078364705,0.1926024077277605,0.1930629946718739,0.19352358161598732,0.19398416856010076],\"y\":[9.462361262309024e-44,1.618641480740553e-42,2.375790567443494e-41,3.032392049698732e-40,3.405609904048675e-39,3.400596082285677e-38,3.0470299028014706e-37,2.4702183166005e-36,1.825284496523443e-35,1.2374742333413237e-34,7.743583567351403e-34,4.496654002047213e-33,2.4350158801437775e-32,1.2351215056249023e-31,5.892145940482098e-31,2.6533974961577173e-30,1.1318019616034637e-29,4.587031569499839e-29,1.7714629788814713e-28,6.536125669311151e-28,2.3097137519100504e-27,7.834800159703603e-27,2.5564702919131786e-26,8.039755608254437e-26,2.4413016265416364e-25,7.169849008852865e-25,2.039825252542065e-24,5.630018507514496e-24,1.509589856482101e-23,3.9373228148407995e-23,1.0001424963021405e-22,2.477053890622759e-22,5.988060208953109e-22,1.4143312917268145e-21,3.266949167870672e-21,7.38666544438858e-21,1.636199406254434e-20,3.553469400104507e-20,7.572260759497355e-20,1.584403641376955e-19,3.2573753600795282e-19,6.584317146423699e-19,1.3093619865623816e-18,2.5631062889978014e-18,4.941637160603456e-18,9.388587795563361e-18,1.7586191576703383e-17,3.2493173995980667e-17,5.924590837033209e-17,1.0664942461548412e-16,1.8961475202838263e-16,3.3309697006077506e-16,5.783864840976555e-16,9.93050388013041e-16,1.6864761139518323e-15,2.8339263325272387e-15,4.7133972235431365e-15,7.761552840296812e-15,1.2657818291671613e-14,2.0449665562794004e-14,3.273763317097078e-14,5.194623281817943e-14,8.171733085857159e-14,1.2747678261788338e-13,1.9724424568803306e-13,3.0278174192434205e-13,4.612106287662671e-13,6.972716379616716e-13,1.046461620370454e-12,1.5593574211384629e-12,2.3075366154305076e-12,3.3916324395910083e-12,4.952223191078068e-12,7.184463152440579e-12,1.0357622948390835e-11,1.4841034388788323e-11,2.1138342790050776e-11,2.9932475622139923e-11,4.2144360181277315e-11,5.900918826417824e-11,8.21749596816707e-11,1.1382917021983251e-10,1.5686087924870647e-10,2.150670385414007e-10,2.9341393343349645e-10,3.983669325879516e-10,5.383045220625398e-10,7.240358786144562e-10,9.694450888936425e-10,1.2922896255551416e-09,1.7151859363444056e-09,2.2668210838852587e-09,2.9834363964108355e-09,3.9106371654316445e-09,5.105591675926615e-09,6.639693406673453e-09,8.601772229129485e-09,1.1101954006427618e-08,1.4276283299844382e-08,1.8292241084725586e-08,2.335530862251072e-08,2.971675009524335e-08,3.768281045143203e-08,4.762555130608946e-08,5.99955768513488e-08,7.533693373302993e-08,9.430450389407248e-08,1.1768424763253566e-07,1.4641669571533763e-07,1.816241344631245e-07,2.2464197639630948e-07,2.770548614103749e-07,3.4073808961288786e-07,4.179050469659411e-07,5.111613487707048e-07,6.235664938116714e-07,7.587038936224922e-07,9.207602167835748e-07,1.1146150673179982e-06,1.345942098982468e-06,1.6213227533748346e-06,1.94837389908259e-06,2.335890741305245e-06,2.7940064661918036e-06,3.334370181171537e-06,3.9703448114201325e-06,4.717226712823478e-06,5.592488862874644e-06,6.61604959229995e-06,7.810568921249878e-06,9.201774663956628e-06,1.0818820564141963e-05,1.2694678819423441e-05,1.4866569445716751e-05,1.7376429021354325e-05,2.027142143447113e-05,2.3604493335275896e-05,2.7434977066200837e-05,3.1829243906711624e-05,3.686141052477302e-05,4.2614101572719015e-05,4.917927140055104e-05,5.665908788360949e-05,6.516688137313927e-05,7.482816177665483e-05,8.578170675922861e-05,9.818072402616002e-05,0.00011219409060096375,0.00012800767194962704,0.0001458257237218474,0.00016587237878180842,0.00018839322208452348,0.00021365695581821806,0.0002419571570783895,0.0002736141301645706,0.0003089768553964092,0.00034842503613108816,0.000392371245429562,0.0004412631735644107,0.0004955859772877789,0.0005558647314837905,0.0006226669835169672,0.0006966054102563068,0.0007783405774054211,0.0008685838004021363,0.0009681001057681143,0.0010777112913907625,0.0011982990838069506,0.0013308083901329918,0.0014762506418475201,0.0016357072271872331,0.0018103330084583578,0.0020013599201041984,0.002210100642899411,0.002437952349169654,0.002686400513460117,0.0029570227826024088,0.0032514928986556208,0.0035715846677295453,0.003919175967233374,0.004296252783639733,0.0047049132724063395,0.0051473718312658534,0.005625963177673844,0.006143146420800672,0.006701509118068957,0.007303771305869896,0.007952789493749883,0.008651560611036231,0.009403225894577105,0.010211074706000923,0.011078548266663005,0.012009243298235028,0.01300691555671862,0.01407548324751577,0.01521903030908191,0.016441809552608103,0.01774824564514364,0.01914293792356457,0.020630663026830566,0.022216377334047934,0.023905219195964517,0.02570251094767989,0.02761376069053718,0.02964466383140036,0.0318011043677822,0.03408915590759986,0.03651508241267699,0.03908533865549771,0.04180657037913125,0.044685614150709235,0.04772949689931883,0.0509454351297088,0.054340833803752334,0.05792328488220511,0.06170056551991353,0.06568063590826416,0.06987163675935669,0.07428188642705176,0.0789198776607917,0.08379427398880597,0.08891390572809282,0.09428776561932346,0.09992500408562094,0.1058349241149511,0.11202697576668712,0.11851075030371266,0.12529597395227035,0.13239250129256602,0.13981030828398988,0.14755948492961535,0.1556502275854841,0.16409283092097976,0.1728976795374039,0.1820752392526787,0.1916360480608489,0.2015907067758723,0.2119498693698799,0.22272423301687888,0.23392452785352283,0.24556150646931088,0.2576459331392007,0.2701885728122883,0.2832001798707779,0.2966914866740927,0.31067319190345893,0.32515594872288633,0.34015035277287126,0.3556669300136651,0.3717161244352981,0.388308285651975,0.4054536563987592,0.4231623599487729,0.4414443874694163,0.46030958533627847,0.4797676424236635,0.4998280773907342,0.5205002259824261,0.5417932283642929,0.5637160165105193,0.5862773016642857,0.6094855618896331,0.6333490297338423,0.657875680019268,0.6830732177833305,0.708949066385236,0.7355103557976288,0.7627639111012732,0.7907162412003687,0.8193735277758739,0.8487416144937859,0.8788259964849144,0.909631810112263,0.9411638230416302,0.9734264246305718,1.0064236166503269,1.0401590043547766,1.0746357879099033,1.1098567541966509,1.1458242689994578,1.1825402695921243,1.2200062577319788,1.2582232930726813,1.2971919870053354,1.3369124969368307,1.3773845210136795,1.4186072932988978,1.4605795794087335,1.503299672615375,1.5467653904209293,1.5909740716073748,1.6359225737663465,1.681607271311938,1.7280240539788803,1.7751683258078774,1.8230350046190382,1.871618521973603,1.920912823623561,1.9709113704479697,2.021607139874079,2.0729926277807356,2.1250598508808225,2.1778003495788534,2.231205191299196,2.2852649742797007,2.339969831825018,2.3953094370131867,2.4512730078485228,2.507849312853295,2.5650266770900667,2.6227929886061947,2.681135705291277,2.740041862138047,2.799498078896594,2.859490568111499,2.9200051435309002,2.9810272288762447,3.0425418669610202,3.1045337291464867,3.1669871251219877,3.2298860129972553,3.293214009693767,3.356954401621971,3.4210901556309503,3.4856039302168904,3.5504780869766166,3.61569470229218,3.6812355792323617,3.747082259656935,3.8132160365093752,3.879617966283576,3.946268881650188,4.0131494042281375,4.080239957486854,4.147520779764723,4.214971937389412,4.282573337885697,4.350304743256557,4.4181457833232285,4.4860759691103205,4.554074706261937,4.622121308475063,4.690195010936589,4.75827498375048,4.826340345341938,4.894370175825406,4.962343530323677,5.030239452225523,5.098036986369442,5.165715192141573,5.233253156475882,5.300630006745171,5.3678249235317015,5.434817153266463,5.501586020726543,5.568110941380294,5.634371433570379,5.700347130525058,5.766017792188356,5.831363316860373,5.896363752638998,5.960999308654801,6.025250366091356,6.08909748898336,6.1525214347854735,6.215503164705069,6.278023853792503,6.3400649007828465,6.4016079376833845,6.462634839101566,6.52312773130851,6.583069001033406,6.642441303984639,6.7012275730937185,6.759411026478579,6.816975175123048,6.873903830269665,6.930181110523428,6.98579144866433,7.040719598166905,7.094950639425323,7.148469985682945,7.201263388665486,7.253316943917323,7.304617095840752,7.355150642438321,7.404904739758671,7.453866906046538,7.502025025597907,7.549367352321615,7.595882513008896,7.641559510312608,7.686387725438219,7.730356920548784,7.773457240886466,7.815679216613252,7.857013764373856,7.8974521885839915,7.936986182447289]}],                        {\"template\":{\"data\":{\"bar\":[{\"error_x\":{\"color\":\"#2a3f5f\"},\"error_y\":{\"color\":\"#2a3f5f\"},\"marker\":{\"line\":{\"color\":\"#E5ECF6\",\"width\":0.5},\"pattern\":{\"fillmode\":\"overlay\",\"size\":10,\"solidity\":0.2}},\"type\":\"bar\"}],\"barpolar\":[{\"marker\":{\"line\":{\"color\":\"#E5ECF6\",\"width\":0.5},\"pattern\":{\"fillmode\":\"overlay\",\"size\":10,\"solidity\":0.2}},\"type\":\"barpolar\"}],\"carpet\":[{\"aaxis\":{\"endlinecolor\":\"#2a3f5f\",\"gridcolor\":\"white\",\"linecolor\":\"white\",\"minorgridcolor\":\"white\",\"startlinecolor\":\"#2a3f5f\"},\"baxis\":{\"endlinecolor\":\"#2a3f5f\",\"gridcolor\":\"white\",\"linecolor\":\"white\",\"minorgridcolor\":\"white\",\"startlinecolor\":\"#2a3f5f\"},\"type\":\"carpet\"}],\"choropleth\":[{\"colorbar\":{\"outlinewidth\":0,\"ticks\":\"\"},\"type\":\"choropleth\"}],\"contour\":[{\"colorbar\":{\"outlinewidth\":0,\"ticks\":\"\"},\"colorscale\":[[0.0,\"#0d0887\"],[0.1111111111111111,\"#46039f\"],[0.2222222222222222,\"#7201a8\"],[0.3333333333333333,\"#9c179e\"],[0.4444444444444444,\"#bd3786\"],[0.5555555555555556,\"#d8576b\"],[0.6666666666666666,\"#ed7953\"],[0.7777777777777778,\"#fb9f3a\"],[0.8888888888888888,\"#fdca26\"],[1.0,\"#f0f921\"]],\"type\":\"contour\"}],\"contourcarpet\":[{\"colorbar\":{\"outlinewidth\":0,\"ticks\":\"\"},\"type\":\"contourcarpet\"}],\"heatmap\":[{\"colorbar\":{\"outlinewidth\":0,\"ticks\":\"\"},\"colorscale\":[[0.0,\"#0d0887\"],[0.1111111111111111,\"#46039f\"],[0.2222222222222222,\"#7201a8\"],[0.3333333333333333,\"#9c179e\"],[0.4444444444444444,\"#bd3786\"],[0.5555555555555556,\"#d8576b\"],[0.6666666666666666,\"#ed7953\"],[0.7777777777777778,\"#fb9f3a\"],[0.8888888888888888,\"#fdca26\"],[1.0,\"#f0f921\"]],\"type\":\"heatmap\"}],\"heatmapgl\":[{\"colorbar\":{\"outlinewidth\":0,\"ticks\":\"\"},\"colorscale\":[[0.0,\"#0d0887\"],[0.1111111111111111,\"#46039f\"],[0.2222222222222222,\"#7201a8\"],[0.3333333333333333,\"#9c179e\"],[0.4444444444444444,\"#bd3786\"],[0.5555555555555556,\"#d8576b\"],[0.6666666666666666,\"#ed7953\"],[0.7777777777777778,\"#fb9f3a\"],[0.8888888888888888,\"#fdca26\"],[1.0,\"#f0f921\"]],\"type\":\"heatmapgl\"}],\"histogram\":[{\"marker\":{\"pattern\":{\"fillmode\":\"overlay\",\"size\":10,\"solidity\":0.2}},\"type\":\"histogram\"}],\"histogram2d\":[{\"colorbar\":{\"outlinewidth\":0,\"ticks\":\"\"},\"colorscale\":[[0.0,\"#0d0887\"],[0.1111111111111111,\"#46039f\"],[0.2222222222222222,\"#7201a8\"],[0.3333333333333333,\"#9c179e\"],[0.4444444444444444,\"#bd3786\"],[0.5555555555555556,\"#d8576b\"],[0.6666666666666666,\"#ed7953\"],[0.7777777777777778,\"#fb9f3a\"],[0.8888888888888888,\"#fdca26\"],[1.0,\"#f0f921\"]],\"type\":\"histogram2d\"}],\"histogram2dcontour\":[{\"colorbar\":{\"outlinewidth\":0,\"ticks\":\"\"},\"colorscale\":[[0.0,\"#0d0887\"],[0.1111111111111111,\"#46039f\"],[0.2222222222222222,\"#7201a8\"],[0.3333333333333333,\"#9c179e\"],[0.4444444444444444,\"#bd3786\"],[0.5555555555555556,\"#d8576b\"],[0.6666666666666666,\"#ed7953\"],[0.7777777777777778,\"#fb9f3a\"],[0.8888888888888888,\"#fdca26\"],[1.0,\"#f0f921\"]],\"type\":\"histogram2dcontour\"}],\"mesh3d\":[{\"colorbar\":{\"outlinewidth\":0,\"ticks\":\"\"},\"type\":\"mesh3d\"}],\"parcoords\":[{\"line\":{\"colorbar\":{\"outlinewidth\":0,\"ticks\":\"\"}},\"type\":\"parcoords\"}],\"pie\":[{\"automargin\":true,\"type\":\"pie\"}],\"scatter\":[{\"marker\":{\"colorbar\":{\"outlinewidth\":0,\"ticks\":\"\"}},\"type\":\"scatter\"}],\"scatter3d\":[{\"line\":{\"colorbar\":{\"outlinewidth\":0,\"ticks\":\"\"}},\"marker\":{\"colorbar\":{\"outlinewidth\":0,\"ticks\":\"\"}},\"type\":\"scatter3d\"}],\"scattercarpet\":[{\"marker\":{\"colorbar\":{\"outlinewidth\":0,\"ticks\":\"\"}},\"type\":\"scattercarpet\"}],\"scattergeo\":[{\"marker\":{\"colorbar\":{\"outlinewidth\":0,\"ticks\":\"\"}},\"type\":\"scattergeo\"}],\"scattergl\":[{\"marker\":{\"colorbar\":{\"outlinewidth\":0,\"ticks\":\"\"}},\"type\":\"scattergl\"}],\"scattermapbox\":[{\"marker\":{\"colorbar\":{\"outlinewidth\":0,\"ticks\":\"\"}},\"type\":\"scattermapbox\"}],\"scatterpolar\":[{\"marker\":{\"colorbar\":{\"outlinewidth\":0,\"ticks\":\"\"}},\"type\":\"scatterpolar\"}],\"scatterpolargl\":[{\"marker\":{\"colorbar\":{\"outlinewidth\":0,\"ticks\":\"\"}},\"type\":\"scatterpolargl\"}],\"scatterternary\":[{\"marker\":{\"colorbar\":{\"outlinewidth\":0,\"ticks\":\"\"}},\"type\":\"scatterternary\"}],\"surface\":[{\"colorbar\":{\"outlinewidth\":0,\"ticks\":\"\"},\"colorscale\":[[0.0,\"#0d0887\"],[0.1111111111111111,\"#46039f\"],[0.2222222222222222,\"#7201a8\"],[0.3333333333333333,\"#9c179e\"],[0.4444444444444444,\"#bd3786\"],[0.5555555555555556,\"#d8576b\"],[0.6666666666666666,\"#ed7953\"],[0.7777777777777778,\"#fb9f3a\"],[0.8888888888888888,\"#fdca26\"],[1.0,\"#f0f921\"]],\"type\":\"surface\"}],\"table\":[{\"cells\":{\"fill\":{\"color\":\"#EBF0F8\"},\"line\":{\"color\":\"white\"}},\"header\":{\"fill\":{\"color\":\"#C8D4E3\"},\"line\":{\"color\":\"white\"}},\"type\":\"table\"}]},\"layout\":{\"annotationdefaults\":{\"arrowcolor\":\"#2a3f5f\",\"arrowhead\":0,\"arrowwidth\":1},\"autotypenumbers\":\"strict\",\"coloraxis\":{\"colorbar\":{\"outlinewidth\":0,\"ticks\":\"\"}},\"colorscale\":{\"diverging\":[[0,\"#8e0152\"],[0.1,\"#c51b7d\"],[0.2,\"#de77ae\"],[0.3,\"#f1b6da\"],[0.4,\"#fde0ef\"],[0.5,\"#f7f7f7\"],[0.6,\"#e6f5d0\"],[0.7,\"#b8e186\"],[0.8,\"#7fbc41\"],[0.9,\"#4d9221\"],[1,\"#276419\"]],\"sequential\":[[0.0,\"#0d0887\"],[0.1111111111111111,\"#46039f\"],[0.2222222222222222,\"#7201a8\"],[0.3333333333333333,\"#9c179e\"],[0.4444444444444444,\"#bd3786\"],[0.5555555555555556,\"#d8576b\"],[0.6666666666666666,\"#ed7953\"],[0.7777777777777778,\"#fb9f3a\"],[0.8888888888888888,\"#fdca26\"],[1.0,\"#f0f921\"]],\"sequentialminus\":[[0.0,\"#0d0887\"],[0.1111111111111111,\"#46039f\"],[0.2222222222222222,\"#7201a8\"],[0.3333333333333333,\"#9c179e\"],[0.4444444444444444,\"#bd3786\"],[0.5555555555555556,\"#d8576b\"],[0.6666666666666666,\"#ed7953\"],[0.7777777777777778,\"#fb9f3a\"],[0.8888888888888888,\"#fdca26\"],[1.0,\"#f0f921\"]]},\"colorway\":[\"#636efa\",\"#EF553B\",\"#00cc96\",\"#ab63fa\",\"#FFA15A\",\"#19d3f3\",\"#FF6692\",\"#B6E880\",\"#FF97FF\",\"#FECB52\"],\"font\":{\"color\":\"#2a3f5f\"},\"geo\":{\"bgcolor\":\"white\",\"lakecolor\":\"white\",\"landcolor\":\"#E5ECF6\",\"showlakes\":true,\"showland\":true,\"subunitcolor\":\"white\"},\"hoverlabel\":{\"align\":\"left\"},\"hovermode\":\"closest\",\"mapbox\":{\"style\":\"light\"},\"paper_bgcolor\":\"white\",\"plot_bgcolor\":\"#E5ECF6\",\"polar\":{\"angularaxis\":{\"gridcolor\":\"white\",\"linecolor\":\"white\",\"ticks\":\"\"},\"bgcolor\":\"#E5ECF6\",\"radialaxis\":{\"gridcolor\":\"white\",\"linecolor\":\"white\",\"ticks\":\"\"}},\"scene\":{\"xaxis\":{\"backgroundcolor\":\"#E5ECF6\",\"gridcolor\":\"white\",\"gridwidth\":2,\"linecolor\":\"white\",\"showbackground\":true,\"ticks\":\"\",\"zerolinecolor\":\"white\"},\"yaxis\":{\"backgroundcolor\":\"#E5ECF6\",\"gridcolor\":\"white\",\"gridwidth\":2,\"linecolor\":\"white\",\"showbackground\":true,\"ticks\":\"\",\"zerolinecolor\":\"white\"},\"zaxis\":{\"backgroundcolor\":\"#E5ECF6\",\"gridcolor\":\"white\",\"gridwidth\":2,\"linecolor\":\"white\",\"showbackground\":true,\"ticks\":\"\",\"zerolinecolor\":\"white\"}},\"shapedefaults\":{\"line\":{\"color\":\"#2a3f5f\"}},\"ternary\":{\"aaxis\":{\"gridcolor\":\"white\",\"linecolor\":\"white\",\"ticks\":\"\"},\"baxis\":{\"gridcolor\":\"white\",\"linecolor\":\"white\",\"ticks\":\"\"},\"bgcolor\":\"#E5ECF6\",\"caxis\":{\"gridcolor\":\"white\",\"linecolor\":\"white\",\"ticks\":\"\"}},\"title\":{\"x\":0.05},\"xaxis\":{\"automargin\":true,\"gridcolor\":\"white\",\"linecolor\":\"white\",\"ticks\":\"\",\"title\":{\"standoff\":15},\"zerolinecolor\":\"white\",\"zerolinewidth\":2},\"yaxis\":{\"automargin\":true,\"gridcolor\":\"white\",\"linecolor\":\"white\",\"ticks\":\"\",\"title\":{\"standoff\":15},\"zerolinecolor\":\"white\",\"zerolinewidth\":2}}}},                        {\"responsive\": true}                    ).then(function(){\n",
       "                            \n",
       "var gd = document.getElementById('dffd7ec3-9993-4d0d-9bd7-217c178bd067');\n",
       "var x = new MutationObserver(function (mutations, observer) {{\n",
       "        var display = window.getComputedStyle(gd).display;\n",
       "        if (!display || display === 'none') {{\n",
       "            console.log([gd, 'removed!']);\n",
       "            Plotly.purge(gd);\n",
       "            observer.disconnect();\n",
       "        }}\n",
       "}});\n",
       "\n",
       "// Listen for the removal of the full notebook cells\n",
       "var notebookContainer = gd.closest('#notebook-container');\n",
       "if (notebookContainer) {{\n",
       "    x.observe(notebookContainer, {childList: true});\n",
       "}}\n",
       "\n",
       "// Listen for the clearing of the current output cell\n",
       "var outputEl = gd.closest('.output');\n",
       "if (outputEl) {{\n",
       "    x.observe(outputEl, {childList: true});\n",
       "}}\n",
       "\n",
       "                        })                };                });            </script>        </div>"
      ]
     },
     "metadata": {},
     "output_type": "display_data"
    }
   ],
   "source": [
    "fig = go.Figure()\n",
    "fig.add_trace(\n",
    "    go.Scatter(\n",
    "        x = midbins,\n",
    "        y = Y_samples,\n",
    "        line_color = 'blue',\n",
    "    )\n",
    ")\n",
    "fig.add_trace(\n",
    "    go.Scatter(\n",
    "        x = midbins,\n",
    "        y = Y_distr,\n",
    "        line_color = 'red',\n",
    "    )\n",
    ")\n",
    "fig.show()"
   ]
  },
  {
   "cell_type": "code",
   "execution_count": null,
   "metadata": {},
   "outputs": [],
   "source": [
    "fig = go.Figure()\n",
    "fig.add_trace(\n",
    "    go.Scatter(\n",
    "        x = midbins,\n",
    "        y = Y_samples,\n",
    "        line_color = 'blue',\n",
    "    )\n",
    ")"
   ]
  },
  {
   "cell_type": "code",
   "execution_count": null,
   "metadata": {},
   "outputs": [],
   "source": []
  },
  {
   "cell_type": "code",
   "execution_count": null,
   "metadata": {},
   "outputs": [],
   "source": []
  },
  {
   "cell_type": "code",
   "execution_count": null,
   "metadata": {},
   "outputs": [],
   "source": [
    "# ind = 149\n",
    "# row = bd.get_id(matrix_indices[ind][0])\n",
    "# col = bd.get_id(matrix_indices[ind][1])\n",
    "# row_col = np.array((row,col), dtype=indices.dtype)\n",
    "# where = np.where(indices == row_col)[0][0]\n",
    "# unct = uncertainties[where:where+1]\n",
    "# assert unct['uncertainty_type']==2\n",
    "\n",
    "# Y = matrix_samples[ind,:]\n",
    "# bin_min = min(Y)\n",
    "# bin_max = max(Y)\n",
    "# num_bins = 60\n",
    "# loc = unct['loc']\n",
    "# scale = unct['scale']\n",
    "# x = np.linspace(bin_min, bin_max, 100) \n",
    "     \n",
    "# # Varying positional arguments \n",
    "# y_distr = lognorm.pdf(x, s=scale, scale=np.exp(loc))\n",
    "\n",
    "# fig = go.Figure()\n",
    "# bins_ = np.linspace(bin_min, bin_max, num_bins, endpoint=True)\n",
    "# freq, bins = np.histogram(Y, bins=bins_, density=True)\n",
    "\n",
    "# fig.add_trace(\n",
    "#     go.Scatter(\n",
    "#         x=bins,\n",
    "#         y=freq,\n",
    "#         opacity=0.65,\n",
    "#         line=dict(color=\"blue\", width=1, shape=\"hvh\"),\n",
    "#         fill=\"tozeroy\",\n",
    "#     ),\n",
    "# )\n",
    "\n",
    "# fig.add_trace(\n",
    "#     go.Scatter(\n",
    "#         x = x,\n",
    "#         y = y_distr,\n",
    "#         line_color = 'red',\n",
    "#     )\n",
    "# )\n",
    "# fig.show()"
   ]
  },
  {
   "cell_type": "code",
   "execution_count": null,
   "metadata": {},
   "outputs": [],
   "source": [
    "a = [act for act in ei if 'market for electricity, low' in act['name']]\n",
    "a"
   ]
  },
  {
   "cell_type": "code",
   "execution_count": null,
   "metadata": {},
   "outputs": [],
   "source": [
    "list(a[0].exchanges())"
   ]
  },
  {
   "cell_type": "code",
   "execution_count": null,
   "metadata": {},
   "outputs": [],
   "source": [
    "\"3b15ec72f45f4700fec86f75084fe558\", \"666aa058fa7418ec809f91cb610720ad\""
   ]
  },
  {
   "cell_type": "code",
   "execution_count": null,
   "metadata": {},
   "outputs": [],
   "source": [
    "a[0].as_dict()['reference product'], a[-4].as_dict()['reference product']"
   ]
  },
  {
   "cell_type": "code",
   "execution_count": null,
   "metadata": {},
   "outputs": [],
   "source": []
  },
  {
   "cell_type": "code",
   "execution_count": null,
   "metadata": {},
   "outputs": [],
   "source": []
  },
  {
   "cell_type": "code",
   "execution_count": null,
   "metadata": {},
   "outputs": [],
   "source": [
    "# bio_inds = lca.packages[1].get_resource(\"ecoinvent_3.8_cutoff_biosphere_matrix.indices\")[0]\n",
    "# tfrom = [act.id for act in bio if \"Transformation, from\" in act['name']]\n",
    "# tto = [act.id for act in bio if \"Transformation, to\" in act['name']]\n",
    "# land_acts = tfrom + tto"
   ]
  },
  {
   "cell_type": "code",
   "execution_count": null,
   "metadata": {},
   "outputs": [],
   "source": [
    "# ei_acts = np.array([], dtype=int)\n",
    "# for a in land_acts:\n",
    "#     mask = bio_inds['row'] == a\n",
    "#     ei_acts = np.hstack([ei_acts, bio_inds[mask]['col']])\n",
    "# ei_acts.sort()\n",
    "# ei_acts = np.unique(ei_acts)\n",
    "# ei_acts.shape"
   ]
  },
  {
   "cell_type": "code",
   "execution_count": null,
   "metadata": {},
   "outputs": [],
   "source": [
    "# for ei_act_id in ei_acts:\n",
    "#     ei_act = bd.get_activity(ei_act_id)\n",
    "#     act_balancer = ActivityLandBalancer(ei_act.key, dlb)\n",
    "#     act_balancer._identify_strategy()\n",
    "#     if act_balancer.strategy == 'static':\n",
    "#         break"
   ]
  },
  {
   "cell_type": "code",
   "execution_count": null,
   "metadata": {},
   "outputs": [],
   "source": [
    "# type(4435)"
   ]
  },
  {
   "cell_type": "code",
   "execution_count": null,
   "metadata": {},
   "outputs": [],
   "source": [
    "# bd.get_activity(4435)"
   ]
  },
  {
   "cell_type": "code",
   "execution_count": null,
   "metadata": {},
   "outputs": [],
   "source": [
    "# ei_act_id, type(ei_act_id)"
   ]
  },
  {
   "cell_type": "code",
   "execution_count": null,
   "metadata": {},
   "outputs": [],
   "source": [
    "# bd.get_activity(int(ei_act_id))"
   ]
  },
  {
   "cell_type": "code",
   "execution_count": null,
   "metadata": {},
   "outputs": [],
   "source": [
    "# bd.get_activity(ei_act_id)"
   ]
  },
  {
   "cell_type": "code",
   "execution_count": null,
   "metadata": {},
   "outputs": [],
   "source": []
  },
  {
   "cell_type": "code",
   "execution_count": null,
   "metadata": {},
   "outputs": [],
   "source": []
  },
  {
   "cell_type": "code",
   "execution_count": null,
   "metadata": {},
   "outputs": [],
   "source": []
  },
  {
   "cell_type": "code",
   "execution_count": null,
   "metadata": {},
   "outputs": [],
   "source": []
  },
  {
   "cell_type": "code",
   "execution_count": null,
   "metadata": {},
   "outputs": [],
   "source": []
  },
  {
   "cell_type": "code",
   "execution_count": null,
   "metadata": {},
   "outputs": [],
   "source": []
  },
  {
   "cell_type": "code",
   "execution_count": null,
   "metadata": {},
   "outputs": [],
   "source": []
  },
  {
   "cell_type": "code",
   "execution_count": null,
   "metadata": {},
   "outputs": [],
   "source": []
  },
  {
   "cell_type": "code",
   "execution_count": null,
   "metadata": {},
   "outputs": [],
   "source": []
  },
  {
   "cell_type": "code",
   "execution_count": null,
   "metadata": {},
   "outputs": [],
   "source": [
    "# for x in dlb.matrix_indices:\n",
    "#     a = bd.get_activity(x[1])\n",
    "#     from bw2landbalancer import ActivityLandBalancer\n",
    "#     aa = ActivityLandBalancer(a.key, dlb)\n",
    "#     if aa.activity_params:\n",
    "#         break"
   ]
  },
  {
   "cell_type": "code",
   "execution_count": null,
   "metadata": {},
   "outputs": [],
   "source": [
    "# list(aa.act.exchanges())"
   ]
  },
  {
   "cell_type": "markdown",
   "metadata": {},
   "source": [
    "These can directly be used to generate [`presamples`](https://presamples.readthedocs.io/):"
   ]
  },
  {
   "cell_type": "code",
   "execution_count": null,
   "metadata": {},
   "outputs": [],
   "source": [
    "presamples_id, presamples_fp = dlb.create_presamples(\n",
    "    name=None,  # Could have specified a string as name, not passing anything will use automatically generated random name\n",
    "    dirpath=None,  # Could have specified a directory path to save presamples somewhere specific \n",
    "    id_=None,  # Could have specified a string as id, not passing anything will use automatically generated random id\n",
    "    seed='sequential',  # or None, or int.\n",
    "    )"
   ]
  },
  {
   "cell_type": "markdown",
   "metadata": {},
   "source": [
    "## Using the samples\n",
    "\n",
    "The samples are formatted for use in brighway2 via the presamples package. \n",
    "\n",
    "The following function calculates:  \n",
    "  - Deterministic results, using `bc.LCA`  \n",
    "  - Stochastic results, using `bc.MonteCarloLCA`  \n",
    "  - Stochastic results using presamples, using `bc.MonteCarloLCA` and passing `presamples=[presamples_fp]`  \n",
    "  \n",
    "The ratio of stochastic results to deterministic results are then plotted for Monte Carlo results with and without presamples.  \n",
    "Ratios for Monte Carlo with presamples are on the order of 1.  \n",
    "Ratios for Monte Carlo without presamples can be multiple orders of magnitude, and can be negative or positive.    "
   ]
  },
  {
   "cell_type": "code",
   "execution_count": null,
   "metadata": {},
   "outputs": [],
   "source": [
    "def check_presamples_act(act_key, ps_fp, lcia_method, iterations=1000):\n",
    "    \"\"\"Plot histrograms of Monte Carlo samples/det result for case w/ and w/o presamples\"\"\"\n",
    "    lca = bc.LCA({act_key:1}, method=m)\n",
    "    lca.lci()\n",
    "    lca.lcia()\n",
    "    \n",
    "    mc_arr_wo = np.empty(shape=iterations)\n",
    "    mc = bc.MonteCarloLCA({act_key:1}, method=m)\n",
    "    for i in range(iterations):\n",
    "        mc_arr_wo[i] = next(mc)/lca.score\n",
    "    \n",
    "    mc_arr_w = np.empty(shape=iterations)\n",
    "    mc_w = bc.MonteCarloLCA({act_key:1}, method=m, presamples=[ps_fp])\n",
    "    for i in range(iterations):\n",
    "        mc_arr_w[i] = next(mc_w)/lca.score\n",
    "    \n",
    "    plt.hist(mc_arr_wo, histtype=\"step\", color='orange', label=\"without presamples\")\n",
    "    plt.hist(mc_arr_w, histtype=\"step\", color='green', label=\"with presamples\")\n",
    "    plt.legend()"
   ]
  },
  {
   "cell_type": "markdown",
   "metadata": {},
   "source": [
    "Let's run this on a couple of random ecoinvent products with the ImpactWorld+ Land transformation, biodiversity LCIA method:"
   ]
  },
  {
   "cell_type": "code",
   "execution_count": null,
   "metadata": {},
   "outputs": [],
   "source": [
    "m=('IMPACTWorld+ (Default_Recommended_Midpoint 1.23)', 'Midpoint', 'Land transformation, biodiversity')"
   ]
  },
  {
   "cell_type": "code",
   "execution_count": null,
   "metadata": {},
   "outputs": [],
   "source": [
    "import matplotlib.pyplot as plt\n",
    "%matplotlib inline"
   ]
  },
  {
   "cell_type": "code",
   "execution_count": null,
   "metadata": {},
   "outputs": [],
   "source": [
    "act = [act for act in bd.Database(ei_name) if act['name']=='polyester-complexed starch biopolymer production'][0]\n",
    "print(\"Working on activity known to have non-negligeable land transformation impacts: \", act)\n",
    "check_presamples_act(act.key, presamples_fp, m)"
   ]
  },
  {
   "cell_type": "code",
   "execution_count": null,
   "metadata": {},
   "outputs": [],
   "source": [
    "act = bd.Database(ei_name).random()\n",
    "print(\"Randomly working on \", act)\n",
    "check_presamples_act(act.key, presamples_fp, m)"
   ]
  },
  {
   "cell_type": "code",
   "execution_count": null,
   "metadata": {},
   "outputs": [],
   "source": [
    "act = bd.Database(ei_name).random()\n",
    "print(\"Randomly working on \", act)\n",
    "check_presamples_act(act.key, presamples_fp, m)"
   ]
  },
  {
   "cell_type": "code",
   "execution_count": null,
   "metadata": {},
   "outputs": [],
   "source": [
    "act = bd.Database(ei_name).random()\n",
    "print(\"Randomly working on \", act)\n",
    "check_presamples_act(act.key, presamples_fp, m)"
   ]
  },
  {
   "cell_type": "code",
   "execution_count": null,
   "metadata": {},
   "outputs": [],
   "source": [
    "act = bd.Database(ei_name).random()\n",
    "print(\"Randomly working on \", act)\n",
    "check_presamples_act(act.key, presamples_fp, m)"
   ]
  }
 ],
 "metadata": {
  "kernelspec": {
   "display_name": "Python 3 (ipykernel)",
   "language": "python",
   "name": "python3"
  },
  "language_info": {
   "codemirror_mode": {
    "name": "ipython",
    "version": 3
   },
   "file_extension": ".py",
   "mimetype": "text/x-python",
   "name": "python",
   "nbconvert_exporter": "python",
   "pygments_lexer": "ipython3",
   "version": "3.9.10"
  },
  "toc": {
   "base_numbering": 1,
   "nav_menu": {},
   "number_sections": false,
   "sideBar": true,
   "skip_h1_title": false,
   "title_cell": "Table of Contents",
   "title_sidebar": "Contents",
   "toc_cell": false,
   "toc_position": {},
   "toc_section_display": true,
   "toc_window_display": true
  },
  "varInspector": {
   "cols": {
    "lenName": 16,
    "lenType": 16,
    "lenVar": 40
   },
   "kernels_config": {
    "python": {
     "delete_cmd_postfix": "",
     "delete_cmd_prefix": "del ",
     "library": "var_list.py",
     "varRefreshCmd": "print(var_dic_list())"
    },
    "r": {
     "delete_cmd_postfix": ") ",
     "delete_cmd_prefix": "rm(",
     "library": "var_list.r",
     "varRefreshCmd": "cat(var_dic_list()) "
    }
   },
   "types_to_exclude": [
    "module",
    "function",
    "builtin_function_or_method",
    "instance",
    "_Feature"
   ],
   "window_display": false
  }
 },
 "nbformat": 4,
 "nbformat_minor": 2
}
