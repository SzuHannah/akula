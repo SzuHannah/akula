{
 "cells": [
  {
   "cell_type": "markdown",
   "id": "a24c68aa-1dfe-4577-8c84-7a561d6a58b2",
   "metadata": {},
   "source": [
    "# Mapping electricity generation and trade to ecoinvent\n",
    "\n",
    "To run this notebook, you must have the following environment variables set:\n",
    "\n",
    "* BENTSO_DATA_DIR: Directory to cache data from ENTSO-E API\n",
    "\n",
    "In addition, you need to have finished the notebook `ENTSO-E electricity data`."
   ]
  },
  {
   "cell_type": "code",
   "execution_count": 1,
   "id": "b155e53b-688d-40f2-8bb2-4e58e55c0925",
   "metadata": {},
   "outputs": [],
   "source": [
    "import bw2data as bd\n",
    "import bw2io as bi\n",
    "import pandas as pd"
   ]
  },
  {
   "cell_type": "code",
   "execution_count": 2,
   "id": "3243bef9-e579-4521-8f47-28845dd86f79",
   "metadata": {},
   "outputs": [],
   "source": [
    "assert bd.__version__ >= (4, 0, 'DEV11')"
   ]
  },
  {
   "cell_type": "code",
   "execution_count": 3,
   "id": "fa80a078-7b24-4bd7-ab4f-8a51ebe3a028",
   "metadata": {},
   "outputs": [],
   "source": [
    "bd.projects.set_current(\"GSA\")"
   ]
  },
  {
   "cell_type": "markdown",
   "id": "2f2ad950-3713-42d6-9ee9-ec413a3c0643",
   "metadata": {},
   "source": [
    "## Find electricity generators in Europe"
   ]
  },
  {
   "cell_type": "code",
   "execution_count": 4,
   "id": "e2aa9b8d-227a-44cb-b101-5b9267df443b",
   "metadata": {},
   "outputs": [],
   "source": [
    "ei = bd.Database(\"ecoinvent\")"
   ]
  },
  {
   "cell_type": "code",
   "execution_count": 5,
   "id": "a1ea5b5f-eba0-4375-9fee-1501d8eba233",
   "metadata": {},
   "outputs": [],
   "source": [
    "from bentso.constants import ENTSO_COUNTRIES, TRADE_PAIRS"
   ]
  },
  {
   "cell_type": "code",
   "execution_count": 6,
   "id": "a85c3fd5-2965-424f-9a30-085d409dab5a",
   "metadata": {},
   "outputs": [],
   "source": [
    "ENTSO_COUNTRIES.add('ES')"
   ]
  },
  {
   "cell_type": "code",
   "execution_count": 7,
   "id": "3340f022-fa48-4ef9-a8c3-bb6cff054ca6",
   "metadata": {},
   "outputs": [],
   "source": [
    "TRADE_PAIRS['FR'] = {'BE', 'CH', 'DE', 'IT', 'ES'}\n",
    "TRADE_PAIRS['ES'] = {'FR', 'PT'}\n",
    "TRADE_PAIRS['PT'] = {'ES'}"
   ]
  },
  {
   "cell_type": "code",
   "execution_count": 8,
   "id": "e1f4af7c-0d6c-424c-be5f-26b3faae3843",
   "metadata": {},
   "outputs": [],
   "source": [
    "MRKT = \"market for electricity, high voltage\""
   ]
  },
  {
   "cell_type": "code",
   "execution_count": 9,
   "id": "b97b324f-a299-4e49-b42f-04956870e23c",
   "metadata": {},
   "outputs": [],
   "source": [
    "found = set([])\n",
    "\n",
    "for act in ei:\n",
    "    if act['name'] == MRKT and act['location'] in ENTSO_COUNTRIES:\n",
    "        for exc in act.technosphere():\n",
    "            if exc.input['unit'] == 'kilowatt hour' and \"import from\" not in exc.input['name']:\n",
    "                found.add(exc.input['name'])"
   ]
  },
  {
   "cell_type": "code",
   "execution_count": 10,
   "id": "98272473-f82d-45ab-bb2c-077d2d591ba9",
   "metadata": {},
   "outputs": [],
   "source": [
    "hv = found.copy()"
   ]
  },
  {
   "cell_type": "code",
   "execution_count": 11,
   "id": "370b7a9a-5b30-4495-a456-655b397dce0f",
   "metadata": {},
   "outputs": [],
   "source": [
    "mv = found.copy()"
   ]
  },
  {
   "cell_type": "code",
   "execution_count": 12,
   "id": "fc6df2cc-9bef-4af9-8e3a-c597344cd04a",
   "metadata": {},
   "outputs": [],
   "source": [
    "lv = found.copy()"
   ]
  },
  {
   "cell_type": "code",
   "execution_count": 13,
   "id": "19017770-5170-49a4-888b-82bfaaafbcb5",
   "metadata": {},
   "outputs": [
    {
     "data": {
      "text/plain": [
       "{'electricity production, deep geothermal',\n",
       " 'electricity production, hard coal',\n",
       " 'electricity production, hydro, pumped storage',\n",
       " 'electricity production, hydro, reservoir, alpine region',\n",
       " 'electricity production, hydro, reservoir, non-alpine region',\n",
       " 'electricity production, hydro, run-of-river',\n",
       " 'electricity production, lignite',\n",
       " 'electricity production, natural gas, combined cycle power plant',\n",
       " 'electricity production, natural gas, conventional power plant',\n",
       " 'electricity production, nuclear, boiling water reactor',\n",
       " 'electricity production, nuclear, pressure water reactor',\n",
       " 'electricity production, nuclear, pressure water reactor, heavy water moderated',\n",
       " 'electricity production, oil',\n",
       " 'electricity production, peat',\n",
       " 'electricity production, solar thermal parabolic trough, 50 MW',\n",
       " 'electricity production, solar tower power plant, 20 MW',\n",
       " 'electricity production, wind, 1-3MW turbine, offshore',\n",
       " 'electricity production, wind, 1-3MW turbine, onshore',\n",
       " 'electricity production, wind, <1MW turbine, onshore',\n",
       " 'electricity production, wind, >3MW turbine, onshore',\n",
       " 'heat and power co-generation, biogas, gas engine',\n",
       " 'heat and power co-generation, hard coal',\n",
       " 'heat and power co-generation, lignite',\n",
       " 'heat and power co-generation, natural gas, 500kW electrical, lean burn',\n",
       " 'heat and power co-generation, natural gas, combined cycle power plant, 400MW electrical',\n",
       " 'heat and power co-generation, natural gas, conventional power plant, 100MW electrical',\n",
       " 'heat and power co-generation, oil',\n",
       " 'heat and power co-generation, wood chips, 6667 kW',\n",
       " 'heat and power co-generation, wood chips, 6667 kW, state-of-the-art 2014',\n",
       " 'market for electricity, high voltage',\n",
       " 'market group for electricity, high voltage',\n",
       " 'treatment of blast furnace gas, in power plant',\n",
       " 'treatment of coal gas, in power plant'}"
      ]
     },
     "execution_count": 13,
     "metadata": {},
     "output_type": "execute_result"
    }
   ],
   "source": [
    "hv"
   ]
  },
  {
   "cell_type": "markdown",
   "id": "5929a8fa-efbe-4e12-826a-612dbfc79ef6",
   "metadata": {},
   "source": [
    "## Mapping ENTSO to ecoinvent"
   ]
  },
  {
   "cell_type": "code",
   "execution_count": 14,
   "id": "3d456a63-663e-4059-81cf-5852890bfaf0",
   "metadata": {},
   "outputs": [],
   "source": [
    "ENTSO_MAPPING = {\n",
    "    'Biomass': [\n",
    "        'heat and power co-generation, wood chips, 6667 kW',\n",
    "        'heat and power co-generation, wood chips, 6667 kW, state-of-the-art 2014',\n",
    "        'heat and power co-generation, biogas, gas engine',\n",
    "    ],\n",
    "    'Fossil Brown coal/Lignite': [\n",
    "        'electricity production, lignite',\n",
    "        'heat and power co-generation, lignite',\n",
    "    ],\n",
    "    'Fossil Coal-derived gas': [\n",
    "        'treatment of coal gas, in power plant',\n",
    "    ],\n",
    "    'Fossil Gas': [\n",
    "        'electricity production, natural gas, combined cycle power plant',\n",
    "        'electricity production, natural gas, conventional power plant',\n",
    "        'heat and power co-generation, natural gas, 500kW electrical, lean burn',\n",
    "        'heat and power co-generation, natural gas, combined cycle power plant, 400MW electrical',\n",
    "        'heat and power co-generation, natural gas, conventional power plant, 100MW electrical',\n",
    "    ],\n",
    "    'Fossil Hard coal': [\n",
    "        'electricity production, hard coal',\n",
    "        'heat and power co-generation, hard coal',\n",
    "    ],\n",
    "    'Fossil Oil': [\n",
    "        'electricity production, oil',\n",
    "        'heat and power co-generation, oil',\n",
    "    ],\n",
    "    'Fossil Oil shale': [\n",
    "    ],\n",
    "    'Fossil Peat': [\n",
    "        'electricity production, peat',\n",
    "    ],\n",
    "    'Geothermal': [\n",
    "        'electricity production, deep geothermal',\n",
    "    ],\n",
    "    # This will be a bit funky; could consider charging with average of last 48 hours?\n",
    "    'Hydro Pumped Storage': [\n",
    "        'electricity production, hydro, pumped storage',\n",
    "    ],\n",
    "    'Hydro Run-of-river and poundage': [\n",
    "        'electricity production, hydro, run-of-river',\n",
    "    ],\n",
    "    'Hydro Water Reservoir': [\n",
    "        'electricity production, hydro, reservoir, alpine region',\n",
    "        'electricity production, hydro, reservoir, non-alpine region',\n",
    "    ],\n",
    "    'Nuclear': [\n",
    "        'electricity production, nuclear, boiling water reactor',\n",
    "        'electricity production, nuclear, pressure water reactor',\n",
    "        'electricity production, nuclear, pressure water reactor, heavy water moderated',\n",
    "    ],\n",
    "    'Other': [\n",
    "        'treatment of blast furnace gas, in power plant',\n",
    "    ],\n",
    "    'Other renewable': [\n",
    "    ],\n",
    "    'Solar': [\n",
    "        'electricity production, photovoltaic, 3kWp facade installation, multi-Si, laminated, integrated',\n",
    "        'electricity production, photovoltaic, 3kWp facade installation, multi-Si, panel, mounted',\n",
    "        'electricity production, photovoltaic, 3kWp facade installation, single-Si, laminated, integrated',\n",
    "        'electricity production, photovoltaic, 3kWp facade installation, single-Si, panel, mounted',\n",
    "        'electricity production, photovoltaic, 3kWp flat-roof installation, multi-Si',\n",
    "        'electricity production, photovoltaic, 3kWp flat-roof installation, single-Si',\n",
    "        'electricity production, photovoltaic, 3kWp slanted-roof installation, CIS, panel, mounted',\n",
    "        'electricity production, photovoltaic, 3kWp slanted-roof installation, CdTe, laminated, integrated',\n",
    "        'electricity production, photovoltaic, 3kWp slanted-roof installation, a-Si, laminated, integrated',\n",
    "        'electricity production, photovoltaic, 3kWp slanted-roof installation, a-Si, panel, mounted',\n",
    "        'electricity production, photovoltaic, 3kWp slanted-roof installation, multi-Si, laminated, integrated',\n",
    "        'electricity production, photovoltaic, 3kWp slanted-roof installation, multi-Si, panel, mounted',\n",
    "        'electricity production, photovoltaic, 3kWp slanted-roof installation, ribbon-Si, laminated, integrated',\n",
    "        'electricity production, photovoltaic, 3kWp slanted-roof installation, ribbon-Si, panel, mounted',\n",
    "        'electricity production, photovoltaic, 3kWp slanted-roof installation, single-Si, laminated, integrated',\n",
    "        'electricity production, photovoltaic, 3kWp slanted-roof installation, single-Si, panel, mounted',\n",
    "        'electricity production, photovoltaic, 570kWp open ground installation, multi-Si',\n",
    "        'electricity production, solar thermal parabolic trough, 50 MW',\n",
    "        'electricity production, solar tower power plant, 20 MW',        \n",
    "    ],\n",
    "    'Waste': [\n",
    "        'electricity, from municipal waste incineration to generic market for electricity, medium voltage',\n",
    "    ],\n",
    "    'Wind Offshore': [\n",
    "        'electricity production, wind, 1-3MW turbine, offshore',\n",
    "    ],\n",
    "    'Wind Onshore': [\n",
    "        'electricity production, wind, 1-3MW turbine, onshore',\n",
    "        'electricity production, wind, <1MW turbine, onshore',\n",
    "        'electricity production, wind, >3MW turbine, onshore',\n",
    "    ],\n",
    "}"
   ]
  },
  {
   "cell_type": "markdown",
   "id": "3ee16815-07d2-4059-ba2b-c4b1c4e9ff0e",
   "metadata": {},
   "source": [
    "## ecoinvent constants"
   ]
  },
  {
   "cell_type": "code",
   "execution_count": 15,
   "id": "154ee09a-7bd1-4f45-b400-23ae168b4a3e",
   "metadata": {},
   "outputs": [],
   "source": [
    "HIGH_VOLTAGE = {\n",
    "    'electricity production, deep geothermal',\n",
    "    'electricity production, hard coal',\n",
    "    'electricity production, hydro, pumped storage',\n",
    "    'electricity production, hydro, reservoir, alpine region',\n",
    "    'electricity production, hydro, reservoir, non-alpine region',\n",
    "    'electricity production, hydro, run-of-river',\n",
    "    'electricity production, lignite',\n",
    "    'electricity production, natural gas, combined cycle power plant',\n",
    "    'electricity production, natural gas, conventional power plant',\n",
    "    'electricity production, nuclear, boiling water reactor',\n",
    "    'electricity production, nuclear, pressure water reactor',\n",
    "    'electricity production, nuclear, pressure water reactor, heavy water moderated',\n",
    "    'electricity production, oil',\n",
    "    'electricity production, peat',\n",
    "    'electricity production, wind, 1-3MW turbine, offshore',\n",
    "    'electricity production, wind, 1-3MW turbine, onshore',\n",
    "    'electricity production, wind, <1MW turbine, onshore',\n",
    "    'electricity production, wind, >3MW turbine, onshore',\n",
    "    'electricity production, solar thermal parabolic trough, 50 MW',\n",
    "    'electricity production, solar tower power plant, 20 MW',    \n",
    "    'heat and power co-generation, biogas, gas engine',\n",
    "    'heat and power co-generation, hard coal',\n",
    "    'heat and power co-generation, lignite',\n",
    "    'heat and power co-generation, natural gas, 500kW electrical, lean burn',\n",
    "    'heat and power co-generation, natural gas, combined cycle power plant, 400MW electrical',\n",
    "    'heat and power co-generation, natural gas, conventional power plant, 100MW electrical',\n",
    "    'heat and power co-generation, oil',\n",
    "    'heat and power co-generation, wood chips, 6667 kW',\n",
    "    'heat and power co-generation, wood chips, 6667 kW, state-of-the-art 2014',\n",
    "    'treatment of blast furnace gas, in power plant',\n",
    "    'treatment of coal gas, in power plant',\n",
    "}\n",
    "\n",
    "MEDIUM_VOLTAGE = {\n",
    "    'electricity, from municipal waste incineration to generic market for electricity, medium voltage',\n",
    "}\n",
    "\n",
    "LOW_VOLTAGE = {\n",
    "    'electricity production, photovoltaic, 3kWp facade installation, multi-Si, laminated, integrated',\n",
    "    'electricity production, photovoltaic, 3kWp facade installation, multi-Si, panel, mounted',\n",
    "    'electricity production, photovoltaic, 3kWp facade installation, single-Si, laminated, integrated',\n",
    "    'electricity production, photovoltaic, 3kWp facade installation, single-Si, panel, mounted',\n",
    "    'electricity production, photovoltaic, 3kWp flat-roof installation, multi-Si',\n",
    "    'electricity production, photovoltaic, 3kWp flat-roof installation, single-Si',\n",
    "    'electricity production, photovoltaic, 3kWp slanted-roof installation, CIS, panel, mounted',\n",
    "    'electricity production, photovoltaic, 3kWp slanted-roof installation, CdTe, laminated, integrated',\n",
    "    'electricity production, photovoltaic, 3kWp slanted-roof installation, a-Si, laminated, integrated',\n",
    "    'electricity production, photovoltaic, 3kWp slanted-roof installation, a-Si, panel, mounted',\n",
    "    'electricity production, photovoltaic, 3kWp slanted-roof installation, multi-Si, laminated, integrated',\n",
    "    'electricity production, photovoltaic, 3kWp slanted-roof installation, multi-Si, panel, mounted',\n",
    "    'electricity production, photovoltaic, 3kWp slanted-roof installation, ribbon-Si, laminated, integrated',\n",
    "    'electricity production, photovoltaic, 3kWp slanted-roof installation, ribbon-Si, panel, mounted',\n",
    "    'electricity production, photovoltaic, 3kWp slanted-roof installation, single-Si, laminated, integrated',\n",
    "    'electricity production, photovoltaic, 3kWp slanted-roof installation, single-Si, panel, mounted',\n",
    "    'electricity production, photovoltaic, 570kWp open ground installation, multi-Si',\n",
    "}\n",
    "\n",
    "LOSSES = {\n",
    "    'market for electricity, low voltage',\n",
    "    'market for electricity, medium voltage',\n",
    "    'market for electricity, high voltage',\n",
    "}\n",
    "\n",
    "TRANSFORMATION = {\n",
    "    'electricity voltage transformation from medium to low voltage',\n",
    "    'electricity voltage transformation from high to medium voltage',\n",
    "}\n",
    "\n",
    "IGNORE = {\n",
    "    'market group for electricity, high voltage',\n",
    "}"
   ]
  },
  {
   "cell_type": "markdown",
   "id": "0dc0f828-5d16-4cd8-81b3-d1a0c5bd510a",
   "metadata": {},
   "source": [
    "## Comparing aggregate values"
   ]
  },
  {
   "cell_type": "code",
   "execution_count": 16,
   "id": "1c67a533-5255-4e0a-81b0-97b1162ed994",
   "metadata": {},
   "outputs": [],
   "source": [
    "from bentso import CachingDataClient as CDC"
   ]
  },
  {
   "cell_type": "code",
   "execution_count": 17,
   "id": "b694f3bb-4fc4-4019-a92a-a12efb6b46d6",
   "metadata": {},
   "outputs": [
    {
     "name": "stdout",
     "output_type": "stream",
     "text": [
      "Using data directory /Users/cmutel/Code/akula/entso-data-cache\n"
     ]
    }
   ],
   "source": [
    "cdc = CDC()"
   ]
  },
  {
   "cell_type": "code",
   "execution_count": 18,
   "id": "41f2352c-f0da-4c6f-b207-a85065f6f891",
   "metadata": {},
   "outputs": [],
   "source": [
    "def clean_consumption_values(df):\n",
    "    df.drop([col for col in df.columns if col[1] == 'Actual Consumption'], axis=1, inplace=True)\n",
    "    df.columns = df.columns.get_level_values(0)\n",
    "    return df"
   ]
  },
  {
   "cell_type": "code",
   "execution_count": 19,
   "id": "e7a9b526-b8c4-4441-b26b-9a82ad053c97",
   "metadata": {},
   "outputs": [],
   "source": [
    "def get_df(country, year=2020):\n",
    "    df = cdc.get_generation(country=country, year=2020)\n",
    "    if isinstance(df.columns, pd.core.indexes.multi.MultiIndex):\n",
    "        df = clean_consumption_values(df)\n",
    "    return df"
   ]
  },
  {
   "cell_type": "code",
   "execution_count": 20,
   "id": "3d8e5845-527c-4f7b-b490-055c7d33e04b",
   "metadata": {},
   "outputs": [],
   "source": [
    "def included_exchange(exc):\n",
    "    return (\n",
    "        (exc.input != exc.output) and\n",
    "        (exc.input['unit'] == 'kilowatt hour') and\n",
    "        (\"import from\" not in exc.input['name']) and\n",
    "        (exc.input['name'] not in IGNORE) and\n",
    "        (exc.input['name'] not in TRANSFORMATION)\n",
    "    )"
   ]
  },
  {
   "cell_type": "markdown",
   "id": "51dde7cb-3362-487d-b2fb-9e9ef5ca2039",
   "metadata": {},
   "source": [
    "### Dealing with high, medium, and low voltage mixes\n",
    "\n",
    "ENTSO gives us totals generated in MWh; we need to translate that to relative shares of the separat markets, while keeping the totals correct.\n",
    "\n",
    "The low voltage market is made up of PV and imports from medium voltage; similarly, the medium voltage is waste incineration and imports from high voltage. There are also losees in transmission and distribution, but we ignore these in this calculation.\n",
    "\n",
    "The easiest to gets the numbers right is to start from low voltage (LV). Let's assume it is 100 MWh total. Then the total generation allocated to the aggregated LV generations sources is:\n",
    "\n",
    "$\\frac{LV}{TOTAL}$\n",
    "\n",
    "And the import from MV is:\n",
    "\n",
    "$\\frac{1 - LV}{TOTAL}$\n",
    "\n",
    "Medium voltage is already a bit trickier. We need to keep the absolute and relative numbers in our heads simultaneously. We want the fraction of the generation that MV sources can contribute as a fraction of the total MV market, which is MV plus HV, or TOTAL - LV. The scaling factor then applied to MV sources is then:\n",
    "\n",
    "$\\frac{MV}{TOTAL - LV}$\n",
    "\n",
    "And the import from HV is:\n",
    "\n",
    "$\\frac{1 - MV}{TOTAL - LV}$\n",
    "\n",
    "For HV, we can just normalize all HV sources to sum to one; there is no import from a higher voltage level.\n",
    "\n",
    "However, we also need to include trade! So these equations are OK for comparing generation, we would need to substitute $IMPORTS + TOTAL$ for $TOTAL$ in each equation in actual use."
   ]
  },
  {
   "cell_type": "code",
   "execution_count": 21,
   "id": "b4c9e705-2272-423a-bc94-8438a6ca4275",
   "metadata": {},
   "outputs": [],
   "source": [
    "def compare_fractional_generation(country, year=2020):\n",
    "    hv = ei.get(name='market for electricity, high voltage', location=country)\n",
    "    mv = ei.get(name='market for electricity, medium voltage', location=country)\n",
    "    lv = ei.get(name='market for electricity, low voltage', location=country)\n",
    "    \n",
    "    entso_df = get_df(country=country, year=2020).sum(axis=0)\n",
    "    entso_df = (entso_df / entso_df.sum()).to_dict()\n",
    "    \n",
    "    sum_hv = sum(exc['amount'] for exc in hv.technosphere() if included_exchange(exc))\n",
    "    # sum_mv = sum(exc['amount'] for exc in mv.technosphere() if included_exchange(exc))\n",
    "    # sum_lv = sum(exc['amount'] for exc in lv.technosphere() if included_exchange(exc))\n",
    "    conv_mv_to_lv = sum(exc['amount'] for exc in lv.technosphere() \n",
    "                        if exc.input['name'] == 'electricity voltage transformation from medium to low voltage')\n",
    "    conv_hv_to_lv = (conv_mv_to_lv *\n",
    "                     sum(exc['amount'] for exc in mv.technosphere() \n",
    "                         if exc.input['name'] == 'electricity voltage transformation from high to medium voltage')\n",
    "                    )\n",
    "    \n",
    "    ei_data = {\n",
    "        'Solar': sum(exc['amount'] for exc in lv.technosphere() if included_exchange(exc)),\n",
    "        'Waste': sum(exc['amount'] for exc in mv.technosphere() if included_exchange(exc)) * conv_mv_to_lv,\n",
    "    }\n",
    "    \n",
    "    for key, lst in ENTSO_MAPPING.items():\n",
    "        if key in ei_data:\n",
    "            continue\n",
    "        exchanges = [exc for exc in hv.technosphere() if exc.input['name'] in lst]\n",
    "        if not exchanges:\n",
    "            continue\n",
    "        \n",
    "        ei_data[key] = (\n",
    "            sum(exc['amount'] for exc in exchanges) \n",
    "            / sum_hv  # production doesn't add up to 1 - there are also imports\n",
    "            * conv_hv_to_lv\n",
    "        )\n",
    "    \n",
    "    all_keys = set(ei_data).union(set(entso_df))\n",
    "    for key in all_keys:\n",
    "        if key not in entso_df:\n",
    "            entso_df[key] = 0\n",
    "        if key not in ei_data:\n",
    "            ei_data[key] = 0\n",
    "    \n",
    "    return pd.DataFrame({'ENTSO': entso_df, 'ecoinvent': ei_data})"
   ]
  },
  {
   "cell_type": "code",
   "execution_count": 93,
   "id": "cf69620e-4519-41b7-bebd-c0a7ce7b73c1",
   "metadata": {},
   "outputs": [],
   "source": [
    "from pandas import ExcelWriter"
   ]
  },
  {
   "cell_type": "code",
   "execution_count": 98,
   "id": "db8f833f-9447-46f0-9426-49c128ed4ca9",
   "metadata": {},
   "outputs": [],
   "source": [
    "with pd.ExcelWriter(\"generation.xlsx\") as writer:\n",
    "    for country in ENTSO_COUNTRIES:\n",
    "        df = compare_fractional_generation(country, 2019) \n",
    "        df['difference'] = df['ENTSO'] - df['ecoinvent']\n",
    "        df.to_excel(writer, sheet_name=country)"
   ]
  },
  {
   "cell_type": "markdown",
   "id": "ffdfc8ee-21c9-49a8-acac-d0bd8588c1fb",
   "metadata": {},
   "source": [
    "## Generate a datapackage to substitute ENTSO data for ecoinvent numbers\n",
    "\n",
    "We will only change the basic high, medium, and low voltage markets. Industry- or customer-specific electricity markets are left alone.\n",
    "\n",
    "### Changing the way electricity is imported\n",
    "\n",
    "To model electricity imports, ecoinvent uses the following chain:\n",
    "\n",
    "    electricity, high voltage (foo) \n",
    "        <- electricity, high voltage, import from bar\n",
    "            <- electricity, high voltage (bar)\n",
    "            \n",
    "We change simplify this. There is no need to create this proxy process, we can directly use `electricity, high voltage (bar)`."
   ]
  },
  {
   "cell_type": "code",
   "execution_count": 22,
   "id": "0437cb68-e9d5-4809-9d23-d0e9497fef0c",
   "metadata": {},
   "outputs": [
    {
     "data": {
      "text/html": [
       "<div>\n",
       "<style scoped>\n",
       "    .dataframe tbody tr th:only-of-type {\n",
       "        vertical-align: middle;\n",
       "    }\n",
       "\n",
       "    .dataframe tbody tr th {\n",
       "        vertical-align: top;\n",
       "    }\n",
       "\n",
       "    .dataframe thead th {\n",
       "        text-align: right;\n",
       "    }\n",
       "</style>\n",
       "<table border=\"1\" class=\"dataframe\">\n",
       "  <thead>\n",
       "    <tr style=\"text-align: right;\">\n",
       "      <th></th>\n",
       "      <th>ENTSO</th>\n",
       "      <th>ecoinvent</th>\n",
       "    </tr>\n",
       "  </thead>\n",
       "  <tbody>\n",
       "    <tr>\n",
       "      <th>Biomass</th>\n",
       "      <td>0.016056</td>\n",
       "      <td>0.012940</td>\n",
       "    </tr>\n",
       "    <tr>\n",
       "      <th>Fossil Brown coal/Lignite</th>\n",
       "      <td>0.000000</td>\n",
       "      <td>0.007119</td>\n",
       "    </tr>\n",
       "    <tr>\n",
       "      <th>Fossil Coal-derived gas</th>\n",
       "      <td>0.000000</td>\n",
       "      <td>0.000467</td>\n",
       "    </tr>\n",
       "    <tr>\n",
       "      <th>Fossil Gas</th>\n",
       "      <td>0.257964</td>\n",
       "      <td>0.120847</td>\n",
       "    </tr>\n",
       "    <tr>\n",
       "      <th>Fossil Hard coal</th>\n",
       "      <td>0.021526</td>\n",
       "      <td>0.147656</td>\n",
       "    </tr>\n",
       "    <tr>\n",
       "      <th>Fossil Oil</th>\n",
       "      <td>0.007724</td>\n",
       "      <td>0.040121</td>\n",
       "    </tr>\n",
       "    <tr>\n",
       "      <th>Fossil Oil shale</th>\n",
       "      <td>0.000000</td>\n",
       "      <td>0.000000</td>\n",
       "    </tr>\n",
       "    <tr>\n",
       "      <th>Fossil Peat</th>\n",
       "      <td>0.000000</td>\n",
       "      <td>0.000000</td>\n",
       "    </tr>\n",
       "    <tr>\n",
       "      <th>Geothermal</th>\n",
       "      <td>0.000000</td>\n",
       "      <td>0.000000</td>\n",
       "    </tr>\n",
       "    <tr>\n",
       "      <th>Hydro Run-of-river and poundage</th>\n",
       "      <td>0.042326</td>\n",
       "      <td>0.093979</td>\n",
       "    </tr>\n",
       "    <tr>\n",
       "      <th>Hydro Water Reservoir</th>\n",
       "      <td>0.098836</td>\n",
       "      <td>0.048413</td>\n",
       "    </tr>\n",
       "    <tr>\n",
       "      <th>Marine</th>\n",
       "      <td>0.000000</td>\n",
       "      <td>0.000000</td>\n",
       "    </tr>\n",
       "    <tr>\n",
       "      <th>Nuclear</th>\n",
       "      <td>0.233844</td>\n",
       "      <td>0.225567</td>\n",
       "    </tr>\n",
       "    <tr>\n",
       "      <th>Other</th>\n",
       "      <td>0.001808</td>\n",
       "      <td>0.005165</td>\n",
       "    </tr>\n",
       "    <tr>\n",
       "      <th>Other renewable</th>\n",
       "      <td>0.003702</td>\n",
       "      <td>0.000000</td>\n",
       "    </tr>\n",
       "    <tr>\n",
       "      <th>Solar</th>\n",
       "      <td>0.083934</td>\n",
       "      <td>0.051824</td>\n",
       "    </tr>\n",
       "    <tr>\n",
       "      <th>Waste</th>\n",
       "      <td>0.009602</td>\n",
       "      <td>0.000602</td>\n",
       "    </tr>\n",
       "    <tr>\n",
       "      <th>Wind Offshore</th>\n",
       "      <td>0.000000</td>\n",
       "      <td>0.000042</td>\n",
       "    </tr>\n",
       "    <tr>\n",
       "      <th>Wind Onshore</th>\n",
       "      <td>0.222679</td>\n",
       "      <td>0.216100</td>\n",
       "    </tr>\n",
       "    <tr>\n",
       "      <th>Hydro Pumped Storage</th>\n",
       "      <td>0.000000</td>\n",
       "      <td>0.010518</td>\n",
       "    </tr>\n",
       "  </tbody>\n",
       "</table>\n",
       "</div>"
      ],
      "text/plain": [
       "                                    ENTSO  ecoinvent\n",
       "Biomass                          0.016056   0.012940\n",
       "Fossil Brown coal/Lignite        0.000000   0.007119\n",
       "Fossil Coal-derived gas          0.000000   0.000467\n",
       "Fossil Gas                       0.257964   0.120847\n",
       "Fossil Hard coal                 0.021526   0.147656\n",
       "Fossil Oil                       0.007724   0.040121\n",
       "Fossil Oil shale                 0.000000   0.000000\n",
       "Fossil Peat                      0.000000   0.000000\n",
       "Geothermal                       0.000000   0.000000\n",
       "Hydro Run-of-river and poundage  0.042326   0.093979\n",
       "Hydro Water Reservoir            0.098836   0.048413\n",
       "Marine                           0.000000   0.000000\n",
       "Nuclear                          0.233844   0.225567\n",
       "Other                            0.001808   0.005165\n",
       "Other renewable                  0.003702   0.000000\n",
       "Solar                            0.083934   0.051824\n",
       "Waste                            0.009602   0.000602\n",
       "Wind Offshore                    0.000000   0.000042\n",
       "Wind Onshore                     0.222679   0.216100\n",
       "Hydro Pumped Storage             0.000000   0.010518"
      ]
     },
     "execution_count": 22,
     "metadata": {},
     "output_type": "execute_result"
    }
   ],
   "source": [
    "df = compare_fractional_generation('ES', 2019)\n",
    "df"
   ]
  },
  {
   "cell_type": "code",
   "execution_count": null,
   "id": "ea442e47-b8bf-4aa8-93ee-a06393fa66db",
   "metadata": {},
   "outputs": [],
   "source": []
  }
 ],
 "metadata": {
  "kernelspec": {
   "display_name": "Python 3 (ipykernel)",
   "language": "python",
   "name": "python3"
  },
  "language_info": {
   "codemirror_mode": {
    "name": "ipython",
    "version": 3
   },
   "file_extension": ".py",
   "mimetype": "text/x-python",
   "name": "python",
   "nbconvert_exporter": "python",
   "pygments_lexer": "ipython3",
   "version": "3.9.7"
  }
 },
 "nbformat": 4,
 "nbformat_minor": 5
}
