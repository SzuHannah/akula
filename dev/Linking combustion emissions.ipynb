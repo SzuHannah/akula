{
 "cells": [
  {
   "cell_type": "code",
   "execution_count": 42,
   "id": "79eb6aec",
   "metadata": {},
   "outputs": [],
   "source": [
    "import bw2data as bd\n",
    "from collections import defaultdict\n",
    "from tqdm import tqdm\n",
    "from thefuzz import fuzz\n",
    "import bw_processing as bwp\n",
    "import numpy as np\n",
    "import math\n",
    "import stats_arrays as sa"
   ]
  },
  {
   "cell_type": "code",
   "execution_count": 2,
   "id": "40d7a124-8aa8-49d9-a3fb-a309a3d7aecc",
   "metadata": {},
   "outputs": [],
   "source": [
    "bd.projects.set_current('GSA for archetypes')"
   ]
  },
  {
   "cell_type": "code",
   "execution_count": 3,
   "id": "64f41259",
   "metadata": {},
   "outputs": [
    {
     "data": {
      "text/plain": [
       "Databases dictionary with 3 object(s):\n",
       "\tbiosphere3\n",
       "\tecoinvent 3.8 cutoff\n",
       "\tswiss consumption 1.0"
      ]
     },
     "execution_count": 3,
     "metadata": {},
     "output_type": "execute_result"
    }
   ],
   "source": [
    "bd.databases"
   ]
  },
  {
   "cell_type": "markdown",
   "id": "6773bd85-2968-4ddd-b1f9-4d27fbe2f7b5",
   "metadata": {},
   "source": [
    "## Finding liquid fuel combustors"
   ]
  },
  {
   "cell_type": "code",
   "execution_count": 33,
   "id": "18ee9d93-b3be-4cb8-8933-7db49d14cf2f",
   "metadata": {},
   "outputs": [],
   "source": [
    "ei = bd.Database(\"ecoinvent 3.8 cutoff\")"
   ]
  },
  {
   "cell_type": "markdown",
   "id": "2e359844-89a9-4892-962a-cca384bb95bc",
   "metadata": {},
   "source": [
    "There are other combustion processes where fuels are measured in megajoules, these will be addressed later."
   ]
  },
  {
   "cell_type": "code",
   "execution_count": 36,
   "id": "24fa74b9-b66e-427e-bb0c-e21989a85b9d",
   "metadata": {},
   "outputs": [
    {
     "data": {
      "text/plain": [
       "{'diesel, import from RoW',\n",
       " 'diesel, low-sulfur, import from Europe',\n",
       " 'diesel, low-sulfur, import from RoW',\n",
       " 'market for diesel',\n",
       " 'market for diesel, low-sulfur',\n",
       " 'market for petrol, 15% ETBE additive by volume, with ethanol from biomass',\n",
       " 'market for petrol, 4% ETBE additive by volume, with ethanol from biomass',\n",
       " 'market for petrol, 5% ethanol by volume from biomass',\n",
       " 'market for petrol, low-sulfur',\n",
       " 'market for petrol, two-stroke blend',\n",
       " 'market for petrol, unleaded',\n",
       " 'petrol, low-sulfur, import from Europe',\n",
       " 'petrol, unleaded, import from RoW'}"
      ]
     },
     "execution_count": 36,
     "metadata": {},
     "output_type": "execute_result"
    }
   ],
   "source": [
    "flows = ('market for diesel,', 'diesel,', 'petrol,', 'market for petrol,')\n",
    "liquid_fuels = [x \n",
    "                for x in ei \n",
    "                if x['unit'] == 'kilogram'\n",
    "                and((any(x['name'].startswith(flow) for flow in flows) or x['name'] == 'market for diesel'))\n",
    "               ]\n",
    "{x['name'] for x in liquid_fuels}"
   ]
  },
  {
   "cell_type": "markdown",
   "id": "e06a6a3c-ee31-4743-ba0c-eb5802b50200",
   "metadata": {},
   "source": [
    "### Look into modelling specifics"
   ]
  },
  {
   "cell_type": "code",
   "execution_count": 18,
   "id": "bdc2b989-bac3-4ae3-84c1-1092ef21f07a",
   "metadata": {},
   "outputs": [
    {
     "name": "stdout",
     "output_type": "stream",
     "text": [
      "{'amount': 0.865, 'unit': 'dimensionless', 'comment': 'carbon content on a dry matter basis (reserved; not for manual entry)'}\n"
     ]
    }
   ],
   "source": [
    "a = liquid_fuels[0]\n",
    "for production in a.production():\n",
    "    pass\n",
    "\n",
    "print(production['properties']['carbon content'])"
   ]
  },
  {
   "cell_type": "code",
   "execution_count": 19,
   "id": "924402e3-8eaf-4df0-b340-406434f71352",
   "metadata": {},
   "outputs": [
    {
     "data": {
      "text/plain": [
       "Exchange: 1.0 kilogram 'market for petrol, low-sulfur' (kilogram, Europe without Switzerland, None) to 'market for petrol, low-sulfur' (kilogram, Europe without Switzerland, None)>"
      ]
     },
     "execution_count": 19,
     "metadata": {},
     "output_type": "execute_result"
    }
   ],
   "source": [
    "production"
   ]
  },
  {
   "cell_type": "code",
   "execution_count": 12,
   "id": "660322f6-e804-4cfb-a6e7-e655e0c0fce4",
   "metadata": {},
   "outputs": [
    {
     "data": {
      "text/plain": [
       "Exchange: 0.0641344042785761 kilogram 'market for petrol, low-sulfur' (kilogram, Europe without Switzerland, None) to 'transport, passenger car, medium size, petrol, EURO 4' (kilometer, RER, None)>"
      ]
     },
     "execution_count": 12,
     "metadata": {},
     "output_type": "execute_result"
    }
   ],
   "source": [
    "consumer = list(a.consumers())[0]\n",
    "consumer"
   ]
  },
  {
   "cell_type": "code",
   "execution_count": 13,
   "id": "faaa9d8a-f467-4ae7-8459-3481177d205a",
   "metadata": {},
   "outputs": [
    {
     "data": {
      "text/plain": [
       "['Carbon dioxide, fossil' (kilogram, None, ('air', 'urban air close to ground')),\n",
       " 'Carbon dioxide, fossil' (kilogram, None, ('air', 'low population density, long-term')),\n",
       " 'Carbon dioxide, fossil' (kilogram, None, ('air', 'lower stratosphere + upper troposphere')),\n",
       " 'Carbon dioxide, fossil' (kilogram, None, ('air', 'non-urban air or from high stacks')),\n",
       " 'Carbon dioxide, fossil' (kilogram, None, ('air',))]"
      ]
     },
     "execution_count": 13,
     "metadata": {},
     "output_type": "execute_result"
    }
   ],
   "source": [
    "co2 = [x for x in bd.Database('biosphere3') if x['name'] == 'Carbon dioxide, fossil']\n",
    "co2"
   ]
  },
  {
   "cell_type": "code",
   "execution_count": 14,
   "id": "56ac4222-adec-4fa2-8052-03da5ade71f9",
   "metadata": {},
   "outputs": [
    {
     "data": {
      "text/plain": [
       "0.207834603648"
      ]
     },
     "execution_count": 14,
     "metadata": {},
     "output_type": "execute_result"
    }
   ],
   "source": [
    "total_co2 = sum(exc['amount'] for exc in consumer.output.biosphere() if exc.input in co2)\n",
    "total_co2"
   ]
  },
  {
   "cell_type": "code",
   "execution_count": 20,
   "id": "ef9e77e7-b4c3-4f87-b3da-921c6ba9fbf6",
   "metadata": {},
   "outputs": [
    {
     "data": {
      "text/plain": [
       "0.20341295223688385"
      ]
     },
     "execution_count": 20,
     "metadata": {},
     "output_type": "execute_result"
    }
   ],
   "source": [
    "consumer['amount'] / production['amount'] * production['properties']['carbon content']['amount'] * (12 + 16 * 2) / 12"
   ]
  },
  {
   "cell_type": "markdown",
   "id": "e2fc8596-002d-46c5-996a-f80f6165f308",
   "metadata": {},
   "source": [
    "These numbers don't match because there is a second petrol input. Let's write a validation function."
   ]
  },
  {
   "cell_type": "code",
   "execution_count": 38,
   "id": "cf89f325-13d5-476d-8b1c-39966f107f17",
   "metadata": {},
   "outputs": [],
   "source": [
    "def carbon_fuel_emissions_balanced(activity, fuels, co2):\n",
    "    \"\"\"Check that we can rescale carbon in fuel to CO2 emissions by checking their stoichiometry.\n",
    "    \n",
    "    Returns a ``bool`.\"\"\"\n",
    "    try:\n",
    "        total_carbon = sum(\n",
    "            # Carbon content amount is fraction of mass, unitless\n",
    "            exc['amount'] * exc['properties']['carbon content']['amount'] \n",
    "            for exc in activity.technosphere() \n",
    "            if exc.input in fuels)\n",
    "    except KeyError:\n",
    "        return False\n",
    "    conversion = 12 / (12 + 16 * 2)\n",
    "    total_carbon_in_co2 = sum(\n",
    "        exc['amount'] * conversion\n",
    "        for exc in activity.biosphere()\n",
    "        if exc.input in co2\n",
    "    )\n",
    "    return math.isclose(total_carbon, total_carbon_in_co2, rel_tol=1e-06, abs_tol=1e-3)"
   ]
  },
  {
   "cell_type": "code",
   "execution_count": 39,
   "id": "4a3c7954-a9ec-4d7f-a7c5-893e472ea067",
   "metadata": {},
   "outputs": [
    {
     "data": {
      "text/plain": [
       "True"
      ]
     },
     "execution_count": 39,
     "metadata": {},
     "output_type": "execute_result"
    }
   ],
   "source": [
    "carbon_fuel_emissions_balanced(consumer.input, liquid_fuels, co2)"
   ]
  },
  {
   "cell_type": "markdown",
   "id": "5dd83702-0b46-472e-8c8a-4df23ebb79e9",
   "metadata": {},
   "source": [
    "We also need an iterator that will return scaling factors sampled from the uncertainty. Note that we need to add all the carbon together to get the rescaling correct."
   ]
  },
  {
   "cell_type": "code",
   "execution_count": 57,
   "id": "a90222f2-51b5-47ec-b468-39c3e7f62a08",
   "metadata": {},
   "outputs": [],
   "source": [
    "def get_samples_and_scaling_vector(activity, fuels, size=10, seed=None):\n",
    "    \"\"\"Draw ``size`` samples from technosphere exchanges for ``activity`` whose inputs are in ``fuels``.\n",
    "    \n",
    "    Returns:\n",
    "        * Numpy indices array with shape ``(len(found_exchanges)),)``\n",
    "        * Numpy flip array with shape ``(len(found_exchanges,))``\n",
    "        * Numpy data array with shape ``(size, len(found_exchanges))``\n",
    "        * Scaling vector with relative total carbon consumption and shape ``(size,)``.\n",
    "    \"\"\"\n",
    "    exchanges = [exc for exc in activity.technosphere() if exc.input in fuels]\n",
    "    static_total = sum(exc['amount'] * exc['properties']['carbon content']['amount'] for exc in exchanges)\n",
    "    sample = sa.MCRandomNumberGenerator(\n",
    "        sa.UncertaintyBase.from_dicts(*[exc.as_dict() for exc in exchanges]), \n",
    "        seed=seed\n",
    "    ).generate(samples=size)\n",
    "    indices = np.array([(exc.input.id, exc.output.id) for exc in exchanges], dtype=bwp.INDICES_DTYPE)\n",
    "    carbon_fraction = np.array([exc['properties']['carbon content']['amount'] for exc in exchanges]).reshape((-1, 1))\n",
    "    carbon_total_per_sample = (sample * carbon_fraction).sum(axis=0).ravel()\n",
    "    flip = np.ones(indices.shape, dtype=bool)\n",
    "    assert carbon_total_per_sample.shape == (size,)\n",
    "    return indices, flip, sample, carbon_total_per_sample / static_total"
   ]
  },
  {
   "cell_type": "code",
   "execution_count": 58,
   "id": "b148879a-53d8-41c8-8794-5ab90745870e",
   "metadata": {},
   "outputs": [
    {
     "data": {
      "text/plain": [
       "(array([(23091, 4569), ( 6596, 4569)],\n",
       "       dtype=[('row', '<i4'), ('col', '<i4')]),\n",
       " array([ True,  True]),\n",
       " array([[0.06113076, 0.05726952, 0.06832648, 0.06287543, 0.10252436,\n",
       "         0.0576822 , 0.07242146, 0.09426782, 0.05455941, 0.0759939 ],\n",
       "        [0.00151065, 0.00099219, 0.00126345, 0.00119578, 0.00125752,\n",
       "         0.00167235, 0.0014662 , 0.00105135, 0.0007399 , 0.00121496]]),\n",
       " array([0.95845283, 0.89144085, 1.06476959, 0.98032971, 1.58792794,\n",
       "        0.90816197, 1.13052762, 1.45844315, 0.84611412, 1.18134398]))"
      ]
     },
     "execution_count": 58,
     "metadata": {},
     "output_type": "execute_result"
    }
   ],
   "source": [
    "get_samples_and_scaling_vector(consumer.output, liquid_fuels)"
   ]
  },
  {
   "cell_type": "code",
   "execution_count": 56,
   "id": "045f69b2-5f76-4f73-bfbd-19091ece43a5",
   "metadata": {},
   "outputs": [],
   "source": [
    "def rescale_biosphere_exchanges_by_factors(activity, factors, flows):\n",
    "    \"\"\"Rescale biosphere exchanges with flows ``flows`` from ``activity`` by vector ``factors``.\n",
    "    \n",
    "    ``flows`` are biosphere flow objects, with e.g. all the CO2 flows, but also other flows such as metals, volatile organics, etc. \n",
    "    Only rescales flows in ``flows`` which are present in ``activity`` exchanges.\n",
    "    \n",
    "    Assumes the static values are balanced, i.e. won't calculate CO2 emissions from carbon in \n",
    "    fuels but just rescales given values.\n",
    "\n",
    "    Returns: Numpy indices and data arrays with shape (number of exchanges found, len(factors)).\n",
    "    Returns:\n",
    "        * Numpy indices array with shape ``(len(found_exchanges)),)``\n",
    "        * Numpy flip array with shape ``(len(found_exchanges,))``\n",
    "        * Numpy data array with shape ``(len(found_exchanges), len(factors))``\n",
    "    \"\"\"\n",
    "    indices, data = [], []\n",
    "    assert isinstance(factors, np.ndarray) and len(factors.shape) == 1\n",
    "    \n",
    "    for exc in activity.biosphere():\n",
    "        if exc.input in flows:\n",
    "            indices.append((exc.input.id, exc.output.id))\n",
    "            data.append(factors * exc['amount'])\n",
    "            \n",
    "    return np.array(indices, dtype=bwp.INDICES_DTYPE), np.zeros(len(indices), dtype=bool), np.vstack(data)"
   ]
  },
  {
   "cell_type": "code",
   "execution_count": 31,
   "id": "68f32845-389f-4aee-a324-f6b05c06aa3e",
   "metadata": {},
   "outputs": [
    {
     "data": {
      "text/plain": [
       "(array([(118, 4569)], dtype=[('row', '<i4'), ('col', '<i4')]),\n",
       " array([[0.16626768, 0.17550478, 0.18474187, 0.19397896, 0.20321606,\n",
       "         0.21245315, 0.22169024, 0.23092734, 0.24016443, 0.24940152]]))"
      ]
     },
     "execution_count": 31,
     "metadata": {},
     "output_type": "execute_result"
    }
   ],
   "source": [
    "i, d = rescale_biosphere_exchanges_by_factors(consumer.output, np.linspace(0.8, 1.2, 10), co2)\n",
    "i, d"
   ]
  },
  {
   "cell_type": "code",
   "execution_count": 32,
   "id": "1beb637e-08a9-4ee1-8239-dadb915c975f",
   "metadata": {},
   "outputs": [
    {
     "data": {
      "text/plain": [
       "(1, 10)"
      ]
     },
     "execution_count": 32,
     "metadata": {},
     "output_type": "execute_result"
    }
   ],
   "source": [
    "d.shape"
   ]
  }
 ],
 "metadata": {
  "kernelspec": {
   "display_name": "Python 3 (ipykernel)",
   "language": "python",
   "name": "python3"
  },
  "language_info": {
   "codemirror_mode": {
    "name": "ipython",
    "version": 3
   },
   "file_extension": ".py",
   "mimetype": "text/x-python",
   "name": "python",
   "nbconvert_exporter": "python",
   "pygments_lexer": "ipython3",
   "version": "3.9.8"
  }
 },
 "nbformat": 4,
 "nbformat_minor": 5
}
