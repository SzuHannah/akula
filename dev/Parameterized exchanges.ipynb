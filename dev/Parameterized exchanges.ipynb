{
 "cells": [
  {
   "cell_type": "code",
   "execution_count": 156,
   "id": "713f32e8-206f-4c39-ba2f-dbec1fa42c3d",
   "metadata": {},
   "outputs": [],
   "source": [
    "import bw2data as bd\n",
    "import bw2io as bi\n",
    "from pprint import pprint\n",
    "from tqdm import tqdm\n",
    "import bw2parameters as bwp\n",
    "import numpy as np\n",
    "import traceback\n",
    "import sys\n",
    "import re"
   ]
  },
  {
   "cell_type": "code",
   "execution_count": 2,
   "id": "c9e5f8f5-6b4f-4dcd-be42-4b52090d4abe",
   "metadata": {},
   "outputs": [],
   "source": [
    "assert bi.__version__ >= (0, 9, \"DEV7\")"
   ]
  },
  {
   "cell_type": "code",
   "execution_count": 100,
   "id": "255c6a01-3425-4744-bb00-b2f814871de5",
   "metadata": {},
   "outputs": [],
   "source": [
    "from asteval import Interpreter\n",
    "from numbers import Number\n",
    "from bw2parameters.errors import BroadcastingError\n",
    "from stats_arrays import uncertainty_choices\n",
    "\n",
    "\n",
    "MC_ERROR_TEXT = \"\"\"Formula returned array of wrong shape:\n",
    "Name: {}\n",
    "Formula: {}\n",
    "Expected shape: {}\n",
    "Returned shape: {}\"\"\"\n",
    "\n",
    "\n",
    "class PatchedParameterSet(bwp.ParameterSet):\n",
    "    def evaluate_monte_carlo(self, iterations=1000):\n",
    "        \"\"\"Evaluate each formula using Monte Carlo and variable uncertainty data, if present.\n",
    "\n",
    "        Formulas **must** return a one-dimensional array, or ``BroadcastingError`` is raised.\n",
    "\n",
    "        Returns dictionary of ``{parameter name: numpy array}``.\"\"\"\n",
    "        interpreter = Interpreter()\n",
    "        result = {}\n",
    "\n",
    "        def get_rng_sample(obj):\n",
    "            if isinstance(obj, np.ndarray):\n",
    "                # Already a Monte Carlo sample\n",
    "                return obj\n",
    "            if 'uncertainty_type' not in obj:\n",
    "                if 'uncertainty type' not in obj:\n",
    "                    obj = obj.copy()\n",
    "                    obj['uncertainty_type'] = 0\n",
    "                    obj['loc'] = obj['amount']\n",
    "                else:\n",
    "                    obj['uncertainty_type'] = obj['uncertainty type']\n",
    "            kls = uncertainty_choices[obj['uncertainty_type']]\n",
    "            return kls.bounded_random_variables(kls.from_dicts(obj), iterations).ravel()\n",
    "\n",
    "        def fix_shape(array):\n",
    "            # This is new\n",
    "            if array is None:\n",
    "                return np.zeros((iterations,))\n",
    "            elif isinstance(array, Number):\n",
    "                return np.ones((iterations,)) * array\n",
    "            elif not isinstance(array, np.ndarray):\n",
    "                return np.zeros((iterations,))\n",
    "            elif array.shape in {(1, iterations), (iterations, 1)}:\n",
    "                return array.reshape((iterations,))\n",
    "            else:\n",
    "                return array\n",
    "\n",
    "        for key in self.order:\n",
    "            if key in self.global_params:\n",
    "                interpreter.symtable[key] = result[key] = get_rng_sample(self.global_params[key])\n",
    "            elif self.params[key].get('formula'):\n",
    "                sample = fix_shape(interpreter(self.params[key]['formula']))\n",
    "                if sample.shape != (iterations,):\n",
    "                    raise BroadcastingError(MC_ERROR_TEXT.format(\n",
    "                        key, self.params[key]['formula'], (iterations,), sample.shape)\n",
    "                    )\n",
    "                interpreter.symtable[key] = result[key] = sample\n",
    "            else:\n",
    "                interpreter.symtable[key] = result[key] = get_rng_sample(self.params[key])\n",
    "        return result"
   ]
  },
  {
   "cell_type": "code",
   "execution_count": 3,
   "id": "f8c1ecd0-1736-4847-90d1-e43f1ef26d42",
   "metadata": {},
   "outputs": [],
   "source": [
    "bd.projects.set_current('GSA for archetypes')"
   ]
  },
  {
   "cell_type": "code",
   "execution_count": 4,
   "id": "026d0337-ea4f-46cd-a5b7-b501922d25c5",
   "metadata": {},
   "outputs": [],
   "source": [
    "ei = bd.Database(\"ecoinvent 3.8 cutoff\")\n",
    "if not ei.metadata.get('fixed chemical formula name'):\n",
    "    from bw2data.backends.schema import ExchangeDataset as ED\n",
    "    \n",
    "    qs = ED.select().where(ED.output_database == \"ecoinvent 3.8 cutoff\")\n",
    "    print(\"this will take a while, maybe 30 minutes\")\n",
    "    \n",
    "    for exc in tqdm(qs, total=629959):\n",
    "        if 'formula' in exc.data:\n",
    "            exc.data['chemical formula'] = exc.data.pop('formula')\n",
    "            exc.save()\n",
    "\n",
    "    ei.metadata['fixed chemical formula name'] = True\n",
    "    bd.databases.flush()"
   ]
  },
  {
   "cell_type": "code",
   "execution_count": 36,
   "id": "889c18d0-da3e-4c09-8913-a617528f0fa9",
   "metadata": {},
   "outputs": [
    {
     "name": "stdout",
     "output_type": "stream",
     "text": [
      "Extracting XML data from 19565 datasets\n",
      "Extracted 19565 datasets in 223.61 seconds\n",
      "Applying strategy: normalize_units\n",
      "Applying strategy: update_ecoinvent_locations\n",
      "Applying strategy: remove_zero_amount_coproducts\n",
      "Applying strategy: remove_zero_amount_inputs_with_no_activity\n",
      "Applying strategy: remove_unnamed_parameters\n",
      "Applying strategy: es2_assign_only_product_with_amount_as_reference_product\n",
      "Applying strategy: assign_single_product_as_activity\n",
      "Applying strategy: create_composite_code\n",
      "Applying strategy: drop_unspecified_subcategories\n",
      "Applying strategy: fix_ecoinvent_flows_pre35\n",
      "Applying strategy: drop_temporary_outdated_biosphere_flows\n",
      "Applying strategy: link_biosphere_by_flow_uuid\n",
      "Applying strategy: link_internal_technosphere_by_composite_code\n",
      "Applying strategy: delete_exchanges_missing_activity\n",
      "Applying strategy: delete_ghost_exchanges\n",
      "Applying strategy: remove_uncertainty_from_negative_loss_exchanges\n",
      "Applying strategy: fix_unreasonably_high_lognormal_uncertainties\n",
      "Applying strategy: set_lognormal_loc_value\n",
      "Applying strategy: convert_activity_parameters_to_list\n",
      "Applying strategy: add_cpc_classification_from_single_reference_product\n",
      "Applying strategy: delete_none_synonyms\n",
      "Applying strategy: update_social_flows_in_older_consequential\n",
      "Applied 22 strategies in 12.58 seconds\n"
     ]
    }
   ],
   "source": [
    "fp_ecoinvent_38 = \"/Users/cmutel/Documents/lca/Ecoinvent/3.8/cutoff/datasets\"\n",
    "\n",
    "eii = bi.SingleOutputEcospold2Importer(fp_ecoinvent_38, \"ecoinvent 3.8 cutoff\")\n",
    "eii.apply_strategies()"
   ]
  },
  {
   "cell_type": "code",
   "execution_count": 37,
   "id": "0b0f451d-81cc-4052-8e86-5410f4f00e9c",
   "metadata": {},
   "outputs": [
    {
     "data": {
      "text/plain": [
       "8449"
      ]
     },
     "execution_count": 37,
     "metadata": {},
     "output_type": "execute_result"
    }
   ],
   "source": [
    "found = set()\n",
    "\n",
    "for act in eii.data:\n",
    "    if any(exc.get('formula') for exc in act['exchanges']):\n",
    "        found.add(\n",
    "            (sum(1 for exc in act['exchanges'] if exc.get('formula')), \n",
    "             act['name'], \n",
    "             act['reference product'], \n",
    "             act['location'], \n",
    "             act['unit'])\n",
    "        )\n",
    "        \n",
    "len(found)"
   ]
  },
  {
   "cell_type": "code",
   "execution_count": 38,
   "id": "40ea9a44-4cc3-460f-b044-bb50767280f6",
   "metadata": {},
   "outputs": [
    {
     "data": {
      "text/plain": [
       "[(122, 'cobalt production', 'zinc sulfide', 'GLO', 'kilogram'),\n",
       " (122, 'cobalt production', 'sulfuric acid', 'GLO', 'kilogram'),\n",
       " (122, 'cobalt production', 'sulfur', 'GLO', 'kilogram'),\n",
       " (122, 'cobalt production', 'nickel, class 1', 'GLO', 'kilogram'),\n",
       " (122, 'cobalt production', 'nickel sulfate', 'GLO', 'kilogram'),\n",
       " (122, 'cobalt production', 'nickel concentrate, 16% Ni', 'GLO', 'kilogram'),\n",
       " (122, 'cobalt production', 'ferronickel', 'GLO', 'kilogram'),\n",
       " (122, 'cobalt production', 'electrolyte, nickel-rich', 'GLO', 'cubic meter'),\n",
       " (122, 'cobalt production', 'electrolyte, copper-rich', 'GLO', 'kilogram'),\n",
       " (122,\n",
       "  'cobalt production',\n",
       "  'electricity, high voltage',\n",
       "  'GLO',\n",
       "  'kilowatt hour'),\n",
       " (122, 'cobalt production', 'copper, cathode', 'GLO', 'kilogram'),\n",
       " (122, 'cobalt production', 'copper, anode', 'GLO', 'kilogram'),\n",
       " (122,\n",
       "  'cobalt production',\n",
       "  'copper concentrate, sulfide ore',\n",
       "  'GLO',\n",
       "  'kilogram'),\n",
       " (122, 'cobalt production', 'copper cake', 'GLO', 'kilogram'),\n",
       " (122,\n",
       "  'cobalt production',\n",
       "  'calcium carbonate, precipitated',\n",
       "  'GLO',\n",
       "  'kilogram'),\n",
       " (122, 'cobalt production', 'ammonium sulfate', 'GLO', 'kilogram'),\n",
       " (122, 'cobalt production', 'ammonia, anhydrous, liquid', 'GLO', 'kilogram'),\n",
       " (121, 'cobalt production', 'cobalt oxide', 'GLO', 'kilogram'),\n",
       " (121, 'cobalt production', 'cobalt hydroxide', 'GLO', 'kilogram'),\n",
       " (121, 'cobalt production', 'cobalt carbonate', 'GLO', 'kilogram'),\n",
       " (121, 'cobalt production', 'cobalt acetate', 'GLO', 'kilogram'),\n",
       " (121, 'cobalt production', 'cobalt', 'GLO', 'kilogram'),\n",
       " (121, 'clinker production', 'clinker', 'RoW', 'kilogram'),\n",
       " (105, 'petroleum refinery operation', 'sulfur', 'CH', 'kilogram'),\n",
       " (105, 'petroleum refinery operation', 'refinery gas', 'CH', 'kilogram')]"
      ]
     },
     "execution_count": 38,
     "metadata": {},
     "output_type": "execute_result"
    }
   ],
   "source": [
    "list(sorted(found, reverse=True))[:25]"
   ]
  },
  {
   "cell_type": "code",
   "execution_count": 101,
   "id": "37eea7bc-98fb-42b6-b2dd-e68d19e61ef7",
   "metadata": {},
   "outputs": [],
   "source": [
    "def drop_pedigre_uncertainty(dct):\n",
    "    if 'scale' in dct and 'scale with pedigree' in dct:\n",
    "        dct['scale with pedigree'] = dct.pop('scale')\n",
    "        dct['scale'] = dct.pop('scale without pedigree')\n",
    "    return dct"
   ]
  },
  {
   "cell_type": "code",
   "execution_count": 164,
   "id": "f3cfb1a1-4aee-4642-bf5d-e2c03a04b33b",
   "metadata": {},
   "outputs": [],
   "source": [
    "test = \"0,034 * 10,42\"\n",
    "result = re.sub(r'(\\d)\\,(\\d)', r'\\1.\\2', test)\n",
    "assert result == '0.034 * 10.42'"
   ]
  },
  {
   "cell_type": "code",
   "execution_count": 180,
   "id": "bf4ab93f-acfb-4be5-9f00-f1b623a33745",
   "metadata": {},
   "outputs": [],
   "source": [
    "substitutions = {\n",
    "    'yield': 'yield_',\n",
    "    'import': 'import_',\n",
    "    'load': 'load_',\n",
    "}"
   ]
  },
  {
   "cell_type": "code",
   "execution_count": 195,
   "id": "d7761c5d-6f29-4cb2-9e8f-9e7c620ed648",
   "metadata": {},
   "outputs": [],
   "source": [
    "def clean_formula(string):\n",
    "    string = string.strip().replace(\"%\", \" / 100\").replace(\"^\", \" ** \").replace(\"\\r\\n\", \" \").replace(\"\\n\", \"\")\n",
    "\n",
    "    for k, v in substitutions.items():\n",
    "        string = string.replace(k, v)\n",
    "    \n",
    "    string = re.sub(r'(\\d)\\,(\\d)', r'\\1.\\2', string)\n",
    "    return string"
   ]
  },
  {
   "cell_type": "code",
   "execution_count": 196,
   "id": "0fe1eb0f-a572-4166-9882-11cb4594812a",
   "metadata": {},
   "outputs": [],
   "source": [
    "def clean_dct(dct):\n",
    "    if dct.get('formula'):\n",
    "        dct['formula'] = clean_formula(dct['formula'])\n",
    "    if dct.get('name') in substitutions:\n",
    "        dct['name'] = substitutions[dct['name']]\n",
    "    return dct"
   ]
  },
  {
   "cell_type": "code",
   "execution_count": 197,
   "id": "42657800-db57-460e-82b4-e17dfaf5eed0",
   "metadata": {},
   "outputs": [],
   "source": [
    "def reformat_parameters(act):\n",
    "    parameters = {substitutions.get(dct['name'], dct['name']): clean_dct(drop_pedigre_uncertainty(dct)) for dct in act['parameters'] if 'name' in dct}\n",
    "    \n",
    "    for index, exc in enumerate(act['exchanges']):\n",
    "        if exc.get('formula'):\n",
    "            pn = f'__exchange_{index}'\n",
    "            exc['parameter_name'] = pn\n",
    "            parameters[pn] = {'formula': clean_formula(exc['formula'])}\n",
    "    \n",
    "    return parameters"
   ]
  },
  {
   "cell_type": "code",
   "execution_count": 198,
   "id": "603bbb24-eafe-4b47-9cdd-40479e98bbd6",
   "metadata": {},
   "outputs": [],
   "source": [
    "def stochastic_parameter_set_for_activity(act, iterations=250):\n",
    "    ps = PatchedParameterSet(reformat_parameters(act))\n",
    "    return ps.evaluate_monte_carlo(iterations=iterations)\n"
   ]
  },
  {
   "cell_type": "code",
   "execution_count": 199,
   "id": "e558ff07-189c-43e3-b5a3-dab157503215",
   "metadata": {},
   "outputs": [],
   "source": [
    "def check_that_parameters_are_reasonable(act, results, rtol=0.1):\n",
    "    for exc in act['exchanges']:\n",
    "        if exc.get('formula'):\n",
    "            arr = results[exc['parameter_name']]\n",
    "            if not np.isclose(exc['amount'], np.median(arr), rtol=rtol):\n",
    "                # print(\n",
    "                #     act['name'], \n",
    "                #     exc['name'],\n",
    "                #     act['location'], \n",
    "                #     act['unit'],\n",
    "                # )\n",
    "                # print(\"\\t\", exc['amount'], np.median(arr), exc['formula'])\n",
    "                return False\n",
    "    return True"
   ]
  },
  {
   "cell_type": "code",
   "execution_count": 200,
   "id": "aaa227e8-fa1d-4a00-8033-5e29af30bad3",
   "metadata": {},
   "outputs": [
    {
     "name": "stderr",
     "output_type": "stream",
     "text": [
      "100%|████████████████████████████████████| 19565/19565 [01:14<00:00, 262.37it/s]\n"
     ]
    }
   ],
   "source": [
    "found, errors, unreasonable, missing = 0, 0, 0, 0\n",
    "\n",
    "error_log = open(\"error.log\", \"w\")\n",
    "missing_reference_log = open(\"undefined_reference.log\", \"w\")\n",
    "\n",
    "for act in tqdm(eii.data):\n",
    "    if any(exc.get('formula') for exc in act['exchanges']):\n",
    "        try:\n",
    "            params = stochastic_parameter_set_for_activity(act)\n",
    "            if check_that_parameters_are_reasonable(act, params):\n",
    "                found += 1\n",
    "            else:\n",
    "                unreasonable += 1\n",
    "        except (ValueError, SyntaxError, bwp.errors.DuplicateName):\n",
    "            error_log.write(act['filename'] + \"\\n\")\n",
    "            traceback.print_exc(file=error_log)\n",
    "            errors += 1\n",
    "        except bwp.errors.ParameterError:\n",
    "            missing_reference_log.write(act['filename'] + \"\\n\")\n",
    "            traceback.print_exc(file=missing_reference_log)\n",
    "            missing += 1\n",
    "            \n",
    "error_log.close()\n",
    "missing_reference_log.close()"
   ]
  },
  {
   "cell_type": "code",
   "execution_count": 201,
   "id": "1e720e86-7a2e-494b-9378-3769803fe86f",
   "metadata": {},
   "outputs": [
    {
     "data": {
      "text/plain": [
       "(1436, 47, 233, 6733)"
      ]
     },
     "execution_count": 201,
     "metadata": {},
     "output_type": "execute_result"
    }
   ],
   "source": [
    "found, errors, unreasonable, missing"
   ]
  },
  {
   "cell_type": "code",
   "execution_count": null,
   "id": "ddc48504-526b-4d20-bfe9-7dc0857871ed",
   "metadata": {},
   "outputs": [],
   "source": []
  },
  {
   "cell_type": "code",
   "execution_count": null,
   "id": "6f6c0854-ba26-4752-9576-07f417cef6cc",
   "metadata": {},
   "outputs": [],
   "source": []
  }
 ],
 "metadata": {
  "kernelspec": {
   "display_name": "Python 3 (ipykernel)",
   "language": "python",
   "name": "python3"
  },
  "language_info": {
   "codemirror_mode": {
    "name": "ipython",
    "version": 3
   },
   "file_extension": ".py",
   "mimetype": "text/x-python",
   "name": "python",
   "nbconvert_exporter": "python",
   "pygments_lexer": "ipython3",
   "version": "3.9.8"
  }
 },
 "nbformat": 4,
 "nbformat_minor": 5
}
