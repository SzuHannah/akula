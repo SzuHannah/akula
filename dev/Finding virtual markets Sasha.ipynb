{
 "cells": [
  {
   "cell_type": "code",
   "execution_count": 1,
   "id": "79eb6aec",
   "metadata": {},
   "outputs": [],
   "source": [
    "import bw2data as bd\n",
    "from collections import defaultdict\n",
    "from tqdm import tqdm\n",
    "from thefuzz import fuzz\n",
    "from gsa_framework.utils import write_pickle, read_pickle\n",
    "import plotly.graph_objects as go\n",
    "from plotly.subplots import make_subplots\n",
    "from scipy.stats import lognorm\n",
    "import copy"
   ]
  },
  {
   "cell_type": "code",
   "execution_count": 2,
   "id": "40d7a124-8aa8-49d9-a3fb-a309a3d7aecc",
   "metadata": {},
   "outputs": [],
   "source": [
    "bd.projects.set_current('GSA for archetypes')"
   ]
  },
  {
   "cell_type": "code",
   "execution_count": 3,
   "id": "64f41259",
   "metadata": {},
   "outputs": [
    {
     "data": {
      "text/plain": [
       "Databases dictionary with 3 object(s):\n",
       "\tbiosphere3\n",
       "\tecoinvent 3.8 cutoff\n",
       "\tswiss consumption 1.0"
      ]
     },
     "execution_count": 3,
     "metadata": {},
     "output_type": "execute_result"
    }
   ],
   "source": [
    "bd.databases"
   ]
  },
  {
   "cell_type": "markdown",
   "id": "b35a4b54-4e97-4121-b01a-422358dcec7c",
   "metadata": {},
   "source": [
    "The inspiration for these virtual markets was the input of 'soybean' to 'market for soybean, feed' which has a reference product 'soybean, feed'. We can't just test exact matching, need to be a bit [more flexible](https://github.com/seatgeek/thefuzz) on these virtual markets."
   ]
  },
  {
   "cell_type": "code",
   "execution_count": 4,
   "id": "09d9c617-b815-4f3e-94b3-53635e1a6948",
   "metadata": {},
   "outputs": [],
   "source": [
    "def similar(a, b):\n",
    "    return fuzz.partial_ratio(a, b) > 90 or fuzz.ratio(a, b) > 40"
   ]
  },
  {
   "cell_type": "code",
   "execution_count": 5,
   "id": "02c989ec",
   "metadata": {},
   "outputs": [],
   "source": [
    "def find_uncertain_virtual_markets(database):\n",
    "    db = bd.Database(database)\n",
    "\n",
    "    found = {}\n",
    "    \n",
    "    for act in tqdm(db):\n",
    "        rp = act.get(\"reference product\")\n",
    "        if not rp:\n",
    "            continue\n",
    "            \n",
    "        inpts = defaultdict(list)\n",
    "        for exc in act.technosphere():\n",
    "            if exc.input == exc.output:\n",
    "                continue\n",
    "            elif exc['uncertainty type'] < 2:\n",
    "                continue\n",
    "            inpts[exc.input['reference product']].append(exc)\n",
    "            \n",
    "        for key, lst in inpts.items():\n",
    "            if len(lst) > 1 and similar(rp, key) and 0.98 <= sum([exc['amount'] for exc in lst]) <= 1.02:\n",
    "                found[act] = lst\n",
    "            \n",
    "    return found"
   ]
  },
  {
   "cell_type": "code",
   "execution_count": 6,
   "id": "2d512b87-e499-44c3-aa00-b517bdac2abd",
   "metadata": {},
   "outputs": [],
   "source": [
    "# found = find_uncertain_virtual_markets(\"ecoinvent 3.8 cutoff\")\n",
    "# write_pickle(found, \"implicit_markets.pickle\")\n",
    "found = read_pickle(\"implicit_markets.pickle\")"
   ]
  },
  {
   "cell_type": "code",
   "execution_count": 7,
   "id": "fbc4e0c4-88e1-4807-8546-0f265ecbbb44",
   "metadata": {},
   "outputs": [
    {
     "data": {
      "text/plain": [
       "('natural gas, high pressure, import from NL' (cubic meter, CH, None),\n",
       " [Exchange: 0.2840284 cubic meter 'petroleum and gas production, off-shore' (cubic meter, NL, None) to 'natural gas, high pressure, import from NL' (cubic meter, CH, None)>,\n",
       "  Exchange: 0.7160716 cubic meter 'petroleum and gas production, on-shore' (cubic meter, NL, None) to 'natural gas, high pressure, import from NL' (cubic meter, CH, None)>],\n",
       " 2)"
      ]
     },
     "execution_count": 7,
     "metadata": {},
     "output_type": "execute_result"
    }
   ],
   "source": [
    "ng = list(found)[6]\n",
    "ng, found[ng], len(found[ng])"
   ]
  },
  {
   "cell_type": "markdown",
   "id": "e27c8482",
   "metadata": {},
   "source": [
    "# Sampling with presamples"
   ]
  },
  {
   "cell_type": "code",
   "execution_count": 19,
   "id": "e794dfd5",
   "metadata": {},
   "outputs": [
    {
     "ename": "MissingName",
     "evalue": "The following variables aren't defined:\nhard_RU|hard_ROW|lig_BA|lig_ROW|lig_RU",
     "output_type": "error",
     "traceback": [
      "\u001b[0;31m---------------------------------------------------------------------------\u001b[0m",
      "\u001b[0;31mMissingName\u001b[0m                               Traceback (most recent call last)",
      "Input \u001b[0;32mIn [19]\u001b[0m, in \u001b[0;36m<module>\u001b[0;34m\u001b[0m\n\u001b[1;32m     68\u001b[0m bd\u001b[38;5;241m.\u001b[39mparameters\u001b[38;5;241m.\u001b[39mnew_activity_parameters(activity_params, group, \u001b[38;5;28;01mTrue\u001b[39;00m)\n\u001b[1;32m     69\u001b[0m \u001b[38;5;66;03m# bd.parameters.add_exchanges_to_group(group, ng)\u001b[39;00m\n\u001b[0;32m---> 70\u001b[0m \u001b[43mbd\u001b[49m\u001b[38;5;241;43m.\u001b[39;49m\u001b[43mparameters\u001b[49m\u001b[38;5;241;43m.\u001b[39;49m\u001b[43mrecalculate\u001b[49m\u001b[43m(\u001b[49m\u001b[43m)\u001b[49m\n",
      "File \u001b[0;32m~/opt/miniconda3/envs/rmod-dev-py39/lib/python3.9/site-packages/bw2data/parameters.py:1612\u001b[0m, in \u001b[0;36mParameterManager.recalculate\u001b[0;34m(self)\u001b[0m\n\u001b[1;32m   1610\u001b[0m \u001b[38;5;28;01mif\u001b[39;00m obj\u001b[38;5;241m.\u001b[39mname \u001b[38;5;129;01min\u001b[39;00m databases \u001b[38;5;129;01mor\u001b[39;00m obj\u001b[38;5;241m.\u001b[39mname \u001b[38;5;241m==\u001b[39m \u001b[38;5;124m\"\u001b[39m\u001b[38;5;124mproject\u001b[39m\u001b[38;5;124m\"\u001b[39m:\n\u001b[1;32m   1611\u001b[0m     \u001b[38;5;28;01mcontinue\u001b[39;00m\n\u001b[0;32m-> 1612\u001b[0m \u001b[43mActivityParameter\u001b[49m\u001b[38;5;241;43m.\u001b[39;49m\u001b[43mrecalculate\u001b[49m\u001b[43m(\u001b[49m\u001b[43mobj\u001b[49m\u001b[38;5;241;43m.\u001b[39;49m\u001b[43mname\u001b[49m\u001b[43m)\u001b[49m\n\u001b[1;32m   1613\u001b[0m ActivityParameter\u001b[38;5;241m.\u001b[39mrecalculate_exchanges(obj\u001b[38;5;241m.\u001b[39mname)\n",
      "File \u001b[0;32m~/opt/miniconda3/envs/rmod-dev-py39/lib/python3.9/site-packages/bw2data/parameters.py:787\u001b[0m, in \u001b[0;36mActivityParameter.recalculate\u001b[0;34m(group)\u001b[0m\n\u001b[1;32m    784\u001b[0m \u001b[38;5;28;01mif\u001b[39;00m \u001b[38;5;129;01mnot\u001b[39;00m ActivityParameter\u001b[38;5;241m.\u001b[39mexpired(group):\n\u001b[1;32m    785\u001b[0m     \u001b[38;5;28;01mreturn\u001b[39;00m\n\u001b[0;32m--> 787\u001b[0m chain \u001b[38;5;241m=\u001b[39m \u001b[43mActivityParameter\u001b[49m\u001b[38;5;241;43m.\u001b[39;49m\u001b[43mdependency_chain\u001b[49m\u001b[43m(\u001b[49m\u001b[43mgroup\u001b[49m\u001b[43m)\u001b[49m\n\u001b[1;32m    789\u001b[0m \u001b[38;5;66;03m# Reset dependencies and dependency order\u001b[39;00m\n\u001b[1;32m    790\u001b[0m \u001b[38;5;28;01mif\u001b[39;00m chain:\n",
      "File \u001b[0;32m~/opt/miniconda3/envs/rmod-dev-py39/lib/python3.9/site-packages/bw2data/parameters.py:755\u001b[0m, in \u001b[0;36mActivityParameter.dependency_chain\u001b[0;34m(group, include_self)\u001b[0m\n\u001b[1;32m    753\u001b[0m         chain\u001b[38;5;241m.\u001b[39mappend({\u001b[38;5;124m\"\u001b[39m\u001b[38;5;124mkind\u001b[39m\u001b[38;5;124m\"\u001b[39m: \u001b[38;5;124m\"\u001b[39m\u001b[38;5;124mproject\u001b[39m\u001b[38;5;124m\"\u001b[39m, \u001b[38;5;124m\"\u001b[39m\u001b[38;5;124mgroup\u001b[39m\u001b[38;5;124m\"\u001b[39m: \u001b[38;5;124m\"\u001b[39m\u001b[38;5;124mproject\u001b[39m\u001b[38;5;124m\"\u001b[39m, \u001b[38;5;124m\"\u001b[39m\u001b[38;5;124mnames\u001b[39m\u001b[38;5;124m\"\u001b[39m: names})\n\u001b[1;32m    754\u001b[0m \u001b[38;5;28;01mif\u001b[39;00m needed:\n\u001b[0;32m--> 755\u001b[0m     \u001b[38;5;28;01mraise\u001b[39;00m MissingName(\n\u001b[1;32m    756\u001b[0m         \u001b[38;5;124m\"\u001b[39m\u001b[38;5;124mThe following variables aren\u001b[39m\u001b[38;5;124m'\u001b[39m\u001b[38;5;124mt defined:\u001b[39m\u001b[38;5;130;01m\\n\u001b[39;00m\u001b[38;5;132;01m{}\u001b[39;00m\u001b[38;5;124m\"\u001b[39m\u001b[38;5;241m.\u001b[39mformat(\u001b[38;5;124m\"\u001b[39m\u001b[38;5;124m|\u001b[39m\u001b[38;5;124m\"\u001b[39m\u001b[38;5;241m.\u001b[39mjoin(needed))\n\u001b[1;32m    757\u001b[0m     )\n\u001b[1;32m    759\u001b[0m \u001b[38;5;28;01mreturn\u001b[39;00m chain\n",
      "\u001b[0;31mMissingName\u001b[0m: The following variables aren't defined:\nhard_RU|hard_ROW|lig_BA|lig_ROW|lig_RU"
     ]
    }
   ],
   "source": [
    "ei_name = \"ecoinvent 3.8 cutoff\"\n",
    "\n",
    "in_total = sum([exc['amount'] for exc in found[ng]])\n",
    "out_total = 1\n",
    "static_ratio = in_total / out_total if out_total != 0 else inf\n",
    "static_balance = in_total - out_total\n",
    "\n",
    "activity_params = []\n",
    "for i,exc in enumerate(found[ng]):\n",
    "#     if 'formula' in exc:\n",
    "#         print(i)\n",
    "#         break\n",
    "    param_name = f\"market_param_{i}\"\n",
    "    activity_params.append(\n",
    "        {\n",
    "            'name': param_name,\n",
    "            'amount': exc.get('amount', 0),\n",
    "            'uncertainty type': exc.get('uncertainty type', 0),\n",
    "            'loc': exc.get('loc', exc.get('amount', 0)),\n",
    "            'scale': exc.get('scale'),\n",
    "            'negative': exc.get('negative', False),\n",
    "            'database': ei_name,\n",
    "            'code': ng.get('code'),\n",
    "        }\n",
    "    )\n",
    "    if exc.get('uncertainty type', 0) > 1:\n",
    "        exc['formula'] = \"{} * scaling\".format(param_name)\n",
    "    else:\n",
    "        exc['formula'] = param_name\n",
    "    exc.save()\n",
    "    if exc.get('variable name', False):\n",
    "        exc['variable name temp'] = exc['variable name']\n",
    "        exc['variable name'] = []\n",
    "        exc.save()\n",
    "    \n",
    "activity_params.append(\n",
    "    {\n",
    "        'name': 'static_ratio',\n",
    "        'database': ei_name,\n",
    "        'code': ng['code'],\n",
    "        'amount': static_ratio,\n",
    "        'uncertainty type': 0,\n",
    "        'loc': static_ratio,\n",
    "    }\n",
    ")\n",
    "out_term = \"1\"\n",
    "const_in_term = \"0\"\n",
    "var_in_term = \"(market_param_0 + market_param_1)\"\n",
    "activity_params.append(\n",
    "    {\n",
    "        'name': 'scaling',\n",
    "        'formula': \"({}*{}-{})/({})\".format(static_ratio, out_term, const_in_term, var_in_term),\n",
    "        'database': ei_name,\n",
    "        'code': ng['code'],\n",
    "    },\n",
    ")\n",
    "activity_params.append(\n",
    "    {\n",
    "        'name': 'ratio',\n",
    "        'formula': \"(scaling * {} + {})/{}\".format(var_in_term, const_in_term, out_term),\n",
    "        'database': ei_name,\n",
    "        'code': ng['code'],\n",
    "    },\n",
    ")\n",
    "\n",
    "group = 'my_market_2022_04'\n",
    "iterations = 10\n",
    "bd.parameters.new_activity_parameters(activity_params, group, True)\n",
    "# bd.parameters.add_exchanges_to_group(group, ng)\n",
    "bd.parameters.recalculate()\n",
    "# pbm = PBM(group)\n",
    "# pbm.load_parameter_data()\n",
    "# pbm.calculate_stochastic(iterations, update_amounts=True)\n",
    "# pbm.calculate_matrix_presamples()"
   ]
  },
  {
   "cell_type": "code",
   "execution_count": null,
   "id": "8521476a",
   "metadata": {},
   "outputs": [],
   "source": [
    "ei"
   ]
  },
  {
   "cell_type": "code",
   "execution_count": null,
   "id": "056b6a34",
   "metadata": {},
   "outputs": [],
   "source": []
  },
  {
   "cell_type": "code",
   "execution_count": null,
   "id": "1c49245f",
   "metadata": {},
   "outputs": [],
   "source": []
  },
  {
   "cell_type": "code",
   "execution_count": null,
   "id": "73b786ca",
   "metadata": {},
   "outputs": [],
   "source": [
    "bd.parameters.remove_from_group??"
   ]
  },
  {
   "cell_type": "code",
   "execution_count": null,
   "id": "7dddff03",
   "metadata": {},
   "outputs": [],
   "source": [
    "from bw2data.parameters import ActivityParameter\n",
    "ActivityParameter"
   ]
  },
  {
   "cell_type": "code",
   "execution_count": null,
   "id": "e7e502e1",
   "metadata": {},
   "outputs": [],
   "source": [
    "list(ActivityParameter.group)"
   ]
  },
  {
   "cell_type": "code",
   "execution_count": null,
   "id": "fd943105",
   "metadata": {},
   "outputs": [],
   "source": []
  },
  {
   "cell_type": "code",
   "execution_count": null,
   "id": "eb4d9213",
   "metadata": {},
   "outputs": [],
   "source": []
  },
  {
   "cell_type": "code",
   "execution_count": null,
   "id": "a60f35d9",
   "metadata": {},
   "outputs": [],
   "source": []
  },
  {
   "cell_type": "code",
   "execution_count": null,
   "id": "eedfee11",
   "metadata": {},
   "outputs": [],
   "source": [
    "list(ng.exchanges())[4].as_dict()"
   ]
  },
  {
   "cell_type": "code",
   "execution_count": null,
   "id": "1d40e7e7",
   "metadata": {},
   "outputs": [],
   "source": []
  },
  {
   "cell_type": "code",
   "execution_count": null,
   "id": "a33e1226",
   "metadata": {},
   "outputs": [],
   "source": []
  },
  {
   "cell_type": "code",
   "execution_count": null,
   "id": "2d13085c",
   "metadata": {},
   "outputs": [],
   "source": []
  },
  {
   "cell_type": "code",
   "execution_count": null,
   "id": "f28a1854",
   "metadata": {},
   "outputs": [],
   "source": []
  },
  {
   "cell_type": "code",
   "execution_count": null,
   "id": "3f0f0967",
   "metadata": {},
   "outputs": [],
   "source": []
  },
  {
   "cell_type": "code",
   "execution_count": null,
   "id": "f6729d34",
   "metadata": {},
   "outputs": [],
   "source": []
  },
  {
   "cell_type": "code",
   "execution_count": null,
   "id": "a9d470da",
   "metadata": {},
   "outputs": [],
   "source": []
  },
  {
   "cell_type": "code",
   "execution_count": null,
   "id": "6fcc5d9f",
   "metadata": {},
   "outputs": [],
   "source": []
  },
  {
   "cell_type": "markdown",
   "id": "6832e88b-06ba-4513-b7ff-d718756de44a",
   "metadata": {},
   "source": [
    "We can use the [dirichlet](https://docs.scipy.org/doc/scipy/reference/generated/scipy.stats.dirichlet.html) to model parameters with a fixed sum, but this distribution is sensitive to the concentration values."
   ]
  },
  {
   "cell_type": "code",
   "execution_count": null,
   "id": "300552f4-0ef7-4425-960e-84d051cfdfda",
   "metadata": {},
   "outputs": [],
   "source": [
    "from scipy.stats import dirichlet\n",
    "import numpy as np\n",
    "import seaborn as sb"
   ]
  },
  {
   "cell_type": "code",
   "execution_count": null,
   "id": "91ae6e9c-b2d2-40b6-b695-b16b8ae29f51",
   "metadata": {},
   "outputs": [],
   "source": [
    "current = found[ng]\n",
    "\n",
    "x = np.array([exc['amount'] for exc in current])\n",
    "alpha = x.copy()\n",
    "\n",
    "dirichlet.mean(alpha)"
   ]
  },
  {
   "cell_type": "code",
   "execution_count": null,
   "id": "d1cbaf2b",
   "metadata": {},
   "outputs": [],
   "source": [
    "get_var = lambda a,b: a*b/(a+b)**2/(a+b+1)"
   ]
  },
  {
   "cell_type": "code",
   "execution_count": null,
   "id": "d2a3690d-6f80-4841-8061-69907eb7debe",
   "metadata": {},
   "outputs": [],
   "source": [
    "ralpha = alpha*2287.723635997957*2 #*642.983550493241*2\n",
    "rvs = dirichlet.rvs(ralpha, size=1000)\n",
    "rvs4 = rvs[:,4]\n",
    "\n",
    "ralpha = alpha*642.983550493241*2\n",
    "rvs = dirichlet.rvs(ralpha, size=1000)\n",
    "rvs2 = rvs[:,2]\n",
    "# sb.displot(rvs[:, 0])"
   ]
  },
  {
   "cell_type": "code",
   "execution_count": null,
   "id": "2f63a8d1",
   "metadata": {},
   "outputs": [],
   "source": [
    "rvs4 + rvs2"
   ]
  },
  {
   "cell_type": "code",
   "execution_count": null,
   "id": "2c9aac13",
   "metadata": {},
   "outputs": [],
   "source": [
    "iexc = 4\n",
    "s = found[ng][iexc]['scale']\n",
    "mu = found[ng][iexc]['loc']\n",
    "get_var(ralpha[iexc], sum(ralpha)-ralpha[iexc]) / ((np.exp(s**2)-1)*np.exp(2*mu+s**2))"
   ]
  },
  {
   "cell_type": "code",
   "execution_count": null,
   "id": "3560c0a9",
   "metadata": {},
   "outputs": [],
   "source": [
    "fig = make_subplots(rows=len(current))\n",
    "num_bins = 100\n",
    "for i,exc in enumerate(current):\n",
    "    Y = rvs[:,i]\n",
    "    bin_min = min(Y)\n",
    "    bin_max = max(Y)\n",
    "    bins_ = np.linspace(bin_min, bin_max, num_bins, endpoint=True)\n",
    "    Y_samples, _ = np.histogram(Y, bins=bins_, density=True)\n",
    "    # Given distribution\n",
    "    if exc['uncertainty type']==2:\n",
    "        num_bins = 60\n",
    "        loc = exc['loc']\n",
    "        scale = exc['scale']  \n",
    "        midbins = (bins_[1:]+bins_[:-1])/2\n",
    "        Y_distr = lognorm.pdf(midbins, s=scale, scale=np.exp(loc))\n",
    "    else:\n",
    "        print(i,exc)\n",
    "    fig.add_trace(\n",
    "        go.Scatter(\n",
    "            x = midbins,\n",
    "            y = Y_samples,\n",
    "            line_color = 'blue',\n",
    "        ),\n",
    "        row=i+1,\n",
    "        col=1,\n",
    "    )\n",
    "    fig.add_trace(\n",
    "        go.Scatter(\n",
    "            x = midbins,\n",
    "            y = Y_distr,\n",
    "            line_color = 'red',\n",
    "        ),\n",
    "        row=i+1,\n",
    "        col=1,\n",
    "    )\n",
    "fig.update_layout(width=500,height=len(current)*300)\n",
    "fig.show()"
   ]
  },
  {
   "cell_type": "code",
   "execution_count": null,
   "id": "ed59fc03",
   "metadata": {},
   "outputs": [],
   "source": [
    "found[ng][1].as_dict()"
   ]
  },
  {
   "cell_type": "code",
   "execution_count": null,
   "id": "6274dddc",
   "metadata": {},
   "outputs": [],
   "source": [
    "np.exp(-2.121321856799328)"
   ]
  },
  {
   "cell_type": "code",
   "execution_count": null,
   "id": "7cf1d666",
   "metadata": {},
   "outputs": [],
   "source": [
    "s = 0.07280109889280519\n",
    "mu = -2.121321856799328\n",
    "a = (np.exp(s**2) + 2)*np.sqrt(np.exp(s**2)-1)\n",
    "np.log(4.5*(a**2)) / 0.11987306870694"
   ]
  },
  {
   "cell_type": "code",
   "execution_count": null,
   "id": "79845e80-f9c8-4539-92d5-ba5520b18604",
   "metadata": {},
   "outputs": [],
   "source": [
    "rvs = dirichlet.rvs(alpha * 12.784821071155195, size=1000)"
   ]
  },
  {
   "cell_type": "code",
   "execution_count": null,
   "id": "08675399",
   "metadata": {},
   "outputs": [],
   "source": [
    "lca"
   ]
  },
  {
   "cell_type": "code",
   "execution_count": null,
   "id": "e743a032",
   "metadata": {},
   "outputs": [],
   "source": [
    "ei = bd.Database('ecoinvent 3.8 cutoff')\n",
    "fu = ei.random()"
   ]
  },
  {
   "cell_type": "code",
   "execution_count": null,
   "id": "f9d908aa",
   "metadata": {},
   "outputs": [],
   "source": [
    "import bw2analyzer as bwa\n",
    "import bw2calc as bc\n",
    "ipcc = ('IPCC 2013', 'climate change', 'GWP 100a')\n",
    "lca = bc.LCA({fu: 1}, ipcc)\n",
    "lca.lci()\n",
    "lca.lcia()\n",
    "lca.score"
   ]
  },
  {
   "cell_type": "code",
   "execution_count": null,
   "id": "4b7c8ce4",
   "metadata": {},
   "outputs": [],
   "source": [
    "ca.annotated_top_processes?"
   ]
  },
  {
   "cell_type": "code",
   "execution_count": null,
   "id": "9602f26a",
   "metadata": {},
   "outputs": [],
   "source": [
    "ca = bwa.ContributionAnalysis()\n",
    "test = ca.annotated_top_processes(lca)\n",
    "data = [\n",
    "    {\n",
    "        \"impact\": element[0], \n",
    "        \"amount\": element[1], \n",
    "        \"activity_name\": element[2].get('name'), \n",
    "        \"activity_unit\": element[2].get('unit'), \n",
    "        \"activity_location\": element[2].get('location'),\n",
    "    }\n",
    "    for element in test\n",
    "]\n",
    "pd.DataFrame(data)"
   ]
  },
  {
   "cell_type": "code",
   "execution_count": null,
   "id": "04c5880b",
   "metadata": {},
   "outputs": [],
   "source": [
    "test[0][2], type(test[0][2])"
   ]
  },
  {
   "cell_type": "code",
   "execution_count": null,
   "id": "1c6dc8de-fc80-4945-8af8-5bc357b52b51",
   "metadata": {},
   "outputs": [],
   "source": [
    "sb.displot(rvs[:, 1])"
   ]
  },
  {
   "cell_type": "code",
   "execution_count": null,
   "id": "95241375-bbb2-474b-8b31-2da49e959832",
   "metadata": {},
   "outputs": [],
   "source": [
    "rvs = dirichlet.rvs(alpha * 500, size=1000)"
   ]
  },
  {
   "cell_type": "code",
   "execution_count": null,
   "id": "4fe26988-4ba6-4b82-ac11-565885f13c44",
   "metadata": {},
   "outputs": [],
   "source": [
    "sb.displot(rvs[:, 0])"
   ]
  },
  {
   "cell_type": "code",
   "execution_count": null,
   "id": "10188a32-ece2-420a-bf8b-ecd21a53f797",
   "metadata": {},
   "outputs": [],
   "source": [
    "sb.displot(rvs[:, 1])"
   ]
  },
  {
   "cell_type": "markdown",
   "id": "475df03b-0847-442d-8f01-a8cc14d55eaf",
   "metadata": {},
   "source": [
    "We can use these new values in Monte Carlo assessment (in place of the independent sampling which results in broken mass balances). The exact approach here will probably be different; for example, one could use trade statistics to create regional markets with much higher precision.\n",
    "\n",
    "The underlying concepts in the following are documented in [bw_processing](https://github.com/brightway-lca/bw_processing) and [matrix_utils](https://github.com/brightway-lca/matrix_utils). In this notebook we will use in-memory datapackages for our fixes."
   ]
  },
  {
   "cell_type": "code",
   "execution_count": null,
   "id": "0410ddb7-b372-4236-a530-efb3bace4de2",
   "metadata": {},
   "outputs": [],
   "source": [
    "import bw_processing as bwp"
   ]
  },
  {
   "cell_type": "code",
   "execution_count": null,
   "id": "71442143-aa41-4d12-b286-5933c8a34fc3",
   "metadata": {},
   "outputs": [],
   "source": [
    "indices_array = np.array([(exc.input.id, exc.output.id) for exc in found[ng]], dtype=bwp.INDICES_DTYPE)\n",
    "\n",
    "# Redefine alpha to make sure order is consistent\n",
    "# Transpose to get rows or exchange indices, columns of possible values\n",
    "data_array = dirichlet.rvs(np.array([exc['amount'] for exc in found[ng]]) * 500, size=1000).T\n",
    "\n",
    "# technosphere inputs must be flipped\n",
    "flip_array = np.ones(len(found[ng]), dtype=bool)"
   ]
  },
  {
   "cell_type": "code",
   "execution_count": null,
   "id": "0feb09c7-d077-4635-ba42-048a86a97247",
   "metadata": {},
   "outputs": [],
   "source": [
    "dp = bwp.create_datapackage()"
   ]
  },
  {
   "cell_type": "code",
   "execution_count": null,
   "id": "c0a3e862-f097-44db-8870-632635e7e956",
   "metadata": {},
   "outputs": [],
   "source": [
    "dp.add_persistent_array(\n",
    "    matrix=\"technosphere_matrix\",\n",
    "    data_array=data_array,\n",
    "    name=\"ng-fix-dz-es\",\n",
    "    indices_array=indices_array,\n",
    "    flip_array=flip_array,\n",
    ")"
   ]
  },
  {
   "cell_type": "markdown",
   "id": "089d254d-cb37-42a3-b231-2c2bab4f64fc",
   "metadata": {},
   "source": [
    "Compare Monte Carlo results with and without the fix"
   ]
  },
  {
   "cell_type": "code",
   "execution_count": null,
   "id": "b7149a0d-40c5-47ac-b05f-11e4e05ec745",
   "metadata": {
    "tags": []
   },
   "outputs": [],
   "source": [
    "ipcc = ('IPCC 2013', 'climate change', 'GWP 100a')"
   ]
  },
  {
   "cell_type": "code",
   "execution_count": null,
   "id": "8ea0d572-217a-4fe5-a427-a505fb62e29e",
   "metadata": {},
   "outputs": [],
   "source": [
    "_, data_objs, _ = bd.prepare_lca_inputs({ng: 1}, method=ipcc)"
   ]
  },
  {
   "cell_type": "markdown",
   "id": "fde83f2d-847f-480e-8386-cd4a94c19acd",
   "metadata": {},
   "source": [
    "Default is to use three datapackages: biosphere database, ecoinvent database, and LCIA method"
   ]
  },
  {
   "cell_type": "code",
   "execution_count": null,
   "id": "8eaf7938-8f73-41db-841e-184b0976b041",
   "metadata": {},
   "outputs": [],
   "source": [
    "data_objs"
   ]
  },
  {
   "cell_type": "code",
   "execution_count": null,
   "id": "fde3901b-7445-4fbe-b566-2c891c8a1424",
   "metadata": {},
   "outputs": [],
   "source": [
    "import bw2calc as bc"
   ]
  },
  {
   "cell_type": "code",
   "execution_count": null,
   "id": "abf0b657-6120-4926-8263-566c9f46b074",
   "metadata": {},
   "outputs": [],
   "source": [
    "lca = bc.LCA({ng.id: 1}, data_objs=data_objs, use_distributions=True)\n",
    "lca.lci()\n",
    "lca.lcia()"
   ]
  },
  {
   "cell_type": "code",
   "execution_count": null,
   "id": "eaa17120-d9af-4eb4-8e18-990086015888",
   "metadata": {},
   "outputs": [],
   "source": [
    "unmodified = np.array([lca.score for _ in zip(lca, range(250))])"
   ]
  },
  {
   "cell_type": "code",
   "execution_count": null,
   "id": "f7fb2fd1-0172-40d9-bb64-0cb8a28bd9bf",
   "metadata": {},
   "outputs": [],
   "source": [
    "fixed = bc.LCA({ng.id: 1}, data_objs=data_objs + [dp], use_arrays=True, use_distributions=True)\n",
    "fixed.lci()\n",
    "fixed.lcia()"
   ]
  },
  {
   "cell_type": "code",
   "execution_count": null,
   "id": "2b422e3e-2722-461b-a6e6-b1961cb960cc",
   "metadata": {},
   "outputs": [],
   "source": [
    "modified = np.array([fixed.score for _ in zip(fixed, range(250))])"
   ]
  },
  {
   "cell_type": "markdown",
   "id": "1c2c1751-0dee-4035-94e4-2d156634ee8c",
   "metadata": {},
   "source": [
    "Uncertainty for this example is not huge, so difference is not obvious"
   ]
  },
  {
   "cell_type": "code",
   "execution_count": null,
   "id": "e09a5ec5-67dc-4b55-9e6d-f94cd9af766c",
   "metadata": {},
   "outputs": [],
   "source": [
    "np.mean(modified), np.std(modified), np.mean(unmodified), np.std(modified)"
   ]
  },
  {
   "cell_type": "code",
   "execution_count": null,
   "id": "3fbc0cf9-2210-483c-b055-0c17f11518d7",
   "metadata": {},
   "outputs": [],
   "source": [
    "for exc in found[ng]:\n",
    "    lca.redo_lcia({exc.input.id: 1})\n",
    "    print(lca.score)"
   ]
  },
  {
   "cell_type": "code",
   "execution_count": null,
   "id": "eb83f6a0-1cff-41d9-8f7b-b53820b1976e",
   "metadata": {},
   "outputs": [],
   "source": [
    "for exc in found[ng]:\n",
    "    print(exc['scale'])"
   ]
  },
  {
   "cell_type": "code",
   "execution_count": null,
   "id": "b2f60fc1-9cf2-4aca-8721-14fa3ca00f69",
   "metadata": {},
   "outputs": [],
   "source": [
    "sum([\n",
    "    lca.technosphere_matrix[lca.dicts.product[row], lca.dicts.activity[col]]\n",
    "    for row, col in indices_array\n",
    "])"
   ]
  },
  {
   "cell_type": "code",
   "execution_count": null,
   "id": "5a4d2ec3-8040-43a0-ab37-a1f0a030219d",
   "metadata": {},
   "outputs": [],
   "source": [
    "sum([\n",
    "    fixed.technosphere_matrix[fixed.dicts.product[row], fixed.dicts.activity[col]]\n",
    "    for row, col in indices_array\n",
    "])"
   ]
  },
  {
   "cell_type": "code",
   "execution_count": null,
   "id": "fd322599-70f1-487f-9348-35a0f6794819",
   "metadata": {},
   "outputs": [],
   "source": [
    "sb.displot(unmodified, kde=True)"
   ]
  },
  {
   "cell_type": "code",
   "execution_count": null,
   "id": "cf1237b0-7aa6-46a9-9c36-fc8b5651f9fc",
   "metadata": {},
   "outputs": [],
   "source": [
    "sb.displot(modified, kde=True)"
   ]
  },
  {
   "cell_type": "markdown",
   "id": "ca3a14be-d89f-4f74-bd98-0b7318ccfdb0",
   "metadata": {},
   "source": [
    "# "
   ]
  }
 ],
 "metadata": {
  "kernelspec": {
   "display_name": "Python 3 (ipykernel)",
   "language": "python",
   "name": "python3"
  },
  "language_info": {
   "codemirror_mode": {
    "name": "ipython",
    "version": 3
   },
   "file_extension": ".py",
   "mimetype": "text/x-python",
   "name": "python",
   "nbconvert_exporter": "python",
   "pygments_lexer": "ipython3",
   "version": "3.9.10"
  },
  "varInspector": {
   "cols": {
    "lenName": 16,
    "lenType": 16,
    "lenVar": 40
   },
   "kernels_config": {
    "python": {
     "delete_cmd_postfix": "",
     "delete_cmd_prefix": "del ",
     "library": "var_list.py",
     "varRefreshCmd": "print(var_dic_list())"
    },
    "r": {
     "delete_cmd_postfix": ") ",
     "delete_cmd_prefix": "rm(",
     "library": "var_list.r",
     "varRefreshCmd": "cat(var_dic_list()) "
    }
   },
   "types_to_exclude": [
    "module",
    "function",
    "builtin_function_or_method",
    "instance",
    "_Feature"
   ],
   "window_display": false
  }
 },
 "nbformat": 4,
 "nbformat_minor": 5
}
