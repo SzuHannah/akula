{
 "cells": [
  {
   "cell_type": "code",
   "execution_count": 1,
   "id": "50d4c93a",
   "metadata": {},
   "outputs": [],
   "source": [
    "import bw2data as bd\n",
    "import bw2calc as bc\n",
    "import bw_processing as bwp\n",
    "from pypardiso import spsolve\n",
    "from pathlib import Path\n",
    "from copy import deepcopy\n",
    "from gsa_framework.utils import read_pickle, write_pickle\n",
    "from fs.zipfs import ZipFS\n",
    "import sys\n",
    "sys.path.append('/Users/akim/PycharmProjects/akula')\n",
    "\n",
    "# Local files\n",
    "from akula.sensitivity_analysis.local_sa import *\n",
    "\n",
    "project = 'GSA for archetypes'\n",
    "bd.projects.set_current(project)\n",
    "const_factor = 10\n",
    "cutoff = 1e-3  # For contribution analysis\n",
    "max_calc = 1e3  # For supply chain traversal"
   ]
  },
  {
   "cell_type": "markdown",
   "id": "c4861703",
   "metadata": {},
   "source": [
    "# Setups"
   ]
  },
  {
   "cell_type": "code",
   "execution_count": 2,
   "id": "a47aef7b",
   "metadata": {
    "scrolled": true
   },
   "outputs": [
    {
     "data": {
      "text/plain": [
       "1094.9290193609536"
      ]
     },
     "execution_count": 2,
     "metadata": {},
     "output_type": "execute_result"
    }
   ],
   "source": [
    "co = bd.Database('swiss consumption 1.0')\n",
    "fu = [act for act in co if \"average consumption\" in act['name']][0]\n",
    "\n",
    "write_dir = Path(\"write_files\") / project.lower().replace(\" \", \"_\") / fu['name'].lower().replace(\" \", \"_\")\n",
    "write_dir_sct = write_dir / \"supply_chain_traversal\" \n",
    "write_dir_sct.mkdir(exist_ok=True, parents=True)\n",
    "\n",
    "demand = {fu: 1}\n",
    "method = (\"IPCC 2013\", \"climate change\", \"GWP 100a\", \"uncertain\")\n",
    "fu_mapped, packages, _ = bd.prepare_lca_inputs(demand=demand, method=method, remapping=False)\n",
    "lca = bc.LCA(demand=fu_mapped, data_objs=packages)\n",
    "lca.lci()\n",
    "lca.lcia()\n",
    "static_score = deepcopy(lca.score)\n",
    "static_score"
   ]
  },
  {
   "cell_type": "code",
   "execution_count": 3,
   "id": "fdbd781d",
   "metadata": {},
   "outputs": [],
   "source": [
    "# TODO make packages static"
   ]
  },
  {
   "cell_type": "code",
   "execution_count": 4,
   "id": "aec8edc6",
   "metadata": {},
   "outputs": [],
   "source": [
    "# Get all relevant data\n",
    "ei = bd.Database('ecoinvent 3.8 cutoff').datapackage()\n",
    "co = bd.Database('swiss consumption 1.0').datapackage()\n",
    "cf = bd.Method(method).datapackage()\n",
    "\n",
    "# Technosphere\n",
    "ei_tech = ei.filter_by_attribute('matrix', 'technosphere_matrix')\n",
    "co_tech = co.filter_by_attribute('matrix', 'technosphere_matrix')\n",
    "get_tech_resource_kind = lambda kind: np.hstack(\n",
    "    [\n",
    "        ei_tech.get_resource(f'ecoinvent_3.8_cutoff_technosphere_matrix.{kind}')[0], \n",
    "        co_tech.get_resource(f'swiss_consumption_1.0_technosphere_matrix.{kind}')[0]\n",
    "    ]\n",
    ")\n",
    "indices_tech = get_tech_resource_kind('indices')\n",
    "data_tech = get_tech_resource_kind('data')\n",
    "flip_tech = get_tech_resource_kind('flip')\n",
    "\n",
    "# Biosphere\n",
    "ei_bio = ei.filter_by_attribute('matrix', 'biosphere_matrix')\n",
    "indices_bio = ei_bio.get_resource('ecoinvent_3.8_cutoff_biosphere_matrix.indices')[0]\n",
    "data_bio = ei_bio.get_resource('ecoinvent_3.8_cutoff_biosphere_matrix.data')[0]\n",
    "distributions_bio = ei_bio.get_resource('ecoinvent_3.8_cutoff_biosphere_matrix.distributions')[0]\n",
    "\n",
    "# Characterization\n",
    "indices_cf = cf.get_resource('IPCC_2013_climate_change_GWP_100a_uncertain_matrix_data.indices')[0]\n",
    "data_cf = cf.get_resource('IPCC_2013_climate_change_GWP_100a_uncertain_matrix_data.data')[0]\n",
    "distributions_cf = cf.get_resource('IPCC_2013_climate_change_GWP_100a_uncertain_matrix_data.distributions')[0]"
   ]
  },
  {
   "cell_type": "code",
   "execution_count": 5,
   "id": "6d6fb732",
   "metadata": {},
   "outputs": [],
   "source": [
    "# Get technosphere uncertainty boolean array\n",
    "distributions_ei = ei_tech.get_resource(f'ecoinvent_3.8_cutoff_technosphere_matrix.distributions')[0] \n",
    "has_uncertainty_ei = distributions_ei['uncertainty_type'] >= 2\n",
    "\n",
    "indices_tech_co = co_tech.get_resource(f'swiss_consumption_1.0_technosphere_matrix.indices')[0]\n",
    "has_uncertainty_dict = {}\n",
    "for act in bd.Database('swiss consumption 1.0'):\n",
    "    exchanges = list(act.exchanges())\n",
    "    col = lca.dicts.activity[act.id]\n",
    "    for exc in exchanges:\n",
    "        if exc.get('has_uncertainty', False):\n",
    "            row = lca.dicts.activity[exc.input.id]\n",
    "            has_uncertainty_dict[(exc.input.id, act.id)] = True\n",
    "has_uncertainty_co = np.array([has_uncertainty_dict.get(tuple(ids), False) for ids in indices_tech_co])\n",
    "\n",
    "has_uncertainty_tech = np.hstack(\n",
    "    [\n",
    "        has_uncertainty_ei,\n",
    "        has_uncertainty_co,\n",
    "    ]\n",
    ")"
   ]
  },
  {
   "cell_type": "markdown",
   "id": "f2519098",
   "metadata": {},
   "source": [
    "# Step 1. Remove non influential with contribution analysis"
   ]
  },
  {
   "cell_type": "markdown",
   "id": "f0040d4b",
   "metadata": {},
   "source": [
    "## Step 1.1 Technosphere & Supply chain traversal"
   ]
  },
  {
   "cell_type": "code",
   "execution_count": 6,
   "id": "31b70b64",
   "metadata": {},
   "outputs": [
    {
     "name": "stdout",
     "output_type": "stream",
     "text": [
      "CPU times: user 1.83 ms, sys: 2.44 ms, total: 4.27 ms\n",
      "Wall time: 2.51 ms\n"
     ]
    }
   ],
   "source": [
    "%%time\n",
    "fp_sct = write_dir_sct / f\"sct.cutoff_{cutoff:.0e}.maxcalc_{max_calc:.0e}.pickle\"\n",
    "if fp_sct.exists():\n",
    "    use_indices_tech_without_noninf = read_pickle(fp_sct)\n",
    "else:    \n",
    "    use_indices_tech_without_noninf = get_inds_tech_without_noninf(lca, cutoff, max_calc)\n",
    "    write_pickle(use_indices_tech_without_noninf, fp_sct)\n",
    "\n",
    "fp_mask_without_noninf = write_dir / f\"mask.tech.without_noninf.sct.cutoff_{cutoff:.0e}.maxcalc_{max_calc:.0e}.pickle\"\n",
    "if fp_mask_without_noninf.exists():\n",
    "    mask_tech_without_noninf = read_pickle(fp_mask_without_noninf)\n",
    "else:\n",
    "    mask_tech_without_noninf = get_mask(indices_tech, use_indices_tech_without_noninf)\n",
    "    write_pickle(mask_tech_without_noninf, fp_mask_without_noninf)"
   ]
  },
  {
   "cell_type": "markdown",
   "id": "8a34b8bf",
   "metadata": {},
   "source": [
    "## Step 1.2 Biosphere"
   ]
  },
  {
   "cell_type": "code",
   "execution_count": 7,
   "id": "03016fac",
   "metadata": {},
   "outputs": [],
   "source": [
    "use_indices_bio_without_noninf = get_inds_bio_without_noninf(lca)\n",
    "fp_mask_bio_without_noninf = write_dir / f\"mask.bio.without_noninf.pickle\"\n",
    "if fp_mask_bio_without_noninf.exists():\n",
    "    mask_bio_without_noninf = read_pickle(fp_mask_bio_without_noninf)\n",
    "else:\n",
    "    mask_bio_without_noninf = get_mask(indices_bio, use_indices_bio_without_noninf)\n",
    "    write_pickle(mask_bio_without_noninf, fp_mask_bio_without_noninf)"
   ]
  },
  {
   "cell_type": "markdown",
   "id": "1dcf2041",
   "metadata": {},
   "source": [
    "## Step 1.3 Characterization"
   ]
  },
  {
   "cell_type": "code",
   "execution_count": 8,
   "id": "6d4c2f1b",
   "metadata": {},
   "outputs": [],
   "source": [
    "use_indices_cf_without_noninf = get_inds_cf_without_noninf(lca)\n",
    "fp_mask_cf_without_noninf = write_dir / f\"mask.cf.without_noninf.pickle\"\n",
    "if fp_mask_cf_without_noninf.exists():\n",
    "    mask_cf_without_noninf = read_pickle(fp_mask_cf_without_noninf)\n",
    "else:\n",
    "    mask_cf_without_noninf = get_mask(indices_cf, use_indices_cf_without_noninf)\n",
    "    write_pickle(mask_cf_without_noninf, fp_mask_cf_without_noninf)"
   ]
  },
  {
   "cell_type": "markdown",
   "id": "24d6186f",
   "metadata": {},
   "source": [
    "# Step 2. Run local SA"
   ]
  },
  {
   "cell_type": "markdown",
   "id": "10bab574",
   "metadata": {},
   "source": [
    "## 2.1 Technosphere"
   ]
  },
  {
   "cell_type": "code",
   "execution_count": 9,
   "id": "0c7b78ed",
   "metadata": {},
   "outputs": [],
   "source": [
    "def run_local_sa_tech(\n",
    "    matrix_type,\n",
    "    fu_mapped,\n",
    "    packages,\n",
    "    indices_tech,\n",
    "    data_tech,\n",
    "    has_uncertainty_tech,\n",
    "    mask_tech_without_noninf,\n",
    "    flip_tech,\n",
    "    factors,\n",
    "    write_dir,\n",
    "):\n",
    "    for i, factor in enumerate(factors):\n",
    "        fp_factor = write_dir / f\"local_sa.tech.factor_{factor:.0e}.cutoff_{cutoff:.0e}.maxcalc_{max_calc:.0e}.pickle\"\n",
    "        if fp_factor.exists():\n",
    "            local_sa_current = read_pickle(fp_factor)\n",
    "        else:\n",
    "            local_sa_current = run_local_sa(\n",
    "                matrix_type,\n",
    "                fu_mapped,\n",
    "                packages,\n",
    "                indices_tech,\n",
    "                data_tech,\n",
    "                has_uncertainty_tech,\n",
    "                mask_tech_without_noninf,\n",
    "                flip_tech,\n",
    "                factor,\n",
    "            )\n",
    "            write_pickle(local_sa_current, fp_factor)\n",
    "        if i == 0:\n",
    "            local_sa = deepcopy(local_sa_current)\n",
    "        else:\n",
    "            local_sa = {k: np.hstack([local_sa[k], local_sa_current[k]]) for k in local_sa.keys()}\n",
    "    return local_sa\n",
    "        "
   ]
  },
  {
   "cell_type": "code",
   "execution_count": 10,
   "id": "0d3c1e03",
   "metadata": {},
   "outputs": [
    {
     "name": "stdout",
     "output_type": "stream",
     "text": [
      "CPU times: user 1.93 ms, sys: 2.05 ms, total: 3.98 ms\n",
      "Wall time: 2.57 ms\n"
     ]
    }
   ],
   "source": [
    "%%time\n",
    "fp_local_sa_tech = write_dir / f\"local_sa.tech.cutoff_{cutoff:.0e}.maxcalc_{max_calc:.0e}.pickle\"\n",
    "if fp_local_sa_tech.exists():\n",
    "    local_sa_tech = read_pickle(fp_local_sa_tech)\n",
    "else:\n",
    "    local_sa_tech = run_local_sa_tech(\n",
    "        \"technosphere\",\n",
    "        fu_mapped,\n",
    "        packages,\n",
    "        indices_tech,\n",
    "        data_tech,\n",
    "        has_uncertainty_tech,\n",
    "        mask_tech_without_noninf,\n",
    "        flip_tech,\n",
    "        [1/const_factor, const_factor],\n",
    "        write_dir\n",
    "    )\n",
    "    write_pickle(local_sa_tech, fp_local_sa_tech)"
   ]
  },
  {
   "cell_type": "code",
   "execution_count": 11,
   "id": "ad418613",
   "metadata": {},
   "outputs": [],
   "source": [
    "# if fp_mask_tech_without_lowinf.exists():\n",
    "#     mask_tech_without_lowinf = read_pickle(fp_mask_tech_without_lowinf)\n",
    "# else:\n",
    "#     mask_tech_without_lowinf = get_mask(indices_tech, use_indices_tech_without_lowinf)\n",
    "#     write_pickle(mask_tech_without_lowinf, fp_mask_tech_without_lowinf)"
   ]
  },
  {
   "cell_type": "code",
   "execution_count": null,
   "id": "0d46a6cd",
   "metadata": {},
   "outputs": [],
   "source": []
  },
  {
   "cell_type": "code",
   "execution_count": null,
   "id": "6c0c4616",
   "metadata": {},
   "outputs": [],
   "source": [
    "# TODO cutoffs"
   ]
  },
  {
   "cell_type": "markdown",
   "id": "aef4cda2",
   "metadata": {},
   "source": [
    "## 2.2 Biosphere"
   ]
  },
  {
   "cell_type": "code",
   "execution_count": 12,
   "id": "0038225d",
   "metadata": {
    "scrolled": true
   },
   "outputs": [
    {
     "name": "stdout",
     "output_type": "stream",
     "text": [
      "CPU times: user 1.58 ms, sys: 1.77 ms, total: 3.35 ms\n",
      "Wall time: 2.18 ms\n"
     ]
    }
   ],
   "source": [
    "%%time\n",
    "fp_local_sa_bio = write_dir / f\"local_sa.bio.pickle\"\n",
    "if fp_local_sa_bio.exists():\n",
    "    local_sa_bio = read_pickle(fp_local_sa_bio)\n",
    "else:\n",
    "    local_sa_bio = run_local_sa(\n",
    "        \"biosphere\",\n",
    "        fu_mapped,\n",
    "        packages,\n",
    "        indices_bio,\n",
    "        data_bio,\n",
    "        distributions_bio,\n",
    "        mask_bio_without_noninf,\n",
    "        None,\n",
    "        const_factor,\n",
    "    )\n",
    "    write_pickle(local_sa_bio, fp_local_sa_bio)\n",
    "    \n",
    "#     mask_bio_without_lowinf = get_mask(indices_bio, use_indices_bio_without_lowinf)\n",
    "#     assert sum(mask_bio_without_lowinf) == len(use_indices_bio_without_lowinf)\n",
    "#     mask_bio_without_lowinf = get_mask(indices_bio, use_indices_bio_without_lowinf)\n",
    "#     write_pickle(mask_bio_without_lowinf, fp_mask_bio_without_lowinf)"
   ]
  },
  {
   "cell_type": "markdown",
   "id": "2c2f627a",
   "metadata": {},
   "source": [
    "## 2.3 Characterization"
   ]
  },
  {
   "cell_type": "code",
   "execution_count": 13,
   "id": "b32f5cc4",
   "metadata": {},
   "outputs": [
    {
     "name": "stdout",
     "output_type": "stream",
     "text": [
      "CPU times: user 1.12 ms, sys: 1.4 ms, total: 2.52 ms\n",
      "Wall time: 1.55 ms\n"
     ]
    }
   ],
   "source": [
    "%%time\n",
    "fp_local_sa_cf = write_dir / f\"local_sa.cf.pickle\"\n",
    "if fp_local_sa_cf.exists():\n",
    "    local_sa_cf = read_pickle(fp_local_sa_cf)\n",
    "else:\n",
    "    local_sa_cf = run_local_sa(\n",
    "        \"characterization\",\n",
    "        fu_mapped,\n",
    "        packages,\n",
    "        indices_cf,\n",
    "        data_cf,\n",
    "        distributions_cf,\n",
    "        mask_cf_without_noninf,\n",
    "        None,\n",
    "        const_factor,\n",
    "    )\n",
    "    write_pickle(local_sa_cf, fp_local_sa_cf)\n",
    "#     mask_cf_without_lowinf = get_mask(indices_cf, use_indices_cf_without_lowinf)\n",
    "#     assert sum(mask_cf_without_lowinf) == len(use_indices_cf_without_lowinf)\n",
    "#     mask_cf_without_lowinf = get_mask(indices_cf, use_indices_cf_without_lowinf)\n",
    "#     write_pickle(mask_cf_without_lowinf, fp_mask_cf_without_lowinf)"
   ]
  },
  {
   "cell_type": "markdown",
   "id": "6ab724ee",
   "metadata": {},
   "source": [
    "## 2.4 Virtual markets"
   ]
  },
  {
   "cell_type": "code",
   "execution_count": 14,
   "id": "b0ca8753",
   "metadata": {},
   "outputs": [],
   "source": [
    "from akula.virtual_markets import DATA_DIR\n",
    "fp_virtual_markets = DATA_DIR / \"virtual-markets.zip\"\n",
    "dp = bwp.load_datapackage(ZipFS(fp_virtual_markets))"
   ]
  },
  {
   "cell_type": "code",
   "execution_count": 22,
   "id": "753a8f13",
   "metadata": {},
   "outputs": [],
   "source": [
    "indices_vm_unordered = dp.get_resource('virtual markets.indices')[0]\n",
    "mask_vm_tech = get_mask(indices_tech, indices_vm_unordered)\n",
    "# flip_vm = dp.get_resource('virtual markets.flip')[0]\n",
    "indices_vm = indices_tech[mask_vm_tech]\n",
    "data_vm = data_tech[mask_vm_tech]\n",
    "flip_vm = flip_tech[mask_vm_tech]\n",
    "distributions_vm = np.ones(len(indices_vm), dtype=bool)\n",
    "mask_vm = distributions_vm"
   ]
  },
  {
   "cell_type": "code",
   "execution_count": 23,
   "id": "023334a3",
   "metadata": {
    "scrolled": true
   },
   "outputs": [
    {
     "name": "stdout",
     "output_type": "stream",
     "text": [
      "0.0727171\n",
      "0.727171\n",
      "0.0727171\n",
      "0.727171\n",
      "1094.9290193609536\n",
      "0.0035066844\n",
      "0.035066843\n",
      "1094.9290193609536\n",
      "0.0035066844\n",
      "0.035066843\n",
      "1094.9290193609536\n",
      "0.00016022645\n",
      "0.0016022646\n",
      "1094.9290193609536\n",
      "0.00016022645\n",
      "0.0016022646\n",
      "1094.9290193609536\n",
      "0.6612975\n",
      "6.612975\n"
     ]
    },
    {
     "ename": "KeyboardInterrupt",
     "evalue": "",
     "output_type": "error",
     "traceback": [
      "\u001b[0;31m---------------------------------------------------------------------------\u001b[0m",
      "\u001b[0;31mKeyboardInterrupt\u001b[0m                         Traceback (most recent call last)",
      "Input \u001b[0;32mIn [23]\u001b[0m, in \u001b[0;36m<module>\u001b[0;34m\u001b[0m\n\u001b[0;32m----> 1\u001b[0m local_sa_vm \u001b[38;5;241m=\u001b[39m \u001b[43mrun_local_sa\u001b[49m\u001b[43m(\u001b[49m\n\u001b[1;32m      2\u001b[0m \u001b[43m    \u001b[49m\u001b[38;5;124;43m\"\u001b[39;49m\u001b[38;5;124;43mtechnosphere\u001b[39;49m\u001b[38;5;124;43m\"\u001b[39;49m\u001b[43m,\u001b[49m\n\u001b[1;32m      3\u001b[0m \u001b[43m    \u001b[49m\u001b[43mfu_mapped\u001b[49m\u001b[43m,\u001b[49m\n\u001b[1;32m      4\u001b[0m \u001b[43m    \u001b[49m\u001b[43mpackages\u001b[49m\u001b[43m,\u001b[49m\n\u001b[1;32m      5\u001b[0m \u001b[43m    \u001b[49m\u001b[43mindices_vm\u001b[49m\u001b[43m,\u001b[49m\n\u001b[1;32m      6\u001b[0m \u001b[43m    \u001b[49m\u001b[43mdata_vm\u001b[49m\u001b[43m,\u001b[49m\n\u001b[1;32m      7\u001b[0m \u001b[43m    \u001b[49m\u001b[43mdistributions_vm\u001b[49m\u001b[43m,\u001b[49m\n\u001b[1;32m      8\u001b[0m \u001b[43m    \u001b[49m\u001b[43mmask_vm\u001b[49m\u001b[43m,\u001b[49m\n\u001b[1;32m      9\u001b[0m \u001b[43m    \u001b[49m\u001b[43mflip_vm\u001b[49m\u001b[43m,\u001b[49m\n\u001b[1;32m     10\u001b[0m \u001b[43m    \u001b[49m\u001b[43mconst_factor\u001b[49m\u001b[43m,\u001b[49m\n\u001b[1;32m     11\u001b[0m \u001b[43m)\u001b[49m\n",
      "File \u001b[0;32m~/PycharmProjects/akula/akula/sensitivity_analysis/local_sa.py:155\u001b[0m, in \u001b[0;36mrun_local_sa\u001b[0;34m(matrix_type, fu_mapped, packages, indices_array, data_array, distributions_array, mask, flip_array, const_factor)\u001b[0m\n\u001b[1;32m    153\u001b[0m \u001b[38;5;28;01mtry\u001b[39;00m:\n\u001b[1;32m    154\u001b[0m     \u001b[38;5;28;01mwhile\u001b[39;00m \u001b[38;5;28;01mTrue\u001b[39;00m:\n\u001b[0;32m--> 155\u001b[0m         \u001b[38;5;28;43mnext\u001b[39;49m\u001b[43m(\u001b[49m\u001b[43mlca_local_sa\u001b[49m\u001b[43m)\u001b[49m\n\u001b[1;32m    156\u001b[0m         count \u001b[38;5;241m+\u001b[39m\u001b[38;5;241m=\u001b[39m \u001b[38;5;241m1\u001b[39m\n\u001b[1;32m    157\u001b[0m         \u001b[38;5;28mprint\u001b[39m(lca_local_sa\u001b[38;5;241m.\u001b[39mscore)\n",
      "File \u001b[0;32m~/opt/miniconda3/envs/rmod-dev-py39/lib/python3.9/site-packages/bw2calc/lca.py:128\u001b[0m, in \u001b[0;36mLCA.__next__\u001b[0;34m(self)\u001b[0m\n\u001b[1;32m    118\u001b[0m         logger\u001b[38;5;241m.\u001b[39mdebug(\n\u001b[1;32m    119\u001b[0m             message,\n\u001b[1;32m    120\u001b[0m             extra\u001b[38;5;241m=\u001b[39m{\n\u001b[0;32m   (...)\u001b[0m\n\u001b[1;32m    125\u001b[0m             },\n\u001b[1;32m    126\u001b[0m         )\n\u001b[1;32m    127\u001b[0m \u001b[38;5;28;01mif\u001b[39;00m \u001b[38;5;28mhasattr\u001b[39m(\u001b[38;5;28mself\u001b[39m, \u001b[38;5;124m\"\u001b[39m\u001b[38;5;124minventory\u001b[39m\u001b[38;5;124m\"\u001b[39m):\n\u001b[0;32m--> 128\u001b[0m     \u001b[38;5;28;43mself\u001b[39;49m\u001b[38;5;241;43m.\u001b[39;49m\u001b[43mlci_calculation\u001b[49m\u001b[43m(\u001b[49m\u001b[43m)\u001b[49m\n\u001b[1;32m    129\u001b[0m \u001b[38;5;28;01mif\u001b[39;00m \u001b[38;5;28mhasattr\u001b[39m(\u001b[38;5;28mself\u001b[39m, \u001b[38;5;124m\"\u001b[39m\u001b[38;5;124mcharacterized_inventory\u001b[39m\u001b[38;5;124m\"\u001b[39m):\n\u001b[1;32m    130\u001b[0m     \u001b[38;5;28mself\u001b[39m\u001b[38;5;241m.\u001b[39mlcia_calculation()\n",
      "File \u001b[0;32m~/opt/miniconda3/envs/rmod-dev-py39/lib/python3.9/site-packages/bw2calc/lca.py:347\u001b[0m, in \u001b[0;36mLCA.lci_calculation\u001b[0;34m(self)\u001b[0m\n\u001b[1;32m    341\u001b[0m \u001b[38;5;28;01mdef\u001b[39;00m \u001b[38;5;21mlci_calculation\u001b[39m(\u001b[38;5;28mself\u001b[39m) \u001b[38;5;241m-\u001b[39m\u001b[38;5;241m>\u001b[39m \u001b[38;5;28;01mNone\u001b[39;00m:\n\u001b[1;32m    342\u001b[0m     \u001b[38;5;124;03m\"\"\"The actual LCI calculation.\u001b[39;00m\n\u001b[1;32m    343\u001b[0m \n\u001b[1;32m    344\u001b[0m \u001b[38;5;124;03m    Separated from ``lci`` to be reusable in cases where the matrices are already built, e.g. ``redo_lci`` and Monte Carlo classes.\u001b[39;00m\n\u001b[1;32m    345\u001b[0m \n\u001b[1;32m    346\u001b[0m \u001b[38;5;124;03m    \"\"\"\u001b[39;00m\n\u001b[0;32m--> 347\u001b[0m     \u001b[38;5;28mself\u001b[39m\u001b[38;5;241m.\u001b[39msupply_array \u001b[38;5;241m=\u001b[39m \u001b[38;5;28;43mself\u001b[39;49m\u001b[38;5;241;43m.\u001b[39;49m\u001b[43msolve_linear_system\u001b[49m\u001b[43m(\u001b[49m\u001b[43m)\u001b[49m\n\u001b[1;32m    348\u001b[0m     \u001b[38;5;66;03m# Turn 1-d array into diagonal matrix\u001b[39;00m\n\u001b[1;32m    349\u001b[0m     count \u001b[38;5;241m=\u001b[39m \u001b[38;5;28mlen\u001b[39m(\u001b[38;5;28mself\u001b[39m\u001b[38;5;241m.\u001b[39mdicts\u001b[38;5;241m.\u001b[39mactivity)\n",
      "File \u001b[0;32m~/opt/miniconda3/envs/rmod-dev-py39/lib/python3.9/site-packages/bw2calc/lca.py:313\u001b[0m, in \u001b[0;36mLCA.solve_linear_system\u001b[0;34m(self)\u001b[0m\n\u001b[1;32m    311\u001b[0m     \u001b[38;5;28;01mreturn\u001b[39;00m \u001b[38;5;28mself\u001b[39m\u001b[38;5;241m.\u001b[39msolver(\u001b[38;5;28mself\u001b[39m\u001b[38;5;241m.\u001b[39mdemand_array)\n\u001b[1;32m    312\u001b[0m \u001b[38;5;28;01melse\u001b[39;00m:\n\u001b[0;32m--> 313\u001b[0m     \u001b[38;5;28;01mreturn\u001b[39;00m \u001b[43mspsolve\u001b[49m\u001b[43m(\u001b[49m\u001b[38;5;28;43mself\u001b[39;49m\u001b[38;5;241;43m.\u001b[39;49m\u001b[43mtechnosphere_matrix\u001b[49m\u001b[43m,\u001b[49m\u001b[43m \u001b[49m\u001b[38;5;28;43mself\u001b[39;49m\u001b[38;5;241;43m.\u001b[39;49m\u001b[43mdemand_array\u001b[49m\u001b[43m)\u001b[49m\n",
      "File \u001b[0;32m~/opt/miniconda3/envs/rmod-dev-py39/lib/python3.9/site-packages/pypardiso/scipy_aliases.py:46\u001b[0m, in \u001b[0;36mspsolve\u001b[0;34m(A, b, factorize, squeeze, solver, *args, **kwargs)\u001b[0m\n\u001b[1;32m     44\u001b[0m solver\u001b[38;5;241m.\u001b[39m_check_A(A)\n\u001b[1;32m     45\u001b[0m \u001b[38;5;28;01mif\u001b[39;00m factorize \u001b[38;5;129;01mand\u001b[39;00m \u001b[38;5;129;01mnot\u001b[39;00m solver\u001b[38;5;241m.\u001b[39m_is_already_factorized(A):\n\u001b[0;32m---> 46\u001b[0m     \u001b[43msolver\u001b[49m\u001b[38;5;241;43m.\u001b[39;49m\u001b[43mfactorize\u001b[49m\u001b[43m(\u001b[49m\u001b[43mA\u001b[49m\u001b[43m)\u001b[49m\n\u001b[1;32m     48\u001b[0m x \u001b[38;5;241m=\u001b[39m solver\u001b[38;5;241m.\u001b[39msolve(A, b)\n\u001b[1;32m     50\u001b[0m \u001b[38;5;28;01mif\u001b[39;00m squeeze:\n",
      "File \u001b[0;32m~/opt/miniconda3/envs/rmod-dev-py39/lib/python3.9/site-packages/pypardiso/pardiso_wrapper.py:150\u001b[0m, in \u001b[0;36mPyPardisoSolver.factorize\u001b[0;34m(self, A)\u001b[0m\n\u001b[1;32m    148\u001b[0m \u001b[38;5;28mself\u001b[39m\u001b[38;5;241m.\u001b[39mset_phase(\u001b[38;5;241m12\u001b[39m)\n\u001b[1;32m    149\u001b[0m b \u001b[38;5;241m=\u001b[39m np\u001b[38;5;241m.\u001b[39mzeros((A\u001b[38;5;241m.\u001b[39mshape[\u001b[38;5;241m0\u001b[39m], \u001b[38;5;241m1\u001b[39m))\n\u001b[0;32m--> 150\u001b[0m \u001b[38;5;28;43mself\u001b[39;49m\u001b[38;5;241;43m.\u001b[39;49m\u001b[43m_call_pardiso\u001b[49m\u001b[43m(\u001b[49m\u001b[43mA\u001b[49m\u001b[43m,\u001b[49m\u001b[43m \u001b[49m\u001b[43mb\u001b[49m\u001b[43m)\u001b[49m\n",
      "File \u001b[0;32m~/opt/miniconda3/envs/rmod-dev-py39/lib/python3.9/site-packages/pypardiso/pardiso_wrapper.py:263\u001b[0m, in \u001b[0;36mPyPardisoSolver._call_pardiso\u001b[0;34m(self, A, b)\u001b[0m\n\u001b[1;32m    260\u001b[0m ia \u001b[38;5;241m=\u001b[39m A\u001b[38;5;241m.\u001b[39mindptr \u001b[38;5;241m+\u001b[39m \u001b[38;5;241m1\u001b[39m\n\u001b[1;32m    261\u001b[0m ja \u001b[38;5;241m=\u001b[39m A\u001b[38;5;241m.\u001b[39mindices \u001b[38;5;241m+\u001b[39m \u001b[38;5;241m1\u001b[39m\n\u001b[0;32m--> 263\u001b[0m \u001b[38;5;28;43mself\u001b[39;49m\u001b[38;5;241;43m.\u001b[39;49m\u001b[43m_mkl_pardiso\u001b[49m\u001b[43m(\u001b[49m\u001b[38;5;28;43mself\u001b[39;49m\u001b[38;5;241;43m.\u001b[39;49m\u001b[43mpt\u001b[49m\u001b[38;5;241;43m.\u001b[39;49m\u001b[43mctypes\u001b[49m\u001b[38;5;241;43m.\u001b[39;49m\u001b[43mdata_as\u001b[49m\u001b[43m(\u001b[49m\u001b[43mctypes\u001b[49m\u001b[38;5;241;43m.\u001b[39;49m\u001b[43mPOINTER\u001b[49m\u001b[43m(\u001b[49m\u001b[38;5;28;43mself\u001b[39;49m\u001b[38;5;241;43m.\u001b[39;49m\u001b[43m_pt_type\u001b[49m\u001b[43m[\u001b[49m\u001b[38;5;241;43m0\u001b[39;49m\u001b[43m]\u001b[49m\u001b[43m)\u001b[49m\u001b[43m)\u001b[49m\u001b[43m,\u001b[49m\u001b[43m  \u001b[49m\u001b[38;5;66;43;03m# pt\u001b[39;49;00m\n\u001b[1;32m    264\u001b[0m \u001b[43m                  \u001b[49m\u001b[43mctypes\u001b[49m\u001b[38;5;241;43m.\u001b[39;49m\u001b[43mbyref\u001b[49m\u001b[43m(\u001b[49m\u001b[43mctypes\u001b[49m\u001b[38;5;241;43m.\u001b[39;49m\u001b[43mc_int32\u001b[49m\u001b[43m(\u001b[49m\u001b[38;5;241;43m1\u001b[39;49m\u001b[43m)\u001b[49m\u001b[43m)\u001b[49m\u001b[43m,\u001b[49m\u001b[43m  \u001b[49m\u001b[38;5;66;43;03m# maxfct\u001b[39;49;00m\n\u001b[1;32m    265\u001b[0m \u001b[43m                  \u001b[49m\u001b[43mctypes\u001b[49m\u001b[38;5;241;43m.\u001b[39;49m\u001b[43mbyref\u001b[49m\u001b[43m(\u001b[49m\u001b[43mctypes\u001b[49m\u001b[38;5;241;43m.\u001b[39;49m\u001b[43mc_int32\u001b[49m\u001b[43m(\u001b[49m\u001b[38;5;241;43m1\u001b[39;49m\u001b[43m)\u001b[49m\u001b[43m)\u001b[49m\u001b[43m,\u001b[49m\u001b[43m  \u001b[49m\u001b[38;5;66;43;03m# mnum\u001b[39;49;00m\n\u001b[1;32m    266\u001b[0m \u001b[43m                  \u001b[49m\u001b[43mctypes\u001b[49m\u001b[38;5;241;43m.\u001b[39;49m\u001b[43mbyref\u001b[49m\u001b[43m(\u001b[49m\u001b[43mctypes\u001b[49m\u001b[38;5;241;43m.\u001b[39;49m\u001b[43mc_int32\u001b[49m\u001b[43m(\u001b[49m\u001b[38;5;28;43mself\u001b[39;49m\u001b[38;5;241;43m.\u001b[39;49m\u001b[43mmtype\u001b[49m\u001b[43m)\u001b[49m\u001b[43m)\u001b[49m\u001b[43m,\u001b[49m\u001b[43m  \u001b[49m\u001b[38;5;66;43;03m# mtype -> 11 for real-nonsymetric\u001b[39;49;00m\n\u001b[1;32m    267\u001b[0m \u001b[43m                  \u001b[49m\u001b[43mctypes\u001b[49m\u001b[38;5;241;43m.\u001b[39;49m\u001b[43mbyref\u001b[49m\u001b[43m(\u001b[49m\u001b[43mctypes\u001b[49m\u001b[38;5;241;43m.\u001b[39;49m\u001b[43mc_int32\u001b[49m\u001b[43m(\u001b[49m\u001b[38;5;28;43mself\u001b[39;49m\u001b[38;5;241;43m.\u001b[39;49m\u001b[43mphase\u001b[49m\u001b[43m)\u001b[49m\u001b[43m)\u001b[49m\u001b[43m,\u001b[49m\u001b[43m  \u001b[49m\u001b[38;5;66;43;03m# phase -> 13\u001b[39;49;00m\n\u001b[1;32m    268\u001b[0m \u001b[43m                  \u001b[49m\u001b[43mctypes\u001b[49m\u001b[38;5;241;43m.\u001b[39;49m\u001b[43mbyref\u001b[49m\u001b[43m(\u001b[49m\u001b[43mctypes\u001b[49m\u001b[38;5;241;43m.\u001b[39;49m\u001b[43mc_int32\u001b[49m\u001b[43m(\u001b[49m\u001b[43mA\u001b[49m\u001b[38;5;241;43m.\u001b[39;49m\u001b[43mshape\u001b[49m\u001b[43m[\u001b[49m\u001b[38;5;241;43m0\u001b[39;49m\u001b[43m]\u001b[49m\u001b[43m)\u001b[49m\u001b[43m)\u001b[49m\u001b[43m,\u001b[49m\u001b[43m  \u001b[49m\u001b[38;5;66;43;03m# N -> number of equations/size of matrix\u001b[39;49;00m\n\u001b[1;32m    269\u001b[0m \u001b[43m                  \u001b[49m\u001b[43mA\u001b[49m\u001b[38;5;241;43m.\u001b[39;49m\u001b[43mdata\u001b[49m\u001b[38;5;241;43m.\u001b[39;49m\u001b[43mctypes\u001b[49m\u001b[38;5;241;43m.\u001b[39;49m\u001b[43mdata_as\u001b[49m\u001b[43m(\u001b[49m\u001b[43mc_float64_p\u001b[49m\u001b[43m)\u001b[49m\u001b[43m,\u001b[49m\u001b[43m  \u001b[49m\u001b[38;5;66;43;03m# A -> non-zero entries in matrix\u001b[39;49;00m\n\u001b[1;32m    270\u001b[0m \u001b[43m                  \u001b[49m\u001b[43mia\u001b[49m\u001b[38;5;241;43m.\u001b[39;49m\u001b[43mctypes\u001b[49m\u001b[38;5;241;43m.\u001b[39;49m\u001b[43mdata_as\u001b[49m\u001b[43m(\u001b[49m\u001b[43mc_int32_p\u001b[49m\u001b[43m)\u001b[49m\u001b[43m,\u001b[49m\u001b[43m  \u001b[49m\u001b[38;5;66;43;03m# ia -> csr-indptr\u001b[39;49;00m\n\u001b[1;32m    271\u001b[0m \u001b[43m                  \u001b[49m\u001b[43mja\u001b[49m\u001b[38;5;241;43m.\u001b[39;49m\u001b[43mctypes\u001b[49m\u001b[38;5;241;43m.\u001b[39;49m\u001b[43mdata_as\u001b[49m\u001b[43m(\u001b[49m\u001b[43mc_int32_p\u001b[49m\u001b[43m)\u001b[49m\u001b[43m,\u001b[49m\u001b[43m  \u001b[49m\u001b[38;5;66;43;03m# ja -> csr-indices\u001b[39;49;00m\n\u001b[1;32m    272\u001b[0m \u001b[43m                  \u001b[49m\u001b[38;5;28;43mself\u001b[39;49m\u001b[38;5;241;43m.\u001b[39;49m\u001b[43mperm\u001b[49m\u001b[38;5;241;43m.\u001b[39;49m\u001b[43mctypes\u001b[49m\u001b[38;5;241;43m.\u001b[39;49m\u001b[43mdata_as\u001b[49m\u001b[43m(\u001b[49m\u001b[43mc_int32_p\u001b[49m\u001b[43m)\u001b[49m\u001b[43m,\u001b[49m\u001b[43m  \u001b[49m\u001b[38;5;66;43;03m# perm -> empty\u001b[39;49;00m\n\u001b[1;32m    273\u001b[0m \u001b[43m                  \u001b[49m\u001b[43mctypes\u001b[49m\u001b[38;5;241;43m.\u001b[39;49m\u001b[43mbyref\u001b[49m\u001b[43m(\u001b[49m\u001b[43mctypes\u001b[49m\u001b[38;5;241;43m.\u001b[39;49m\u001b[43mc_int32\u001b[49m\u001b[43m(\u001b[49m\u001b[38;5;241;43m1\u001b[39;49m\u001b[43m \u001b[49m\u001b[38;5;28;43;01mif\u001b[39;49;00m\u001b[43m \u001b[49m\u001b[43mb\u001b[49m\u001b[38;5;241;43m.\u001b[39;49m\u001b[43mndim\u001b[49m\u001b[43m \u001b[49m\u001b[38;5;241;43m==\u001b[39;49m\u001b[43m \u001b[49m\u001b[38;5;241;43m1\u001b[39;49m\u001b[43m \u001b[49m\u001b[38;5;28;43;01melse\u001b[39;49;00m\u001b[43m \u001b[49m\u001b[43mb\u001b[49m\u001b[38;5;241;43m.\u001b[39;49m\u001b[43mshape\u001b[49m\u001b[43m[\u001b[49m\u001b[38;5;241;43m1\u001b[39;49m\u001b[43m]\u001b[49m\u001b[43m)\u001b[49m\u001b[43m)\u001b[49m\u001b[43m,\u001b[49m\u001b[43m  \u001b[49m\u001b[38;5;66;43;03m# nrhs\u001b[39;49;00m\n\u001b[1;32m    274\u001b[0m \u001b[43m                  \u001b[49m\u001b[38;5;28;43mself\u001b[39;49m\u001b[38;5;241;43m.\u001b[39;49m\u001b[43miparm\u001b[49m\u001b[38;5;241;43m.\u001b[39;49m\u001b[43mctypes\u001b[49m\u001b[38;5;241;43m.\u001b[39;49m\u001b[43mdata_as\u001b[49m\u001b[43m(\u001b[49m\u001b[43mc_int32_p\u001b[49m\u001b[43m)\u001b[49m\u001b[43m,\u001b[49m\u001b[43m  \u001b[49m\u001b[38;5;66;43;03m# iparm-array\u001b[39;49;00m\n\u001b[1;32m    275\u001b[0m \u001b[43m                  \u001b[49m\u001b[43mctypes\u001b[49m\u001b[38;5;241;43m.\u001b[39;49m\u001b[43mbyref\u001b[49m\u001b[43m(\u001b[49m\u001b[43mctypes\u001b[49m\u001b[38;5;241;43m.\u001b[39;49m\u001b[43mc_int32\u001b[49m\u001b[43m(\u001b[49m\u001b[38;5;28;43mself\u001b[39;49m\u001b[38;5;241;43m.\u001b[39;49m\u001b[43mmsglvl\u001b[49m\u001b[43m)\u001b[49m\u001b[43m)\u001b[49m\u001b[43m,\u001b[49m\u001b[43m  \u001b[49m\u001b[38;5;66;43;03m# msg-level -> 1: statistical info is printed\u001b[39;49;00m\n\u001b[1;32m    276\u001b[0m \u001b[43m                  \u001b[49m\u001b[43mb\u001b[49m\u001b[38;5;241;43m.\u001b[39;49m\u001b[43mctypes\u001b[49m\u001b[38;5;241;43m.\u001b[39;49m\u001b[43mdata_as\u001b[49m\u001b[43m(\u001b[49m\u001b[43mc_float64_p\u001b[49m\u001b[43m)\u001b[49m\u001b[43m,\u001b[49m\u001b[43m  \u001b[49m\u001b[38;5;66;43;03m# b -> right-hand side vector/matrix\u001b[39;49;00m\n\u001b[1;32m    277\u001b[0m \u001b[43m                  \u001b[49m\u001b[43mx\u001b[49m\u001b[38;5;241;43m.\u001b[39;49m\u001b[43mctypes\u001b[49m\u001b[38;5;241;43m.\u001b[39;49m\u001b[43mdata_as\u001b[49m\u001b[43m(\u001b[49m\u001b[43mc_float64_p\u001b[49m\u001b[43m)\u001b[49m\u001b[43m,\u001b[49m\u001b[43m  \u001b[49m\u001b[38;5;66;43;03m# x -> output\u001b[39;49;00m\n\u001b[1;32m    278\u001b[0m \u001b[43m                  \u001b[49m\u001b[43mctypes\u001b[49m\u001b[38;5;241;43m.\u001b[39;49m\u001b[43mbyref\u001b[49m\u001b[43m(\u001b[49m\u001b[43mpardiso_error\u001b[49m\u001b[43m)\u001b[49m\u001b[43m)\u001b[49m  \u001b[38;5;66;03m# pardiso error\u001b[39;00m\n\u001b[1;32m    280\u001b[0m \u001b[38;5;28;01mif\u001b[39;00m pardiso_error\u001b[38;5;241m.\u001b[39mvalue \u001b[38;5;241m!=\u001b[39m \u001b[38;5;241m0\u001b[39m:\n\u001b[1;32m    281\u001b[0m     \u001b[38;5;28;01mraise\u001b[39;00m PyPardisoError(pardiso_error\u001b[38;5;241m.\u001b[39mvalue)\n",
      "\u001b[0;31mKeyboardInterrupt\u001b[0m: "
     ]
    }
   ],
   "source": [
    "fp_local_sa_vm = write_dir / f\"local_sa.virtual_markets.pickle\"\n",
    "if fp_local_sa_cf.exists():\n",
    "    local_sa_vm = run_local_sa(\n",
    "        \"technosphere\",\n",
    "        fu_mapped,\n",
    "        packages,\n",
    "        indices_vm,\n",
    "        data_vm,\n",
    "        distributions_vm,\n",
    "        mask_vm,\n",
    "        flip_vm,\n",
    "        const_factor,\n",
    "    )"
   ]
  },
  {
   "cell_type": "code",
   "execution_count": null,
   "id": "2186bb79",
   "metadata": {},
   "outputs": [],
   "source": []
  },
  {
   "cell_type": "code",
   "execution_count": null,
   "id": "0178854a",
   "metadata": {},
   "outputs": [],
   "source": []
  },
  {
   "cell_type": "code",
   "execution_count": null,
   "id": "fb64d550",
   "metadata": {},
   "outputs": [],
   "source": []
  },
  {
   "cell_type": "code",
   "execution_count": null,
   "id": "368d0ae8",
   "metadata": {},
   "outputs": [],
   "source": []
  },
  {
   "cell_type": "markdown",
   "id": "6ee83e96",
   "metadata": {},
   "source": [
    "# 2.4 Remove lowly influential based on variance"
   ]
  },
  {
   "cell_type": "code",
   "execution_count": null,
   "id": "df4f0426",
   "metadata": {},
   "outputs": [],
   "source": [
    "# Add static score\n",
    "local_sa_list = [local_sa_tech, local_sa_bio, local_sa_cf]\n",
    "for dict_ in local_sa_list:\n",
    "    values = np.vstack(list(dict_.values()))\n",
    "    values = np.hstack([values, np.ones((len(values), 1))*static_score])\n",
    "    variances = np.var(values, axis=1)\n",
    "    for i,k in enumerate(dict_.keys()):\n",
    "#         dict_.update({k: values[i,:]})\n",
    "        dict_[k] = {\n",
    "            \"arr\": values[i,:],\n",
    "            \"var\": variances[i],\n",
    "        }"
   ]
  },
  {
   "cell_type": "code",
   "execution_count": null,
   "id": "97155e2e",
   "metadata": {},
   "outputs": [],
   "source": [
    "# Find threshold for variance\n",
    "num_parameters_step2 = 100\n",
    "# Collect all variances\n",
    "variances = np.array([v['var'] for dict_ in local_sa_list for k,v in dict_.items() ])\n",
    "variances = np.sort(variances)[-1::-1]\n",
    "variances_threshold = variances[:num_parameters_step2][-1]"
   ]
  },
  {
   "cell_type": "code",
   "execution_count": null,
   "id": "ebaa5218",
   "metadata": {},
   "outputs": [],
   "source": [
    "# Remove lowly influential\n",
    "get_indices_high_variance = lambda dict_: \\\n",
    "    [k for k in dict_ if dict_[k]['var'] >= variances_threshold]\n",
    "\n",
    "use_indices_tech_without_lowinf = get_indices_high_variance(local_sa_tech)\n",
    "mask_tech_without_lowinf = get_mask(indices_tech, use_indices_tech_without_lowinf)\n",
    "\n",
    "use_indices_bio_without_lowinf = get_indices_high_variance(local_sa_bio)\n",
    "mask_bio_without_lowinf = get_mask(indices_bio, use_indices_bio_without_lowinf)\n",
    "\n",
    "use_indices_cf_without_lowinf = get_indices_high_variance(local_sa_cf)\n",
    "mask_cf_without_lowinf = get_mask(indices_cf, use_indices_cf_without_lowinf)\n",
    "\n",
    "assert sum(mask_tech_without_lowinf) + sum(mask_bio_without_lowinf) + sum(mask_cf_without_lowinf) == num_parameters_step2"
   ]
  },
  {
   "cell_type": "code",
   "execution_count": null,
   "id": "22c7eed7",
   "metadata": {},
   "outputs": [],
   "source": []
  },
  {
   "cell_type": "code",
   "execution_count": null,
   "id": "a79fb7a1",
   "metadata": {},
   "outputs": [],
   "source": []
  },
  {
   "cell_type": "code",
   "execution_count": null,
   "id": "7a3a4587",
   "metadata": {},
   "outputs": [],
   "source": []
  }
 ],
 "metadata": {
  "kernelspec": {
   "display_name": "Python 3 (ipykernel)",
   "language": "python",
   "name": "python3"
  },
  "language_info": {
   "codemirror_mode": {
    "name": "ipython",
    "version": 3
   },
   "file_extension": ".py",
   "mimetype": "text/x-python",
   "name": "python",
   "nbconvert_exporter": "python",
   "pygments_lexer": "ipython3",
   "version": "3.9.10"
  },
  "varInspector": {
   "cols": {
    "lenName": 16,
    "lenType": 16,
    "lenVar": 40
   },
   "kernels_config": {
    "python": {
     "delete_cmd_postfix": "",
     "delete_cmd_prefix": "del ",
     "library": "var_list.py",
     "varRefreshCmd": "print(var_dic_list())"
    },
    "r": {
     "delete_cmd_postfix": ") ",
     "delete_cmd_prefix": "rm(",
     "library": "var_list.r",
     "varRefreshCmd": "cat(var_dic_list()) "
    }
   },
   "types_to_exclude": [
    "module",
    "function",
    "builtin_function_or_method",
    "instance",
    "_Feature"
   ],
   "window_display": false
  }
 },
 "nbformat": 4,
 "nbformat_minor": 5
}
