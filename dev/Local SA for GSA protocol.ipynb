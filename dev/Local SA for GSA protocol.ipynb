{
 "cells": [
  {
   "cell_type": "code",
   "execution_count": 1,
   "id": "50d4c93a",
   "metadata": {},
   "outputs": [],
   "source": [
    "import bw2data as bd\n",
    "import bw2calc as bc\n",
    "import bw_processing as bwp\n",
    "from pypardiso import spsolve\n",
    "from pathlib import Path\n",
    "from gsa_framework.utils import read_pickle, write_pickle\n",
    "import sys\n",
    "sys.path.append('/Users/akim/PycharmProjects/akula')\n",
    "\n",
    "# Local files\n",
    "from akula.sensitivity_analysis.local_sa import *\n",
    "\n",
    "project = 'GSA for archetypes'\n",
    "bd.projects.set_current(project)\n",
    "const_factor = 10\n",
    "cutoff = 1e-3  # For contribution analysis\n",
    "max_calc = 1e3  # For supply chain traversal"
   ]
  },
  {
   "cell_type": "markdown",
   "id": "c4861703",
   "metadata": {},
   "source": [
    "# Setups"
   ]
  },
  {
   "cell_type": "code",
   "execution_count": 2,
   "id": "a47aef7b",
   "metadata": {
    "scrolled": true
   },
   "outputs": [
    {
     "data": {
      "text/plain": [
       "1094.9290193609536"
      ]
     },
     "execution_count": 2,
     "metadata": {},
     "output_type": "execute_result"
    }
   ],
   "source": [
    "co = bd.Database('swiss consumption 1.0')\n",
    "fu = [act for act in co if \"average consumption\" in act['name']][0]\n",
    "\n",
    "write_dir = Path(\"write_files\") / project.lower().replace(\" \", \"_\") / fu['name'].lower().replace(\" \", \"_\")\n",
    "write_dir_sct = write_dir / \"supply_chain_traversal\" \n",
    "write_dir_sct.mkdir(exist_ok=True, parents=True)\n",
    "\n",
    "demand = {fu: 1}\n",
    "method = (\"IPCC 2013\", \"climate change\", \"GWP 100a\", \"uncertain\")\n",
    "fu_mapped, packages, _ = bd.prepare_lca_inputs(demand=demand, method=method, remapping=False)\n",
    "lca = bc.LCA(demand=fu_mapped, data_objs=packages)\n",
    "lca.lci()\n",
    "lca.lcia()\n",
    "lca.score"
   ]
  },
  {
   "cell_type": "code",
   "execution_count": 3,
   "id": "aec8edc6",
   "metadata": {},
   "outputs": [],
   "source": [
    "# Get all relevant data\n",
    "ei = bd.Database('ecoinvent 3.8 cutoff').datapackage()\n",
    "co = bd.Database('swiss consumption 1.0').datapackage()\n",
    "cf = bd.Method(method).datapackage()\n",
    "\n",
    "# Technosphere\n",
    "ei_tech = ei.filter_by_attribute('matrix', 'technosphere_matrix')\n",
    "co_tech = co.filter_by_attribute('matrix', 'technosphere_matrix')\n",
    "get_tech_resource_kind = lambda kind: np.hstack(\n",
    "    [\n",
    "        ei_tech.get_resource(f'ecoinvent_3.8_cutoff_technosphere_matrix.{kind}')[0], \n",
    "        co_tech.get_resource(f'swiss_consumption_1.0_technosphere_matrix.{kind}')[0]\n",
    "    ]\n",
    ")\n",
    "indices_tech = get_tech_resource_kind('indices')\n",
    "data_tech = get_tech_resource_kind('data')\n",
    "flip_tech = get_tech_resource_kind('flip')\n",
    "\n",
    "# Biosphere\n",
    "ei_bio = ei.filter_by_attribute('matrix', 'biosphere_matrix')\n",
    "indices_bio = ei_bio.get_resource('ecoinvent_3.8_cutoff_biosphere_matrix.indices')[0]\n",
    "data_bio = ei_bio.get_resource('ecoinvent_3.8_cutoff_biosphere_matrix.data')[0]\n",
    "distributions_bio = ei_bio.get_resource('ecoinvent_3.8_cutoff_biosphere_matrix.distributions')[0]\n",
    "\n",
    "# Characterization\n",
    "indices_cf = cf.get_resource('IPCC_2013_climate_change_GWP_100a_uncertain_matrix_data.indices')[0]\n",
    "data_cf = cf.get_resource('IPCC_2013_climate_change_GWP_100a_uncertain_matrix_data.data')[0]\n",
    "distributions_cf = cf.get_resource('IPCC_2013_climate_change_GWP_100a_uncertain_matrix_data.distributions')[0]"
   ]
  },
  {
   "cell_type": "code",
   "execution_count": 4,
   "id": "6d6fb732",
   "metadata": {},
   "outputs": [],
   "source": [
    "# Get technosphere uncertainty boolean array\n",
    "distributions_ei = ei_tech.get_resource(f'ecoinvent_3.8_cutoff_technosphere_matrix.distributions')[0] \n",
    "has_uncertainty_ei = distributions_ei['uncertainty_type'] >= 2\n",
    "\n",
    "indices_tech_co = co_tech.get_resource(f'swiss_consumption_1.0_technosphere_matrix.indices')[0]\n",
    "has_uncertainty_dict = {}\n",
    "for act in bd.Database('swiss consumption 1.0'):\n",
    "    exchanges = list(act.exchanges())\n",
    "    col = lca.dicts.activity[act.id]\n",
    "    for exc in exchanges:\n",
    "        if exc.get('has_uncertainty', False):\n",
    "            row = lca.dicts.activity[exc.input.id]\n",
    "            has_uncertainty_dict[(exc.input.id, act.id)] = True\n",
    "has_uncertainty_co = np.array([has_uncertainty_dict.get(tuple(ids), False) for ids in indices_tech_co])\n",
    "\n",
    "has_uncertainty_tech = np.hstack(\n",
    "    [\n",
    "        has_uncertainty_ei,\n",
    "        has_uncertainty_co,\n",
    "    ]\n",
    ")"
   ]
  },
  {
   "cell_type": "markdown",
   "id": "f2519098",
   "metadata": {},
   "source": [
    "# Step 1. Remove non influential with contribution analysis"
   ]
  },
  {
   "cell_type": "markdown",
   "id": "f0040d4b",
   "metadata": {},
   "source": [
    "## Step 1.1 Technosphere & Supply chain traversal"
   ]
  },
  {
   "cell_type": "code",
   "execution_count": 5,
   "id": "31b70b64",
   "metadata": {},
   "outputs": [
    {
     "name": "stdout",
     "output_type": "stream",
     "text": [
      "CPU times: user 830 µs, sys: 1.26 ms, total: 2.09 ms\n",
      "Wall time: 3.01 ms\n"
     ]
    }
   ],
   "source": [
    "%%time\n",
    "fp_sct = write_dir_sct / f\"sct.cutoff_{cutoff:.0e}.maxcalc_{max_calc:.0e}.pickle\"\n",
    "if fp_sct.exists():\n",
    "    use_indices_tech_without_noninf = read_pickle(fp_sct)\n",
    "else:    \n",
    "    use_indices_tech_without_noninf = get_inds_tech_without_noninf(lca, cutoff, max_calc)\n",
    "    write_pickle(use_indices_tech_without_noninf, fp_sct)\n",
    "\n",
    "fp_mask_without_noninf = write_dir / f\"mask.tech.without_noninf.cutoff_{cutoff:.0e}.maxcalc_{max_calc:.0e}.pickle\"\n",
    "if fp_mask_without_noninf.exists():\n",
    "    mask_tech_without_noninf = read_pickle(fp_mask_without_noninf)\n",
    "else:\n",
    "    mask_tech_without_noninf = get_mask(indices_tech, use_indices_tech_without_noninf)\n",
    "    write_pickle(mask_tech_without_noninf, fp_mask_without_noninf)"
   ]
  },
  {
   "cell_type": "markdown",
   "id": "8a34b8bf",
   "metadata": {},
   "source": [
    "## Step 1.2 Biosphere"
   ]
  },
  {
   "cell_type": "code",
   "execution_count": 6,
   "id": "03016fac",
   "metadata": {},
   "outputs": [],
   "source": [
    "use_indices_bio_without_noninf = get_inds_bio_without_noninf(lca, cutoff)\n",
    "fp_mask_bio_without_noninf = write_dir / f\"mask.bio.without_noninf.cutoff_{cutoff:.0e}.pickle\"\n",
    "if fp_mask_bio_without_noninf.exists():\n",
    "    mask_bio_without_noninf = read_pickle(fp_mask_bio_without_noninf)\n",
    "else:\n",
    "    mask_bio_without_noninf = get_mask(indices_bio, use_indices_bio_without_noninf)\n",
    "    write_pickle(mask_bio_without_noninf, fp_mask_bio_without_noninf)"
   ]
  },
  {
   "cell_type": "markdown",
   "id": "1dcf2041",
   "metadata": {},
   "source": [
    "## Step 1.3 Characterization"
   ]
  },
  {
   "cell_type": "code",
   "execution_count": 7,
   "id": "6d4c2f1b",
   "metadata": {},
   "outputs": [],
   "source": [
    "use_indices_cf_without_noninf = get_inds_cf_without_noninf(lca, cutoff)\n",
    "fp_mask_cf_without_noninf = write_dir / f\"mask.cf.without_noninf.cutoff_{cutoff:.0e}.pickle\"\n",
    "if fp_mask_cf_without_noninf.exists():\n",
    "    mask_cf_without_noninf = read_pickle(fp_mask_cf_without_noninf)\n",
    "else:\n",
    "    mask_cf_without_noninf = get_mask(indices_cf, use_indices_cf_without_noninf)\n",
    "    write_pickle(mask_cf_without_noninf, fp_mask_cf_without_noninf)"
   ]
  },
  {
   "cell_type": "markdown",
   "id": "24d6186f",
   "metadata": {},
   "source": [
    "# Step 2. Run local SA"
   ]
  },
  {
   "cell_type": "markdown",
   "id": "10bab574",
   "metadata": {},
   "source": [
    "## 2.1 Technosphere"
   ]
  },
  {
   "cell_type": "code",
   "execution_count": 8,
   "id": "0c7b78ed",
   "metadata": {},
   "outputs": [],
   "source": [
    "def run_local_sa_tech(\n",
    "    matrix_type,\n",
    "    fu_mapped,\n",
    "    packages,\n",
    "    indices_tech,\n",
    "    data_tech,\n",
    "    has_uncertainty_tech,\n",
    "    mask_tech_without_noninf,\n",
    "    flip_tech,\n",
    "    factors,\n",
    "    cutoff,\n",
    "):\n",
    "    for i, factor in enumerate(factors):\n",
    "        local_sa_current = run_local_sa(\n",
    "            matrix_type,\n",
    "            fu_mapped,\n",
    "            packages,\n",
    "            indices_tech,\n",
    "            data_tech,\n",
    "            has_uncertainty_tech,\n",
    "            mask_tech_without_noninf,\n",
    "            flip_tech,\n",
    "            factor,\n",
    "            cutoff,\n",
    "        )\n",
    "        if i == 0:\n",
    "            local_sa = {k:np.array([v]) for k,v in local_sa_current.items()}\n",
    "        else:\n",
    "            local_sa = {k: np.hstack([local_sa[k], np.array([local_sa_current[k]])]) for k in local_sa.keys()}\n",
    "    return local_sa\n",
    "        "
   ]
  },
  {
   "cell_type": "code",
   "execution_count": 9,
   "id": "0d3c1e03",
   "metadata": {},
   "outputs": [
    {
     "name": "stdout",
     "output_type": "stream",
     "text": [
      "CPU times: user 1.04 ms, sys: 1.22 ms, total: 2.26 ms\n",
      "Wall time: 2.24 ms\n"
     ]
    }
   ],
   "source": [
    "%%time\n",
    "fp_local_sa_tech = write_dir / f\"local_sa.tech.cutoff_{cutoff:.0e}.maxcalc_{max_calc:.0e}.pickle\"\n",
    "if fp_local_sa_tech.exists():\n",
    "    local_sa_tech = read_pickle(fp_local_sa_tech)\n",
    "else:\n",
    "    local_sa_tech = run_local_sa_tech(\n",
    "        \"technosphere\",\n",
    "        fu_mapped,\n",
    "        packages,\n",
    "        indices_tech,\n",
    "        data_tech,\n",
    "        has_uncertainty_tech,\n",
    "        mask_tech_without_noninf,\n",
    "        flip_tech,\n",
    "        [1/const_factor, const_factor],\n",
    "        cutoff,\n",
    "    )\n",
    "    write_pickle(local_sa_tech, fp_local_sa_tech)"
   ]
  },
  {
   "cell_type": "code",
   "execution_count": 10,
   "id": "d72c85f4",
   "metadata": {},
   "outputs": [
    {
     "data": {
      "text/plain": [
       "{(4435, 7979): array([1088.7807232 , 1156.41198222]),\n",
       " (4563, 5504): array([1090.5244405 , 1139.10229337]),\n",
       " (4935, 5504): array([1057.49102283, 1473.99269434]),\n",
       " (5504, 15411): array([1048.75923401, 1560.14582465]),\n",
       " (5824, 20020): array([1090.80613998, 1136.82580721]),\n",
       " (5887, 7979): array([1089.85588614, 1145.66035272]),\n",
       " (6224, 4891): array([1093.62786224, 1107.99334499]),\n",
       " (7051, 5504): array([1093.65194585, 1107.70578572]),\n",
       " (7302, 17206): array([1056.49745377, 1479.24469631]),\n",
       " (7979, 7134): array([1060.86666134, 1435.55261114]),\n",
       " (8107, 20020): array([1093.59780062, 1108.30936092]),\n",
       " (8307, 5504): array([1092.10683612, 1123.18859614]),\n",
       " (8595, 20020): array([1093.61754981, 1108.10982611]),\n",
       " (8613, 13455): array([1060.11441688, 1443.07504483]),\n",
       " (8635, 12329): array([1087.81974631, 1167.47060612]),\n",
       " (8974, 20020): array([1093.57835498, 1108.50553573]),\n",
       " (9164, 13648): array([1093.74115407, 1106.80767212]),\n",
       " (9649, 20020): array([1093.7832018 , 1106.43861196]),\n",
       " (9884, 6128): array([1075.97031735, 1284.58697238]),\n",
       " (10820, 20020): array([1090.8353064 , 1136.51743835]),\n",
       " (10934, 20020): array([1092.27200264, 1121.7755962 ]),\n",
       " (11461, 7979): array([1084.38559054, 1200.36331254]),\n",
       " (11516, 15411): array([1092.51852481, 1119.04552768]),\n",
       " (11932, 5504): array([1090.32927684, 1141.08691592]),\n",
       " (11962, 16176): array([1090.50071258, 1139.21217152]),\n",
       " (12231, 4891): array([1083.16652956, 1218.43237015]),\n",
       " (12245, 7979): array([1093.49972726, 1109.22194042]),\n",
       " (12253, 4935): array([1058.23566025, 1502.87910773]),\n",
       " (12624, 20020): array([1091.78872123, 1126.7208232 ]),\n",
       " (12957, 15411): array([1092.53965852, 1118.84510492]),\n",
       " (13451, 7134): array([1088.48779626, 1159.34124937]),\n",
       " (13648, 5114): array([1035.71088213, 1688.03260043]),\n",
       " (13668, 7979): array([1092.20794317, 1122.1397818 ]),\n",
       " (13708, 7979): array([1093.12469831, 1112.97222987]),\n",
       " (14151, 5504): array([1093.68786118, 1107.34609816]),\n",
       " (14340, 4891): array([1093.09216293, 1113.44751874]),\n",
       " (14648, 20483): array([1071.88915364, 1325.3366736 ]),\n",
       " (14746, 20020): array([1092.84419868, 1115.94460469]),\n",
       " (15434, 4891): array([1093.32226031, 1111.06291642]),\n",
       " (15488, 15411): array([1093.91591218, 1105.06254215]),\n",
       " (15714, 20020): array([1092.7035825 , 1117.37426522]),\n",
       " (15816, 12253): array([1052.85665636, 1562.77470469]),\n",
       " (16176, 22650): array([1047.59558528, 1568.31734437]),\n",
       " (16219, 5504): array([1082.20401528, 1222.6406876 ]),\n",
       " (16471, 20020): array([1093.00352154, 1114.32656364]),\n",
       " (16860, 14648): array([1093.50560656, 1109.163158  ]),\n",
       " (16970, 7979): array([1091.19355537, 1132.28365833]),\n",
       " (17173, 22114): array([1050.99410119, 1535.27453475]),\n",
       " (18728, 4891): array([1087.46266032, 1170.05931071]),\n",
       " (18898, 6128): array([1089.20946093, 1152.1428177 ]),\n",
       " (19279, 12912): array([1065.52872015, 1388.93201198]),\n",
       " (19921, 20020): array([1093.83235522, 1105.94256885]),\n",
       " (20091, 7979): array([1092.99413476, 1114.27786535]),\n",
       " (20194, 12280): array([1039.62483296, 1648.00646351]),\n",
       " (20473, 20020): array([1091.87737635, 1125.80537893]),\n",
       " (21301, 20020): array([1093.1718132 , 1112.62064093]),\n",
       " (21878, 4935): array([1092.7163839 , 1117.19285515]),\n",
       " (21961, 20152): array([1075.34629959, 1291.42046846]),\n",
       " (22243, 15411): array([1091.6208064 , 1128.01745715]),\n",
       " (22335, 12329): array([1079.38864678, 1257.38310061]),\n",
       " (22558, 15411): array([1084.40043061, 1200.34270382]),\n",
       " (22658, 23091): array([1065.15931633, 1392.62959214]),\n",
       " (22926, 5504): array([1093.48189186, 1109.4048167 ]),\n",
       " (23170, 20020): array([1089.41695051, 1151.25990992]),\n",
       " (23220, 4891): array([1089.17921058, 1154.27715422]),\n",
       " (23706, 15411): array([1088.92751963, 1155.00275825]),\n",
       " (4569, 24130): array([1048.87572101, 1555.46202289]),\n",
       " (4611, 24131): array([1093.91194558, 1105.09975702]),\n",
       " (4916, 24105): array([ 995.06193151, 2093.59987791]),\n",
       " (7134, 24004): array([1074.57100749, 1298.50913523]),\n",
       " (8096, 24130): array([1038.56451626, 1658.57403735]),\n",
       " (8351, 24131): array([1087.28080771, 1171.4111357 ]),\n",
       " (8476, 24130): array([1065.92141851, 1385.00503658]),\n",
       " (8633, 24131): array([1086.14016765, 1182.81753425]),\n",
       " (8643, 24130): array([1088.57076682, 1158.51154452]),\n",
       " (12052, 24105): array([1092.23915905, 1121.82762355]),\n",
       " (12335, 23993): array([1078.7839641 , 1256.37957557]),\n",
       " (12778, 23994): array([1093.87424255, 1105.47678753]),\n",
       " (12912, 23994): array([1065.46796   , 1389.53961347]),\n",
       " (13455, 23993): array([1059.91555693, 1445.06364426]),\n",
       " (15874, 24105): array([1022.91112491, 1815.10796172]),\n",
       " (16670, 23993): array([1090.20728733, 1142.14633973]),\n",
       " (16690, 24131): array([1086.82620657, 1175.9571475 ]),\n",
       " (17206, 24020): array([1075.68642298, 1287.35498353]),\n",
       " (17247, 24131): array([1088.4746916 , 1159.47230012]),\n",
       " (17511, 24130): array([1068.01197744, 1364.0994374 ]),\n",
       " (17585, 24130): array([1072.76004625, 1316.61874627]),\n",
       " (19703, 24131): array([1078.53777517, 1258.8414594 ]),\n",
       " (20738, 24131): array([1076.59975477, 1278.22166076]),\n",
       " (21045, 23993): array([1076.05251153, 1283.69410187]),\n",
       " (21733, 24130): array([1070.00086807, 1344.21053861]),\n",
       " (22067, 24130): array([1064.06452781, 1403.57392125]),\n",
       " (22929, 24130): array([1070.89637622, 1335.25545544]),\n",
       " (23197, 24105): array([ 995.04649387, 2093.75427428]),\n",
       " (23921, 24105): array([1093.57392252, 1108.47998798]),\n",
       " (23993, 24201): array([1019.209861  , 1852.12060659]),\n",
       " (23994, 24201): array([1064.41318307, 1400.08737638]),\n",
       " (23995, 24201): array([1082.84760191, 1215.74319551]),\n",
       " (24100, 24201): array([1077.60624717, 1268.15674604]),\n",
       " (24101, 24201): array([1090.55994218, 1138.61978901]),\n",
       " (24102, 24201): array([1093.92774183, 1104.94179418]),\n",
       " (24104, 24201): array([1078.19145575, 1262.30464756]),\n",
       " (24105, 24201): array([ 817.6245376 , 3867.97369732])}"
      ]
     },
     "execution_count": 10,
     "metadata": {},
     "output_type": "execute_result"
    }
   ],
   "source": [
    "local_sa_tech"
   ]
  },
  {
   "cell_type": "code",
   "execution_count": null,
   "id": "ad418613",
   "metadata": {},
   "outputs": [],
   "source": [
    "# if fp_mask_tech_without_lowinf.exists():\n",
    "#     mask_tech_without_lowinf = read_pickle(fp_mask_tech_without_lowinf)\n",
    "# else:\n",
    "#     mask_tech_without_lowinf = get_mask(indices_tech, use_indices_tech_without_lowinf)\n",
    "#     write_pickle(mask_tech_without_lowinf, fp_mask_tech_without_lowinf)"
   ]
  },
  {
   "cell_type": "markdown",
   "id": "aef4cda2",
   "metadata": {},
   "source": [
    "## 2.2 Biosphere"
   ]
  },
  {
   "cell_type": "code",
   "execution_count": null,
   "id": "0038225d",
   "metadata": {},
   "outputs": [],
   "source": [
    "%%time\n",
    "fp_local_sa_bio = write_dir / f\"local_sa.bio.cutoff_{cutoff:.0e}.pickle\"\n",
    "if fp_local_sa_bio.exists():\n",
    "    local_sa_bio = read_pickle(fp_mask_bio_without_lowinf)\n",
    "else:\n",
    "    local_sa_bio = run_local_sa(\n",
    "        \"biosphere\",\n",
    "        fu_mapped,\n",
    "        packages,\n",
    "        indices_bio,\n",
    "        data_bio,\n",
    "        distributions_bio,\n",
    "        mask_bio_without_noninf,\n",
    "        None,\n",
    "        const_factor,\n",
    "        cutoff,\n",
    "    )\n",
    "    write_pickle(local_sa_bio, fp_local_sa_bio)\n",
    "    \n",
    "#     mask_bio_without_lowinf = get_mask(indices_bio, use_indices_bio_without_lowinf)\n",
    "#     assert sum(mask_bio_without_lowinf) == len(use_indices_bio_without_lowinf)\n",
    "#     mask_bio_without_lowinf = get_mask(indices_bio, use_indices_bio_without_lowinf)\n",
    "#     write_pickle(mask_bio_without_lowinf, fp_mask_bio_without_lowinf)"
   ]
  },
  {
   "cell_type": "markdown",
   "id": "2c2f627a",
   "metadata": {},
   "source": [
    "## 2.3 Characterization"
   ]
  },
  {
   "cell_type": "code",
   "execution_count": null,
   "id": "b32f5cc4",
   "metadata": {},
   "outputs": [],
   "source": [
    "%%time\n",
    "fp_local_sa_cf = write_dir / f\"local_sa.cf.cutoff_{cutoff:.0e}.pickle\"\n",
    "if fp_local_sa_cf.exists():\n",
    "    local_sa_cf = read_pickle(fp_local_sa_cf)\n",
    "else:\n",
    "    local_sa_cf = run_local_sa(\n",
    "        \"characterization\",\n",
    "        fu_mapped,\n",
    "        packages,\n",
    "        indices_cf,\n",
    "        data_cf,\n",
    "        distributions_cf,\n",
    "        mask_cf_without_noninf,\n",
    "        None,\n",
    "        const_factor,\n",
    "        cutoff,\n",
    "    )\n",
    "    write_pickle(local_sa_cf, fp_local_sa_cf)\n",
    "#     mask_cf_without_lowinf = get_mask(indices_cf, use_indices_cf_without_lowinf)\n",
    "#     assert sum(mask_cf_without_lowinf) == len(use_indices_cf_without_lowinf)\n",
    "#     mask_cf_without_lowinf = get_mask(indices_cf, use_indices_cf_without_lowinf)\n",
    "#     write_pickle(mask_cf_without_lowinf, fp_mask_cf_without_lowinf)"
   ]
  },
  {
   "cell_type": "code",
   "execution_count": null,
   "id": "e7f5ab5f",
   "metadata": {},
   "outputs": [],
   "source": []
  },
  {
   "cell_type": "code",
   "execution_count": null,
   "id": "d71d332a",
   "metadata": {},
   "outputs": [],
   "source": []
  },
  {
   "cell_type": "code",
   "execution_count": null,
   "id": "b19d66c4",
   "metadata": {},
   "outputs": [],
   "source": []
  },
  {
   "cell_type": "code",
   "execution_count": null,
   "id": "f72f40fa",
   "metadata": {},
   "outputs": [],
   "source": []
  },
  {
   "cell_type": "code",
   "execution_count": null,
   "id": "a79fb7a1",
   "metadata": {},
   "outputs": [],
   "source": []
  },
  {
   "cell_type": "code",
   "execution_count": null,
   "id": "7a3a4587",
   "metadata": {},
   "outputs": [],
   "source": []
  }
 ],
 "metadata": {
  "kernelspec": {
   "display_name": "Python 3 (ipykernel)",
   "language": "python",
   "name": "python3"
  },
  "language_info": {
   "codemirror_mode": {
    "name": "ipython",
    "version": 3
   },
   "file_extension": ".py",
   "mimetype": "text/x-python",
   "name": "python",
   "nbconvert_exporter": "python",
   "pygments_lexer": "ipython3",
   "version": "3.9.10"
  },
  "varInspector": {
   "cols": {
    "lenName": 16,
    "lenType": 16,
    "lenVar": 40
   },
   "kernels_config": {
    "python": {
     "delete_cmd_postfix": "",
     "delete_cmd_prefix": "del ",
     "library": "var_list.py",
     "varRefreshCmd": "print(var_dic_list())"
    },
    "r": {
     "delete_cmd_postfix": ") ",
     "delete_cmd_prefix": "rm(",
     "library": "var_list.r",
     "varRefreshCmd": "cat(var_dic_list()) "
    }
   },
   "types_to_exclude": [
    "module",
    "function",
    "builtin_function_or_method",
    "instance",
    "_Feature"
   ],
   "window_display": false
  }
 },
 "nbformat": 4,
 "nbformat_minor": 5
}
