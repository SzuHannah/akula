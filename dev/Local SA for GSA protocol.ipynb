{
 "cells": [
  {
   "cell_type": "code",
   "execution_count": 1,
   "id": "50d4c93a",
   "metadata": {},
   "outputs": [
    {
     "data": {
      "text/plain": [
       "Databases dictionary with 3 object(s):\n",
       "\tbiosphere3\n",
       "\tecoinvent 3.8 cutoff\n",
       "\tswiss consumption 1.0"
      ]
     },
     "execution_count": 1,
     "metadata": {},
     "output_type": "execute_result"
    }
   ],
   "source": [
    "import bw2data as bd\n",
    "import bw2calc as bc\n",
    "import bw_processing as bwp\n",
    "from pypardiso import spsolve\n",
    "from pathlib import Path\n",
    "from gsa_framework.utils import read_pickle, write_pickle\n",
    "\n",
    "project = 'GSA for archetypes'\n",
    "bd.projects.set_current(project)\n",
    "const_factor = 10\n",
    "\n",
    "cutoff = 1e-3\n",
    "\n",
    "bd.databases"
   ]
  },
  {
   "cell_type": "code",
   "execution_count": 2,
   "id": "a47aef7b",
   "metadata": {
    "scrolled": true
   },
   "outputs": [
    {
     "data": {
      "text/plain": [
       "1094.9290193609536"
      ]
     },
     "execution_count": 2,
     "metadata": {},
     "output_type": "execute_result"
    }
   ],
   "source": [
    "co = bd.Database('swiss consumption 1.0')\n",
    "fu = [act for act in co if \"average consumption\" in act['name']][0]\n",
    "\n",
    "write_dir = Path(\"write_files\") / project.lower().replace(\" \", \"_\") / fu['name'].lower().replace(\" \", \"_\")\n",
    "\n",
    "demand = {fu: 1}\n",
    "method = (\"IPCC 2013\", \"climate change\", \"GWP 100a\", \"uncertain\")\n",
    "fu_mapped, packages, _ = bd.prepare_lca_inputs(demand=demand, method=method, remapping=False)  # Could also add LCIA method\n",
    "lca = bc.LCA(demand=fu_mapped, data_objs=packages)\n",
    "lca.lci()\n",
    "lca.lcia()\n",
    "lca.score"
   ]
  },
  {
   "cell_type": "code",
   "execution_count": 3,
   "id": "24419dd4",
   "metadata": {},
   "outputs": [
    {
     "data": {
      "text/plain": [
       "{'output': ('swiss consumption 1.0', 'ch hh average consumption aggregated'),\n",
       " 'input': ('swiss consumption 1.0', 'a42'),\n",
       " 'amount': 196.99587275500957,\n",
       " 'type': 'technosphere',\n",
       " 'has_uncertainty': True}"
      ]
     },
     "execution_count": 3,
     "metadata": {},
     "output_type": "execute_result"
    }
   ],
   "source": [
    "list(fu.exchanges())[1].as_dict()"
   ]
  },
  {
   "cell_type": "markdown",
   "id": "606ee926",
   "metadata": {},
   "source": [
    "# Utils"
   ]
  },
  {
   "cell_type": "code",
   "execution_count": 4,
   "id": "de4357bc",
   "metadata": {},
   "outputs": [],
   "source": [
    "def get_mask(all_indices, use_indices):\n",
    "    \"\"\"Creates a `mask` such that `all_indices[mask]=use_indices`.\"\"\"\n",
    "    use_indices = np.array(use_indices, dtype=[('row', '<i4'), ('col', '<i4')])\n",
    "    mask = np.zeros(len(all_indices), dtype=bool)\n",
    "    for inds in use_indices:\n",
    "        mask_current = all_indices==inds\n",
    "        mask = mask | mask_current\n",
    "    assert sum(mask)==len(use_indices)\n",
    "    return mask"
   ]
  },
  {
   "cell_type": "code",
   "execution_count": 5,
   "id": "aec8edc6",
   "metadata": {},
   "outputs": [],
   "source": [
    "ei = bd.Database('ecoinvent 3.8 cutoff').datapackage()\n",
    "co = bd.Database('swiss consumption 1.0').datapackage()\n",
    "cf = bd.Method(method).datapackage()\n",
    "\n",
    "# Technosphere\n",
    "ei_tech = ei.filter_by_attribute('matrix', 'technosphere_matrix')\n",
    "co_tech = co.filter_by_attribute('matrix', 'technosphere_matrix')\n",
    "get_tech_resource_kind = lambda kind: np.hstack(\n",
    "    [\n",
    "        ei_tech.get_resource(f'ecoinvent_3.8_cutoff_technosphere_matrix.{kind}')[0], \n",
    "        co_tech.get_resource(f'swiss_consumption_1.0_technosphere_matrix.{kind}')[0]\n",
    "    ]\n",
    ")\n",
    "indices_tech = get_tech_resource_kind('indices')\n",
    "data_tech = get_tech_resource_kind('data')\n",
    "flip_tech = get_tech_resource_kind('flip')\n",
    "\n",
    "# Biosphere\n",
    "ei_bio = ei.filter_by_attribute('matrix', 'biosphere_matrix')\n",
    "indices_bio = ei_bio.get_resource('ecoinvent_3.8_cutoff_biosphere_matrix.indices')[0]\n",
    "data_bio = ei_bio.get_resource('ecoinvent_3.8_cutoff_biosphere_matrix.data')[0]\n",
    "distributions_bio = ei_bio.get_resource('ecoinvent_3.8_cutoff_biosphere_matrix.distributions')[0]\n",
    "\n",
    "# Characterization\n",
    "indices_cf = cf.get_resource('IPCC_2013_climate_change_GWP_100a_uncertain_matrix_data.indices')[0]\n",
    "data_cf = cf.get_resource('IPCC_2013_climate_change_GWP_100a_uncertain_matrix_data.data')[0]\n",
    "distributions_cf = cf.get_resource('IPCC_2013_climate_change_GWP_100a_uncertain_matrix_data.distributions')[0]"
   ]
  },
  {
   "cell_type": "code",
   "execution_count": 6,
   "id": "8400b54d",
   "metadata": {},
   "outputs": [],
   "source": [
    "distributions_ei = ei_tech.get_resource(f'ecoinvent_3.8_cutoff_technosphere_matrix.distributions')[0] \n",
    "has_uncertainty_ei = distributions_ei['uncertainty_type'] >= 2\n",
    "\n",
    "indices_tech_co = co_tech.get_resource(f'swiss_consumption_1.0_technosphere_matrix.indices')[0]\n",
    "has_uncertainty_dict = {}\n",
    "for act in bd.Database('swiss consumption 1.0'):\n",
    "    exchanges = list(act.exchanges())\n",
    "    col = lca.dicts.activity[act.id]\n",
    "    for exc in exchanges:\n",
    "        if exc.get('has_uncertainty', False):\n",
    "            row = lca.dicts.activity[exc.input.id]\n",
    "            has_uncertainty_dict[(exc.input.id, act.id)] = True\n",
    "has_uncertainty_co = np.array([has_uncertainty_dict.get(tuple(ids), False) for ids in indices_tech_co])\n",
    "\n",
    "has_uncertainty_tech = np.hstack(\n",
    "    [\n",
    "        has_uncertainty_ei,\n",
    "        has_uncertainty_co,\n",
    "    ]\n",
    ")"
   ]
  },
  {
   "cell_type": "markdown",
   "id": "f2519098",
   "metadata": {},
   "source": [
    "# Step 1. Remove non influential with contribution analysis"
   ]
  },
  {
   "cell_type": "markdown",
   "id": "f0040d4b",
   "metadata": {},
   "source": [
    "## Step 1.1 Technosphere & Supply chain traversal"
   ]
  },
  {
   "cell_type": "code",
   "execution_count": 7,
   "id": "9ded27d3",
   "metadata": {},
   "outputs": [],
   "source": [
    "def get_inds_tech_without_noninf(lca, cutoff, max_calc=1e4):\n",
    "    # Supply chain traversal\n",
    "    res = bc.GraphTraversal().calculate(\n",
    "        lca, cutoff=cutoff, max_calc=max_calc\n",
    "    )\n",
    "    edges = res['edges']\n",
    "    use_indices = []\n",
    "    use_indices_dict = {}\n",
    "    for edge in res['edges']:\n",
    "        if edge['to'] !=- 1:\n",
    "            if abs(edge['impact']) > abs(lca.score * cutoff):\n",
    "                row,col = edge['from'], edge['to']\n",
    "                i,j = lca.dicts.activity.reversed[row], lca.dicts.activity.reversed[col]\n",
    "                use_indices.append((i,j))\n",
    "                use_indices_dict[(i,j)] = edge['impact']\n",
    "    return use_indices"
   ]
  },
  {
   "cell_type": "code",
   "execution_count": 8,
   "id": "31b70b64",
   "metadata": {},
   "outputs": [
    {
     "name": "stdout",
     "output_type": "stream",
     "text": [
      "CPU times: user 1.04 ms, sys: 1.73 ms, total: 2.77 ms\n",
      "Wall time: 3.6 ms\n"
     ]
    }
   ],
   "source": [
    "%%time\n",
    "max_calc = 1e3\n",
    "write_dir_sct = write_dir / \"supply_chain_traversal\" \n",
    "write_dir_sct.mkdir(exist_ok=True, parents=True)\n",
    "fp_sct = write_dir_sct / f\"sct.cutoff_{cutoff:.0e}.maxcalc_{max_calc:.0e}.pickle\"\n",
    "fp_mask_without_noninf = write_dir / f\"mask.tech.without_noninf.cutoff_{cutoff:.0e}.maxcalc_{max_calc:.0e}.pickle\"\n",
    "if fp_sct.exists():\n",
    "    use_indices_tech_without_noninf = read_pickle(fp_sct)\n",
    "else:    \n",
    "    use_indices_tech_without_noninf = get_inds_tech_without_noninf(lca, cutoff, max_calc)\n",
    "    write_pickle(use_indices_tech_without_noninf, fp_sct)\n",
    "\n",
    "if fp_mask_without_noninf.exists():\n",
    "    mask_tech_without_noninf = read_pickle(fp_mask_without_noninf)\n",
    "else:\n",
    "    mask_tech_without_noninf = get_mask(indices_tech, use_indices_tech_without_noninf)\n",
    "    write_pickle(mask_tech_without_noninf, fp_mask_without_noninf)"
   ]
  },
  {
   "cell_type": "markdown",
   "id": "8a34b8bf",
   "metadata": {},
   "source": [
    "## Step 1.2 Biosphere"
   ]
  },
  {
   "cell_type": "code",
   "execution_count": 9,
   "id": "03016fac",
   "metadata": {},
   "outputs": [],
   "source": [
    "def get_inds_bio_without_noninf(lca, cutoff):\n",
    "    \"\"\"Find datapackage indices that correspond to B*Ainv*f, where contributions are higher than cutoff\"\"\"\n",
    "    inv = lca.characterized_inventory\n",
    "    finv = inv.multiply(abs(inv) > abs(lca.score * cutoff))\n",
    "    # Find row and column in B*Ainv*f\n",
    "    biosphere_row_col = list(zip(*finv.nonzero()))\n",
    "    # Translate row and column to datapackage indices\n",
    "    biosphere_reversed = lca.dicts.biosphere.reversed\n",
    "    activity_reversed = lca.dicts.activity.reversed\n",
    "    use_indices = []\n",
    "    for row,col in biosphere_row_col:\n",
    "        i, j = biosphere_reversed[row], activity_reversed[col]\n",
    "        use_indices.append((i,j))\n",
    "    return use_indices\n",
    "\n",
    "use_indices_bio_without_noninf = get_inds_bio_without_noninf(lca, cutoff)\n",
    "fp_mask_bio_without_noninf = write_dir / f\"mask.bio.without_noninf.cutoff_{cutoff:.0e}.pickle\"\n",
    "if fp_mask_bio_without_noninf.exists():\n",
    "    mask_bio_without_noninf = read_pickle(fp_mask_bio_without_noninf)\n",
    "else:\n",
    "    mask_bio_without_noninf = get_mask(indices_bio, use_indices_bio_without_noninf)\n",
    "    write_pickle(mask_bio_without_noninf, fp_mask_bio_without_noninf)"
   ]
  },
  {
   "cell_type": "markdown",
   "id": "1dcf2041",
   "metadata": {},
   "source": [
    "## Step 1.3 Characterization"
   ]
  },
  {
   "cell_type": "code",
   "execution_count": 10,
   "id": "6d4c2f1b",
   "metadata": {},
   "outputs": [],
   "source": [
    "def get_inds_cf_without_noninf(lca, cutoff):\n",
    "    \"\"\"Find datapackage indices that correspond to C*B*Ainv*f, where contributions are higher than cutoff\"\"\"\n",
    "    inv_sum = np.array(np.sum(lca.characterized_inventory, axis=1)).squeeze()\n",
    "    # print('Characterized inventory:', inv.shape, inv.nnz)\n",
    "    finv_sum = inv_sum * abs(inv_sum) > abs(lca.score * cutoff)\n",
    "    characterization_row = list(finv_sum.nonzero()[0])\n",
    "    # Translate row to datapackage indices\n",
    "    biosphere_reversed = lca.dicts.biosphere.reversed\n",
    "    use_indices = [(biosphere_reversed[row], 1) for row in characterization_row]\n",
    "    return use_indices\n",
    "\n",
    "use_indices_cf_without_noninf = get_inds_cf_without_noninf(lca, cutoff)\n",
    "fp_mask_cf_without_noninf = write_dir / f\"mask.cf.without_noninf.cutoff_{cutoff:.0e}.pickle\"\n",
    "if fp_mask_cf_without_noninf.exists():\n",
    "    mask_cf_without_noninf = read_pickle(fp_mask_cf_without_noninf)\n",
    "else:\n",
    "    mask_cf_without_noninf = get_mask(indices_cf, use_indices_cf_without_noninf)\n",
    "    write_pickle(mask_cf_without_noninf, fp_mask_cf_without_noninf)"
   ]
  },
  {
   "cell_type": "markdown",
   "id": "24d6186f",
   "metadata": {},
   "source": [
    "# Step 2. Remove lowly influential with local SA"
   ]
  },
  {
   "cell_type": "code",
   "execution_count": 11,
   "id": "97ce073f",
   "metadata": {},
   "outputs": [],
   "source": [
    "class LocalSAInterface:\n",
    "    def __init__(self, indices, data, distributions, mask, factor=10, cutoff=1e-3):\n",
    "        self.indices = indices\n",
    "        self.data = data\n",
    "        self.distributions = distributions\n",
    "        self.has_uncertainty = self.get_uncertainty_bool(self.distributions)\n",
    "        self.lca = lca\n",
    "        self.factor = factor\n",
    "        self.cutoff = cutoff\n",
    "        self.mask = mask  # indices with high enough contributions\n",
    "\n",
    "        assert self.indices.shape[0] == self.data.shape[0] == self.distributions.shape[0]\n",
    "\n",
    "        self.masked_indices = self.indices[self.mask]\n",
    "        self.masked_data = self.data[self.mask]\n",
    "        self.masked_has_uncertainty = self.has_uncertainty[self.mask]\n",
    "\n",
    "        self.size = len(self.masked_indices)\n",
    "        self.index = None  # To indicate we haven't consumed first value yet\n",
    "        self.mask_where = np.where(self.mask)[0]\n",
    "\n",
    "    def __next__(self):\n",
    "        if self.index is None:\n",
    "            self.index = 0\n",
    "        else:\n",
    "            self.index += 1\n",
    "\n",
    "        if self.index < self.size:\n",
    "            # 0 and 1 are `no` and `unknown` uncertainty\n",
    "            while self.masked_has_uncertainty[self.index]:\n",
    "                self.index += 1\n",
    "                if self.index >= self.size:\n",
    "                    raise StopIteration\n",
    "        else:\n",
    "            raise StopIteration\n",
    "\n",
    "        data = self.data.copy()\n",
    "        data[self.mask_where[self.index]] *= self.factor\n",
    "        return data\n",
    "\n",
    "    @staticmethod\n",
    "    def get_uncertainty_bool(distributions):\n",
    "        try:\n",
    "            arr = distributions['uncertainty_type'] >= 2\n",
    "        except:\n",
    "            arr = distributions > 0\n",
    "        return arr\n",
    "\n",
    "    @property\n",
    "    def coordinates(self):\n",
    "        return self.masked_indices[self.index]\n",
    "    \n",
    "    \n",
    "def run_local_sa(\n",
    "        matrix_type,\n",
    "        fu_mapped,\n",
    "        packages,\n",
    "        indices_array,\n",
    "        data_array,\n",
    "        distributions_array,\n",
    "        mask_without_noninf,\n",
    "        flip_array=None,  # only needed for technosphere\n",
    "        const_factor=10,\n",
    "        cutoff=1e-3,\n",
    "):\n",
    "\n",
    "    interface = LocalSAInterface(\n",
    "        indices_array,\n",
    "        data_array,\n",
    "        distributions_array,\n",
    "        mask_without_noninf,\n",
    "        const_factor,\n",
    "        cutoff,\n",
    "    )\n",
    "\n",
    "    dp = bwp.create_datapackage()\n",
    "    dp.add_dynamic_vector(\n",
    "        matrix = f\"{matrix_type}_matrix\",\n",
    "        interface = interface,\n",
    "        indices_array = indices_array,\n",
    "        flip_array = flip_array,\n",
    "    )\n",
    "    if matrix_type == \"characterization\":\n",
    "        [d.update({\"global_index\": 1}) for d in dp.metadata['resources']]  # TODO Chris, is this correct?\n",
    "\n",
    "    lca_local_sa = bc.LCA(demand=fu_mapped, data_objs=packages + [dp])\n",
    "    lca_local_sa.lci()\n",
    "    lca_local_sa.lcia()\n",
    "\n",
    "    interface.index = None  # there should be a better way to discount the first __next__\n",
    "    indices_local_sa_scores = {}\n",
    "\n",
    "    count = 0\n",
    "    try:\n",
    "        while True:\n",
    "            next(lca_local_sa)\n",
    "            i, j = interface.coordinates\n",
    "            count += 1\n",
    "            indices_local_sa_scores[tuple(interface.coordinates)] = lca_local_sa.score\n",
    "    except StopIteration:\n",
    "        pass\n",
    "\n",
    "    assert count <= sum(interface.mask)\n",
    "\n",
    "    return indices_local_sa_scores"
   ]
  },
  {
   "cell_type": "markdown",
   "id": "10bab574",
   "metadata": {},
   "source": [
    "## 2.1 Technosphere"
   ]
  },
  {
   "cell_type": "code",
   "execution_count": 13,
   "id": "0d3c1e03",
   "metadata": {},
   "outputs": [
    {
     "name": "stdout",
     "output_type": "stream",
     "text": [
      "CPU times: user 5min 19s, sys: 8.6 s, total: 5min 28s\n",
      "Wall time: 59.3 s\n"
     ]
    }
   ],
   "source": [
    "%%time\n",
    "indices_tech_local_sa = run_local_sa(\n",
    "    \"technosphere\",\n",
    "    fu_mapped,\n",
    "    packages,\n",
    "    indices_tech,\n",
    "    data_tech,\n",
    "    has_uncertainty_tech,\n",
    "    mask_tech_without_noninf,\n",
    "    flip_tech,\n",
    "    const_factor,\n",
    "    cutoff,\n",
    ")\n",
    "# mask_tech_without_lowinf = get_mask(indices_tech, use_indices_tech_without_lowinf)\n",
    "# assert sum(mask_tech_without_lowinf) == len(use_indices_tech_without_lowinf)"
   ]
  },
  {
   "cell_type": "code",
   "execution_count": null,
   "id": "ad418613",
   "metadata": {},
   "outputs": [],
   "source": [
    "# fp_mask_tech_without_lowinf = write_dir / f\"mask.tech.without_lowinf.cutoff_{cutoff:.0e}.pickle\"\n",
    "# if fp_mask_tech_without_lowinf.exists():\n",
    "#     mask_tech_without_lowinf = read_pickle(fp_mask_tech_without_lowinf)\n",
    "# else:\n",
    "#     mask_tech_without_lowinf = get_mask(indices_tech, use_indices_tech_without_lowinf)\n",
    "#     write_pickle(mask_tech_without_lowinf, fp_mask_tech_without_lowinf)"
   ]
  },
  {
   "cell_type": "markdown",
   "id": "aef4cda2",
   "metadata": {},
   "source": [
    "## 2.2 Biosphere"
   ]
  },
  {
   "cell_type": "code",
   "execution_count": null,
   "id": "0038225d",
   "metadata": {},
   "outputs": [],
   "source": [
    "%%time\n",
    "fp_mask_bio_without_lowinf = write_dir / f\"mask.bio.without_lowinf.cutoff_{cutoff:.0e}.pickle\"\n",
    "if fp_mask_bio_without_lowinf.exists():\n",
    "    mask_bio_without_lowinf = read_pickle(fp_mask_bio_without_lowinf)\n",
    "else:\n",
    "    indices_bio_local_sa = run_local_sa(\n",
    "        \"biosphere\",\n",
    "        fu_mapped,\n",
    "        packages,\n",
    "        indices_bio,\n",
    "        data_bio,\n",
    "        distributions_bio,\n",
    "        mask_bio_without_noninf,\n",
    "        const_factor,\n",
    "        cutoff,\n",
    "    )\n",
    "#     mask_bio_without_lowinf = get_mask(indices_bio, use_indices_bio_without_lowinf)\n",
    "#     assert sum(mask_bio_without_lowinf) == len(use_indices_bio_without_lowinf)\n",
    "#     mask_bio_without_lowinf = get_mask(indices_bio, use_indices_bio_without_lowinf)\n",
    "#     write_pickle(mask_bio_without_lowinf, fp_mask_bio_without_lowinf)"
   ]
  },
  {
   "cell_type": "markdown",
   "id": "2c2f627a",
   "metadata": {},
   "source": [
    "## 2.3 Characterization"
   ]
  },
  {
   "cell_type": "code",
   "execution_count": null,
   "id": "b32f5cc4",
   "metadata": {},
   "outputs": [],
   "source": [
    "%%time\n",
    "fp_mask_cf_without_lowinf = write_dir / f\"mask.cf.without_lowinf.cutoff_{cutoff:.0e}.pickle\"\n",
    "if fp_mask_cf_without_lowinf.exists():\n",
    "    mask_cf_without_lowinf = read_pickle(fp_mask_cf_without_lowinf)\n",
    "else:\n",
    "    indices_cf_local_sa = run_local_sa(\n",
    "        \"characterization\",\n",
    "        fu_mapped,\n",
    "        packages,\n",
    "        indices_cf,\n",
    "        data_cf,\n",
    "        distributions_cf,\n",
    "        mask_cf_without_noninf,\n",
    "        const_factor,\n",
    "        cutoff,\n",
    "    )\n",
    "#     mask_cf_without_lowinf = get_mask(indices_cf, use_indices_cf_without_lowinf)\n",
    "#     assert sum(mask_cf_without_lowinf) == len(use_indices_cf_without_lowinf)\n",
    "#     mask_cf_without_lowinf = get_mask(indices_cf, use_indices_cf_without_lowinf)\n",
    "#     write_pickle(mask_cf_without_lowinf, fp_mask_cf_without_lowinf)"
   ]
  },
  {
   "cell_type": "code",
   "execution_count": 14,
   "id": "9216b048",
   "metadata": {},
   "outputs": [
    {
     "data": {
      "text/plain": [
       "{(4435, 7979): 1156.4119822218981,\n",
       " (4563, 5504): 1139.102293365673,\n",
       " (4935, 5504): 1473.9926943431763,\n",
       " (5504, 15411): 1560.145824653224,\n",
       " (5824, 20020): 1136.8258072088622,\n",
       " (5887, 7979): 1145.6603527178163,\n",
       " (6224, 4891): 1107.99334498506,\n",
       " (7051, 5504): 1107.7057857235382,\n",
       " (7302, 17206): 1479.244696309855,\n",
       " (7979, 7134): 1435.5526111428494,\n",
       " (8107, 20020): 1108.309360923258,\n",
       " (8307, 5504): 1123.1885961378125,\n",
       " (8595, 20020): 1108.1098261064194,\n",
       " (8613, 13455): 1443.0750448316296,\n",
       " (8635, 12329): 1167.470606120462,\n",
       " (8974, 20020): 1108.505535725945,\n",
       " (9164, 13648): 1106.8076721220839,\n",
       " (9649, 20020): 1106.438611957718,\n",
       " (9884, 6128): 1284.5869723835167,\n",
       " (10820, 20020): 1136.517438346823,\n",
       " (10934, 20020): 1121.7755961996038,\n",
       " (11461, 7979): 1200.3633125362712,\n",
       " (11516, 15411): 1119.0455276793457,\n",
       " (11932, 5504): 1141.0869159178342,\n",
       " (11962, 16176): 1139.2121715173084,\n",
       " (12231, 4891): 1218.4323701499593,\n",
       " (12245, 7979): 1109.221940416118,\n",
       " (12253, 4935): 1502.8791077289322,\n",
       " (12624, 20020): 1126.720823203697,\n",
       " (12957, 15411): 1118.845104921851,\n",
       " (13451, 7134): 1159.3412493708393,\n",
       " (13648, 5114): 1688.0326004330832,\n",
       " (13668, 7979): 1122.1397818037876,\n",
       " (13708, 7979): 1112.9722298736697,\n",
       " (14151, 5504): 1107.346098160341,\n",
       " (14340, 4891): 1113.4475187378737,\n",
       " (14648, 20483): 1325.3366736033884,\n",
       " (14746, 20020): 1115.9446046864834,\n",
       " (15434, 4891): 1111.0629164242034,\n",
       " (15488, 15411): 1105.062542151341,\n",
       " (15714, 20020): 1117.3742652162837,\n",
       " (15816, 12253): 1562.7747046862974,\n",
       " (16176, 22650): 1568.3173443705227,\n",
       " (16219, 5504): 1222.640687602069,\n",
       " (16471, 20020): 1114.326563643435,\n",
       " (16860, 14648): 1109.163158003487,\n",
       " (16970, 7979): 1132.2836583287565,\n",
       " (17173, 22114): 1535.2745347540474,\n",
       " (18728, 4891): 1170.0593107059512,\n",
       " (18898, 6128): 1152.1428176994934,\n",
       " (19279, 12912): 1388.9320119792635,\n",
       " (19921, 20020): 1105.9425688539618,\n",
       " (20091, 7979): 1114.2778653454225,\n",
       " (20194, 12280): 1648.0064635128624,\n",
       " (20473, 20020): 1125.8053789270289,\n",
       " (21301, 20020): 1112.62064093076,\n",
       " (21878, 4935): 1117.1928551481215,\n",
       " (21961, 20152): 1291.4204684601245,\n",
       " (22243, 15411): 1128.0174571501232,\n",
       " (22335, 12329): 1257.3831006080843,\n",
       " (22558, 15411): 1200.3427038239345,\n",
       " (22658, 23091): 1392.629592136385,\n",
       " (22926, 5504): 1109.4048166969933,\n",
       " (23170, 20020): 1151.2599099171834,\n",
       " (23220, 4891): 1154.2771542233913,\n",
       " (23706, 15411): 1155.0027582473017,\n",
       " (4569, 24130): 1555.4620228863196,\n",
       " (4611, 24131): 1105.0997570152358,\n",
       " (4916, 24105): 2093.5998779055644,\n",
       " (7134, 24004): 1298.5091352280092,\n",
       " (8096, 24130): 1658.5740373481954,\n",
       " (8351, 24131): 1171.4111356950355,\n",
       " (8476, 24130): 1385.005036575292,\n",
       " (8633, 24131): 1182.817534248836,\n",
       " (8643, 24130): 1158.5115445225254,\n",
       " (12052, 24105): 1121.827623546341,\n",
       " (12335, 23993): 1256.3795755710817,\n",
       " (12778, 23994): 1105.476787525407,\n",
       " (12912, 23994): 1389.5396134720102,\n",
       " (13455, 23993): 1445.0636442585903,\n",
       " (15874, 24105): 1815.107961720931,\n",
       " (16670, 23993): 1142.1463397289272,\n",
       " (16690, 24131): 1175.9571475028179,\n",
       " (17206, 24020): 1287.354983525664,\n",
       " (17247, 24131): 1159.4723001152938,\n",
       " (17511, 24130): 1364.0994374009383,\n",
       " (17585, 24130): 1316.618746267452,\n",
       " (19703, 24131): 1258.8414593959374,\n",
       " (20738, 24131): 1278.2216607557218,\n",
       " (21045, 23993): 1283.6941018736604,\n",
       " (21733, 24130): 1344.2105386097533,\n",
       " (22067, 24130): 1403.5739212470405,\n",
       " (22929, 24130): 1335.2554554385788,\n",
       " (23197, 24105): 2093.7542742834726,\n",
       " (23921, 24105): 1108.4799879750212,\n",
       " (23993, 24201): 1852.1206065937051,\n",
       " (23994, 24201): 1400.0873763757977,\n",
       " (23995, 24201): 1215.743195507219,\n",
       " (24100, 24201): 1268.1567460362635,\n",
       " (24101, 24201): 1138.6197890079197,\n",
       " (24102, 24201): 1104.94179418483,\n",
       " (24104, 24201): 1262.304647562856,\n",
       " (24105, 24201): 3867.9736973204876}"
      ]
     },
     "execution_count": 14,
     "metadata": {},
     "output_type": "execute_result"
    }
   ],
   "source": [
    "indices_tech_local_sa"
   ]
  },
  {
   "cell_type": "code",
   "execution_count": null,
   "id": "166949f8",
   "metadata": {},
   "outputs": [],
   "source": [
    "indices_tech_local_sa"
   ]
  },
  {
   "cell_type": "code",
   "execution_count": 15,
   "id": "f0c80134",
   "metadata": {},
   "outputs": [],
   "source": [
    "row,col = lca.dicts.activity[24105], lca.dicts.activity[24201]"
   ]
  },
  {
   "cell_type": "code",
   "execution_count": 16,
   "id": "01557b89",
   "metadata": {},
   "outputs": [],
   "source": [
    "from copy import deepcopy\n",
    "\n",
    "A = deepcopy(lca.technosphere_matrix)\n",
    "A[row,col] *= 10\n",
    "a = lca.characterization_matrix*lca.biosphere_matrix*spsolve(A, lca.demand_array)"
   ]
  },
  {
   "cell_type": "code",
   "execution_count": 17,
   "id": "6bd5401b",
   "metadata": {},
   "outputs": [
    {
     "data": {
      "text/plain": [
       "3867.973841453901"
      ]
     },
     "execution_count": 17,
     "metadata": {},
     "output_type": "execute_result"
    }
   ],
   "source": [
    "a.sum()"
   ]
  },
  {
   "cell_type": "code",
   "execution_count": null,
   "id": "51378e80",
   "metadata": {},
   "outputs": [],
   "source": [
    "row,col"
   ]
  },
  {
   "cell_type": "code",
   "execution_count": null,
   "id": "e7f5ab5f",
   "metadata": {},
   "outputs": [],
   "source": []
  },
  {
   "cell_type": "code",
   "execution_count": null,
   "id": "d71d332a",
   "metadata": {},
   "outputs": [],
   "source": []
  },
  {
   "cell_type": "code",
   "execution_count": null,
   "id": "b19d66c4",
   "metadata": {},
   "outputs": [],
   "source": []
  },
  {
   "cell_type": "code",
   "execution_count": null,
   "id": "f72f40fa",
   "metadata": {},
   "outputs": [],
   "source": []
  },
  {
   "cell_type": "code",
   "execution_count": null,
   "id": "a79fb7a1",
   "metadata": {},
   "outputs": [],
   "source": []
  },
  {
   "cell_type": "code",
   "execution_count": null,
   "id": "7a3a4587",
   "metadata": {},
   "outputs": [],
   "source": []
  }
 ],
 "metadata": {
  "kernelspec": {
   "display_name": "Python 3 (ipykernel)",
   "language": "python",
   "name": "python3"
  },
  "language_info": {
   "codemirror_mode": {
    "name": "ipython",
    "version": 3
   },
   "file_extension": ".py",
   "mimetype": "text/x-python",
   "name": "python",
   "nbconvert_exporter": "python",
   "pygments_lexer": "ipython3",
   "version": "3.9.7"
  },
  "varInspector": {
   "cols": {
    "lenName": 16,
    "lenType": 16,
    "lenVar": 40
   },
   "kernels_config": {
    "python": {
     "delete_cmd_postfix": "",
     "delete_cmd_prefix": "del ",
     "library": "var_list.py",
     "varRefreshCmd": "print(var_dic_list())"
    },
    "r": {
     "delete_cmd_postfix": ") ",
     "delete_cmd_prefix": "rm(",
     "library": "var_list.r",
     "varRefreshCmd": "cat(var_dic_list()) "
    }
   },
   "types_to_exclude": [
    "module",
    "function",
    "builtin_function_or_method",
    "instance",
    "_Feature"
   ],
   "window_display": false
  }
 },
 "nbformat": 4,
 "nbformat_minor": 5
}
