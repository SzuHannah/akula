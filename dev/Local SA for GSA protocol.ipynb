{
 "cells": [
  {
   "cell_type": "code",
   "execution_count": 1,
   "id": "50d4c93a",
   "metadata": {},
   "outputs": [
    {
     "data": {
      "text/plain": [
       "Databases dictionary with 3 object(s):\n",
       "\tbiosphere3\n",
       "\tecoinvent 3.8 cutoff\n",
       "\tswiss consumption 1.0"
      ]
     },
     "execution_count": 1,
     "metadata": {},
     "output_type": "execute_result"
    }
   ],
   "source": [
    "import bw2data as bd\n",
    "import bw2calc as bc\n",
    "import bw_processing as bwp\n",
    "from pypardiso import spsolve\n",
    "from pathlib import Path\n",
    "from gsa_framework.utils import read_pickle, write_pickle\n",
    "\n",
    "project = 'GSA for archetypes'\n",
    "bd.projects.set_current(project)\n",
    "const_factor = 10\n",
    "cutoff = 1e-3\n",
    "\n",
    "bd.databases"
   ]
  },
  {
   "cell_type": "code",
   "execution_count": 2,
   "id": "a47aef7b",
   "metadata": {
    "scrolled": true
   },
   "outputs": [
    {
     "data": {
      "text/plain": [
       "1094.9290193609536"
      ]
     },
     "execution_count": 2,
     "metadata": {},
     "output_type": "execute_result"
    }
   ],
   "source": [
    "co = bd.Database('swiss consumption 1.0')\n",
    "fu = [act for act in co if \"average consumption\" in act['name']][0]\n",
    "\n",
    "write_dir = Path(\"write_files\") / project.lower().replace(\" \", \"_\") / fu['name'].lower().replace(\" \", \"_\")\n",
    "\n",
    "demand = {fu: 1}\n",
    "method = (\"IPCC 2013\", \"climate change\", \"GWP 100a\", \"uncertain\")\n",
    "fu_mapped, packages, _ = bd.prepare_lca_inputs(demand=demand, method=method, remapping=False)  # Could also add LCIA method\n",
    "lca = bc.LCA(demand=fu_mapped, data_objs=packages)\n",
    "lca.lci()\n",
    "lca.lcia()\n",
    "lca.score"
   ]
  },
  {
   "cell_type": "markdown",
   "id": "606ee926",
   "metadata": {},
   "source": [
    "# Utils"
   ]
  },
  {
   "cell_type": "code",
   "execution_count": 4,
   "id": "de4357bc",
   "metadata": {},
   "outputs": [],
   "source": [
    "def get_mask(all_indices, use_indices):\n",
    "    \"\"\"Creates a `mask` such that `all_indices[mask]=use_indices`.\"\"\"\n",
    "    use_indices = np.array(use_indices, dtype=[('row', '<i4'), ('col', '<i4')])\n",
    "    mask = np.zeros(len(all_indices), dtype=bool)\n",
    "    for inds in use_indices:\n",
    "        mask_current = all_indices==inds\n",
    "        mask = mask | mask_current\n",
    "    assert sum(mask)==len(use_indices)\n",
    "    return mask"
   ]
  },
  {
   "cell_type": "code",
   "execution_count": 5,
   "id": "16fadc89",
   "metadata": {},
   "outputs": [],
   "source": [
    "ei = bd.Database('ecoinvent 3.8 cutoff').datapackage()\n",
    "ei_tech = ei.filter_by_attribute('matrix', 'technosphere_matrix')\n",
    "ei_bio = ei.filter_by_attribute('matrix', 'biosphere_matrix')\n",
    "co = bd.Database('swiss consumption 1.0').datapackage()\n",
    "co_tech = co.filter_by_attribute('matrix', 'technosphere_matrix')\n",
    "co_bio = co.filter_by_attribute('matrix', 'biosphere_matrix')\n",
    "cf = bd.Method(method).datapackage()"
   ]
  },
  {
   "cell_type": "markdown",
   "id": "67632938",
   "metadata": {},
   "source": [
    "# Step 1. Remove non influential with contribution analysis"
   ]
  },
  {
   "cell_type": "markdown",
   "id": "6d3c669a",
   "metadata": {},
   "source": [
    "## Step 1.1 Technosphere & Supply chain traversal"
   ]
  },
  {
   "cell_type": "code",
   "execution_count": 6,
   "id": "c23fca43",
   "metadata": {},
   "outputs": [],
   "source": [
    "def get_inds_tech_without_noninf(lca, cutoff, max_calc=1e4):\n",
    "    # Supply chain traversal\n",
    "    res = bc.GraphTraversal().calculate(\n",
    "        lca, cutoff=cutoff, max_calc=max_calc\n",
    "    )\n",
    "    edges = res['edges']\n",
    "    use_indices = []\n",
    "    use_indices_dict = {}\n",
    "    for edge in res['edges']:\n",
    "        if edge['to'] !=- 1:\n",
    "            if abs(edge['impact']) > abs(lca.score * cutoff):\n",
    "                row,col = edge['from'], edge['to']\n",
    "                i,j = lca.dicts.activity.reversed[row], lca.dicts.activity.reversed[col]\n",
    "                use_indices.append((i,j))\n",
    "                use_indices_dict[(i,j)] = edge['impact']\n",
    "    return use_indices"
   ]
  },
  {
   "cell_type": "code",
   "execution_count": 8,
   "id": "f79add21",
   "metadata": {},
   "outputs": [
    {
     "name": "stdout",
     "output_type": "stream",
     "text": [
      "CPU times: user 538 ms, sys: 4.6 ms, total: 543 ms\n",
      "Wall time: 544 ms\n"
     ]
    }
   ],
   "source": [
    "%%time\n",
    "all_indices_tech = np.hstack(\n",
    "    [\n",
    "        ei_tech.get_resource('ecoinvent_3.8_cutoff_technosphere_matrix.indices')[0], \n",
    "        co_tech.get_resource('swiss_consumption_1.0_technosphere_matrix.indices')[0]\n",
    "    ]\n",
    ")\n",
    "\n",
    "max_calc = 1e3\n",
    "write_dir_sct = write_dir / \"supply_chain_traversal\" \n",
    "write_dir_sct.mkdir(exist_ok=True, parents=True)\n",
    "fp_sct = write_dir_sct / f\"sct.cutoff_{cutoff:.0e}.maxcalc_{max_calc:.0e}.pickle\"\n",
    "fp_mask_without_noninf = write_dir / f\"mask.tech.without_noninf.cutoff_{cutoff:.0e}.maxcalc_{max_calc:.0e}.pickle\"\n",
    "if fp_sct.exists():\n",
    "    use_indices_tech_without_noninf = read_pickle(fp_sct)\n",
    "else:    \n",
    "    use_indices_tech_without_noninf = get_inds_tech_without_noninf(lca, cutoff, max_calc)\n",
    "    write_pickle(use_indices_tech_without_noninf, fp_sct)\n",
    "\n",
    "if fp_mask_without_noninf.exists():\n",
    "    mask_tech_without_noninf = read_pickle(fp_mask_without_noninf)\n",
    "else:\n",
    "    mask_tech_without_noninf = get_mask(all_indices_tech, use_indices_tech_without_noninf)\n",
    "    write_pickle(mask_tech_without_noninf, fp_mask_without_noninf)"
   ]
  },
  {
   "cell_type": "markdown",
   "id": "8a34b8bf",
   "metadata": {},
   "source": [
    "## Step 1.2 Biosphere"
   ]
  },
  {
   "cell_type": "code",
   "execution_count": 9,
   "id": "03016fac",
   "metadata": {},
   "outputs": [],
   "source": [
    "def get_inds_bio_without_noninf(lca, cutoff):\n",
    "    \"\"\"Find datapackage indices that correspond to B*Ainv*f, where contributions are higher than cutoff\"\"\"\n",
    "    inv = lca.characterized_inventory\n",
    "    finv = inv.multiply(abs(inv) > abs(lca.score * cutoff))\n",
    "    # Find row and column in B*Ainv*f\n",
    "    biosphere_row_col = list(zip(*finv.nonzero()))\n",
    "    # Translate row and column to datapackage indices\n",
    "    biosphere_reversed = lca.dicts.biosphere.reversed\n",
    "    activity_reversed = lca.dicts.activity.reversed\n",
    "    use_indices = []\n",
    "    for row,col in biosphere_row_col:\n",
    "        i, j = biosphere_reversed[row], activity_reversed[col]\n",
    "        use_indices.append((i,j))\n",
    "    return use_indices\n",
    "\n",
    "all_indices_bio = np.hstack(\n",
    "    [\n",
    "        ei_bio.get_resource('ecoinvent_3.8_cutoff_biosphere_matrix.indices')[0],\n",
    "        co_bio.get_resource('swiss_consumption_1.0_biosphere_matrix.indices')[0]\n",
    "    ]\n",
    ")\n",
    "use_indices_bio_without_noninf = get_inds_bio_without_noninf(lca, cutoff)\n",
    "\n",
    "fp_mask_bio_without_noninf = write_dir / f\"mask.bio.without_noninf.cutoff_{cutoff:.0e}.pickle\"\n",
    "if fp_mask_bio_without_noninf.exists():\n",
    "    mask_bio_without_noninf = read_pickle(fp_mask_bio_without_noninf)\n",
    "else:\n",
    "    mask_bio_without_noninf = get_mask(all_indices_bio, use_indices_bio_without_noninf)\n",
    "    write_pickle(mask_bio_without_noninf, fp_mask_bio_without_noninf)"
   ]
  },
  {
   "cell_type": "markdown",
   "id": "1dcf2041",
   "metadata": {},
   "source": [
    "## Step 1.3 Characterization"
   ]
  },
  {
   "cell_type": "code",
   "execution_count": 10,
   "id": "6d4c2f1b",
   "metadata": {},
   "outputs": [],
   "source": [
    "def get_inds_cf_without_noninf(lca, cutoff):\n",
    "    \"\"\"Find datapackage indices that correspond to C*B*Ainv*f, where contributions are higher than cutoff\"\"\"\n",
    "    inv_sum = np.array(np.sum(lca.characterized_inventory, axis=1)).squeeze()\n",
    "    # print('Characterized inventory:', inv.shape, inv.nnz)\n",
    "    finv_sum = inv_sum * abs(inv_sum) > abs(lca.score * cutoff)\n",
    "    characterization_row = list(finv_sum.nonzero()[0])\n",
    "    # Translate row to datapackage indices\n",
    "    biosphere_reversed = lca.dicts.biosphere.reversed\n",
    "    use_indices = [(biosphere_reversed[row], 1) for row in characterization_row]\n",
    "    return use_indices"
   ]
  },
  {
   "cell_type": "code",
   "execution_count": 11,
   "id": "1c1acff3",
   "metadata": {},
   "outputs": [],
   "source": [
    "all_indices_cf = cf.get_resource('IPCC_2013_climate_change_GWP_100a_uncertain_matrix_data.indices')[0]\n",
    "use_indices_cf_without_noninf = get_inds_cf_without_noninf(lca, cutoff)\n",
    "\n",
    "fp_mask_cf_without_noninf = write_dir / f\"mask.cf.without_noninf.cutoff_{cutoff:.0e}.pickle\"\n",
    "if fp_mask_cf_without_noninf.exists():\n",
    "    mask_cf_without_noninf = read_pickle(fp_mask_cf_without_noninf)\n",
    "else:\n",
    "    mask_cf_without_noninf = get_mask(all_indices_cf, use_indices_cf_without_noninf)\n",
    "    write_pickle(mask_cf_without_noninf, fp_mask_cf_without_noninf)"
   ]
  },
  {
   "cell_type": "markdown",
   "id": "24d6186f",
   "metadata": {},
   "source": [
    "# Step 2. Remove lowly influential with local SA"
   ]
  },
  {
   "cell_type": "code",
   "execution_count": null,
   "id": "97ce073f",
   "metadata": {},
   "outputs": [],
   "source": [
    "class LocalSAInterface:\n",
    "    def __init__(self, indices, data, distributions, mask, factor=10, cutoff=1e-3):\n",
    "        self.indices = indices\n",
    "        self.data = data\n",
    "        self.distributions = distributions\n",
    "        self.lca = lca\n",
    "        self.factor = factor\n",
    "        self.cutoff = cutoff\n",
    "        self.mask = mask  # indices with high enough contributions\n",
    "\n",
    "        assert self.indices.shape[0] == self.data.shape[0] == self.distributions.shape[0]\n",
    "        \n",
    "        self.masked_indices = self.indices[self.mask]\n",
    "        self.masked_data = self.data[self.mask]\n",
    "        self.masked_distributions = self.distributions[self.mask]\n",
    "        \n",
    "        self.size = len(self.masked_indices)\n",
    "        self.index = None  # To indicate we haven't consumed first value yet\n",
    "        self.mask_where = np.where(self.mask)[0]\n",
    "        \n",
    "    def __next__(self):\n",
    "        if self.index is None:\n",
    "            self.index = 0\n",
    "        else:\n",
    "            self.index += 1\n",
    "            \n",
    "#         while (self.masked_distributions[self.index]['uncertainty_type'] < 2): # 0 and 1 are no and unknown uncertainty                             \n",
    "#             self.index += 1\n",
    "#             if self.index >= self.size:\n",
    "#                 raise StopIteration\n",
    "        if self.index < self.size:\n",
    "            while self.masked_distributions[self.index]['uncertainty_type'] < 2: # 0 and 1 are no and unknown uncertainty                             \n",
    "                self.index += 1\n",
    "                if self.index >= self.size:\n",
    "                    raise StopIteration\n",
    "        else:\n",
    "            raise StopIteration\n",
    "                \n",
    "        data = self.data.copy()\n",
    "        data[self.mask_where[self.index]] *= self.factor\n",
    "        return data\n",
    "    \n",
    "    @property\n",
    "    def coordinates(self):\n",
    "        return self.masked_indices[self.index]\n",
    "    "
   ]
  },
  {
   "cell_type": "markdown",
   "id": "10bab574",
   "metadata": {},
   "source": [
    "## 2.1 Technosphere"
   ]
  },
  {
   "cell_type": "code",
   "execution_count": null,
   "id": "0d3c1e03",
   "metadata": {},
   "outputs": [],
   "source": [
    "# Add swiss consumption to biosphere connection below"
   ]
  },
  {
   "cell_type": "code",
   "execution_count": 12,
   "id": "afe14ad7",
   "metadata": {},
   "outputs": [
    {
     "data": {
      "text/plain": [
       "array([5.0965748e-10, 8.4702134e-11, 4.9607101e-09, ..., 4.0835706e-14,\n",
       "       1.2208397e-10, 4.1007302e-13], dtype=float32)"
      ]
     },
     "execution_count": 12,
     "metadata": {},
     "output_type": "execute_result"
    }
   ],
   "source": [
    "ei_bio.get_resource('ecoinvent_3.8_cutoff_biosphere_matrix.data')[0]"
   ]
  },
  {
   "cell_type": "code",
   "execution_count": null,
   "id": "334c8344",
   "metadata": {},
   "outputs": [],
   "source": [
    "%%time\n",
    "\n",
    "matrix_type = \"biosphere\"\n",
    "\n",
    "interface = LocalSAInterface(\n",
    "    all_indices,\n",
    "    all_data,\n",
    "    all_distributions,\n",
    "    mask_without_noninf,\n",
    "    const_factor,\n",
    "    cutoff,\n",
    ")\n",
    "\n",
    "dp = bwp.create_datapackage()\n",
    "dp.add_dynamic_vector(\n",
    "    matrix = f\"{matrix_type}_matrix\",\n",
    "    interface = interface,\n",
    "    indices_array = all_indices,\n",
    ")\n",
    "\n",
    "lca_local_sa = bc.LCA(demand=fu_mapped, data_objs=packages + [dp])\n",
    "lca_local_sa.lci()\n",
    "lca_local_sa.lcia()\n",
    "\n",
    "interface.index = None  # there should be a better way to discount the first __next__ \n",
    "use_indices_without_lowinf = []\n",
    "\n",
    "count = 0\n",
    "try:\n",
    "    while True:\n",
    "        next(lca_local_sa)\n",
    "        i, j = interface.coordinates\n",
    "#         print(\n",
    "#             count, \n",
    "#             bio_interface.index, \n",
    "#             lca_local_sa.score,\n",
    "#             bio_interface.coordinates, (row, col),\n",
    "#     #         lca_local_sa.dicts.biosphere[row, col]\n",
    "#         )\n",
    "        count += 1\n",
    "        use_indices_bio_without_lowinf.append(bio_interface.coordinates)\n",
    "except StopIteration:\n",
    "    pass\n",
    "\n",
    "assert count <= sum(bio_interface.mask)\n",
    "\n",
    "mask_bio_without_lowinf = get_mask(all_indices_bio, use_indices_bio_without_lowinf)\n",
    "\n",
    "assert sum(mask_bio_without_lowinf) == count"
   ]
  },
  {
   "cell_type": "markdown",
   "id": "aef4cda2",
   "metadata": {},
   "source": [
    "## 2.2 Biosphere"
   ]
  },
  {
   "cell_type": "code",
   "execution_count": null,
   "id": "8d3daa8f",
   "metadata": {
    "scrolled": true
   },
   "outputs": [],
   "source": [
    "%%time\n",
    "\n",
    "bio_interface = LocalSAInterface(\n",
    "    all_indices_bio,\n",
    "    ei_bio.get_resource('ecoinvent_3.8_cutoff_biosphere_matrix.data')[0],\n",
    "    ei_bio.get_resource('ecoinvent_3.8_cutoff_biosphere_matrix.distributions')[0],\n",
    "    \n",
    "    ,\n",
    "    const_factor,\n",
    ")\n",
    "\n",
    "dp = bwp.create_datapackage()\n",
    "dp.add_dynamic_vector(\n",
    "    matrix = 'biosphere_matrix',\n",
    "    interface = bio_interface,\n",
    "    indices_array = all_indices_bio,\n",
    ")\n",
    "\n",
    "lca_local_sa = bc.LCA(demand=fu_mapped, data_objs=packages + [dp])\n",
    "lca_local_sa.lci()\n",
    "lca_local_sa.lcia()\n",
    "\n",
    "bio_interface.index = None  # there should be a better way to discount the first __next__ \n",
    "use_indices_bio_without_lowinf = []\n",
    "\n",
    "count = 0\n",
    "try:\n",
    "    while True:\n",
    "        next(lca_local_sa)\n",
    "        i, j = bio_interface.coordinates\n",
    "        row, col = lca_local_sa.dicts.biosphere[i], lca_local_sa.dicts.activity[j]\n",
    "        print(\n",
    "            count, \n",
    "            bio_interface.index, \n",
    "            lca_local_sa.score,\n",
    "            bio_interface.coordinates, (row, col),\n",
    "    #         lca_local_sa.dicts.biosphere[row, col]\n",
    "        )\n",
    "        count += 1\n",
    "        use_indices_bio_without_lowinf.append(bio_interface.coordinates)\n",
    "except StopIteration:\n",
    "    pass\n",
    "\n",
    "assert count <= sum(bio_interface.mask)\n",
    "\n",
    "mask_bio_without_lowinf = get_mask(all_indices_bio, use_indices_bio_without_lowinf)\n",
    "\n",
    "assert sum(mask_bio_without_lowinf) == count"
   ]
  },
  {
   "cell_type": "markdown",
   "id": "2c2f627a",
   "metadata": {},
   "source": [
    "## 2.3 Characterization"
   ]
  },
  {
   "cell_type": "code",
   "execution_count": null,
   "id": "5341fc3f",
   "metadata": {},
   "outputs": [],
   "source": [
    "%%time\n",
    "\n",
    "cf_interface = LocalSAInterface(\n",
    "    all_indices_cf,\n",
    "    cf.get_resource('IPCC_2013_climate_change_GWP_100a_uncertain_matrix_data.data')[0],\n",
    "    cf.get_resource('IPCC_2013_climate_change_GWP_100a_uncertain_matrix_data.distributions')[0],\n",
    "    mask_cf_without_noninf,\n",
    "    const_factor,\n",
    ")\n",
    "\n",
    "dp = bwp.create_datapackage()\n",
    "dp.add_dynamic_vector(\n",
    "    matrix = 'characterization_matrix',\n",
    "    interface = cf_interface,\n",
    "    indices_array = all_indices_cf,\n",
    ")\n",
    "[d.update({\"global_index\": 1}) for d in dp.metadata['resources']]  # TODO Chris, is this correct?\n",
    "\n",
    "lca_local_sa = bc.LCA(demand=fu_mapped, data_objs=packages + [dp])\n",
    "lca_local_sa.lci()\n",
    "lca_local_sa.lcia()\n",
    "\n",
    "cf_interface.index = None  # there should be a better way to discount the first __next__ \n",
    "use_indices_cf_without_lowinf=[]\n",
    "\n",
    "count = 0\n",
    "try:\n",
    "    while True:\n",
    "        next(lca_local_sa)\n",
    "        i, j = cf_interface.coordinates\n",
    "        row = lca_local_sa.dicts.biosphere[i]\n",
    "        print(\n",
    "            count, \n",
    "            cf_interface.index, \n",
    "            lca_local_sa.score,\n",
    "            cf_interface.coordinates, (row, 1),\n",
    "        )\n",
    "        count += 1\n",
    "        use_indices_cf_without_lowinf.append(cf_interface.coordinates)\n",
    "except StopIteration:\n",
    "    pass\n",
    "\n",
    "assert count <= sum(cf_interface.mask)\n",
    "\n",
    "mask_cf_without_lowinf = get_mask(all_indices_cf, use_indices_cf_without_lowinf)\n",
    "\n",
    "assert sum(mask_cf_without_lowinf) == count"
   ]
  },
  {
   "cell_type": "code",
   "execution_count": null,
   "id": "d78b5ac2",
   "metadata": {
    "scrolled": true
   },
   "outputs": [],
   "source": [
    "[bd.get_activity(a) for a,b in use_indices_cf_without_noninf]"
   ]
  },
  {
   "cell_type": "code",
   "execution_count": null,
   "id": "a79fb7a1",
   "metadata": {},
   "outputs": [],
   "source": []
  },
  {
   "cell_type": "code",
   "execution_count": null,
   "id": "7a3a4587",
   "metadata": {},
   "outputs": [],
   "source": []
  }
 ],
 "metadata": {
  "kernelspec": {
   "display_name": "Python 3 (ipykernel)",
   "language": "python",
   "name": "python3"
  },
  "language_info": {
   "codemirror_mode": {
    "name": "ipython",
    "version": 3
   },
   "file_extension": ".py",
   "mimetype": "text/x-python",
   "name": "python",
   "nbconvert_exporter": "python",
   "pygments_lexer": "ipython3",
   "version": "3.9.7"
  },
  "varInspector": {
   "cols": {
    "lenName": 16,
    "lenType": 16,
    "lenVar": 40
   },
   "kernels_config": {
    "python": {
     "delete_cmd_postfix": "",
     "delete_cmd_prefix": "del ",
     "library": "var_list.py",
     "varRefreshCmd": "print(var_dic_list())"
    },
    "r": {
     "delete_cmd_postfix": ") ",
     "delete_cmd_prefix": "rm(",
     "library": "var_list.r",
     "varRefreshCmd": "cat(var_dic_list()) "
    }
   },
   "types_to_exclude": [
    "module",
    "function",
    "builtin_function_or_method",
    "instance",
    "_Feature"
   ],
   "window_display": false
  }
 },
 "nbformat": 4,
 "nbformat_minor": 5
}
