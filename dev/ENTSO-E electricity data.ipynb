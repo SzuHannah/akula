{
 "cells": [
  {
   "cell_type": "markdown",
   "id": "b43a7357-f5b8-44cf-be44-d7a39dac1bf8",
   "metadata": {},
   "source": [
    "# Get electricity data from the ENTSO-E API\n",
    "\n",
    "To run this notebook, you must have the following environment variables set:\n",
    "\n",
    "* BENTSO_DATA_DIR: Directory to cache data from ENTSO-E API\n",
    "* ENTSOE_API_TOKEN: API token you get from signing up to ENTSO-E transparency platform"
   ]
  },
  {
   "cell_type": "markdown",
   "id": "c33af72d-14da-4fca-acb8-07102c4db59b",
   "metadata": {},
   "source": [
    "## Get data"
   ]
  },
  {
   "cell_type": "code",
   "execution_count": 2,
   "id": "da436a80-baf0-4fb9-a28a-65094b45bd25",
   "metadata": {},
   "outputs": [],
   "source": [
    "from bentso import CachingDataClient as CDC"
   ]
  },
  {
   "cell_type": "code",
   "execution_count": 3,
   "id": "39af34e0-a2bd-406a-b381-d082fe910b73",
   "metadata": {},
   "outputs": [
    {
     "name": "stdout",
     "output_type": "stream",
     "text": [
      "Using data directory /Users/cmutel/Code/akula/entso-data-cache\n"
     ]
    }
   ],
   "source": [
    "cdc = CDC()"
   ]
  },
  {
   "cell_type": "code",
   "execution_count": 4,
   "id": "3032e1f4-9fee-44bf-8925-d5acc63ab250",
   "metadata": {},
   "outputs": [],
   "source": [
    "from bentso.constants import ENTSO_COUNTRIES, TRADE_PAIRS"
   ]
  },
  {
   "cell_type": "code",
   "execution_count": 7,
   "id": "df375e28-bd30-49e1-a553-2995b713440c",
   "metadata": {},
   "outputs": [],
   "source": [
    "ENTSO_COUNTRIES.add('ES')"
   ]
  },
  {
   "cell_type": "code",
   "execution_count": 12,
   "id": "f932742b-5221-43e7-8d61-afdd5195764e",
   "metadata": {},
   "outputs": [],
   "source": [
    "TRADE_PAIRS['FR'] = {'BE', 'CH', 'DE', 'IT', 'ES'}\n",
    "TRADE_PAIRS['ES'] = {'FR', 'PT'}\n",
    "TRADE_PAIRS['PT'] = {'ES'}"
   ]
  },
  {
   "cell_type": "code",
   "execution_count": 7,
   "id": "c95c24ce-5104-45f0-8803-7bcb1f7608ed",
   "metadata": {},
   "outputs": [
    {
     "name": "stdout",
     "output_type": "stream",
     "text": [
      "Querying ENTSO-E API. Please be patient...\n",
      "Querying ENTSO-E API. Please be patient...\n",
      "Querying ENTSO-E API. Please be patient...\n",
      "Querying ENTSO-E API. Please be patient...\n",
      "Querying ENTSO-E API. Please be patient...\n",
      "Querying ENTSO-E API. Please be patient...\n",
      "Querying ENTSO-E API. Please be patient...\n",
      "Querying ENTSO-E API. Please be patient...\n",
      "Querying ENTSO-E API. Please be patient...\n",
      "Querying ENTSO-E API. Please be patient...\n",
      "Querying ENTSO-E API. Please be patient...\n",
      "Querying ENTSO-E API. Please be patient...\n",
      "Querying ENTSO-E API. Please be patient...\n",
      "Querying ENTSO-E API. Please be patient...\n",
      "Querying ENTSO-E API. Please be patient...\n",
      "Querying ENTSO-E API. Please be patient...\n",
      "Querying ENTSO-E API. Please be patient...\n",
      "Querying ENTSO-E API. Please be patient...\n",
      "Querying ENTSO-E API. Please be patient...\n",
      "Querying ENTSO-E API. Please be patient...\n",
      "Querying ENTSO-E API. Please be patient...\n",
      "Querying ENTSO-E API. Please be patient...\n",
      "Querying ENTSO-E API. Please be patient...\n",
      "Querying ENTSO-E API. Please be patient...\n",
      "Querying ENTSO-E API. Please be patient...\n",
      "Querying ENTSO-E API. Please be patient...\n"
     ]
    }
   ],
   "source": [
    "for country in ENTSO_COUNTRIES:\n",
    "    cdc.get_generation(country=country, year=2018)"
   ]
  },
  {
   "cell_type": "code",
   "execution_count": 13,
   "id": "30cb0d58-7813-4702-9494-66431c12d54f",
   "metadata": {},
   "outputs": [
    {
     "name": "stdout",
     "output_type": "stream",
     "text": [
      "AT\n",
      "BA\n",
      "BE\n",
      "BG\n",
      "CH\n",
      "CZ\n",
      "DE\n",
      "DK\n",
      "EE\n",
      "FI\n",
      "FR\n",
      "Querying ENTSO-E API. Please be patient...\n",
      "Querying ENTSO-E API. Please be patient...\n",
      "Querying ENTSO-E API. Please be patient...\n",
      "GR\n",
      "HR\n",
      "HU\n",
      "IT\n",
      "LU\n",
      "LV\n",
      "ME\n",
      "MK\n",
      "NL\n",
      "NO\n",
      "PL\n",
      "RO\n",
      "RS\n",
      "SE\n",
      "SI\n",
      "SK\n",
      "ES\n",
      "Querying ENTSO-E API. Please be patient...\n",
      "Querying ENTSO-E API. Please be patient...\n",
      "Querying ENTSO-E API. Please be patient...\n",
      "Querying ENTSO-E API. Please be patient...\n",
      "Querying ENTSO-E API. Please be patient...\n",
      "Querying ENTSO-E API. Please be patient...\n",
      "PT\n",
      "Querying ENTSO-E API. Please be patient...\n",
      "Querying ENTSO-E API. Please be patient...\n",
      "Querying ENTSO-E API. Please be patient...\n"
     ]
    }
   ],
   "source": [
    "for dst, lst in TRADE_PAIRS.items():\n",
    "    print(dst)\n",
    "    for src in lst:\n",
    "        for year in (2018, 2019, 2020):\n",
    "            cdc.get_trade(from_country=src, to_country=dst, year=year)"
   ]
  },
  {
   "cell_type": "markdown",
   "id": "58dcaa73-90fe-4148-8a62-96e01923641b",
   "metadata": {},
   "source": [
    "## Get generation types"
   ]
  },
  {
   "cell_type": "code",
   "execution_count": 14,
   "id": "5b45ac74-e769-4f2f-9b0c-62dca1d7a890",
   "metadata": {},
   "outputs": [],
   "source": [
    "gt = set([])\n",
    "\n",
    "for country in ENTSO_COUNTRIES:\n",
    "    df = cdc.get_generation(country=country, year=2020)\n",
    "    for obj in df.columns:\n",
    "        if isinstance(obj, tuple):\n",
    "            gt.add(obj[0])\n",
    "        else:\n",
    "            gt.add(obj)"
   ]
  },
  {
   "cell_type": "code",
   "execution_count": 15,
   "id": "f7266886-32ec-4377-9e1c-e510b63800fb",
   "metadata": {},
   "outputs": [
    {
     "data": {
      "text/plain": [
       "{'Biomass',\n",
       " 'Fossil Brown coal/Lignite',\n",
       " 'Fossil Coal-derived gas',\n",
       " 'Fossil Gas',\n",
       " 'Fossil Hard coal',\n",
       " 'Fossil Oil',\n",
       " 'Fossil Oil shale',\n",
       " 'Fossil Peat',\n",
       " 'Geothermal',\n",
       " 'Hydro Pumped Storage',\n",
       " 'Hydro Run-of-river and poundage',\n",
       " 'Hydro Water Reservoir',\n",
       " 'Marine',\n",
       " 'Nuclear',\n",
       " 'Other',\n",
       " 'Other renewable',\n",
       " 'Solar',\n",
       " 'Waste',\n",
       " 'Wind Offshore',\n",
       " 'Wind Onshore'}"
      ]
     },
     "execution_count": 15,
     "metadata": {},
     "output_type": "execute_result"
    }
   ],
   "source": [
    "gt"
   ]
  }
 ],
 "metadata": {
  "kernelspec": {
   "display_name": "Python 3 (ipykernel)",
   "language": "python",
   "name": "python3"
  },
  "language_info": {
   "codemirror_mode": {
    "name": "ipython",
    "version": 3
   },
   "file_extension": ".py",
   "mimetype": "text/x-python",
   "name": "python",
   "nbconvert_exporter": "python",
   "pygments_lexer": "ipython3",
   "version": "3.9.7"
  }
 },
 "nbformat": 4,
 "nbformat_minor": 5
}
