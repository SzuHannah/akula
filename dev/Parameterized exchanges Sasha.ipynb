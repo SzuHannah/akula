{
 "cells": [
  {
   "cell_type": "markdown",
   "id": "ddfc2018",
   "metadata": {},
   "source": [
    "# Generate parameterized datapackage"
   ]
  },
  {
   "cell_type": "code",
   "execution_count": 1,
   "id": "713f32e8-206f-4c39-ba2f-dbec1fa42c3d",
   "metadata": {},
   "outputs": [],
   "source": [
    "import bw2data as bd\n",
    "import bw2io as bi\n",
    "from pprint import pprint\n",
    "from tqdm import tqdm\n",
    "import bw2parameters as bwp\n",
    "import numpy as np\n",
    "import traceback\n",
    "import sys\n",
    "import re"
   ]
  },
  {
   "cell_type": "code",
   "execution_count": 2,
   "id": "c9e5f8f5-6b4f-4dcd-be42-4b52090d4abe",
   "metadata": {},
   "outputs": [],
   "source": [
    "assert bi.__version__ >= (0, 9, \"DEV7\")"
   ]
  },
  {
   "cell_type": "code",
   "execution_count": 3,
   "id": "255c6a01-3425-4744-bb00-b2f814871de5",
   "metadata": {},
   "outputs": [],
   "source": [
    "from asteval import Interpreter\n",
    "from numbers import Number\n",
    "from bw2parameters.errors import BroadcastingError\n",
    "from stats_arrays import uncertainty_choices\n",
    "\n",
    "\n",
    "MC_ERROR_TEXT = \"\"\"Formula returned array of wrong shape:\n",
    "Name: {}\n",
    "Formula: {}\n",
    "Expected shape: {}\n",
    "Returned shape: {}\"\"\"\n",
    "\n",
    "\n",
    "class PatchedParameterSet(bwp.ParameterSet):\n",
    "    def evaluate_monte_carlo(self, iterations=1000):\n",
    "        \"\"\"Evaluate each formula using Monte Carlo and variable uncertainty data, if present.\n",
    "\n",
    "        Formulas **must** return a one-dimensional array, or ``BroadcastingError`` is raised.\n",
    "\n",
    "        Returns dictionary of ``{parameter name: numpy array}``.\"\"\"\n",
    "        interpreter = Interpreter()\n",
    "        result = {}\n",
    "\n",
    "        def get_rng_sample(obj):\n",
    "            if isinstance(obj, np.ndarray):\n",
    "                # Already a Monte Carlo sample\n",
    "                return obj\n",
    "            if 'uncertainty_type' not in obj:\n",
    "                if 'uncertainty type' not in obj:\n",
    "                    obj = obj.copy()\n",
    "                    obj['uncertainty_type'] = 0\n",
    "                    obj['loc'] = obj['amount']\n",
    "                else:\n",
    "                    obj['uncertainty_type'] = obj['uncertainty type']\n",
    "            kls = uncertainty_choices[obj['uncertainty_type']]\n",
    "            return kls.bounded_random_variables(kls.from_dicts(obj), iterations).ravel()\n",
    "\n",
    "        def fix_shape(array):\n",
    "            # This is new\n",
    "            if array is None:\n",
    "                return np.zeros((iterations,))\n",
    "            elif isinstance(array, Number):\n",
    "                return np.ones((iterations,)) * array\n",
    "            elif not isinstance(array, np.ndarray):\n",
    "                return np.zeros((iterations,))\n",
    "            # End new section\n",
    "            elif array.shape in {(1, iterations), (iterations, 1)}:\n",
    "                return array.reshape((iterations,))\n",
    "            else:\n",
    "                return array\n",
    "\n",
    "        for key in self.order:\n",
    "            if key in self.global_params:\n",
    "                interpreter.symtable[key] = result[key] = get_rng_sample(self.global_params[key])\n",
    "            elif self.params[key].get('formula'):\n",
    "                sample = fix_shape(interpreter(self.params[key]['formula']))\n",
    "                if sample.shape != (iterations,):\n",
    "                    raise BroadcastingError(MC_ERROR_TEXT.format(\n",
    "                        key, self.params[key]['formula'], (iterations,), sample.shape)\n",
    "                    )\n",
    "                interpreter.symtable[key] = result[key] = sample\n",
    "            else:\n",
    "                interpreter.symtable[key] = result[key] = get_rng_sample(self.params[key])\n",
    "        return result"
   ]
  },
  {
   "cell_type": "code",
   "execution_count": 4,
   "id": "f8c1ecd0-1736-4847-90d1-e43f1ef26d42",
   "metadata": {},
   "outputs": [
    {
     "data": {
      "text/plain": [
       "Databases dictionary with 3 object(s):\n",
       "\tbiosphere3\n",
       "\tecoinvent 3.8 cutoff\n",
       "\tswiss consumption 1.0"
      ]
     },
     "execution_count": 4,
     "metadata": {},
     "output_type": "execute_result"
    }
   ],
   "source": [
    "bd.projects.set_current('GSA for archetypes')\n",
    "bd.databases"
   ]
  },
  {
   "cell_type": "code",
   "execution_count": 5,
   "id": "026d0337-ea4f-46cd-a5b7-b501922d25c5",
   "metadata": {},
   "outputs": [],
   "source": [
    "ei = bd.Database(\"ecoinvent 3.8 cutoff\")\n",
    "\n",
    "# Takes forever and not necessary, skip it...\n",
    "if not ei.metadata.get('fixed chemical formula name') and False:\n",
    "    from bw2data.backends.schema import ExchangeDataset as ED\n",
    "    \n",
    "    qs = ED.select().where(ED.output_database == \"ecoinvent 3.8 cutoff\")\n",
    "    print(\"this will take a while, maybe 30 minutes\")\n",
    "    \n",
    "    for exc in tqdm(qs, total=629959):\n",
    "        if 'formula' in exc.data:\n",
    "            exc.data['chemical formula'] = exc.data.pop('formula')\n",
    "            exc.save()\n",
    "\n",
    "    ei.metadata['fixed chemical formula name'] = True\n",
    "    bd.databases.flush()"
   ]
  },
  {
   "cell_type": "code",
   "execution_count": 6,
   "id": "889c18d0-da3e-4c09-8913-a617528f0fa9",
   "metadata": {},
   "outputs": [
    {
     "name": "stdout",
     "output_type": "stream",
     "text": [
      "Extracting XML data from 19565 datasets\n",
      "Extracted 19565 datasets in 44.09 seconds\n",
      "Applying strategy: normalize_units\n",
      "Applying strategy: update_ecoinvent_locations\n",
      "Applying strategy: remove_zero_amount_coproducts\n",
      "Applying strategy: remove_zero_amount_inputs_with_no_activity\n",
      "Applying strategy: remove_unnamed_parameters\n",
      "Applying strategy: es2_assign_only_product_with_amount_as_reference_product\n",
      "Applying strategy: assign_single_product_as_activity\n",
      "Applying strategy: create_composite_code\n",
      "Applying strategy: drop_unspecified_subcategories\n",
      "Applying strategy: fix_ecoinvent_flows_pre35\n",
      "Applying strategy: drop_temporary_outdated_biosphere_flows\n",
      "Applying strategy: link_biosphere_by_flow_uuid\n",
      "Applying strategy: link_internal_technosphere_by_composite_code\n",
      "Applying strategy: delete_exchanges_missing_activity\n",
      "Applying strategy: delete_ghost_exchanges\n",
      "Applying strategy: remove_uncertainty_from_negative_loss_exchanges\n",
      "Applying strategy: fix_unreasonably_high_lognormal_uncertainties\n",
      "Applying strategy: set_lognormal_loc_value\n",
      "Applying strategy: convert_activity_parameters_to_list\n",
      "Applying strategy: add_cpc_classification_from_single_reference_product\n",
      "Applying strategy: delete_none_synonyms\n",
      "Applying strategy: update_social_flows_in_older_consequential\n",
      "Applied 22 strategies in 7.55 seconds\n"
     ]
    }
   ],
   "source": [
    "# fp_ecoinvent_38 = \"/Users/cmutel/Documents/lca/Ecoinvent/3.8/cutoff/datasets\"\n",
    "fp_ecoinvent_38 = \"/Users/akim/Documents/LCA_files/ecoinvent_38_cutoff/datasets\"\n",
    "\n",
    "eii = bi.SingleOutputEcospold2Importer(fp_ecoinvent_38, \"ecoinvent 3.8 cutoff\")\n",
    "eii.apply_strategies()"
   ]
  },
  {
   "cell_type": "code",
   "execution_count": 7,
   "id": "0b0f451d-81cc-4052-8e86-5410f4f00e9c",
   "metadata": {
    "scrolled": true
   },
   "outputs": [
    {
     "data": {
      "text/plain": [
       "8449"
      ]
     },
     "execution_count": 7,
     "metadata": {},
     "output_type": "execute_result"
    }
   ],
   "source": [
    "found = set()\n",
    "\n",
    "for act in eii.data:\n",
    "    if any(exc.get('formula') for exc in act['exchanges']):\n",
    "        found.add(\n",
    "            (sum(1 for exc in act['exchanges'] if exc.get('formula')), \n",
    "             act['name'], \n",
    "             act['reference product'], \n",
    "             act['location'], \n",
    "             act['unit'])\n",
    "        )\n",
    "        \n",
    "len(found)"
   ]
  },
  {
   "cell_type": "code",
   "execution_count": 8,
   "id": "40ea9a44-4cc3-460f-b044-bb50767280f6",
   "metadata": {},
   "outputs": [],
   "source": [
    "# list(sorted(found, reverse=True))[:25]"
   ]
  },
  {
   "cell_type": "markdown",
   "id": "73dd73c2-7598-42ec-a1a4-e626274281fb",
   "metadata": {},
   "source": [
    "Don't trust pedigree uncertainty increases for variables"
   ]
  },
  {
   "cell_type": "code",
   "execution_count": 9,
   "id": "37eea7bc-98fb-42b6-b2dd-e68d19e61ef7",
   "metadata": {},
   "outputs": [],
   "source": [
    "def drop_pedigree_uncertainty(dct):\n",
    "    if 'scale' in dct and 'scale with pedigree' in dct:\n",
    "        dct['scale with pedigree'] = dct.pop('scale')\n",
    "        dct['scale'] = dct.pop('scale without pedigree')\n",
    "    return dct"
   ]
  },
  {
   "cell_type": "markdown",
   "id": "28528a96-2856-4d63-b689-1635d023b537",
   "metadata": {},
   "source": [
    "Change `10,43` to `10.42`."
   ]
  },
  {
   "cell_type": "code",
   "execution_count": 10,
   "id": "f3cfb1a1-4aee-4642-bf5d-e2c03a04b33b",
   "metadata": {},
   "outputs": [],
   "source": [
    "test = \"0,034 * 10,42\"\n",
    "result = re.sub(r'(\\d)\\,(\\d)', r'\\1.\\2', test)\n",
    "assert result == '0.034 * 10.42'"
   ]
  },
  {
   "cell_type": "markdown",
   "id": "678537bf-8686-42ac-a0d0-b3d61a27b9a2",
   "metadata": {},
   "source": [
    "Fix Python reserved words used as variable names"
   ]
  },
  {
   "cell_type": "code",
   "execution_count": 11,
   "id": "bf4ab93f-acfb-4be5-9f00-f1b623a33745",
   "metadata": {},
   "outputs": [],
   "source": [
    "substitutions = {\n",
    "    'yield': 'yield_',\n",
    "    'import': 'import_',\n",
    "    'load': 'load_',\n",
    "}"
   ]
  },
  {
   "cell_type": "markdown",
   "id": "74950bac-248d-47b4-acd4-841e5b7308b6",
   "metadata": {},
   "source": [
    "Apply above fixes and a few others"
   ]
  },
  {
   "cell_type": "code",
   "execution_count": 12,
   "id": "d7761c5d-6f29-4cb2-9e8f-9e7c620ed648",
   "metadata": {},
   "outputs": [],
   "source": [
    "def clean_formula(string):\n",
    "    string = string.strip().replace(\"%\", \" / 100\").replace(\"^\", \" ** \").replace(\"\\r\\n\", \" \").replace(\"\\n\", \"\")\n",
    "\n",
    "    for k, v in substitutions.items():\n",
    "        string = string.replace(k, v)\n",
    "    \n",
    "    string = re.sub(r'(\\d)\\,(\\d)', r'\\1.\\2', string)\n",
    "    return string"
   ]
  },
  {
   "cell_type": "code",
   "execution_count": 13,
   "id": "0fe1eb0f-a572-4166-9882-11cb4594812a",
   "metadata": {},
   "outputs": [],
   "source": [
    "def clean_dct(dct):\n",
    "    if dct.get('formula'):\n",
    "        dct['formula'] = clean_formula(dct['formula'])\n",
    "    if dct.get('name') in substitutions:\n",
    "        dct['name'] = substitutions[dct['name']]\n",
    "    return dct"
   ]
  },
  {
   "cell_type": "code",
   "execution_count": 14,
   "id": "42657800-db57-460e-82b4-e17dfaf5eed0",
   "metadata": {},
   "outputs": [],
   "source": [
    "def reformat_parameters(act):\n",
    "    parameters = {\n",
    "        substitutions.get(dct['name'], dct['name']): clean_dct(drop_pedigree_uncertainty(dct)) \n",
    "        for dct in act['parameters'] if 'name' in dct\n",
    "    }\n",
    "    \n",
    "    for index, exc in enumerate(act['exchanges']):\n",
    "        if exc.get('formula'):\n",
    "            pn = f'__exchange_{index}'\n",
    "            exc['parameter_name'] = pn\n",
    "            parameters[pn] = {'formula': clean_formula(exc['formula'])}\n",
    "    \n",
    "    return parameters"
   ]
  },
  {
   "cell_type": "code",
   "execution_count": 15,
   "id": "603bbb24-eafe-4b47-9cdd-40479e98bbd6",
   "metadata": {},
   "outputs": [],
   "source": [
    "def stochastic_parameter_set_for_activity(act, iterations=250):\n",
    "    ps = PatchedParameterSet(reformat_parameters(act))\n",
    "    return ps.evaluate_monte_carlo(iterations=iterations)"
   ]
  },
  {
   "cell_type": "code",
   "execution_count": 16,
   "id": "e558ff07-189c-43e3-b5a3-dab157503215",
   "metadata": {},
   "outputs": [],
   "source": [
    "def check_that_parameters_are_reasonable(act, results, rtol=0.1):\n",
    "    for exc in act['exchanges']:\n",
    "        if exc.get('formula'):\n",
    "            arr = results[exc['parameter_name']]\n",
    "            if not np.isclose(exc['amount'], np.median(arr), rtol=rtol):\n",
    "                print(\n",
    "                    act['name'], \n",
    "                    exc['name'],\n",
    "                    act['location'], \n",
    "                    act['unit'],\n",
    "                )\n",
    "                print(\"\\t\", exc['amount'], np.median(arr), exc['formula'])\n",
    "                return False\n",
    "    return True"
   ]
  },
  {
   "cell_type": "code",
   "execution_count": 17,
   "id": "44c5004a-4f32-4106-93ab-02e39ee85193",
   "metadata": {},
   "outputs": [],
   "source": [
    "from bw2data.backends.schema import ActivityDataset as AD\n",
    "\n",
    "lookup_cache = {(x, y): z \n",
    "                for x, y, z in AD.select(AD.database, AD.code, AD.id)\n",
    "                .where(AD.database << (\"biosphere3\", \"ecoinvent 3.8 cutoff\"))\n",
    "                .tuples()\n",
    "               }                                                            "
   ]
  },
  {
   "cell_type": "code",
   "execution_count": 18,
   "id": "6d4a7255-5bd4-4266-aa3f-979a99b9963c",
   "metadata": {},
   "outputs": [],
   "source": [
    "tech_data, bio_data = [], []"
   ]
  },
  {
   "cell_type": "code",
   "execution_count": 19,
   "id": "aaa227e8-fa1d-4a00-8033-5e29af30bad3",
   "metadata": {},
   "outputs": [
    {
     "name": "stderr",
     "output_type": "stream",
     "text": [
      "  1%|▍                                                                           | 116/19565 [00:00<00:54, 354.14it/s]"
     ]
    },
    {
     "name": "stdout",
     "output_type": "stream",
     "text": [
      "frozen fish sticks production, hake sunflower seed RER kilogram\n",
      "\t 0.0863189200090016 0.028058704764172278 sunoil/sunflower\n",
      "nitric acid production, product in 50% solution state Water UN-SEASIA kilogram\n",
      "\t 0.00024625863262011 0.0022 0.00064+0.00156\n"
     ]
    },
    {
     "name": "stderr",
     "output_type": "stream",
     "text": [
      "\r",
      "  1%|▋                                                                           | 163/19565 [00:00<00:53, 360.08it/s]"
     ]
    },
    {
     "name": "stdout",
     "output_type": "stream",
     "text": [
      "sugarcane processing, modern autonomous plant paraffin BR kilogram\n",
      "\t 3.3867871227745e-05 0.002791 2.66E-03 + 1.31E-04\n",
      "citric acid production energy feed, gross CN megajoule\n",
      "\t 1.0 0.3064635 0.235*18.9*0.069\n"
     ]
    },
    {
     "name": "stderr",
     "output_type": "stream",
     "text": [
      "  1%|▉                                                                           | 253/19565 [00:00<00:49, 393.08it/s]"
     ]
    },
    {
     "name": "stdout",
     "output_type": "stream",
     "text": [
      "heat production, untreated waste wood, at furnace 1000-5000 kW, state-of-the-art 2014 NMVOC, non-methane volatile organic compounds, unspecified origin RoW megajoule\n",
      "\t 0.0 6.988543155865795e-06 5.6E-06 * scaling_factor\n",
      "heavy fuel oil production, petroleum refinery operation petroleum BR kilogram\n",
      "\t 0.0613595650359994 6.686379 0.0633*105.63\n",
      "Distiller's Dried Grains with Solubles to generic market for protein feed protein feed, 100% crude GLO kilogram\n",
      "\t 1.0 0.38 0.38\n"
     ]
    },
    {
     "name": "stderr",
     "output_type": "stream",
     "text": [
      "  2%|█▎                                                                          | 328/19565 [00:01<01:11, 269.18it/s]"
     ]
    },
    {
     "name": "stdout",
     "output_type": "stream",
     "text": [
      "medium density fibreboard production, uncoated furnace, wood chips, with silo, 5000kW RoW cubic meter\n",
      "\t 1.2499423855415e-05 0.00011767449769523807 2.9333E-08*wood_fuel/1.05\n",
      "fibreboard production, soft, from wet & dry processes heat, district or industrial, natural gas Europe without Switzerland kilogram\n",
      "\t 0.0328210261767296 143.8095238095238 151/1.05\n",
      "cobalt production nickel smelter slag GLO kilogram\n",
      "\t -13.6818343726088 -92.10743392650949 (101.770443641039*Co_output_share)*-1\n"
     ]
    },
    {
     "name": "stderr",
     "output_type": "stream",
     "text": [
      "  2%|█▌                                                                          | 417/19565 [00:01<01:26, 221.50it/s]"
     ]
    },
    {
     "name": "stdout",
     "output_type": "stream",
     "text": [
      "heat and power co-generation, diesel, 200kW electrical, SCR-NOx reduction electricity, high voltage CH kilowatt hour\n",
      "\t 1.0 0.2511627906976747 0.108 * scaling_factor\n"
     ]
    },
    {
     "name": "stderr",
     "output_type": "stream",
     "text": [
      "  3%|██▍                                                                         | 616/19565 [00:02<01:00, 312.38it/s]"
     ]
    },
    {
     "name": "stdout",
     "output_type": "stream",
     "text": [
      "oriented strand board production electricity, medium voltage RER kilogram\n",
      "\t 0.000314545111935988 5.265 117*0.045\n",
      "fibre production, jute, retting transport, freight, lorry, unspecified BD kilogram\n",
      "\t 0.00106710355194487 0.036 (2.4/1000)*15\n",
      "heat and power co-generation, natural gas, 50kW electrical, lean burn heat and power co-generation unit, 50kW electrical, common components for heat+electricity CH megajoule\n",
      "\t 7.04590888389695e-09 3.0925925925925895e-08 1.67E-08 * scaling_factor\n"
     ]
    },
    {
     "name": "stderr",
     "output_type": "stream",
     "text": [
      "  4%|███                                                                         | 788/19565 [00:02<00:48, 389.73it/s]"
     ]
    },
    {
     "name": "stdout",
     "output_type": "stream",
     "text": [
      "fibreboard production, hard electricity, medium voltage RER kilogram\n",
      "\t 0.00224095805598558 27.27 505*0.054\n",
      "citric acid production protein feed, 100% crude RoW kilogram\n",
      "\t 1.0 0.0012972 0.235*0.08*0.069\n"
     ]
    },
    {
     "name": "stderr",
     "output_type": "stream",
     "text": [
      "  4%|███▍                                                                        | 871/19565 [00:02<00:56, 328.44it/s]"
     ]
    },
    {
     "name": "stdout",
     "output_type": "stream",
     "text": [
      "wheat production Mercury Canada without Quebec kilogram\n",
      "\t 5.84281183487027e-09 1.1052659202199e-07 1.1922673198e-07 + ( - 8.70013995801e-09)*heavyMetalUptakeSwitch\n"
     ]
    },
    {
     "name": "stderr",
     "output_type": "stream",
     "text": [
      "  6%|████▍                                                                      | 1148/19565 [00:03<01:03, 290.12it/s]"
     ]
    },
    {
     "name": "stdout",
     "output_type": "stream",
     "text": [
      "sweetening, natural gas transport, pipeline, long distance, natural gas RoW cubic meter\n",
      "\t 0.0975 0.08750000000000001 1.25* density/1000*70\n"
     ]
    },
    {
     "name": "stderr",
     "output_type": "stream",
     "text": [
      "  7%|█████                                                                      | 1317/19565 [00:04<00:50, 362.14it/s]"
     ]
    },
    {
     "name": "stdout",
     "output_type": "stream",
     "text": [
      "heat and power co-generation, natural gas, 50kW electrical, lean burn lubricating oil RoW megajoule\n",
      "\t 1.26573213483179e-05 5.5555555555555504e-05 3E-05 * scaling_factor\n",
      "rice production, non-basmati Copper CN kilogram\n",
      "\t -1.39422197386368e-07 -4.3685590348430005e-06 2.16348108987e-07 + ( - 4.58490714383e-06)*heavyMetalUptakeSwitch\n",
      "natural gas liquids fractionation natural gas liquids GLO kilogram\n",
      "\t 1.0288663077702 0.390969196952676 1* LHV_share\n"
     ]
    },
    {
     "name": "stderr",
     "output_type": "stream",
     "text": [
      "  8%|█████▊                                                                     | 1509/19565 [00:04<00:58, 307.48it/s]"
     ]
    },
    {
     "name": "stdout",
     "output_type": "stream",
     "text": [
      "passenger car production, diesel passenger car, diesel GLO kilogram\n",
      "\t 1.0 1314.0 (glider_weight+powertrain_weight)\n"
     ]
    },
    {
     "name": "stderr",
     "output_type": "stream",
     "text": [
      "  8%|██████▎                                                                    | 1657/19565 [00:05<00:45, 389.67it/s]"
     ]
    },
    {
     "name": "stdout",
     "output_type": "stream",
     "text": [
      "sugarcane processing, modern autonomous plant paraffin BR kilowatt hour\n",
      "\t 7.58919958474928e-06 0.002791 2.66E-03 + 1.31E-04\n",
      "containerboard production, fluting medium, semichemical waste paperboard, sorted RER kilogram\n",
      "\t 0.108435930541389 100.0 100\n",
      "hake, capture by long liner and landing whole, fresh long liner, steel RER kilogram\n",
      "\t 0.0140609498517879 25.271099779779384 ((WeightLLiner)/( landings_vessel_year* lifetime)*1647.98)\n"
     ]
    },
    {
     "name": "stderr",
     "output_type": "stream",
     "text": [
      "  9%|██████▋                                                                    | 1757/19565 [00:05<01:13, 242.12it/s]"
     ]
    },
    {
     "name": "stdout",
     "output_type": "stream",
     "text": [
      "heat and power co-generation, natural gas, 160kW electrical, Jakobsberg natural gas, low pressure RoW megajoule\n",
      "\t 0.00395008819152512 0.005232862375719505 (0.0256410256410256) * scaling_factor\n"
     ]
    },
    {
     "name": "stderr",
     "output_type": "stream",
     "text": [
      "  9%|██████▉                                                                    | 1816/19565 [00:05<01:26, 205.92it/s]"
     ]
    },
    {
     "name": "stdout",
     "output_type": "stream",
     "text": [
      "cobalt production nickel smelter slag GLO kilogram\n",
      "\t -1.55117678350847 -92.10743392650949 (101.770443641039*Co_output_share)*-1\n"
     ]
    },
    {
     "name": "stderr",
     "output_type": "stream",
     "text": [
      " 10%|███████▌                                                                   | 1974/19565 [00:06<00:57, 304.92it/s]"
     ]
    },
    {
     "name": "stdout",
     "output_type": "stream",
     "text": [
      "smelting and refining of nickel concentrate, 16% Ni copper concentrate, sulfide ore GLO kilogram\n",
      "\t 1.0 0.3983606557377049 0.243/0.61\n"
     ]
    },
    {
     "name": "stderr",
     "output_type": "stream",
     "text": [
      " 11%|████████                                                                   | 2098/19565 [00:06<01:00, 286.73it/s]"
     ]
    },
    {
     "name": "stdout",
     "output_type": "stream",
     "text": [
      "fibre production, cotton, organic, ginning transport, freight, lorry, unspecified IN kilogram\n",
      "\t 0.029716080849883 0.036585000000000006 (2.439/1000)*15\n",
      "medium density fibreboard production, uncoated electricity, medium voltage RER cubic meter\n",
      "\t 1.15130090153387 10.838799999999999 221.2*0.049\n",
      "nutrient supply from fermentation filtrate organic potassium fertiliser, as K2O GLO kilogram\n",
      "\t 1.0 0.005 0.005\n"
     ]
    },
    {
     "name": "stderr",
     "output_type": "stream",
     "text": [
      " 12%|████████▋                                                                  | 2268/19565 [00:07<01:07, 256.81it/s]"
     ]
    },
    {
     "name": "stdout",
     "output_type": "stream",
     "text": [
      "sugarcane processing, traditional annexed plant sulfuric acid BR kilogram\n",
      "\t 0.00308064150398879 0.369 0.264 + 1.05E-01\n",
      "cobalt production nickel smelter slag GLO kilogram\n",
      "\t -1.84207710745419 -92.10743392650949 (101.770443641039*Co_output_share)*-1\n"
     ]
    },
    {
     "name": "stderr",
     "output_type": "stream",
     "text": [
      " 12%|████████▉                                                                  | 2330/19565 [00:07<01:06, 259.58it/s]"
     ]
    },
    {
     "name": "stdout",
     "output_type": "stream",
     "text": [
      "fibre production, jute, retting transport, freight, lorry, unspecified IN kilogram\n",
      "\t 0.0067738732131104 0.23076 (15.384/1000)*15\n",
      "esterification of soybean oil glycerine RoW kilogram\n",
      "\t 1.0 0.40284216 0.8881*0.4536\n"
     ]
    },
    {
     "name": "stderr",
     "output_type": "stream",
     "text": [
      " 12%|█████████▏                                                                 | 2400/19565 [00:08<01:06, 259.21it/s]"
     ]
    },
    {
     "name": "stdout",
     "output_type": "stream",
     "text": [
      "cobalt production nickel smelter slag GLO kilogram\n",
      "\t -0.43340623658625 -92.10743392650949 (101.770443641039*Co_output_share)*-1\n"
     ]
    },
    {
     "name": "stderr",
     "output_type": "stream",
     "text": [
      " 13%|█████████▊                                                                 | 2574/19565 [00:08<00:54, 310.12it/s]"
     ]
    },
    {
     "name": "stdout",
     "output_type": "stream",
     "text": [
      "scandium oxide production, from rare earth tailings heat, from steam, in chemical industry CN-NM kilogram\n",
      "\t 11716.3708347336 129986.88333 60500 + 69486.88333\n",
      "sugarcane processing, traditional annexed plant paraffin CO kilogram\n",
      "\t 3.20971532229804e-05 0.002857 2.66E-03 + 1.97E-04  \n",
      "heat and power co-generation, natural gas, 1MW electrical, lean burn lubricating oil RoW megajoule\n",
      "\t 1.11566788196526e-05 6.818181818181809e-05 3E-05 * scaling_factor\n"
     ]
    },
    {
     "name": "stderr",
     "output_type": "stream",
     "text": [
      " 13%|██████████                                                                 | 2641/19565 [00:08<01:03, 265.50it/s]"
     ]
    },
    {
     "name": "stdout",
     "output_type": "stream",
     "text": [
      "heat and power co-generation, natural gas, 160kW electrical, lambda=1 heat and power co-generation unit, 160kW electrical, components for heat only Europe without Switzerland kilowatt hour\n",
      "\t 4.35453009886879e-08 9.090909090909099e-09 5E-09 * scaling_factor\n"
     ]
    },
    {
     "name": "stderr",
     "output_type": "stream",
     "text": [
      " 14%|██████████▊                                                                | 2831/19565 [00:09<00:45, 365.87it/s]"
     ]
    },
    {
     "name": "stdout",
     "output_type": "stream",
     "text": [
      "sugarcane processing, traditional annexed plant paraffin CO kilogram\n",
      "\t 7.36173239059183e-07 0.002857 2.66E-03 + 1.97E-04  \n",
      "citric acid production energy feed, gross RoW megajoule\n",
      "\t 1.0 0.3064635 0.235*18.9*0.069\n",
      "sugarcane processing, traditional annexed plant chemical, organic RoW kilogram\n",
      "\t 5.05926490898971e-07 6.06e-05 0.0000117+0.0000489\n"
     ]
    },
    {
     "name": "stderr",
     "output_type": "stream",
     "text": [
      " 15%|███████████▏                                                               | 2928/19565 [00:09<00:44, 374.55it/s]"
     ]
    },
    {
     "name": "stdout",
     "output_type": "stream",
     "text": [
      "cobalt sulfate production Water, cooling, unspecified natural origin RoW kilogram\n",
      "\t 0.0188412598664482 0.0 13092*(58.933/154.996)*3.785*10^(-6)\n",
      "heat production, untreated waste wood, at furnace 1000-5000 kW, state-of-the-art 2014 electricity, low voltage CH kilogram\n",
      "\t 0.072922875 0.005211162160754546 0.00417 * scaling_factor\n"
     ]
    },
    {
     "name": "stderr",
     "output_type": "stream",
     "text": [
      " 16%|████████████▏                                                              | 3194/19565 [00:10<00:55, 295.30it/s]"
     ]
    },
    {
     "name": "stdout",
     "output_type": "stream",
     "text": [
      "cobalt production nickel smelter slag GLO kilogram\n",
      "\t -1.25261243306885 -92.10743392650949 (101.770443641039*Co_output_share)*-1\n"
     ]
    },
    {
     "name": "stderr",
     "output_type": "stream",
     "text": [
      " 17%|████████████▋                                                              | 3298/19565 [00:10<00:59, 273.39it/s]"
     ]
    },
    {
     "name": "stdout",
     "output_type": "stream",
     "text": [
      "nutrient supply from ash, from combustion of straw organic phosphorus fertiliser, as P2O5 GLO kilogram\n",
      "\t 1.0 0.0145 0.0145\n"
     ]
    },
    {
     "name": "stderr",
     "output_type": "stream",
     "text": [
      " 17%|████████████▉                                                              | 3383/19565 [00:11<00:47, 338.93it/s]"
     ]
    },
    {
     "name": "stdout",
     "output_type": "stream",
     "text": [
      "scandium oxide production, from rare earth tailings heat, from steam, in chemical industry CN-NM kilogram\n",
      "\t 90.7974586639383 129986.88333 60500 + 69486.88333\n"
     ]
    },
    {
     "name": "stderr",
     "output_type": "stream",
     "text": [
      " 18%|█████████████▎                                                             | 3480/19565 [00:11<00:59, 268.68it/s]"
     ]
    },
    {
     "name": "stdout",
     "output_type": "stream",
     "text": [
      "frozen fish sticks production, hake sunflower seed RER kilogram\n",
      "\t 0.0104569205953762 0.028038797655394566 sunoil/sunflower\n",
      "containerboard production, fluting medium, semichemical waste paperboard, sorted RER kilogram\n",
      "\t 0.0993034804415984 100.0 100\n",
      "citric acid production protein feed, 100% crude CN kilogram\n",
      "\t 1.0 0.0012972 0.235*0.08*0.069\n"
     ]
    },
    {
     "name": "stderr",
     "output_type": "stream",
     "text": [
      " 18%|█████████████▊                                                             | 3592/19565 [00:11<00:56, 280.96it/s]"
     ]
    },
    {
     "name": "stdout",
     "output_type": "stream",
     "text": [
      "electricity voltage transformation from high to medium voltage electricity, high voltage BR-South-eastern grid kilowatt hour\n",
      "\t 1.01192 0.01192 0.149*0.08\n",
      "electricity voltage transformation from medium to low voltage electricity, medium voltage BR-Mid-western grid kilowatt hour\n",
      "\t 1.03168 0.03168 0.132*0.24\n"
     ]
    },
    {
     "name": "stderr",
     "output_type": "stream",
     "text": [
      " 19%|██████████████                                                             | 3662/19565 [00:12<00:57, 274.42it/s]"
     ]
    },
    {
     "name": "stdout",
     "output_type": "stream",
     "text": [
      "oriented strand board production electricity, medium voltage RER cubic meter\n",
      "\t 0.248860691502296 5.265 117*0.045\n",
      "heat and power co-generation, natural gas, 1MW electrical, lean burn lubricating oil CH megajoule\n",
      "\t 1.11566788196526e-05 6.818181818181809e-05 3E-05 * scaling_factor\n",
      "heat and power co-generation, natural gas, 50kW electrical, lean burn lubricating oil Europe without Switzerland kilowatt hour\n",
      "\t 0.000278091794380653 5.5555555555555504e-05 3E-05 * scaling_factor\n"
     ]
    },
    {
     "name": "stderr",
     "output_type": "stream",
     "text": [
      " 20%|██████████████▋                                                            | 3844/19565 [00:12<00:47, 328.67it/s]"
     ]
    },
    {
     "name": "stdout",
     "output_type": "stream",
     "text": [
      "esterification of soybean oil wastewater, average US kilogram\n",
      "\t -4.30265778999065e-05 -0.00016124099999999998 (0.0426*3.785/1000)*-1\n",
      "fibreboard production, soft, from wet & dry processes heat, district or industrial, natural gas Europe without Switzerland cubic meter\n",
      "\t 25.967223651589 143.8095238095238 151/1.05\n"
     ]
    },
    {
     "name": "stderr",
     "output_type": "stream",
     "text": [
      " 21%|███████████████▋                                                           | 4079/19565 [00:13<00:42, 363.57it/s]"
     ]
    },
    {
     "name": "stdout",
     "output_type": "stream",
     "text": [
      "soybean meal and crude oil production, mechanical extraction protein feed, 100% crude RoW kilogram\n",
      "\t 1.0 0.1193914349868937 hull/soymeal\n",
      "charger production, for electric passenger car printed wiring board, for through-hole mounting, Pb free surface GLO kilogram\n",
      "\t 0.0212096774193548 0.1315 0.263*0.5\n"
     ]
    },
    {
     "name": "stderr",
     "output_type": "stream",
     "text": [
      " 22%|████████████████▏                                                          | 4239/19565 [00:13<00:48, 317.36it/s]"
     ]
    },
    {
     "name": "stdout",
     "output_type": "stream",
     "text": [
      "soybean meal and crude oil production, mechanical extraction biowaste RoW kilogram\n",
      "\t -0.0174569219342882 -0.02662893021839571 (m_discarded/soymeal)*-1\n"
     ]
    },
    {
     "name": "stderr",
     "output_type": "stream",
     "text": [
      " 22%|████████████████▌                                                          | 4335/19565 [00:14<00:51, 298.03it/s]"
     ]
    },
    {
     "name": "stdout",
     "output_type": "stream",
     "text": [
      "heat and power co-generation, natural gas, 160kW electrical, Jakobsberg lubricating oil CH megajoule\n",
      "\t 1.44143869435184e-05 6.122448979591831e-05 3E-05 * scaling_factor\n"
     ]
    },
    {
     "name": "stderr",
     "output_type": "stream",
     "text": [
      " 23%|█████████████████▎                                                         | 4532/19565 [00:14<00:36, 414.58it/s]"
     ]
    },
    {
     "name": "stdout",
     "output_type": "stream",
     "text": [
      "soybean meal and crude oil production, mechanical extraction soybean oil, crude CA-QC kilogram\n",
      "\t 1.0 0.1864627716660779 oil/soymeal\n",
      "sugarcane processing, modern annexed plant chemical, organic BR kilogram\n",
      "\t 2.67585210673046e-07 4.041e-05 0.00000781+0.0000326\n"
     ]
    },
    {
     "name": "stderr",
     "output_type": "stream",
     "text": [
      " 24%|█████████████████▋                                                         | 4609/19565 [00:15<00:47, 318.08it/s]"
     ]
    },
    {
     "name": "stdout",
     "output_type": "stream",
     "text": [
      "containerboard production, fluting medium, recycled electricity, medium voltage RER kilogram\n",
      "\t 0.162767442235754 162.76744223575392 0.585962792048714/0.0036\n"
     ]
    },
    {
     "name": "stderr",
     "output_type": "stream",
     "text": [
      " 24%|██████████████████▏                                                        | 4757/19565 [00:15<00:58, 254.50it/s]"
     ]
    },
    {
     "name": "stdout",
     "output_type": "stream",
     "text": [
      "heat and power co-generation, natural gas, 1MW electrical, lean burn waste mineral oil Europe without Switzerland megajoule\n",
      "\t -1.11566788196526e-05 -6.818181818181809e-05 (3E-05 * scaling_factor)*-1\n"
     ]
    },
    {
     "name": "stderr",
     "output_type": "stream",
     "text": [
      " 25%|███████████████████                                                        | 4987/19565 [00:16<00:39, 370.31it/s]"
     ]
    },
    {
     "name": "stdout",
     "output_type": "stream",
     "text": [
      "electricity voltage transformation from high to medium voltage electricity, high voltage BR-Southern grid kilowatt hour\n",
      "\t 1.00736 0.00736 0.092*0.08\n",
      "sugarcane processing, traditional autonomous plant chemical, organic BR kilogram\n",
      "\t 7.63093664982511e-07 6.06e-05 0.0000117+0.0000489\n"
     ]
    },
    {
     "name": "stderr",
     "output_type": "stream",
     "text": [
      " 26%|███████████████████▍                                                       | 5063/19565 [00:16<00:49, 292.95it/s]"
     ]
    },
    {
     "name": "stdout",
     "output_type": "stream",
     "text": [
      "floating collar net cage for aquaculture 25 m construction and maintenance extrusion, plastic film GLO meter\n",
      "\t 75.0 1875.0 (308+67)*10/2\n"
     ]
    },
    {
     "name": "stderr",
     "output_type": "stream",
     "text": [
      " 26%|███████████████████▋                                                       | 5147/19565 [00:16<00:48, 297.11it/s]"
     ]
    },
    {
     "name": "stdout",
     "output_type": "stream",
     "text": [
      "heat and power co-generation, natural gas, 160kW electrical, Jakobsberg lubricating oil CH kilowatt hour\n",
      "\t 0.000305826005302346 6.122448979591831e-05 3E-05 * scaling_factor\n"
     ]
    },
    {
     "name": "stderr",
     "output_type": "stream",
     "text": [
      " 27%|████████████████████▎                                                      | 5306/19565 [00:17<00:56, 253.88it/s]"
     ]
    },
    {
     "name": "stdout",
     "output_type": "stream",
     "text": [
      "particleboard production, uncoated, average glue mix furnace, wood chips, softwood storage area, 1000kW RoW megajoule\n",
      "\t 5.31775830551142e-10 1.099863018e-05 6.61E-09*wood_fuel\n"
     ]
    },
    {
     "name": "stderr",
     "output_type": "stream",
     "text": [
      " 28%|████████████████████▋                                                      | 5387/19565 [00:17<00:48, 291.31it/s]"
     ]
    },
    {
     "name": "stdout",
     "output_type": "stream",
     "text": [
      "heat and power co-generation, natural gas, mini-plant 2KW electrical lubricating oil RoW megajoule\n",
      "\t 1.22772883884097e-05 4.6153846153846206e-05 3E-05 * scaling_factor\n",
      "C3 hydrocarbon production, mixture, petroleum refinery operation petroleum BR kilogram\n",
      "\t 0.0741933265666841 0.30380202 0.0633*4.7994\n"
     ]
    },
    {
     "name": "stderr",
     "output_type": "stream",
     "text": [
      " 28%|████████████████████▉                                                      | 5463/19565 [00:17<00:42, 328.06it/s]"
     ]
    },
    {
     "name": "stdout",
     "output_type": "stream",
     "text": [
      "refinery gas production, petroleum refinery operation petroleum BR kilogram\n",
      "\t 0.0766108395267519 0.06612317999999999 0.0633*1.0446\n",
      "titanium tetrachloride production chlorine, liquid RoW kilogram\n",
      "\t 0.0466917471967441 0.4088224902841569 ((1620/1000)/3.9626)\n"
     ]
    },
    {
     "name": "stderr",
     "output_type": "stream",
     "text": [
      " 28%|█████████████████████▏                                                     | 5527/19565 [00:18<00:51, 270.76it/s]"
     ]
    },
    {
     "name": "stdout",
     "output_type": "stream",
     "text": [
      "electricity voltage transformation from medium to low voltage electricity, medium voltage BR-Northern grid kilowatt hour\n",
      "\t 1.05928 0.05928 0.247*0.24\n"
     ]
    },
    {
     "name": "stderr",
     "output_type": "stream",
     "text": [
      " 29%|█████████████████████▌                                                     | 5618/19565 [00:18<00:43, 321.53it/s]"
     ]
    },
    {
     "name": "stdout",
     "output_type": "stream",
     "text": [
      "fibre production, cotton, ginning transport, freight, lorry, unspecified IN kilogram\n",
      "\t 0.029716080849883 0.036585000000000006 (2.439/1000)*15\n"
     ]
    },
    {
     "name": "stderr",
     "output_type": "stream",
     "text": [
      " 29%|█████████████████████▊                                                     | 5684/19565 [00:18<00:47, 292.55it/s]"
     ]
    },
    {
     "name": "stdout",
     "output_type": "stream",
     "text": [
      "cobalt production nickel smelter slag GLO kilogram\n",
      "\t -0.0324977176787873 -92.10743392650949 (101.770443641039*Co_output_share)*-1\n",
      "electricity voltage transformation from medium to low voltage electricity, medium voltage CA-QC kilowatt hour\n",
      "\t 1.0241875 0.02418004606032212 electricity_transformation_losses\n"
     ]
    },
    {
     "name": "stderr",
     "output_type": "stream",
     "text": [
      " 31%|███████████████████████                                                    | 6002/19565 [00:19<00:43, 308.96it/s]"
     ]
    },
    {
     "name": "stdout",
     "output_type": "stream",
     "text": [
      "cobalt production nickel smelter slag GLO kilowatt hour\n",
      "\t -0.0503972542415479 -92.10743392650949 (101.770443641039*Co_output_share)*-1\n"
     ]
    },
    {
     "name": "stderr",
     "output_type": "stream",
     "text": [
      " 31%|███████████████████████▎                                                   | 6087/19565 [00:19<00:45, 297.46it/s]"
     ]
    },
    {
     "name": "stdout",
     "output_type": "stream",
     "text": [
      "electricity voltage transformation from medium to low voltage electricity, medium voltage BR-South-eastern grid kilowatt hour\n",
      "\t 1.03576 0.03576 0.149*0.24\n",
      "nitric acid production, product in 50% solution state Water UN-OCEANIA kilogram\n",
      "\t 0.00024625863262011 0.0022 0.00064+0.00156\n",
      "cobalt production nickel smelter slag GLO kilogram\n",
      "\t -0.0284627154056894 -92.10743392650949 (101.770443641039*Co_output_share)*-1\n"
     ]
    },
    {
     "name": "stderr",
     "output_type": "stream",
     "text": [
      " 32%|████████████████████████                                                   | 6269/19565 [00:20<00:42, 310.16it/s]"
     ]
    },
    {
     "name": "stdout",
     "output_type": "stream",
     "text": [
      "light fuel oil production, petroleum refinery operation petroleum BR kilogram\n",
      "\t 0.0677991375814426 8.949986999999998 0.0633*141.39\n",
      "electrolysis of magnesium chloride, from titanium sponge production sulfuric acid RoW kilogram\n",
      "\t 0.000945694173065038 0.01796653796653797 6.98E+01/1000/3.885\n"
     ]
    },
    {
     "name": "stderr",
     "output_type": "stream",
     "text": [
      " 32%|████████████████████████▎                                                  | 6344/19565 [00:20<00:45, 288.99it/s]"
     ]
    },
    {
     "name": "stdout",
     "output_type": "stream",
     "text": [
      "esterification of soybean oil wastewater, average US kilogram\n",
      "\t -4.17099751489914e-05 -0.00016124099999999998 (0.0426*3.785/1000)*-1\n"
     ]
    },
    {
     "name": "stderr",
     "output_type": "stream",
     "text": [
      " 33%|████████████████████████▊                                                  | 6473/19565 [00:21<00:38, 342.98it/s]"
     ]
    },
    {
     "name": "stdout",
     "output_type": "stream",
     "text": [
      "cobalt production electrolyte, nickel-rich GLO cubic meter\n",
      "\t 1.0 0.06857305198983199 0.0757670648863521*Co_output_share\n"
     ]
    },
    {
     "name": "stderr",
     "output_type": "stream",
     "text": [
      " 34%|█████████████████████████▎                                                 | 6591/19565 [00:21<00:37, 347.61it/s]"
     ]
    },
    {
     "name": "stdout",
     "output_type": "stream",
     "text": [
      "fibreboard production, soft, from wet & dry processes furnace, wood chips, with silo, 1000kW RoW cubic meter\n",
      "\t 6.87019666053689e-07 3.80479532e-06 6.61E-09*wood_fuel\n"
     ]
    },
    {
     "name": "stderr",
     "output_type": "stream",
     "text": [
      " 34%|█████████████████████████▋                                                 | 6693/19565 [00:22<00:46, 276.68it/s]"
     ]
    },
    {
     "name": "stdout",
     "output_type": "stream",
     "text": [
      "cobalt production nickel smelter slag GLO kilogram\n",
      "\t -0.884735211730185 -92.10743392650949 (101.770443641039*Co_output_share)*-1\n",
      "heat production, untreated waste wood, at furnace 1000-5000 kW, state-of-the-art 2014 dust collector, electrostatic precipitator, for industrial use RoW kilogram\n",
      "\t 4.85763888888889e-08 3.472222222222222e-09 1/(4000*20*1000*3.6)\n",
      "nitric acid production, product in 50% solution state Water SAS kilogram\n",
      "\t 0.00024625863262011 0.0022 0.00064+0.00156\n"
     ]
    },
    {
     "name": "stderr",
     "output_type": "stream",
     "text": [
      " 35%|██████████████████████████▏                                                | 6845/19565 [00:22<00:38, 326.74it/s]"
     ]
    },
    {
     "name": "stdout",
     "output_type": "stream",
     "text": [
      "cobalt production nickel smelter slag GLO kilogram\n",
      "\t -7.01062109745162 -0.3140104409867979 (101.770443641039*Co_output_share)*-1\n",
      "fibre production, cotton, ginning transport, freight, lorry, unspecified IN kilogram\n",
      "\t 0.00477339760258302 0.036585000000000006 (2.439/1000)*15\n"
     ]
    },
    {
     "name": "stderr",
     "output_type": "stream",
     "text": [
      " 36%|██████████████████████████▋                                                | 6973/19565 [00:22<00:33, 370.58it/s]"
     ]
    },
    {
     "name": "stdout",
     "output_type": "stream",
     "text": [
      "wheat production land use change, annual crop AU kilogram\n",
      "\t 1.13067734782717e-05 0.000213887535855 0.000213887535855*LUC_crop_specific+0.000195865129621*(1-LUC_crop_specific)\n",
      "floating hexagonal metal cage for aquaculture 6 m construction and maintenance polyethylene, high density, granulate GLO meter\n",
      "\t 0.896 5.376000000000001 6*16*0.280*0.2\n",
      "white spirit production, petroleum refinery operation petroleum BR kilogram\n",
      "\t 0.0673494474813682 0.018151274999999998 0.0633*0.28675\n",
      "electricity voltage transformation from high to medium voltage electricity, high voltage BR-North-eastern grid kilowatt hour\n",
      "\t 1.01232 0.01232 0.154*0.08\n"
     ]
    },
    {
     "name": "stderr",
     "output_type": "stream",
     "text": [
      " 36%|███████████████████████████                                                | 7054/19565 [00:22<00:33, 370.86it/s]"
     ]
    },
    {
     "name": "stdout",
     "output_type": "stream",
     "text": [
      "heat and power co-generation, natural gas, mini-plant 2KW electrical electricity, low voltage Europe without Switzerland kilowatt hour\n",
      "\t 1.0 0.1067692307692309 0.0694 * scaling_factor\n",
      "oat production Cadmium FI kilogram\n",
      "\t 3.97345448174021e-08 4.1236974766669997e-07 4.9969302554e-07 + ( - 8.73232778733e-08)*heavyMetalUptakeSwitch\n"
     ]
    },
    {
     "name": "stderr",
     "output_type": "stream",
     "text": [
      " 37%|███████████████████████████▌                                               | 7199/19565 [00:23<00:29, 413.15it/s]"
     ]
    },
    {
     "name": "stdout",
     "output_type": "stream",
     "text": [
      "heat and power co-generation, natural gas, 160kW electrical, lambda=1 waste mineral oil CH megajoule\n",
      "\t -1.23144299138797e-05 -5.45454545454546e-05 (3E-05 * scaling_factor)*-1\n",
      "oat production Cadmium Canada without Quebec kilogram\n",
      "\t 2.88727021824744e-08 2.99641517698e-07 3.86966589481e-07 + ( - 8.7325071783e-08)*heavyMetalUptakeSwitch\n"
     ]
    },
    {
     "name": "stderr",
     "output_type": "stream",
     "text": [
      " 38%|████████████████████████████▏                                              | 7365/19565 [00:23<00:26, 452.02it/s]"
     ]
    },
    {
     "name": "stdout",
     "output_type": "stream",
     "text": [
      "sugarcane processing, traditional annexed plant paraffin CO kilogram\n",
      "\t 3.20971532229804e-05 0.002857 2.66E-03 + 1.97E-04  \n",
      "natural gas liquids fractionation natural gas liquids GLO kilogram\n",
      "\t 0.993950559555697 0.298185167866709 1* LHV_share\n",
      "sawing and planing, paraná pine, kiln dried furnace, wood chips, with silo, 300kW RoW cubic meter\n",
      "\t 2.28870564580901e-06 1.6873456319244604e-05 2.31481481481482E-08*wood_fuel/1.05\n"
     ]
    },
    {
     "name": "stderr",
     "output_type": "stream",
     "text": [
      " 38%|████████████████████████████▋                                              | 7497/19565 [00:24<00:35, 341.32it/s]"
     ]
    },
    {
     "name": "stdout",
     "output_type": "stream",
     "text": [
      "fibreboard production, soft, from wet & dry processes furnace, wood chips, with silo, 1000kW RoW kilogram\n",
      "\t 8.68351994268603e-10 3.80479532e-06 6.61E-09*wood_fuel\n"
     ]
    },
    {
     "name": "stderr",
     "output_type": "stream",
     "text": [
      " 39%|█████████████████████████████▏                                             | 7630/19565 [00:24<00:44, 269.59it/s]"
     ]
    },
    {
     "name": "stdout",
     "output_type": "stream",
     "text": [
      "containerboard production, linerboard, kraftliner waste paperboard, sorted RER kilogram\n",
      "\t 0.482532618117981 451.4925373134328 363/0.804\n"
     ]
    },
    {
     "name": "stderr",
     "output_type": "stream",
     "text": [
      " 39%|█████████████████████████████▌                                             | 7696/19565 [00:24<00:43, 274.76it/s]"
     ]
    },
    {
     "name": "stdout",
     "output_type": "stream",
     "text": [
      "tilapia feed production, commercial oil mill PE kilogram\n",
      "\t 8.6333419666753e-10 8.633341966675301e-07 (1/13/50)*1000/1782000\n"
     ]
    },
    {
     "name": "stderr",
     "output_type": "stream",
     "text": [
      " 40%|█████████████████████████████▉                                             | 7804/19565 [00:25<00:47, 248.49it/s]"
     ]
    },
    {
     "name": "stdout",
     "output_type": "stream",
     "text": [
      "base oil production, petroleum refinery operation petroleum BR kilogram\n",
      "\t 0.0826168499324331 1.1002173 0.0633*17.381\n"
     ]
    },
    {
     "name": "stderr",
     "output_type": "stream",
     "text": [
      " 41%|██████████████████████████████▌                                            | 7973/19565 [00:25<00:27, 417.28it/s]"
     ]
    },
    {
     "name": "stdout",
     "output_type": "stream",
     "text": [
      "heat and power co-generation, natural gas, 1MW electrical, lean burn electricity, high voltage Europe without Switzerland kilowatt hour\n",
      "\t 1.0 0.2409090909090906 0.106 * scaling_factor\n"
     ]
    },
    {
     "name": "stderr",
     "output_type": "stream",
     "text": [
      "\r",
      " 41%|██████████████████████████████▋                                            | 8018/19565 [00:25<00:32, 350.90it/s]"
     ]
    },
    {
     "name": "stdout",
     "output_type": "stream",
     "text": [
      "heat and power co-generation, natural gas, 1MW electrical, lean burn electricity, high voltage CH kilowatt hour\n",
      "\t 1.0 0.2409090909090906 0.106 * scaling_factor\n",
      "liquefied petroleum gas production, petroleum refinery operation petroleum BR kilogram\n",
      "\t 0.0751288664590767 2.2778505 0.0633*35.985\n"
     ]
    },
    {
     "name": "stderr",
     "output_type": "stream",
     "text": [
      " 42%|███████████████████████████████▎                                           | 8158/19565 [00:26<00:42, 269.81it/s]"
     ]
    },
    {
     "name": "stdout",
     "output_type": "stream",
     "text": [
      "nitric acid production, product in 50% solution state Water RER w/o RU kilogram\n",
      "\t 0.00024625863262011 0.0022 0.00064+0.00156\n"
     ]
    },
    {
     "name": "stderr",
     "output_type": "stream",
     "text": [
      " 42%|███████████████████████████████▋                                           | 8265/19565 [00:26<00:31, 358.99it/s]"
     ]
    },
    {
     "name": "stdout",
     "output_type": "stream",
     "text": [
      "fibre production, kenaf, retting transport, freight, lorry, unspecified IN kilogram\n",
      "\t 0.0067738732131104 0.23076 (15.384/1000)*15\n",
      "heat and power co-generation, natural gas, 160kW electrical, Jakobsberg heat and power co-generation unit, 160kW electrical, common components for heat+electricity RoW kilowatt hour\n",
      "\t 1.63425431066366e-08 1.020408163265305e-09 (5E-09) * scaling_factor\n"
     ]
    },
    {
     "name": "stderr",
     "output_type": "stream",
     "text": [
      " 43%|████████████████████████████████▍                                          | 8471/19565 [00:27<00:35, 316.80it/s]"
     ]
    },
    {
     "name": "stdout",
     "output_type": "stream",
     "text": [
      "electricity voltage transformation from medium to low voltage electricity, medium voltage BR-Southern grid kilowatt hour\n",
      "\t 1.02208 0.02208 0.092*0.24\n"
     ]
    },
    {
     "name": "stderr",
     "output_type": "stream",
     "text": [
      " 44%|█████████████████████████████████▎                                         | 8690/19565 [00:27<00:23, 465.20it/s]"
     ]
    },
    {
     "name": "stdout",
     "output_type": "stream",
     "text": [
      "sweetening, natural gas transport, pipeline, long distance, natural gas DE cubic meter\n",
      "\t 0.0975 0.08750000000000001 1.25*density/1000*70\n",
      "cobalt production nickel smelter slag GLO kilogram\n",
      "\t -1.46629337753354 -92.10743392650949 (101.770443641039*Co_output_share)*-1\n",
      "heat and power co-generation, natural gas, mini-plant 2KW electrical electricity, low voltage CH kilowatt hour\n",
      "\t 1.0 0.10676923076912401 0.0694 * scaling_factor\n"
     ]
    },
    {
     "name": "stderr",
     "output_type": "stream",
     "text": [
      " 45%|█████████████████████████████████▊                                         | 8815/19565 [00:28<00:33, 318.99it/s]"
     ]
    },
    {
     "name": "stdout",
     "output_type": "stream",
     "text": [
      "heat production, untreated waste wood, at furnace 1000-5000 kW, state-of-the-art 2014 Hydrocarbons, aliphatic, unsaturated CH megajoule\n",
      "\t 0.0 3.8759069597546496e-06 3.1E-06 * scaling_factor\n"
     ]
    },
    {
     "name": "stderr",
     "output_type": "stream",
     "text": [
      " 46%|██████████████████████████████████▎                                        | 8942/19565 [00:28<00:29, 366.28it/s]"
     ]
    },
    {
     "name": "stdout",
     "output_type": "stream",
     "text": [
      "nutrient supply from fermentation filtrate organic nitrogen fertiliser, as N GLO kilogram\n",
      "\t 1.0 0.05 0.05\n"
     ]
    },
    {
     "name": "stderr",
     "output_type": "stream",
     "text": [
      " 47%|███████████████████████████████████▌                                       | 9275/19565 [00:29<00:29, 352.40it/s]"
     ]
    },
    {
     "name": "stdout",
     "output_type": "stream",
     "text": [
      "cobalt production nickel smelter slag GLO kilogram\n",
      "\t -0.412669430841743 -92.10743392650949 (101.770443641039*Co_output_share)*-1\n",
      "heat and power co-generation, natural gas, 1MW electrical, lean burn lubricating oil RoW kilowatt hour\n",
      "\t 0.000236708125654272 6.818181818181809e-05 3E-05 * scaling_factor\n"
     ]
    },
    {
     "name": "stderr",
     "output_type": "stream",
     "text": [
      " 48%|███████████████████████████████████▉                                       | 9373/19565 [00:29<00:29, 349.55it/s]"
     ]
    },
    {
     "name": "stdout",
     "output_type": "stream",
     "text": [
      "nitric acid production, product in 50% solution state Water RU kilogram\n",
      "\t 0.00024625863262011 0.0022 0.00064+0.00156\n",
      "hake, capture by long liner and landing whole, fresh long liner, steel RER kilogram\n",
      "\t 0.0140609498517879 25.065814446864543 ((WeightLLiner)/( landings_vessel_year* lifetime)*1647.98)\n"
     ]
    },
    {
     "name": "stderr",
     "output_type": "stream",
     "text": [
      " 49%|████████████████████████████████████▋                                      | 9567/19565 [00:30<00:28, 351.37it/s]"
     ]
    },
    {
     "name": "stdout",
     "output_type": "stream",
     "text": [
      "electricity production, wood, future electricity, high voltage GLO kilowatt hour\n",
      "\t 1.0 0.09999999999999999 1*efficiency_electrical/3.6\n",
      "heat and power co-generation, natural gas, 160kW electrical, lambda=1 natural gas, low pressure RoW megajoule\n",
      "\t 0.0105251537725468 0.04662004662004659 0.0256410256410256*scaling_factor\n",
      "electricity voltage transformation from high to medium voltage electricity, high voltage CA-QC kilowatt hour\n",
      "\t 1.00443775 0.0044340140270994165 electricity_transformation_losses\n"
     ]
    },
    {
     "name": "stderr",
     "output_type": "stream",
     "text": [
      " 50%|█████████████████████████████████████▏                                     | 9697/19565 [00:30<00:26, 370.37it/s]"
     ]
    },
    {
     "name": "stdout",
     "output_type": "stream",
     "text": [
      "inverter production, for electric passenger car printed wiring board, for through-hole mounting, Pb containing surface GLO kilogram\n",
      "\t 0.00120157894736842 0.011415 0.02283*0.5\n"
     ]
    },
    {
     "name": "stderr",
     "output_type": "stream",
     "text": [
      " 50%|█████████████████████████████████████▍                                     | 9774/19565 [00:31<00:31, 315.15it/s]"
     ]
    },
    {
     "name": "stdout",
     "output_type": "stream",
     "text": [
      "sugarcane processing, traditional autonomous plant chemical, organic BR kilogram\n",
      "\t 1.02687912942091e-06 6.06e-05 0.0000117+0.0000489\n",
      "particleboard production, uncoated, average glue mix wood chips, dry, measured as dry mass RER cubic meter\n",
      "\t 24.673196425166 200.61 3.09+2.52+31.6+163.4\n"
     ]
    },
    {
     "name": "stderr",
     "output_type": "stream",
     "text": [
      " 52%|██████████████████████████████████████▏                                   | 10109/19565 [00:32<00:25, 372.47it/s]"
     ]
    },
    {
     "name": "stdout",
     "output_type": "stream",
     "text": [
      "sugarcane processing, modern annexed plant chemical, organic BR kilogram\n",
      "\t 3.60083802016816e-07 4.041e-05 0.00000781+0.0000326\n",
      "fibre production, kenaf, retting Water RoW kilogram\n",
      "\t 0.00499028621177313 0.17 170/1000\n"
     ]
    },
    {
     "name": "stderr",
     "output_type": "stream",
     "text": [
      " 53%|██████████████████████████████████████▉                                   | 10295/19565 [00:32<00:22, 418.25it/s]"
     ]
    },
    {
     "name": "stdout",
     "output_type": "stream",
     "text": [
      "hydrogen production, gaseous, petroleum refinery operation petroleum BR kilogram\n",
      "\t 0.193341131099076 0.23909042999999996 0.0633*3.7771\n",
      "nutrient supply from ash, from combustion of straw organic nitrogen fertiliser, as N GLO kilogram\n",
      "\t 1.0 0.00065 0.00065\n"
     ]
    },
    {
     "name": "stderr",
     "output_type": "stream",
     "text": [
      " 53%|███████████████████████████████████████▌                                  | 10466/19565 [00:33<00:22, 405.06it/s]"
     ]
    },
    {
     "name": "stdout",
     "output_type": "stream",
     "text": [
      "heat and power co-generation, natural gas, 160kW electrical, lambda=1 waste mineral oil CH kilowatt hour\n",
      "\t -0.000261271805932127 -5.45454545454546e-05 (3E-05 * scaling_factor)*-1\n",
      "containerboard production, fluting medium, semichemical waste paperboard, sorted RER kilogram\n",
      "\t 0.303224388578453 100.0 100\n"
     ]
    },
    {
     "name": "stderr",
     "output_type": "stream",
     "text": [
      " 54%|███████████████████████████████████████▉                                  | 10557/19565 [00:33<00:23, 379.82it/s]"
     ]
    },
    {
     "name": "stdout",
     "output_type": "stream",
     "text": [
      "heat and power co-generation, natural gas, mini-plant 2KW electrical waste mineral oil Europe without Switzerland megajoule\n",
      "\t -1.22772883884097e-05 -4.6153846153846206e-05 (3E-05 * scaling_factor)*-1\n"
     ]
    },
    {
     "name": "stderr",
     "output_type": "stream",
     "text": [
      " 54%|████████████████████████████████████████▎                                 | 10643/19565 [00:33<00:29, 303.33it/s]"
     ]
    },
    {
     "name": "stdout",
     "output_type": "stream",
     "text": [
      "particleboard production, uncoated, average glue mix furnace, wood chips, softwood storage area, 1000kW RoW kilogram\n",
      "\t 1.70569606025838e-09 1.099863018e-05 6.61E-09*wood_fuel\n"
     ]
    },
    {
     "name": "stderr",
     "output_type": "stream",
     "text": [
      " 56%|█████████████████████████████████████████▍                                | 10952/19565 [00:34<00:28, 302.90it/s]"
     ]
    },
    {
     "name": "stdout",
     "output_type": "stream",
     "text": [
      "heat and power co-generation, natural gas, 200kW electrical, lean burn natural gas, low pressure CH megajoule\n",
      "\t 0.0103996205905215 0.04930966469427992 0.0256410256410256 * scaling_factor\n",
      "electricity voltage transformation from high to medium voltage electricity, high voltage BR-Mid-western grid kilowatt hour\n",
      "\t 1.01056 0.01056 0.132*0.08\n"
     ]
    },
    {
     "name": "stderr",
     "output_type": "stream",
     "text": [
      " 57%|██████████████████████████████████████████                                | 11125/19565 [00:35<00:28, 297.82it/s]"
     ]
    },
    {
     "name": "stdout",
     "output_type": "stream",
     "text": [
      "nutrient supply from potassium chloride sludge inorganic potassium fertiliser, as K2O GLO kilogram\n",
      "\t 1.0 0.7 0.7\n"
     ]
    },
    {
     "name": "stderr",
     "output_type": "stream",
     "text": [
      " 58%|██████████████████████████████████████████▋                               | 11301/19565 [00:35<00:30, 274.40it/s]"
     ]
    },
    {
     "name": "stdout",
     "output_type": "stream",
     "text": [
      "heat and power co-generation, natural gas, mini-plant 2KW electrical lubricating oil RoW kilowatt hour\n",
      "\t 0.000317287644777143 4.6153846153846206e-05 3E-05 * scaling_factor\n"
     ]
    },
    {
     "name": "stderr",
     "output_type": "stream",
     "text": [
      " 59%|███████████████████████████████████████████▍                              | 11476/19565 [00:36<00:33, 239.24it/s]"
     ]
    },
    {
     "name": "stdout",
     "output_type": "stream",
     "text": [
      "diesel production, petroleum refinery operation petroleum BR kilogram\n",
      "\t 0.0681629087597904 15.059069999999998 0.0633*237.9\n",
      "cobalt production nickel smelter slag GLO kilogram\n",
      "\t -2.95632351623698 -0.14229375233243022 (101.770443641039*Co_output_share)*-1\n"
     ]
    },
    {
     "name": "stderr",
     "output_type": "stream",
     "text": [
      " 60%|████████████████████████████████████████████                              | 11649/19565 [00:37<00:23, 335.40it/s]"
     ]
    },
    {
     "name": "stdout",
     "output_type": "stream",
     "text": [
      "containerboard production, linerboard, kraftliner waste paperboard, sorted RER cubic meter\n",
      "\t 14.4095813376124 451.4925373134328 363/0.804\n",
      "cobalt production nickel smelter slag GLO kilogram\n",
      "\t -10.5247001726724 -0.31639865799000766 (101.770443641039*Co_output_share)*-1\n"
     ]
    },
    {
     "name": "stderr",
     "output_type": "stream",
     "text": [
      " 60%|████████████████████████████████████████████▍                             | 11757/19565 [00:37<00:33, 231.24it/s]"
     ]
    },
    {
     "name": "stdout",
     "output_type": "stream",
     "text": [
      "cobalt production nickel smelter slag GLO kilogram\n",
      "\t -1.9823626998081 -92.10743392650949 (101.770443641039*Co_output_share)*-1\n",
      "fibreboard production, hard wood ash mixture, pure RoW kilogram\n",
      "\t -0.000203865994078089 -2.480825396825398 (0.000666666666666667*wood_fuel/1.05)*-1\n",
      "converter production, for electric passenger car printed wiring board, for through-hole mounting, Pb free surface GLO kilogram\n",
      "\t 0.0111444444444444 0.05015 0.1003*0.5\n"
     ]
    },
    {
     "name": "stderr",
     "output_type": "stream",
     "text": [
      " 61%|████████████████████████████████████████████▉                             | 11867/19565 [00:38<00:36, 208.24it/s]"
     ]
    },
    {
     "name": "stdout",
     "output_type": "stream",
     "text": [
      "sugarcane processing, traditional annexed plant chemical, organic RoW kilogram\n",
      "\t 6.80814660592443e-07 6.06e-05 0.0000117+0.0000489\n"
     ]
    },
    {
     "name": "stderr",
     "output_type": "stream",
     "text": [
      " 61%|█████████████████████████████████████████████▎                            | 11995/19565 [00:38<00:24, 310.74it/s]"
     ]
    },
    {
     "name": "stdout",
     "output_type": "stream",
     "text": [
      "petrol production, unleaded, petroleum refinery operation petroleum BR kilogram\n",
      "\t 0.0695411526144686 18.026573999999997 0.0633*284.78\n",
      "heat and power co-generation, diesel, 200kW electrical, SCR-NOx reduction diesel CH megajoule\n",
      "\t 0.00834864775727123 0.054418604651162855 0.0234 * scaling_factor\n"
     ]
    },
    {
     "name": "stderr",
     "output_type": "stream",
     "text": [
      " 62%|██████████████████████████████████████████████                            | 12193/19565 [00:39<00:22, 321.76it/s]"
     ]
    },
    {
     "name": "stdout",
     "output_type": "stream",
     "text": [
      "heat and power co-generation, natural gas, 200kW electrical, lean burn natural gas, low pressure RoW kilowatt hour\n",
      "\t 0.220645833521858 0.04930966469427992 0.0256410256410256 * scaling_factor\n",
      "sugarcane processing, traditional annexed plant paraffin CO kilogram\n",
      "\t 2.38520129455175e-05 0.002857 2.66E-03 + 1.97E-04  \n",
      "sugarcane processing, traditional annexed plant chemical, organic RoW kilogram\n",
      "\t 1.56150151512028e-08 6.06e-05 0.0000117+0.0000489\n"
     ]
    },
    {
     "name": "stderr",
     "output_type": "stream",
     "text": [
      " 63%|██████████████████████████████████████████████▉                           | 12405/19565 [00:40<00:26, 266.54it/s]"
     ]
    },
    {
     "name": "stdout",
     "output_type": "stream",
     "text": [
      "cobalt production nickel smelter slag GLO kilogram\n",
      "\t -0.196017979649828 -92.10743392650949 (101.770443641039*Co_output_share)*-1\n"
     ]
    },
    {
     "name": "stderr",
     "output_type": "stream",
     "text": [
      " 64%|███████████████████████████████████████████████▎                          | 12504/19565 [00:40<00:34, 203.39it/s]"
     ]
    },
    {
     "name": "stdout",
     "output_type": "stream",
     "text": [
      "sugarcane processing, traditional annexed plant sulfuric acid BR kilogram\n",
      "\t 0.00414555461647874 0.369 0.264 + 1.05E-01\n"
     ]
    },
    {
     "name": "stderr",
     "output_type": "stream",
     "text": [
      " 65%|████████████████████████████████████████████████▏                         | 12744/19565 [00:41<00:19, 346.88it/s]"
     ]
    },
    {
     "name": "stdout",
     "output_type": "stream",
     "text": [
      "electricity voltage transformation from medium to low voltage electricity, medium voltage BR-North-eastern grid kilowatt hour\n",
      "\t 1.03696 0.03696 0.154*0.24\n",
      "fibre production, cotton, organic, ginning transport, freight, lorry, unspecified IN kilogram\n",
      "\t 0.00477339760258302 0.036585000000000006 (2.439/1000)*15\n",
      "sugarcane processing, traditional annexed plant sulfuric acid BR kilogram\n",
      "\t 9.50815279008885e-05 0.369 0.264 + 1.05E-01\n"
     ]
    },
    {
     "name": "stderr",
     "output_type": "stream",
     "text": [
      " 66%|████████████████████████████████████████████████▋                         | 12886/19565 [00:41<00:17, 390.24it/s]"
     ]
    },
    {
     "name": "stdout",
     "output_type": "stream",
     "text": [
      "heat and power co-generation, natural gas, mini-plant 2KW electrical mini CHP plant, common components for heat+electricity CH megajoule\n",
      "\t 5.68847695328612e-08 2.1384615384593998e-07 1.39E-07 * scaling_factor\n"
     ]
    },
    {
     "name": "stderr",
     "output_type": "stream",
     "text": [
      " 66%|█████████████████████████████████████████████████                         | 12968/19565 [00:42<00:20, 315.45it/s]"
     ]
    },
    {
     "name": "stdout",
     "output_type": "stream",
     "text": [
      "scandium oxide production, from rare earth tailings heat, from steam, in chemical industry CN-NM kilogram\n",
      "\t 1.60463535127032 129986.88333 60500 + 69486.88333\n",
      "heat and power co-generation, natural gas, 160kW electrical, lambda=1 heat and power co-generation unit, 160kW electrical, components for heat only RoW kilowatt hour\n",
      "\t 4.35453009886879e-08 9.090909090909099e-09 5E-09*scaling_factor\n"
     ]
    },
    {
     "name": "stderr",
     "output_type": "stream",
     "text": [
      "\r",
      " 66%|█████████████████████████████████████████████████▏                        | 13003/19565 [00:42<00:23, 276.33it/s]"
     ]
    },
    {
     "name": "stdout",
     "output_type": "stream",
     "text": [
      "electrolysis of magnesium chloride, from titanium sponge production magnesium, for reuse in titanium sponge production RoW kilogram\n",
      "\t 1.0 0.25096525096525096 (1016 - 41)/1000/3.885\n",
      "sawing and planing, paraná pine, kiln dried furnace, wood chips, with silo, 300kW RoW kilowatt hour\n",
      "\t 9.10377338667524e-09 1.6877532517087448e-05 2.31481481481482E-08*wood_fuel/1.05\n"
     ]
    },
    {
     "name": "stderr",
     "output_type": "stream",
     "text": [
      " 67%|█████████████████████████████████████████████████▍                        | 13076/19565 [00:42<00:24, 265.34it/s]"
     ]
    },
    {
     "name": "stdout",
     "output_type": "stream",
     "text": [
      "cobalt production nickel smelter slag GLO kilogram\n",
      "\t -6.22828032060749 -92.10743392650949 (101.770443641039*Co_output_share)*-1\n"
     ]
    },
    {
     "name": "stderr",
     "output_type": "stream",
     "text": [
      " 68%|█████████████████████████████████████████████████▉                        | 13215/19565 [00:43<00:24, 257.07it/s]"
     ]
    },
    {
     "name": "stdout",
     "output_type": "stream",
     "text": [
      "heat and power co-generation, natural gas, 500kW electrical, lean burn lubricating oil CH megajoule\n",
      "\t 1.16203764536981e-05 6.52173913043478e-05 3E-05 * scaling_factor\n"
     ]
    },
    {
     "name": "stderr",
     "output_type": "stream",
     "text": [
      " 68%|██████████████████████████████████████████████████▌                       | 13361/19565 [00:43<00:17, 355.03it/s]"
     ]
    },
    {
     "name": "stdout",
     "output_type": "stream",
     "text": [
      "nitric acid production, product in 50% solution state Water RNA kilogram\n",
      "\t 0.00024625863262011 0.0022 0.00064+0.00156\n",
      "containerboard production, linerboard, testliner heavy fuel oil RER kilogram\n",
      "\t 7.54926108374384e-05 0.07549261083743843 0.003065*1000/ 40.6\n"
     ]
    },
    {
     "name": "stderr",
     "output_type": "stream",
     "text": [
      " 69%|███████████████████████████████████████████████████▎                      | 13564/19565 [00:44<00:23, 259.56it/s]"
     ]
    },
    {
     "name": "stdout",
     "output_type": "stream",
     "text": [
      "diesel production, low-sulfur, petroleum refinery operation petroleum BR kilogram\n",
      "\t 0.0712667124836394 1.7484092999999998 0.0633*27.621\n",
      "soybean meal and crude oil production, mechanical extraction soybean CA-QC kilogram\n",
      "\t 0.872846096714405 1.3346005236605776 bean/soymeal\n"
     ]
    },
    {
     "name": "stderr",
     "output_type": "stream",
     "text": [
      "\r",
      " 70%|███████████████████████████████████████████████████▍                      | 13610/19565 [00:44<00:20, 294.08it/s]"
     ]
    },
    {
     "name": "stdout",
     "output_type": "stream",
     "text": [
      "natural gas liquids fractionation natural gas liquids GLO kilogram\n",
      "\t 0.964839926604631 0.125429190458602 1* LHV_share\n"
     ]
    },
    {
     "name": "stderr",
     "output_type": "stream",
     "text": [
      " 70%|████████████████████████████████████████████████████                      | 13757/19565 [00:45<00:17, 334.95it/s]"
     ]
    },
    {
     "name": "stdout",
     "output_type": "stream",
     "text": [
      "naphtha production, petroleum refinery operation petroleum BR kilogram\n",
      "\t 0.0673479297602396 0.6540788999999999 0.0633*10.333\n",
      "soybean meal and crude oil production, mechanical extraction soybean CA-QC kilogram\n",
      "\t 0.700092352629328 1.3335431415505483 bean/soymeal\n"
     ]
    },
    {
     "name": "stderr",
     "output_type": "stream",
     "text": [
      " 72%|████████████████████████████████████████████████████▉                     | 14011/19565 [00:45<00:17, 316.37it/s]"
     ]
    },
    {
     "name": "stdout",
     "output_type": "stream",
     "text": [
      "electric motor production, vehicle (electric powertrain) printed wiring board, for through-hole mounting, Pb containing surface GLO kilogram\n",
      "\t 0.000424528301886792 0.0225 0.045*0.5\n"
     ]
    },
    {
     "name": "stderr",
     "output_type": "stream",
     "text": [
      " 72%|█████████████████████████████████████████████████████▎                    | 14088/19565 [00:46<00:21, 255.39it/s]"
     ]
    },
    {
     "name": "stdout",
     "output_type": "stream",
     "text": [
      "particleboard production, uncoated, average glue mix wood chips, dry, measured as dry mass RER kilogram\n",
      "\t 0.031185452730693 200.61 3.09+2.52+31.6+163.4\n"
     ]
    },
    {
     "name": "stderr",
     "output_type": "stream",
     "text": [
      " 73%|█████████████████████████████████████████████████████▊                    | 14232/19565 [00:46<00:19, 277.60it/s]"
     ]
    },
    {
     "name": "stdout",
     "output_type": "stream",
     "text": [
      "natural gas liquids fractionation natural gas liquids GLO kilogram\n",
      "\t 0.975876024852698 0.0975876024852698 1* LHV_share\n"
     ]
    },
    {
     "name": "stderr",
     "output_type": "stream",
     "text": [
      " 73%|██████████████████████████████████████████████████████                    | 14303/19565 [00:47<00:23, 226.39it/s]"
     ]
    },
    {
     "name": "stdout",
     "output_type": "stream",
     "text": [
      "containerboard production, linerboard, kraftliner waste paperboard, sorted RER kilogram\n",
      "\t 0.44189382768678 451.4925373134328 363/0.804\n",
      "natural gas liquids fractionation natural gas liquids GLO kilogram\n",
      "\t 0.975876024852698 0.0878288422367428 1* LHV_share\n",
      "petroleum slack wax production, petroleum refinery operation petroleum BR kilogram\n",
      "\t 0.0779129989058445 0.34585854 0.0633*5.4638\n"
     ]
    },
    {
     "name": "stderr",
     "output_type": "stream",
     "text": [
      " 74%|██████████████████████████████████████████████████████▋                   | 14466/19565 [00:47<00:22, 231.09it/s]"
     ]
    },
    {
     "name": "stdout",
     "output_type": "stream",
     "text": [
      "particleboard production, uncoated, average glue mix furnace, wood chips, softwood storage area, 1000kW RoW cubic meter\n",
      "\t 1.34950658885148e-06 1.099863018e-05 6.61E-09*wood_fuel\n",
      "heat production, untreated waste wood, at furnace 1000-5000 kW waste wood, untreated CH kilogram\n",
      "\t -1.0 -0.07147962830593281 -1/13.99\n"
     ]
    },
    {
     "name": "stderr",
     "output_type": "stream",
     "text": [
      " 74%|███████████████████████████████████████████████████████                   | 14550/19565 [00:47<00:18, 278.15it/s]"
     ]
    },
    {
     "name": "stdout",
     "output_type": "stream",
     "text": [
      "soybean meal and crude oil production, mechanical extraction biowaste RoW kilogram\n",
      "\t -0.0403367308182221 -0.026608449188490375 (m_discarded/soymeal)*-1\n"
     ]
    },
    {
     "name": "stderr",
     "output_type": "stream",
     "text": [
      " 75%|███████████████████████████████████████████████████████▎                  | 14626/19565 [00:48<00:17, 282.31it/s]"
     ]
    },
    {
     "name": "stdout",
     "output_type": "stream",
     "text": [
      "kerosene production, petroleum refinery operation petroleum BR kilogram\n",
      "\t 0.0682260550888778 4.388715599999999 0.0633*69.332\n"
     ]
    },
    {
     "name": "stderr",
     "output_type": "stream",
     "text": [
      " 75%|███████████████████████████████████████████████████████▋                  | 14739/19565 [00:48<00:15, 314.45it/s]"
     ]
    },
    {
     "name": "stdout",
     "output_type": "stream",
     "text": [
      "heat production, untreated waste wood, at furnace 1000-5000 kW Phosphorus RoW megajoule\n",
      "\t 0.0 3.998788318554882e-07 3E-07 * scaling_factor\n"
     ]
    },
    {
     "name": "stderr",
     "output_type": "stream",
     "text": [
      " 76%|████████████████████████████████████████████████████████                  | 14824/19565 [00:49<00:25, 184.01it/s]"
     ]
    },
    {
     "name": "stdout",
     "output_type": "stream",
     "text": [
      "cobalt production nickel smelter slag GLO kilogram\n",
      "\t -0.233158228425585 -92.10743392650949 (101.770443641039*Co_output_share)*-1\n"
     ]
    },
    {
     "name": "stderr",
     "output_type": "stream",
     "text": [
      " 76%|████████████████████████████████████████████████████████▏                 | 14868/19565 [00:49<00:26, 176.59it/s]"
     ]
    },
    {
     "name": "stdout",
     "output_type": "stream",
     "text": [
      "citric acid production protein feed, 100% crude RER kilogram\n",
      "\t 1.0 0.0014852 0.235*0.08*0.079\n"
     ]
    },
    {
     "name": "stderr",
     "output_type": "stream",
     "text": [
      " 76%|████████████████████████████████████████████████████████▌                 | 14948/19565 [00:49<00:17, 271.17it/s]"
     ]
    },
    {
     "name": "stdout",
     "output_type": "stream",
     "text": [
      "nitric acid production, product in 50% solution state Water CN kilogram\n",
      "\t 0.00024625863262011 0.0022 0.00064+0.00156\n",
      "nitric acid production, product in 50% solution state Water RAF kilogram\n",
      "\t 0.00024625863262011 0.0022 0.00064+0.00156\n"
     ]
    },
    {
     "name": "stderr",
     "output_type": "stream",
     "text": [
      " 77%|████████████████████████████████████████████████████████▊                 | 15029/19565 [00:49<00:17, 261.59it/s]"
     ]
    },
    {
     "name": "stdout",
     "output_type": "stream",
     "text": [
      "sugarcane processing, modern autonomous plant paraffin BR kilogram\n",
      "\t 2.51678676096087e-05 0.002791 2.66E-03 + 1.31E-04\n",
      "cobalt production nickel smelter slag GLO kilogram\n",
      "\t -10.9058142625758 -8.890306863220227 (101.770443641039*Co_output_share)*-1\n"
     ]
    },
    {
     "name": "stderr",
     "output_type": "stream",
     "text": [
      " 77%|█████████████████████████████████████████████████████████                 | 15083/19565 [00:50<00:18, 242.41it/s]"
     ]
    },
    {
     "name": "stdout",
     "output_type": "stream",
     "text": [
      "heat and power co-generation, natural gas, 50kW electrical, lean burn lubricating oil RoW kilowatt hour\n",
      "\t 0.000278091794380653 5.5555555555555504e-05 3E-05 * scaling_factor\n",
      "reformate production, petroleum refinery operation petroleum BR kilogram\n",
      "\t 0.0668769473920919 1.1112315 0.0633*17.555\n"
     ]
    },
    {
     "name": "stderr",
     "output_type": "stream",
     "text": [
      " 78%|█████████████████████████████████████████████████████████▎                | 15164/19565 [00:50<00:13, 319.07it/s]"
     ]
    },
    {
     "name": "stdout",
     "output_type": "stream",
     "text": [
      "cobalt production nickel smelter slag GLO kilogram\n",
      "\t -2.17989811221262 -92.10743392650949 (101.770443641039*Co_output_share)*-1\n"
     ]
    },
    {
     "name": "stderr",
     "output_type": "stream",
     "text": [
      " 78%|█████████████████████████████████████████████████████████▉                | 15334/19565 [00:50<00:12, 349.01it/s]"
     ]
    },
    {
     "name": "stdout",
     "output_type": "stream",
     "text": [
      "heat and power co-generation, natural gas, 200kW electrical, lean burn natural gas, low pressure RoW megajoule\n",
      "\t 0.0103996205905215 0.04930966469427992 0.0256410256410256 * scaling_factor\n",
      "citric acid production energy feed, gross RNA megajoule\n",
      "\t 1.0 0.293139 0.235*18.9*0.066\n"
     ]
    },
    {
     "name": "stderr",
     "output_type": "stream",
     "text": [
      " 81%|███████████████████████████████████████████████████████████▊              | 15809/19565 [00:52<00:10, 363.53it/s]"
     ]
    },
    {
     "name": "stdout",
     "output_type": "stream",
     "text": [
      "passenger car production, electric, without battery glider, passenger car GLO kilogram\n",
      "\t 0.91263531615517 838.0 glider_weight\n",
      "passenger car production, petrol/natural gas passenger car, petrol/natural gas GLO kilogram\n",
      "\t 1.0 1234.0 (glider_weight+powertrain_weight)\n",
      "electricity voltage transformation from high to medium voltage electricity, high voltage BR-Northern grid kilowatt hour\n",
      "\t 1.01976 0.01976 0.247*0.08\n"
     ]
    },
    {
     "name": "stderr",
     "output_type": "stream",
     "text": [
      " 82%|████████████████████████████████████████████████████████████▍             | 15964/19565 [00:52<00:11, 326.59it/s]"
     ]
    },
    {
     "name": "stdout",
     "output_type": "stream",
     "text": [
      "pitch production, petroleum refinery operation petroleum BR kilogram\n",
      "\t 0.0635215812075638 2.3177295 0.0633*36.615\n"
     ]
    },
    {
     "name": "stderr",
     "output_type": "stream",
     "text": [
      " 82%|████████████████████████████████████████████████████████████▋             | 16039/19565 [00:53<00:13, 258.34it/s]"
     ]
    },
    {
     "name": "stdout",
     "output_type": "stream",
     "text": [
      "sawing and planing, paraná pine, kiln dried furnace, wood chips, with silo, 300kW RoW cubic meter\n",
      "\t 1.36131190828789e-05 1.6892977338879565e-05 2.31481481481482E-08*wood_fuel/1.05\n"
     ]
    },
    {
     "name": "stderr",
     "output_type": "stream",
     "text": [
      " 82%|████████████████████████████████████████████████████████████▉             | 16120/19565 [00:53<00:17, 200.79it/s]"
     ]
    },
    {
     "name": "stdout",
     "output_type": "stream",
     "text": [
      "heat and power co-generation, natural gas, 50kW electrical, lean burn heat and power co-generation unit, 50kW electrical, common components for heat+electricity CH kilowatt hour\n",
      "\t 1.5480443220523e-07 3.0925925925925895e-08 1.67E-08 * scaling_factor\n"
     ]
    },
    {
     "name": "stderr",
     "output_type": "stream",
     "text": [
      " 84%|██████████████████████████████████████████████████████████████▎           | 16465/19565 [00:54<00:08, 354.61it/s]"
     ]
    },
    {
     "name": "stdout",
     "output_type": "stream",
     "text": [
      "heat and power co-generation, natural gas, 200kW electrical, lean burn heat and power co-generation unit, 200kW electrical, components for heat only CH kilowatt hour\n",
      "\t 3.94117587836743e-08 8.807692307692295e-09 4.58E-09 * scaling_factor\n"
     ]
    },
    {
     "name": "stderr",
     "output_type": "stream",
     "text": [
      "\r",
      " 84%|██████████████████████████████████████████████████████████████▍           | 16504/19565 [00:54<00:09, 309.06it/s]"
     ]
    },
    {
     "name": "stdout",
     "output_type": "stream",
     "text": [
      "fibreboard production, soft, from wet & dry processes pulpwood, softwood, measured as solid wood under bark CA-QC kilogram\n",
      "\t 5.18639836015649e-05 0.22724867724867726 85.9/378\n"
     ]
    },
    {
     "name": "stderr",
     "output_type": "stream",
     "text": [
      " 85%|██████████████████████████████████████████████████████████████▋           | 16578/19565 [00:55<00:11, 255.90it/s]"
     ]
    },
    {
     "name": "stdout",
     "output_type": "stream",
     "text": [
      "nutrient supply from fermentation filtrate organic phosphorus fertiliser, as P2O5 GLO kilogram\n",
      "\t 1.0 0.02 0.02\n"
     ]
    },
    {
     "name": "stderr",
     "output_type": "stream",
     "text": [
      " 85%|███████████████████████████████████████████████████████████████           | 16685/19565 [00:55<00:10, 280.31it/s]"
     ]
    },
    {
     "name": "stdout",
     "output_type": "stream",
     "text": [
      "scandium oxide production, from rare earth tailings heat, from steam, in chemical industry CN-NM kilogram\n",
      "\t 0.420861576728214 129986.88333 60500 + 69486.88333\n"
     ]
    },
    {
     "name": "stderr",
     "output_type": "stream",
     "text": [
      " 87%|████████████████████████████████████████████████████████████████          | 16932/19565 [00:56<00:11, 233.37it/s]"
     ]
    },
    {
     "name": "stdout",
     "output_type": "stream",
     "text": [
      "sugarcane processing, traditional annexed plant sulfuric acid BR kilogram\n",
      "\t 0.00414555461647874 0.369 0.264 + 1.05E-01\n"
     ]
    },
    {
     "name": "stderr",
     "output_type": "stream",
     "text": [
      " 87%|████████████████████████████████████████████████████████████████▎         | 17010/19565 [00:56<00:12, 209.09it/s]"
     ]
    },
    {
     "name": "stdout",
     "output_type": "stream",
     "text": [
      "milk production, from cow wood chips, dry, measured as dry mass CA-QC kilogram\n",
      "\t 0.0486078609074165 0.05706071428571429 0.079885/1.4\n"
     ]
    },
    {
     "name": "stderr",
     "output_type": "stream",
     "text": [
      " 87%|████████████████████████████████████████████████████████████████▌         | 17078/19565 [00:57<00:10, 229.74it/s]"
     ]
    },
    {
     "name": "stdout",
     "output_type": "stream",
     "text": [
      "scandium oxide production, from rare earth tailings heat, from steam, in chemical industry CN-NM kilogram\n",
      "\t 0.35619854416473 129986.88333 60500 + 69486.88333\n",
      "milk production, from cow wood chips, dry, measured as dry mass CA-QC kilogram\n",
      "\t 0.282037015293749 0.05706071428571429 0.079885/1.4\n"
     ]
    },
    {
     "name": "stderr",
     "output_type": "stream",
     "text": [
      " 88%|████████████████████████████████████████████████████████████████▊         | 17147/19565 [00:57<00:10, 223.76it/s]"
     ]
    },
    {
     "name": "stdout",
     "output_type": "stream",
     "text": [
      "fibreboard production, soft, from wet & dry processes pulpwood, softwood, measured as solid wood under bark CA-QC cubic meter\n",
      "\t 0.0410335634965322 0.22724867724867726 85.9/378\n"
     ]
    },
    {
     "name": "stderr",
     "output_type": "stream",
     "text": [
      " 89%|█████████████████████████████████████████████████████████████████▊        | 17409/19565 [00:58<00:09, 238.70it/s]"
     ]
    },
    {
     "name": "stdout",
     "output_type": "stream",
     "text": [
      "cobalt production nickel smelter slag GLO kilogram\n",
      "\t -0.171773650587876 -92.10743392650949 (101.770443641039*Co_output_share)*-1\n"
     ]
    },
    {
     "name": "stderr",
     "output_type": "stream",
     "text": [
      " 89%|██████████████████████████████████████████████████████████████████▏       | 17502/19565 [00:58<00:06, 306.99it/s]"
     ]
    },
    {
     "name": "stdout",
     "output_type": "stream",
     "text": [
      "containerboard production, fluting medium, semichemical waste paperboard, sorted RER cubic meter\n",
      "\t 6.94128007100136 100.0 100\n",
      "sugarcane processing, traditional annexed plant chemical, organic RoW kilogram\n",
      "\t 6.80814660592443e-07 6.06e-05 0.0000117+0.0000489\n",
      "heat and power co-generation, natural gas, 50kW electrical, lean burn lubricating oil Europe without Switzerland megajoule\n",
      "\t 1.26573213483179e-05 5.5555555555555504e-05 3E-05 * scaling_factor\n"
     ]
    },
    {
     "name": "stderr",
     "output_type": "stream",
     "text": [
      " 91%|███████████████████████████████████████████████████████████████████▍      | 17821/19565 [00:59<00:04, 371.92it/s]"
     ]
    },
    {
     "name": "stdout",
     "output_type": "stream",
     "text": [
      "heat production, untreated waste wood, at furnace 1000-5000 kW Toluene CH megajoule\n",
      "\t 0.0 4.0004491052552184e-07 3E-07 * scaling_factor\n",
      "fibre production, cotton, ginning transport, freight, lorry, unspecified BD kilogram\n",
      "\t 0.029716080849883 0.036585000000000006 (2.439/1000)*15\n"
     ]
    },
    {
     "name": "stderr",
     "output_type": "stream",
     "text": [
      " 92%|████████████████████████████████████████████████████████████████████▏     | 18039/19565 [01:00<00:04, 348.06it/s]"
     ]
    },
    {
     "name": "stdout",
     "output_type": "stream",
     "text": [
      "citric acid production protein feed, 100% crude RNA kilogram\n",
      "\t 1.0 0.0012408 0.235*0.08*0.066\n",
      "sugarcane processing, modern annexed plant chemical, organic BR kilowatt hour\n",
      "\t 8.06885033418415e-08 4.041e-05 0.00000781+0.0000326\n",
      "heat production, untreated waste wood, at furnace 1000-5000 kW waste wood, untreated RoW kilogram\n",
      "\t -1.0 -0.07147962830593281 -1/13.99\n"
     ]
    },
    {
     "name": "stderr",
     "output_type": "stream",
     "text": [
      " 93%|████████████████████████████████████████████████████████████████████▊     | 18191/19565 [01:00<00:04, 296.79it/s]"
     ]
    },
    {
     "name": "stdout",
     "output_type": "stream",
     "text": [
      "citric acid production energy feed, gross RER megajoule\n",
      "\t 1.0 0.3508785 0.235*18.9*0.079\n"
     ]
    },
    {
     "name": "stderr",
     "output_type": "stream",
     "text": [
      " 94%|█████████████████████████████████████████████████████████████████████▍    | 18349/19565 [01:01<00:02, 409.24it/s]"
     ]
    },
    {
     "name": "stdout",
     "output_type": "stream",
     "text": [
      "scandium oxide production, from rare earth tailings heat, from steam, in chemical industry CN-NM kilogram\n",
      "\t 19.6023609957892 129986.88333 60500 + 69486.88333\n"
     ]
    },
    {
     "name": "stderr",
     "output_type": "stream",
     "text": [
      " 94%|█████████████████████████████████████████████████████████████████████▉    | 18482/19565 [01:01<00:02, 366.25it/s]"
     ]
    },
    {
     "name": "stdout",
     "output_type": "stream",
     "text": [
      "trout feed production, commercial electricity, medium voltage RLA kilogram\n",
      "\t 0.07825 78.25 281.7/3.6\n"
     ]
    },
    {
     "name": "stderr",
     "output_type": "stream",
     "text": [
      " 96%|███████████████████████████████████████████████████████████████████████   | 18780/19565 [01:02<00:02, 283.08it/s]"
     ]
    },
    {
     "name": "stdout",
     "output_type": "stream",
     "text": [
      "heat and power co-generation, natural gas, 500kW electrical, lean burn lubricating oil CH kilowatt hour\n",
      "\t 0.000246546268312989 6.52173913043478e-05 3E-05 * scaling_factor\n"
     ]
    },
    {
     "name": "stderr",
     "output_type": "stream",
     "text": [
      " 97%|███████████████████████████████████████████████████████████████████████▊  | 19001/19565 [01:03<00:01, 314.40it/s]"
     ]
    },
    {
     "name": "stdout",
     "output_type": "stream",
     "text": [
      "heat and power co-generation, natural gas, 160kW electrical, lambda=1 waste mineral oil Europe without Switzerland megajoule\n",
      "\t -1.23144299138797e-05 -5.45454545454546e-05 (3E-05 * scaling_factor)*-1\n",
      "fibre production, cotton, ginning transport, freight, lorry, unspecified BD kilogram\n",
      "\t 0.00477339760258302 0.036585000000000006 (2.439/1000)*15\n"
     ]
    },
    {
     "name": "stderr",
     "output_type": "stream",
     "text": [
      " 98%|████████████████████████████████████████████████████████████████████████▍ | 19145/19565 [01:03<00:00, 458.97it/s]"
     ]
    },
    {
     "name": "stdout",
     "output_type": "stream",
     "text": [
      "electric scooter production, without battery manual dismantling of electric scooter GLO kilogram\n",
      "\t 1.0 90.1 (glider_weight+powertrain_weight)\n"
     ]
    },
    {
     "name": "stderr",
     "output_type": "stream",
     "text": [
      " 98%|████████████████████████████████████████████████████████████████████████▉ | 19270/19565 [01:03<00:00, 350.42it/s]"
     ]
    },
    {
     "name": "stdout",
     "output_type": "stream",
     "text": [
      "sugarcane processing, traditional autonomous plant chemical, organic BR kilogram\n",
      "\t 2.35522736105713e-08 6.06e-05 0.0000117+0.0000489\n",
      "containerboard production, fluting medium, recycled waste paperboard, sorted RoW kilogram\n",
      "\t 1.0921 1092.1000000000001 1.0921*1000\n"
     ]
    },
    {
     "name": "stderr",
     "output_type": "stream",
     "text": [
      " 99%|█████████████████████████████████████████████████████████████████████████▌| 19441/19565 [01:04<00:00, 333.93it/s]"
     ]
    },
    {
     "name": "stdout",
     "output_type": "stream",
     "text": [
      "sugarcane processing, modern annexed plant chemical, organic BR kilogram\n",
      "\t 3.60083802016816e-07 4.041e-05 0.00000781+0.0000326\n",
      "sulfur production, petroleum refinery operation petroleum BR kilogram\n",
      "\t 0.00243828187603928 0.006668654999999999 0.0633*0.10535\n"
     ]
    },
    {
     "name": "stderr",
     "output_type": "stream",
     "text": [
      "100%|█████████████████████████████████████████████████████████████████████████▊| 19521/19565 [01:04<00:00, 278.34it/s]"
     ]
    },
    {
     "name": "stdout",
     "output_type": "stream",
     "text": [
      "containerboard production, linerboard, kraftliner waste paperboard, sorted RER kilogram\n",
      "\t 1.349328191933 451.4925373134328 363/0.804\n",
      "nitric acid production, product in 50% solution state Water RLA kilogram\n",
      "\t 0.00024625863262011 0.0022 0.00064+0.00156\n"
     ]
    },
    {
     "name": "stderr",
     "output_type": "stream",
     "text": [
      "100%|██████████████████████████████████████████████████████████████████████████| 19565/19565 [01:04<00:00, 301.50it/s]\n"
     ]
    }
   ],
   "source": [
    "found, errors, unreasonable, missing = 0, 0, 0, 0\n",
    "\n",
    "error_log = open(\"error.log\", \"w\")\n",
    "missing_reference_log = open(\"undefined_reference.log\", \"w\")\n",
    "\n",
    "for act in tqdm(eii.data):\n",
    "    if any(exc.get('formula') for exc in act['exchanges']):\n",
    "        try:\n",
    "            params = stochastic_parameter_set_for_activity(act, iterations=25000)\n",
    "            if check_that_parameters_are_reasonable(act, params):\n",
    "                found += 1\n",
    "                \n",
    "                for exc in act['exchanges']:\n",
    "                    if not exc.get('formula'):\n",
    "                        continue\n",
    "                    if exc['input'][0] ==  \"ecoinvent 3.8 cutoff\":   \n",
    "                        tech_data.append((\n",
    "                            (lookup_cache[exc['input']], lookup_cache[(act['database'], act['code'])]),\n",
    "                            params[exc['parameter_name']],\n",
    "                            exc['type'] != 'production'  # TODO Chris please check, changed this from == to !=\n",
    "                        ))\n",
    "                    else:\n",
    "                        bio_data.append((\n",
    "                            (lookup_cache[exc['input']], lookup_cache[(act['database'], act['code'])]),\n",
    "                            params[exc['parameter_name']],\n",
    "                            False\n",
    "                        ))\n",
    "            else:\n",
    "                unreasonable += 1\n",
    "        except (ValueError, SyntaxError, bwp.errors.DuplicateName):\n",
    "            error_log.write(act['filename'] + \"\\n\")\n",
    "            traceback.print_exc(file=error_log)\n",
    "            errors += 1\n",
    "        except bwp.errors.ParameterError:\n",
    "            missing_reference_log.write(act['filename'] + \"\\n\")\n",
    "            traceback.print_exc(file=missing_reference_log)\n",
    "            missing += 1\n",
    "            \n",
    "error_log.close()\n",
    "missing_reference_log.close()"
   ]
  },
  {
   "cell_type": "code",
   "execution_count": 20,
   "id": "1e720e86-7a2e-494b-9378-3769803fe86f",
   "metadata": {},
   "outputs": [
    {
     "data": {
      "text/plain": [
       "(1436, 47, 233, 6733)"
      ]
     },
     "execution_count": 20,
     "metadata": {},
     "output_type": "execute_result"
    }
   ],
   "source": [
    "found, errors, unreasonable, missing"
   ]
  },
  {
   "cell_type": "code",
   "execution_count": 22,
   "id": "0a978a58-1f06-4811-9c5d-635505849fec",
   "metadata": {},
   "outputs": [
    {
     "data": {
      "text/plain": [
       "(2339, 10551)"
      ]
     },
     "execution_count": 22,
     "metadata": {},
     "output_type": "execute_result"
    }
   ],
   "source": [
    "len(tech_data), len(bio_data)"
   ]
  },
  {
   "cell_type": "markdown",
   "id": "20e77753-4c3e-4669-9ab8-e3c35802ac0a",
   "metadata": {},
   "source": [
    "Uncertain production exchanges. Could be bad data."
   ]
  },
  {
   "cell_type": "code",
   "execution_count": 27,
   "id": "668f6e42-a82d-4d69-9a9f-35f8c8881e33",
   "metadata": {},
   "outputs": [
    {
     "data": {
      "text/plain": [
       "2230"
      ]
     },
     "execution_count": 27,
     "metadata": {},
     "output_type": "execute_result"
    }
   ],
   "source": [
    "np.hstack([z for x, y, z in tech_data]).sum()"
   ]
  },
  {
   "cell_type": "code",
   "execution_count": 28,
   "id": "06102bff-fd52-4e75-bdb4-e7af5dbceb53",
   "metadata": {},
   "outputs": [],
   "source": [
    "import bw_processing as bp\n",
    "from fs.zipfs import ZipFS"
   ]
  },
  {
   "cell_type": "code",
   "execution_count": 30,
   "id": "6b7de6e3-9b12-46b1-97c0-086b3c8b35f3",
   "metadata": {},
   "outputs": [],
   "source": [
    "dp = bp.create_datapackage(\n",
    "    fs=ZipFS(\"ecoinvent-parameterization.zip\", write=True),\n",
    "    name=\"ecoinvent-parameterization\",\n",
    "    seed=42,\n",
    ")\n",
    "\n",
    "indices = np.empty(len(tech_data), dtype=bp.INDICES_DTYPE)\n",
    "indices[:] = [x for x, y, z in tech_data]\n",
    "\n",
    "dp.add_persistent_array(\n",
    "    matrix=\"technosphere_matrix\",\n",
    "    data_array=np.vstack([y for x, y, z in tech_data]),\n",
    "    name=\"ecoinvent-parameterization-tech\",\n",
    "    indices_array=indices,\n",
    "    flip_array=np.hstack([z for x, y, z in tech_data]),\n",
    ")\n",
    "\n",
    "indices = np.empty(len(bio_data), dtype=bp.INDICES_DTYPE)\n",
    "indices[:] = [x for x, y, z in bio_data]\n",
    "\n",
    "dp.add_persistent_array(\n",
    "    matrix=\"biosphere_matrix\",\n",
    "    data_array=np.vstack([y for x, y, z in bio_data]),\n",
    "    name=\"ecoinvent-parameterization-bio\",\n",
    "    indices_array=indices,\n",
    "    flip_array=np.hstack([z for x, y, z in bio_data]),\n",
    ")\n",
    "\n",
    "dp.finalize_serialization()"
   ]
  },
  {
   "cell_type": "code",
   "execution_count": null,
   "id": "d154720b",
   "metadata": {},
   "outputs": [],
   "source": []
  },
  {
   "cell_type": "markdown",
   "id": "b7ba5808",
   "metadata": {},
   "source": [
    "# [archived] Check values in the parameterized datapackage"
   ]
  },
  {
   "cell_type": "code",
   "execution_count": null,
   "id": "7ca87007",
   "metadata": {},
   "outputs": [],
   "source": [
    "from pathlib import Path\n",
    "import numpy as np\n",
    "from fs.zipfs import ZipFS\n",
    "import bw2calc as bc\n",
    "import bw2data as bd\n",
    "import bw_processing as bwp\n",
    "import sys\n",
    "sys.path.append('/Users/akim/PycharmProjects/akula')\n",
    "\n",
    "from akula.virtual_markets import DATA_DIR\n",
    "\n",
    "fp_ei_parameterization = DATA_DIR / \"ecoinvent-parameterization.zip\"\n",
    "dp_params = bwp.load_datapackage(ZipFS(fp_ei_parameterization))"
   ]
  },
  {
   "cell_type": "code",
   "execution_count": null,
   "id": "b952fbb3",
   "metadata": {},
   "outputs": [],
   "source": [
    "project = \"GSA for archetypes\"\n",
    "bd.projects.set_current(project)\n",
    "method = (\"IPCC 2013\", \"climate change\", \"GWP 100a\", \"uncertain\")\n",
    "me = bd.Method(method)\n",
    "bs = bd.Database(\"biosphere3\")\n",
    "ei = bd.Database(\"ecoinvent 3.8 cutoff\")\n",
    "co_name = \"swiss consumption 1.0\"\n",
    "co = bd.Database(co_name)\n",
    "\n",
    "list_ = [me, bs, ei, co]\n",
    "dps = [\n",
    "    bwp.load_datapackage(ZipFS(db.filepath_processed()))\n",
    "    for db in list_\n",
    "]\n",
    "    \n",
    "hh_average = [act for act in co if \"ch hh average consumption aggregated\" == act['name']]\n",
    "assert len(hh_average) == 1\n",
    "demand_act = hh_average[0]\n",
    "demand = {demand_act: 1}\n",
    "demand_id = {demand_act.id: 1}\n",
    "\n",
    "iterations = 5"
   ]
  },
  {
   "cell_type": "code",
   "execution_count": null,
   "id": "ff23329c",
   "metadata": {},
   "outputs": [],
   "source": [
    "lca = bc.LCA(\n",
    "    demand_id,\n",
    "    data_objs=dps,\n",
    "    use_distributions=True,\n",
    "    use_arrays=True,\n",
    "    seed_override=11111000\n",
    ")\n",
    "lca.lci()\n",
    "lca.lcia()\n",
    "\n",
    "scores = [lca.score for _, _ in zip(lca, range(iterations))]\n",
    "scores"
   ]
  },
  {
   "cell_type": "code",
   "execution_count": null,
   "id": "b10e231d",
   "metadata": {},
   "outputs": [],
   "source": [
    "lca_params = bc.LCA(\n",
    "    demand_id,\n",
    "    data_objs=dps + [dp_params],\n",
    "    use_distributions=True,\n",
    "    use_arrays=True,\n",
    "    seed_override=11111000,\n",
    ")\n",
    "lca_params.lci()\n",
    "lca_params.lcia()\n",
    "\n",
    "scores_params = [lca_params.score for _, _ in zip(lca_params, range(iterations))]\n",
    "scores_params"
   ]
  },
  {
   "cell_type": "code",
   "execution_count": null,
   "id": "2b58bed3",
   "metadata": {},
   "outputs": [],
   "source": [
    "dp_params_bio = dp_params.filter_by_attribute(\"group\", \"ecoinvent-parameterization-bio\")\n",
    "\n",
    "lca_params_bio = bc.LCA(\n",
    "    demand_id,\n",
    "    data_objs=dps + [dp_params_bio],\n",
    "    use_distributions=True,\n",
    "    use_arrays=True,\n",
    "    seed_override=11111000,\n",
    ")\n",
    "lca_params_bio.lci()\n",
    "lca_params_bio.lcia()\n",
    "\n",
    "scores_params_bio = [lca_params_bio.score for _, _ in zip(lca_params_bio, range(iterations))]\n",
    "scores_params_bio"
   ]
  },
  {
   "cell_type": "code",
   "execution_count": null,
   "id": "f2da40d8",
   "metadata": {
    "scrolled": true
   },
   "outputs": [],
   "source": [
    "dp_params_tech = dp_params.filter_by_attribute(\"group\", \"ecoinvent-parameterization-tech\")\n",
    "\n",
    "lca_params_tech = bc.LCA(\n",
    "    demand_id,\n",
    "    data_objs=dps + [dp_params_tech],\n",
    "    use_distributions=True,\n",
    "    use_arrays=True,\n",
    "    seed_override=11111000,\n",
    ")\n",
    "lca_params_tech.lci()\n",
    "lca_params_tech.lcia()\n",
    "\n",
    "scores_params_tech = [lca_params_tech.score for _, _ in zip(lca_params_tech, range(iterations))]\n",
    "scores_params_tech"
   ]
  },
  {
   "cell_type": "code",
   "execution_count": null,
   "id": "18f8f2e8",
   "metadata": {},
   "outputs": [],
   "source": [
    "dp_ei = bd.Database(\"ecoinvent 3.8 cutoff\").datapackage()\n",
    "ei_indices = dp_ei.get_resource(\"ecoinvent_3.8_cutoff_technosphere_matrix.indices\")[0]\n",
    "ei_data = dp_ei.get_resource(\"ecoinvent_3.8_cutoff_technosphere_matrix.data\")[0]\n",
    "ei_flip_raw = dp_ei.get_resource(\"ecoinvent_3.8_cutoff_technosphere_matrix.flip\")[0]\n",
    "ei_selected = []\n",
    "ei_flip = []\n",
    "for i, inds in enumerate(dp_params_tech.data[0]):\n",
    "    ei_where = np.where(ei_indices==inds)[0][0]\n",
    "    ei_selected.append(ei_data[ei_where])\n",
    "    ei_flip.append(ei_flip_raw[ei_where])\n",
    "params_selected = dp_params_tech.data[1][:,0]\n",
    "ei_selected = np.array(ei_selected)\n",
    "ei_flip = np.array(ei_flip)\n",
    "indices_selected = dp_params_tech.data[0]"
   ]
  },
  {
   "cell_type": "code",
   "execution_count": null,
   "id": "c18a487a",
   "metadata": {},
   "outputs": [],
   "source": [
    "wdiff = abs(params_selected - ei_selected)\n",
    "# np.where(wdiff==min(wdiff))"
   ]
  },
  {
   "cell_type": "code",
   "execution_count": null,
   "id": "9ac5f80a",
   "metadata": {},
   "outputs": [],
   "source": [
    "%%time\n",
    "res = bc.GraphTraversal().calculate(\n",
    "    lca, cutoff=1e-3, max_calc=1e3\n",
    ")"
   ]
  },
  {
   "cell_type": "code",
   "execution_count": null,
   "id": "4b29d6c3",
   "metadata": {},
   "outputs": [],
   "source": [
    "%%time\n",
    "res_params_tech = bc.GraphTraversal().calculate(\n",
    "    lca_params_tech, cutoff=1e-3, max_calc=1e3\n",
    ")"
   ]
  },
  {
   "cell_type": "code",
   "execution_count": null,
   "id": "9a3ef0ac",
   "metadata": {},
   "outputs": [],
   "source": [
    "import pandas as pd\n",
    "df = pd.DataFrame.from_dict(res['edges'])\n",
    "df_params = pd.DataFrame.from_dict(res_params_tech['edges'])\n",
    "df_both = df.merge(df_params, on=['to', 'from'], how='outer')\n",
    "df_both.to_excel(\"sct.xlsx\")"
   ]
  },
  {
   "cell_type": "code",
   "execution_count": null,
   "id": "648f170a",
   "metadata": {},
   "outputs": [],
   "source": [
    "lca_params_tech1 = bc.LCA(\n",
    "    {4916: 1212.188043},\n",
    "    data_objs=dps + [dp_params_tech],\n",
    "    use_distributions=False,\n",
    "    use_arrays=True,\n",
    "    seed_override=11111000,\n",
    ")\n",
    "lca_params_tech1.lci()\n",
    "lca_params_tech1.lcia()\n",
    "lca_params_tech1.score"
   ]
  },
  {
   "cell_type": "code",
   "execution_count": null,
   "id": "93dc6d33",
   "metadata": {},
   "outputs": [],
   "source": [
    "lca_params_tech1 = bc.LCA(\n",
    "    {4916: 1212.188043},\n",
    "    data_objs=dps,\n",
    "    use_distributions=False,\n",
    "    use_arrays=True,\n",
    "    seed_override=11111000,\n",
    ")\n",
    "lca_params_tech1.lci()\n",
    "lca_params_tech1.lcia()\n",
    "lca_params_tech1.score"
   ]
  },
  {
   "cell_type": "code",
   "execution_count": null,
   "id": "4107391a",
   "metadata": {},
   "outputs": [],
   "source": [
    "params_flip = dp_params_tech.get_resource('ecoinvent-parameterization-tech.flip')[0]"
   ]
  },
  {
   "cell_type": "code",
   "execution_count": null,
   "id": "c84171ca",
   "metadata": {},
   "outputs": [],
   "source": [
    "sum(ei_flip), sum(params_flip)"
   ]
  }
 ],
 "metadata": {
  "kernelspec": {
   "display_name": "Python 3 (ipykernel)",
   "language": "python",
   "name": "python3"
  },
  "language_info": {
   "codemirror_mode": {
    "name": "ipython",
    "version": 3
   },
   "file_extension": ".py",
   "mimetype": "text/x-python",
   "name": "python",
   "nbconvert_exporter": "python",
   "pygments_lexer": "ipython3",
   "version": "3.9.10"
  },
  "varInspector": {
   "cols": {
    "lenName": 16,
    "lenType": 16,
    "lenVar": 40
   },
   "kernels_config": {
    "python": {
     "delete_cmd_postfix": "",
     "delete_cmd_prefix": "del ",
     "library": "var_list.py",
     "varRefreshCmd": "print(var_dic_list())"
    },
    "r": {
     "delete_cmd_postfix": ") ",
     "delete_cmd_prefix": "rm(",
     "library": "var_list.r",
     "varRefreshCmd": "cat(var_dic_list()) "
    }
   },
   "types_to_exclude": [
    "module",
    "function",
    "builtin_function_or_method",
    "instance",
    "_Feature"
   ],
   "window_display": false
  }
 },
 "nbformat": 4,
 "nbformat_minor": 5
}
